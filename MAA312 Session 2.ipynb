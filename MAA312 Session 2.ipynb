{
 "cells": [
  {
   "cell_type": "code",
   "execution_count": 1,
   "metadata": {},
   "outputs": [
    {
     "data": {
      "application/javascript": [
       "\n",
       "(function(root) {\n",
       "  function now() {\n",
       "    return new Date();\n",
       "  }\n",
       "\n",
       "  const force = true;\n",
       "\n",
       "  if (typeof root._bokeh_onload_callbacks === \"undefined\" || force === true) {\n",
       "    root._bokeh_onload_callbacks = [];\n",
       "    root._bokeh_is_loading = undefined;\n",
       "  }\n",
       "\n",
       "  const JS_MIME_TYPE = 'application/javascript';\n",
       "  const HTML_MIME_TYPE = 'text/html';\n",
       "  const EXEC_MIME_TYPE = 'application/vnd.bokehjs_exec.v0+json';\n",
       "  const CLASS_NAME = 'output_bokeh rendered_html';\n",
       "\n",
       "  /**\n",
       "   * Render data to the DOM node\n",
       "   */\n",
       "  function render(props, node) {\n",
       "    const script = document.createElement(\"script\");\n",
       "    node.appendChild(script);\n",
       "  }\n",
       "\n",
       "  /**\n",
       "   * Handle when an output is cleared or removed\n",
       "   */\n",
       "  function handleClearOutput(event, handle) {\n",
       "    const cell = handle.cell;\n",
       "\n",
       "    const id = cell.output_area._bokeh_element_id;\n",
       "    const server_id = cell.output_area._bokeh_server_id;\n",
       "    // Clean up Bokeh references\n",
       "    if (id != null && id in Bokeh.index) {\n",
       "      Bokeh.index[id].model.document.clear();\n",
       "      delete Bokeh.index[id];\n",
       "    }\n",
       "\n",
       "    if (server_id !== undefined) {\n",
       "      // Clean up Bokeh references\n",
       "      const cmd_clean = \"from bokeh.io.state import curstate; print(curstate().uuid_to_server['\" + server_id + \"'].get_sessions()[0].document.roots[0]._id)\";\n",
       "      cell.notebook.kernel.execute(cmd_clean, {\n",
       "        iopub: {\n",
       "          output: function(msg) {\n",
       "            const id = msg.content.text.trim();\n",
       "            if (id in Bokeh.index) {\n",
       "              Bokeh.index[id].model.document.clear();\n",
       "              delete Bokeh.index[id];\n",
       "            }\n",
       "          }\n",
       "        }\n",
       "      });\n",
       "      // Destroy server and session\n",
       "      const cmd_destroy = \"import bokeh.io.notebook as ion; ion.destroy_server('\" + server_id + \"')\";\n",
       "      cell.notebook.kernel.execute(cmd_destroy);\n",
       "    }\n",
       "  }\n",
       "\n",
       "  /**\n",
       "   * Handle when a new output is added\n",
       "   */\n",
       "  function handleAddOutput(event, handle) {\n",
       "    const output_area = handle.output_area;\n",
       "    const output = handle.output;\n",
       "\n",
       "    // limit handleAddOutput to display_data with EXEC_MIME_TYPE content only\n",
       "    if ((output.output_type != \"display_data\") || (!Object.prototype.hasOwnProperty.call(output.data, EXEC_MIME_TYPE))) {\n",
       "      return\n",
       "    }\n",
       "\n",
       "    const toinsert = output_area.element.find(\".\" + CLASS_NAME.split(' ')[0]);\n",
       "\n",
       "    if (output.metadata[EXEC_MIME_TYPE][\"id\"] !== undefined) {\n",
       "      toinsert[toinsert.length - 1].firstChild.textContent = output.data[JS_MIME_TYPE];\n",
       "      // store reference to embed id on output_area\n",
       "      output_area._bokeh_element_id = output.metadata[EXEC_MIME_TYPE][\"id\"];\n",
       "    }\n",
       "    if (output.metadata[EXEC_MIME_TYPE][\"server_id\"] !== undefined) {\n",
       "      const bk_div = document.createElement(\"div\");\n",
       "      bk_div.innerHTML = output.data[HTML_MIME_TYPE];\n",
       "      const script_attrs = bk_div.children[0].attributes;\n",
       "      for (let i = 0; i < script_attrs.length; i++) {\n",
       "        toinsert[toinsert.length - 1].firstChild.setAttribute(script_attrs[i].name, script_attrs[i].value);\n",
       "        toinsert[toinsert.length - 1].firstChild.textContent = bk_div.children[0].textContent\n",
       "      }\n",
       "      // store reference to server id on output_area\n",
       "      output_area._bokeh_server_id = output.metadata[EXEC_MIME_TYPE][\"server_id\"];\n",
       "    }\n",
       "  }\n",
       "\n",
       "  function register_renderer(events, OutputArea) {\n",
       "\n",
       "    function append_mime(data, metadata, element) {\n",
       "      // create a DOM node to render to\n",
       "      const toinsert = this.create_output_subarea(\n",
       "        metadata,\n",
       "        CLASS_NAME,\n",
       "        EXEC_MIME_TYPE\n",
       "      );\n",
       "      this.keyboard_manager.register_events(toinsert);\n",
       "      // Render to node\n",
       "      const props = {data: data, metadata: metadata[EXEC_MIME_TYPE]};\n",
       "      render(props, toinsert[toinsert.length - 1]);\n",
       "      element.append(toinsert);\n",
       "      return toinsert\n",
       "    }\n",
       "\n",
       "    /* Handle when an output is cleared or removed */\n",
       "    events.on('clear_output.CodeCell', handleClearOutput);\n",
       "    events.on('delete.Cell', handleClearOutput);\n",
       "\n",
       "    /* Handle when a new output is added */\n",
       "    events.on('output_added.OutputArea', handleAddOutput);\n",
       "\n",
       "    /**\n",
       "     * Register the mime type and append_mime function with output_area\n",
       "     */\n",
       "    OutputArea.prototype.register_mime_type(EXEC_MIME_TYPE, append_mime, {\n",
       "      /* Is output safe? */\n",
       "      safe: true,\n",
       "      /* Index of renderer in `output_area.display_order` */\n",
       "      index: 0\n",
       "    });\n",
       "  }\n",
       "\n",
       "  // register the mime type if in Jupyter Notebook environment and previously unregistered\n",
       "  if (root.Jupyter !== undefined) {\n",
       "    const events = require('base/js/events');\n",
       "    const OutputArea = require('notebook/js/outputarea').OutputArea;\n",
       "\n",
       "    if (OutputArea.prototype.mime_types().indexOf(EXEC_MIME_TYPE) == -1) {\n",
       "      register_renderer(events, OutputArea);\n",
       "    }\n",
       "  }\n",
       "\n",
       "  \n",
       "  if (typeof (root._bokeh_timeout) === \"undefined\" || force === true) {\n",
       "    root._bokeh_timeout = Date.now() + 5000;\n",
       "    root._bokeh_failed_load = false;\n",
       "  }\n",
       "\n",
       "  const NB_LOAD_WARNING = {'data': {'text/html':\n",
       "     \"<div style='background-color: #fdd'>\\n\"+\n",
       "     \"<p>\\n\"+\n",
       "     \"BokehJS does not appear to have successfully loaded. If loading BokehJS from CDN, this \\n\"+\n",
       "     \"may be due to a slow or bad network connection. Possible fixes:\\n\"+\n",
       "     \"</p>\\n\"+\n",
       "     \"<ul>\\n\"+\n",
       "     \"<li>re-rerun `output_notebook()` to attempt to load from CDN again, or</li>\\n\"+\n",
       "     \"<li>use INLINE resources instead, as so:</li>\\n\"+\n",
       "     \"</ul>\\n\"+\n",
       "     \"<code>\\n\"+\n",
       "     \"from bokeh.resources import INLINE\\n\"+\n",
       "     \"output_notebook(resources=INLINE)\\n\"+\n",
       "     \"</code>\\n\"+\n",
       "     \"</div>\"}};\n",
       "\n",
       "  function display_loaded() {\n",
       "    const el = document.getElementById(null);\n",
       "    if (el != null) {\n",
       "      el.textContent = \"BokehJS is loading...\";\n",
       "    }\n",
       "    if (root.Bokeh !== undefined) {\n",
       "      if (el != null) {\n",
       "        el.textContent = \"BokehJS \" + root.Bokeh.version + \" successfully loaded.\";\n",
       "      }\n",
       "    } else if (Date.now() < root._bokeh_timeout) {\n",
       "      setTimeout(display_loaded, 100)\n",
       "    }\n",
       "  }\n",
       "\n",
       "\n",
       "  function run_callbacks() {\n",
       "    try {\n",
       "      root._bokeh_onload_callbacks.forEach(function(callback) {\n",
       "        if (callback != null)\n",
       "          callback();\n",
       "      });\n",
       "    } finally {\n",
       "      delete root._bokeh_onload_callbacks\n",
       "    }\n",
       "    console.debug(\"Bokeh: all callbacks have finished\");\n",
       "  }\n",
       "\n",
       "  function load_libs(css_urls, js_urls, callback) {\n",
       "    if (css_urls == null) css_urls = [];\n",
       "    if (js_urls == null) js_urls = [];\n",
       "\n",
       "    root._bokeh_onload_callbacks.push(callback);\n",
       "    if (root._bokeh_is_loading > 0) {\n",
       "      console.debug(\"Bokeh: BokehJS is being loaded, scheduling callback at\", now());\n",
       "      return null;\n",
       "    }\n",
       "    if (js_urls == null || js_urls.length === 0) {\n",
       "      run_callbacks();\n",
       "      return null;\n",
       "    }\n",
       "    console.debug(\"Bokeh: BokehJS not loaded, scheduling load and callback at\", now());\n",
       "    root._bokeh_is_loading = css_urls.length + js_urls.length;\n",
       "\n",
       "    function on_load() {\n",
       "      root._bokeh_is_loading--;\n",
       "      if (root._bokeh_is_loading === 0) {\n",
       "        console.debug(\"Bokeh: all BokehJS libraries/stylesheets loaded\");\n",
       "        run_callbacks()\n",
       "      }\n",
       "    }\n",
       "\n",
       "    function on_error(url) {\n",
       "      console.error(\"failed to load \" + url);\n",
       "    }\n",
       "\n",
       "    for (let i = 0; i < css_urls.length; i++) {\n",
       "      const url = css_urls[i];\n",
       "      const element = document.createElement(\"link\");\n",
       "      element.onload = on_load;\n",
       "      element.onerror = on_error.bind(null, url);\n",
       "      element.rel = \"stylesheet\";\n",
       "      element.type = \"text/css\";\n",
       "      element.href = url;\n",
       "      console.debug(\"Bokeh: injecting link tag for BokehJS stylesheet: \", url);\n",
       "      document.body.appendChild(element);\n",
       "    }\n",
       "\n",
       "    for (let i = 0; i < js_urls.length; i++) {\n",
       "      const url = js_urls[i];\n",
       "      const element = document.createElement('script');\n",
       "      element.onload = on_load;\n",
       "      element.onerror = on_error.bind(null, url);\n",
       "      element.async = false;\n",
       "      element.src = url;\n",
       "      console.debug(\"Bokeh: injecting script tag for BokehJS library: \", url);\n",
       "      document.head.appendChild(element);\n",
       "    }\n",
       "  };\n",
       "\n",
       "  function inject_raw_css(css) {\n",
       "    const element = document.createElement(\"style\");\n",
       "    element.appendChild(document.createTextNode(css));\n",
       "    document.body.appendChild(element);\n",
       "  }\n",
       "\n",
       "  \n",
       "  const js_urls = [\"https://cdn.bokeh.org/bokeh/release/bokeh-2.4.1.min.js\", \"https://cdn.bokeh.org/bokeh/release/bokeh-gl-2.4.1.min.js\", \"https://cdn.bokeh.org/bokeh/release/bokeh-widgets-2.4.1.min.js\", \"https://cdn.bokeh.org/bokeh/release/bokeh-tables-2.4.1.min.js\", \"https://cdn.bokeh.org/bokeh/release/bokeh-mathjax-2.4.1.min.js\"];\n",
       "  const css_urls = [];\n",
       "  \n",
       "\n",
       "  const inline_js = [\n",
       "    function(Bokeh) {\n",
       "      Bokeh.set_log_level(\"info\");\n",
       "    },\n",
       "    function(Bokeh) {\n",
       "    \n",
       "    \n",
       "    }\n",
       "  ];\n",
       "\n",
       "  function run_inline_js() {\n",
       "    \n",
       "    if (root.Bokeh !== undefined || force === true) {\n",
       "      \n",
       "    for (let i = 0; i < inline_js.length; i++) {\n",
       "      inline_js[i].call(root, root.Bokeh);\n",
       "    }\n",
       "    } else if (Date.now() < root._bokeh_timeout) {\n",
       "      setTimeout(run_inline_js, 100);\n",
       "    } else if (!root._bokeh_failed_load) {\n",
       "      console.log(\"Bokeh: BokehJS failed to load within specified timeout.\");\n",
       "      root._bokeh_failed_load = true;\n",
       "    } else if (force !== true) {\n",
       "      const cell = $(document.getElementById(null)).parents('.cell').data().cell;\n",
       "      cell.output_area.append_execute_result(NB_LOAD_WARNING)\n",
       "    }\n",
       "\n",
       "  }\n",
       "\n",
       "  if (root._bokeh_is_loading === 0) {\n",
       "    console.debug(\"Bokeh: BokehJS loaded, going straight to plotting\");\n",
       "    run_inline_js();\n",
       "  } else {\n",
       "    load_libs(css_urls, js_urls, function() {\n",
       "      console.debug(\"Bokeh: BokehJS plotting callback run at\", now());\n",
       "      run_inline_js();\n",
       "    });\n",
       "  }\n",
       "}(window));"
      ],
      "application/vnd.bokehjs_load.v0+json": "\n(function(root) {\n  function now() {\n    return new Date();\n  }\n\n  const force = true;\n\n  if (typeof root._bokeh_onload_callbacks === \"undefined\" || force === true) {\n    root._bokeh_onload_callbacks = [];\n    root._bokeh_is_loading = undefined;\n  }\n\n  \n\n  \n  if (typeof (root._bokeh_timeout) === \"undefined\" || force === true) {\n    root._bokeh_timeout = Date.now() + 5000;\n    root._bokeh_failed_load = false;\n  }\n\n  const NB_LOAD_WARNING = {'data': {'text/html':\n     \"<div style='background-color: #fdd'>\\n\"+\n     \"<p>\\n\"+\n     \"BokehJS does not appear to have successfully loaded. If loading BokehJS from CDN, this \\n\"+\n     \"may be due to a slow or bad network connection. Possible fixes:\\n\"+\n     \"</p>\\n\"+\n     \"<ul>\\n\"+\n     \"<li>re-rerun `output_notebook()` to attempt to load from CDN again, or</li>\\n\"+\n     \"<li>use INLINE resources instead, as so:</li>\\n\"+\n     \"</ul>\\n\"+\n     \"<code>\\n\"+\n     \"from bokeh.resources import INLINE\\n\"+\n     \"output_notebook(resources=INLINE)\\n\"+\n     \"</code>\\n\"+\n     \"</div>\"}};\n\n  function display_loaded() {\n    const el = document.getElementById(null);\n    if (el != null) {\n      el.textContent = \"BokehJS is loading...\";\n    }\n    if (root.Bokeh !== undefined) {\n      if (el != null) {\n        el.textContent = \"BokehJS \" + root.Bokeh.version + \" successfully loaded.\";\n      }\n    } else if (Date.now() < root._bokeh_timeout) {\n      setTimeout(display_loaded, 100)\n    }\n  }\n\n\n  function run_callbacks() {\n    try {\n      root._bokeh_onload_callbacks.forEach(function(callback) {\n        if (callback != null)\n          callback();\n      });\n    } finally {\n      delete root._bokeh_onload_callbacks\n    }\n    console.debug(\"Bokeh: all callbacks have finished\");\n  }\n\n  function load_libs(css_urls, js_urls, callback) {\n    if (css_urls == null) css_urls = [];\n    if (js_urls == null) js_urls = [];\n\n    root._bokeh_onload_callbacks.push(callback);\n    if (root._bokeh_is_loading > 0) {\n      console.debug(\"Bokeh: BokehJS is being loaded, scheduling callback at\", now());\n      return null;\n    }\n    if (js_urls == null || js_urls.length === 0) {\n      run_callbacks();\n      return null;\n    }\n    console.debug(\"Bokeh: BokehJS not loaded, scheduling load and callback at\", now());\n    root._bokeh_is_loading = css_urls.length + js_urls.length;\n\n    function on_load() {\n      root._bokeh_is_loading--;\n      if (root._bokeh_is_loading === 0) {\n        console.debug(\"Bokeh: all BokehJS libraries/stylesheets loaded\");\n        run_callbacks()\n      }\n    }\n\n    function on_error(url) {\n      console.error(\"failed to load \" + url);\n    }\n\n    for (let i = 0; i < css_urls.length; i++) {\n      const url = css_urls[i];\n      const element = document.createElement(\"link\");\n      element.onload = on_load;\n      element.onerror = on_error.bind(null, url);\n      element.rel = \"stylesheet\";\n      element.type = \"text/css\";\n      element.href = url;\n      console.debug(\"Bokeh: injecting link tag for BokehJS stylesheet: \", url);\n      document.body.appendChild(element);\n    }\n\n    for (let i = 0; i < js_urls.length; i++) {\n      const url = js_urls[i];\n      const element = document.createElement('script');\n      element.onload = on_load;\n      element.onerror = on_error.bind(null, url);\n      element.async = false;\n      element.src = url;\n      console.debug(\"Bokeh: injecting script tag for BokehJS library: \", url);\n      document.head.appendChild(element);\n    }\n  };\n\n  function inject_raw_css(css) {\n    const element = document.createElement(\"style\");\n    element.appendChild(document.createTextNode(css));\n    document.body.appendChild(element);\n  }\n\n  \n  const js_urls = [\"https://cdn.bokeh.org/bokeh/release/bokeh-2.4.1.min.js\", \"https://cdn.bokeh.org/bokeh/release/bokeh-gl-2.4.1.min.js\", \"https://cdn.bokeh.org/bokeh/release/bokeh-widgets-2.4.1.min.js\", \"https://cdn.bokeh.org/bokeh/release/bokeh-tables-2.4.1.min.js\", \"https://cdn.bokeh.org/bokeh/release/bokeh-mathjax-2.4.1.min.js\"];\n  const css_urls = [];\n  \n\n  const inline_js = [\n    function(Bokeh) {\n      Bokeh.set_log_level(\"info\");\n    },\n    function(Bokeh) {\n    \n    \n    }\n  ];\n\n  function run_inline_js() {\n    \n    if (root.Bokeh !== undefined || force === true) {\n      \n    for (let i = 0; i < inline_js.length; i++) {\n      inline_js[i].call(root, root.Bokeh);\n    }\n    } else if (Date.now() < root._bokeh_timeout) {\n      setTimeout(run_inline_js, 100);\n    } else if (!root._bokeh_failed_load) {\n      console.log(\"Bokeh: BokehJS failed to load within specified timeout.\");\n      root._bokeh_failed_load = true;\n    } else if (force !== true) {\n      const cell = $(document.getElementById(null)).parents('.cell').data().cell;\n      cell.output_area.append_execute_result(NB_LOAD_WARNING)\n    }\n\n  }\n\n  if (root._bokeh_is_loading === 0) {\n    console.debug(\"Bokeh: BokehJS loaded, going straight to plotting\");\n    run_inline_js();\n  } else {\n    load_libs(css_urls, js_urls, function() {\n      console.debug(\"Bokeh: BokehJS plotting callback run at\", now());\n      run_inline_js();\n    });\n  }\n}(window));"
     },
     "metadata": {},
     "output_type": "display_data"
    }
   ],
   "source": [
    "import numpy as np\n",
    "# from tqdm import tqdm\n",
    "from bokeh.io import show, output_notebook\n",
    "from bokeh.plotting import figure\n",
    "from bokeh.layouts import row, column\n",
    "from bokeh.models import Legend\n",
    "from bokeh.models import Arrow, OpenHead, NormalHead, VeeHead\n",
    "\n",
    "from scipy.optimize import root\n",
    "#from scipy.optimize import fsolve, root\n",
    "\n",
    "output_notebook(hide_banner=True)"
   ]
  },
  {
   "cell_type": "markdown",
   "metadata": {},
   "source": [
    "# Introduction"
   ]
  },
  {
   "cell_type": "markdown",
   "metadata": {},
   "source": [
    "**The aim of this session** is to learn the distinction between *explicit* and *implicit* methods, to learn how to implement some of them as well as to find ways to test them. We will also introduce the notion of order of convergence and explain how to observe the order of convergence of a method in practical situations."
   ]
  },
  {
   "cell_type": "markdown",
   "metadata": {},
   "source": [
    "## Context"
   ]
  },
  {
   "cell_type": "markdown",
   "metadata": {},
   "source": [
    "For $t_0,t_f\\in\\mathbb{R}$, $t_f>t_0$, consider the Cauchy problem\n",
    "\\begin{equation}\n",
    "\\begin{array}{|rcl}\n",
    "y'(t)&=&f(t,y(t)),\\quad t\\geq t_0\\\\[3pt]\n",
    "y(t_0)&=&y_0\n",
    "\\end{array}\n",
    "\\end{equation}\n",
    "which we will refer to as Problem (1), where $f$ satisfies the assumptions of the Cauchy-Lipschitz theorem. We assume that the unique maximal solution to this problem is defined for all $t\\in [t_0;t_f]$. In order to approximate the solution of Problem (1), let us consider a few simple numerical schemes. To proceed, first for $h>0$ small, we define the discrete times $t_n:=t_0+nh$ with $n=0,1,2,\\dots,N$. Here $N$ stands for the maximal integer such that $t_{N}\\le t_f$. The parameter $h$ is called the discretization stepsize. Our goal is to construct a sequence of values $u_n$ to approximate the exact solution at time $t_n$, that is to approximate $y(t_n)$. We start by setting $u_0=y_0$. Then we construct the sequence $u_n$ iteratively. Below we focus our attention on one-steps methods for which $u_{n+1}$ depends only on $u_n$ (and not on $u_{n-1}$, $u_{n-2}$, $\\dots$). Here are some of them:\n",
    "\n",
    "a) Forward Euler method\n",
    "$$\n",
    "u_{n+1}=u_n+hf(t_n,u_n).\n",
    "$$\n",
    "b) Backward Euler method\n",
    "$$\n",
    "u_{n+1}=u_n+hf(t_{n+1},u_{n+1}).\n",
    "$$\n",
    "c) Trapezoidal (or Cranck-Nicolson) method\n",
    "$$\n",
    "u_{n+1}=u_n+\\cfrac{h}{2}\\,(f(t_{n},u_{n})+f(t_{n+1},u_{n+1})).\n",
    "$$\n",
    "d) Heun method\n",
    "$$\n",
    "u_{n+1}=u_n+\\cfrac{h}{2}\\,(f(t_{n},u_{n})+f(t_{n+1},u_{n}+hf(t_{n},u_{n}))).\n",
    "$$\n",
    "e) Second order Taylor-series method (TS2)\n",
    "$$\n",
    "u_{n+1} = u_n +hf(t_n,u_n)+\\frac{h^2}{2}g(t_n,u_n)\n",
    "$$\n",
    "where $g:(t,y)\\mapsto \\partial_t f(t,y) + \\partial_y f(t,y) f(t,y)$ so that we have :\n",
    "$$\n",
    "\\begin{aligned}\n",
    "\\frac{\\text{d}f}{\\text{d}t}\\left(t,y(t)\\right) &= \\partial_t f\\left(t,y(t)\\right) + \\partial_y f\\left(t,y(t)\\right) y^\\prime(t)\\\\\n",
    "&=\\partial_t f\\left(t,y(t)\\right) + \\partial_y f\\left(t,y(t)\\right) f\\left(t,y(t)\\right)\\\\\n",
    "&= g(t,y(t))\n",
    "\\end{aligned}\n",
    "$$"
   ]
  },
  {
   "cell_type": "markdown",
   "metadata": {},
   "source": [
    "**Q1. What is the definition of an explicit (resp. implicit method)? Which of these methods are explicit (resp. Implicit)?**"
   ]
  },
  {
   "cell_type": "markdown",
   "metadata": {},
   "source": [
    "Explicit methods : If we have $u_n$, then we can compute $u_{n+1}$. Examples are a) Forward Euler Method, d) Heun Method, and e) Second-order Taylor-series Method. \n",
    "\n",
    "\n",
    "Implicit methods : The terms $u_n$ appears on both sides of the equation, meaning that we cannot compute it directly. We need to solve the equation instead. Examples are b) Backward Euler Method, and c) Trapezoidal Method. "
   ]
  },
  {
   "cell_type": "markdown",
   "metadata": {},
   "source": [
    "**Simplifiying assumption**: In the present notebook only scalar problems are considered to keep relatively simple implementations. We also assume that step size $h$ is always such that $t_f-t_0 = N h$ with $N \\in \\mathbb{N}$. One should always remember that if this condition does not hold then the methods presented here will not reach the correct final time $t_f$."
   ]
  },
  {
   "cell_type": "markdown",
   "metadata": {},
   "source": [
    "## Model Problem"
   ]
  },
  {
   "cell_type": "markdown",
   "metadata": {},
   "source": [
    "As stated in the introduction, it is crucial to have ways to test your algorithms, whether it is because you are designing a new scheme that requires validation or because you might want to debug your implementation of a classic and well known method. An approach to do so is to consider a model problem for which you can derive an exact solution.\n",
    "\n",
    "In this session we will consider the model problem \n",
    "$$\n",
    "f_1(t,y) = (1-2t)y,\\quad y(0) = 1.\n",
    "$$\n",
    "Using the method of variable separation (see TD1) one can find that the solution to the corresponding initial value problem is\n",
    "$$\n",
    "y_{sol}^1 : t \\mapsto \\exp \\left(\\frac{1}{4} - \\left(t-\\frac{1}{2}\\right)^2\\right)\n",
    "$$"
   ]
  },
  {
   "cell_type": "code",
   "execution_count": 2,
   "metadata": {},
   "outputs": [],
   "source": [
    "def f1(t,y):\n",
    "    return (1 - 2*t) * y"
   ]
  },
  {
   "cell_type": "code",
   "execution_count": 3,
   "metadata": {},
   "outputs": [],
   "source": [
    "def y1_exa(t):\n",
    "    return np.exp(1/4 - (1/2 - t)**2)"
   ]
  },
  {
   "cell_type": "markdown",
   "metadata": {},
   "source": [
    "**Q2. Derive the function $g_1$ correspondition to this model problem and that will be needed for the implementation of the TS2 method (see definition in the introduction). Implement it.**"
   ]
  },
  {
   "cell_type": "markdown",
   "metadata": {},
   "source": [
    "*Please write your answer here*"
   ]
  },
  {
   "cell_type": "code",
   "execution_count": 5,
   "metadata": {},
   "outputs": [],
   "source": [
    "def g1(t,y): \n",
    "    return -2*y + ((1 - 2*t)**2)*y "
   ]
  },
  {
   "cell_type": "markdown",
   "metadata": {},
   "source": [
    "# Part I: Explicit methods"
   ]
  },
  {
   "cell_type": "markdown",
   "metadata": {},
   "source": [
    "In this part we will implement the explict methods, that is we will implement the forward Euler method, the Heun method, and the second order Taylor series method."
   ]
  },
  {
   "cell_type": "markdown",
   "metadata": {},
   "source": [
    "### Forward Euler method\n",
    "We recall the iterative formula for the forward Euler method:\n",
    "$$\n",
    "u_{n+1} = u_n + hf(t_n,u_n)\n",
    "$$\n",
    "where $t_n = t_0 + nh$ and $n \\in \\{0,...,N\\}$ with $N = \\frac{t_f-t_0}{h}+1$ (because of our simplifiying assumption $N\\in\\mathbb{N}$)."
   ]
  },
  {
   "cell_type": "markdown",
   "metadata": {},
   "source": [
    "**Q3. Implement the forward Euler method. The method should take as argument the initial time $t_0$, final time $t_f$, step size $h$, a starting point $y_0 = y(t_0)$ and a function $f$. It should  return an array of size $nt$ where $nt = \\left\\lfloor\\frac{t_f-t_0}{h}\\right\\rfloor+1$.**"
   ]
  },
  {
   "cell_type": "code",
   "execution_count": 19,
   "metadata": {},
   "outputs": [],
   "source": [
    "def Euler(f, t0, tf, h, y0):\n",
    "    \n",
    "    nt = int(round((tf-t0)/h))+1 #number of columns of the output array\n",
    "    u  = np.zeros((nt,))         #array of solutions to be returned by the function\n",
    "\n",
    "    t  = [t0 + i*h for i in range(nt)] \n",
    "    for i in range(nt): \n",
    "        if (i == 0): \n",
    "            u[i] = f(t0, y0) \n",
    "        else: \n",
    "            u[i] = u[i-1] + h*f(t[i-1], u[i-1])\n",
    "        \n",
    "    return u"
   ]
  },
  {
   "cell_type": "markdown",
   "metadata": {},
   "source": [
    "### Taylor Series (TS) Method"
   ]
  },
  {
   "cell_type": "markdown",
   "metadata": {},
   "source": [
    "For the TS method we want the iterative formula to be :\n",
    "$$\n",
    "u_{n+1} = u_n + hf(t_n,u_n)+ \\frac{h^2}{2} g(t_n,u_n)\n",
    "$$\n",
    "where $g:(t,y)\\mapsto \\partial_t f(t,y) + \\partial_x f(t,y) f(t,y)$ so that we have :\n",
    "$$\n",
    "\\begin{aligned}\n",
    "\\frac{\\text{d}f}{\\text{d}t}\\left(t,y(t)\\right) &= \\partial_t f\\left(t,y(t)\\right) + \\partial_x f\\left(t,y(t)\\right) y^\\prime(t)\\\\\n",
    "&=\\partial_t f\\left(t,y(t)\\right) + \\partial_x f\\left(t,y(t)\\right) f\\left(t,y(t)\\right)\\\\\n",
    "&= g(t,y=y(t))\n",
    "\\end{aligned}\n",
    "$$\n",
    "\n",
    "In the case of our model problem $f_1$ we have for instance the function $g_1$ defined for $(t,y) \\in \\mathbb{R}_+\\times \\mathbb{R}$ by\n",
    "$$\n",
    "g_1(t,y) = \\partial_t f_1(t,y) + \\partial_x f_1(t,y) f_1(t,y) = -2 y + (1-2t)(1-2t)y = \\left((1-2t)^2-2\\right) y\n",
    "$$"
   ]
  },
  {
   "cell_type": "markdown",
   "metadata": {},
   "source": [
    "**Q4. Implement the second order Taylor series (TS2) method. The method should take as argument the initial time $t_0$, final time $t_f$, step size $h$, a starting point $y_0 = y(t_0)$ and the functions $f$ and $g$. It should  return an array of size $nt$ where $nt = \\left\\lfloor\\frac{t_f-t_0}{h}\\right\\rfloor+1$.**"
   ]
  },
  {
   "cell_type": "code",
   "execution_count": 20,
   "metadata": {},
   "outputs": [],
   "source": [
    "def g1(t,y):\n",
    "    return ((1-2*t)**2-2)*y"
   ]
  },
  {
   "cell_type": "code",
   "execution_count": 21,
   "metadata": {},
   "outputs": [],
   "source": [
    "def TS2(f, g, t0, tf, h, u0):\n",
    "    \n",
    "    nt = int(round((tf-t0)/h))+1 #number of columns of the output array\n",
    "    u  = np.zeros((nt,))\n",
    "    \n",
    "    t  = [t0 + i*h for i in range(nt)] \n",
    "    for i in range(nt): \n",
    "        if (i == 0): \n",
    "            u[i] = f(t0, y0) \n",
    "        else: \n",
    "            u[i] = u[i-1] + h*f(t[i-1], u[i-1]) + (h**2/2)*g(t[i-1], u[i-1]) \n",
    "\n",
    "    return u"
   ]
  },
  {
   "cell_type": "markdown",
   "metadata": {},
   "source": [
    "### Heun method\n",
    "\n",
    "We recall the Heun method\n",
    "$$\n",
    "u_{n+1}=u_n+\\cfrac{h}{2}\\,(f(t_{n},u_{n})+f(t_{n+1},u_{n}+hf(t_{n},u_{n}))).\n",
    "$$"
   ]
  },
  {
   "cell_type": "markdown",
   "metadata": {},
   "source": [
    "**Q5. Implement the Heun method. The method should take as argument the initial time $t_0$, final time $t_f$, step size $h$, a starting point $y_0 = y(t_0)$ and the function $f$. It should  return an array of size $nt$ where $nt = \\left\\lfloor\\frac{t_f-t_0}{h}\\right\\rfloor+1$.**"
   ]
  },
  {
   "cell_type": "code",
   "execution_count": 22,
   "metadata": {},
   "outputs": [],
   "source": [
    "def Heun(f, t0, tf, h, y0):\n",
    "    \n",
    "    nt = int(round((tf-t0)/h))+1 #number of columns of the output array\n",
    "    u  = np.zeros((nt,))         #array of solutions to be returned by the function\n",
    "    \n",
    "    t  = [t0 + i*h for i in range(nt)] \n",
    "    for i in range(nt): \n",
    "        if (i == 0): \n",
    "            u[i] = f(t0, y0) \n",
    "        else: \n",
    "            u[i] = u[i-1] + (h/2)*(f(t[i-1], u[i-1]) + f(t[i], u[i-1] + h*f(t[i-1], u[i-1]))) \n",
    "\n",
    "    return u"
   ]
  },
  {
   "cell_type": "markdown",
   "metadata": {},
   "source": [
    "### Comparison"
   ]
  },
  {
   "cell_type": "markdown",
   "metadata": {},
   "source": [
    "**Q6. As a first step to verify that your implementation is correct, compare these methods on a graph. Also check the global error term on the second graph. You do not need to write more code. If the code you wrote for Q1 is correct, the code below should run and produce what is expected. Please write a small comment telling us whether you are satisfied with what you observe or not.**"
   ]
  },
  {
   "cell_type": "code",
   "execution_count": 25,
   "metadata": {},
   "outputs": [
    {
     "data": {
      "text/html": [
       "\n",
       "\n",
       "\n",
       "\n",
       "\n",
       "\n",
       "  <div class=\"bk-root\" id=\"9849d0f2-5456-400d-ab12-ae714327c774\" data-root-id=\"3951\"></div>\n"
      ]
     },
     "metadata": {},
     "output_type": "display_data"
    },
    {
     "data": {
      "application/javascript": [
       "(function(root) {\n",
       "  function embed_document(root) {\n",
       "    \n",
       "  const docs_json = {\"d127c2d2-41e6-46bc-95b3-3d03ca6122b9\":{\"defs\":[],\"roots\":{\"references\":[{\"attributes\":{\"children\":[{\"id\":\"3743\"},{\"id\":\"3859\"}]},\"id\":\"3951\",\"type\":\"Column\"},{\"attributes\":{},\"id\":\"3864\",\"type\":\"LinearScale\"},{\"attributes\":{},\"id\":\"3926\",\"type\":\"Selection\"},{\"attributes\":{\"coordinates\":null,\"data_source\":{\"id\":\"3929\"},\"glyph\":{\"id\":\"3930\"},\"group\":null,\"hover_glyph\":null,\"muted_glyph\":{\"id\":\"3932\"},\"nonselection_glyph\":{\"id\":\"3931\"},\"view\":{\"id\":\"3934\"}},\"id\":\"3933\",\"type\":\"GlyphRenderer\"},{\"attributes\":{\"label\":{\"value\":\"Euler method approximation\"},\"renderers\":[{\"id\":\"3797\"}]},\"id\":\"3812\",\"type\":\"LegendItem\"},{\"attributes\":{\"line_color\":\"#1f77b4\",\"x\":{\"field\":\"x\"},\"y\":{\"field\":\"y\"}},\"id\":\"3775\",\"type\":\"Line\"},{\"attributes\":{\"source\":{\"id\":\"3890\"}},\"id\":\"3895\",\"type\":\"CDSView\"},{\"attributes\":{},\"id\":\"3809\",\"type\":\"UnionRenderers\"},{\"attributes\":{\"fill_color\":{\"value\":\"white\"},\"line_color\":{\"value\":\"#1f77b4\"},\"size\":{\"value\":8},\"x\":{\"field\":\"x\"},\"y\":{\"field\":\"y\"}},\"id\":\"3910\",\"type\":\"Circle\"},{\"attributes\":{},\"id\":\"3866\",\"type\":\"LinearScale\"},{\"attributes\":{\"fill_color\":{\"value\":\"red\"},\"hatch_color\":{\"value\":\"red\"},\"line_color\":{\"value\":\"red\"},\"marker\":{\"value\":\"x\"},\"size\":{\"value\":8},\"x\":{\"field\":\"x\"},\"y\":{\"field\":\"y\"}},\"id\":\"3836\",\"type\":\"Scatter\"},{\"attributes\":{},\"id\":\"3925\",\"type\":\"UnionRenderers\"},{\"attributes\":{\"end\":4.0},\"id\":\"3860\",\"type\":\"Range1d\"},{\"attributes\":{\"data\":{\"x\":{\"__ndarray__\":\"AAAAAAAAAACamZmZmZnJP5qZmZmZmdk/NDMzMzMz4z+amZmZmZnpPwAAAAAAAPA/NDMzMzMz8z9nZmZmZmb2P5qZmZmZmfk/zczMzMzM/D8AAAAAAAAAQJqZmZmZmQFANDMzMzMzA0DNzMzMzMwEQGdmZmZmZgZAAAAAAAAACECamZmZmZkJQDQzMzMzMwtAzczMzMzMDEBnZmZmZmYOQAAAAAAAABBA\",\"dtype\":\"float64\",\"order\":\"little\",\"shape\":[21]},\"y\":{\"__ndarray__\":\"AAAAAAAAAAAASupNWJR6P4CYxLNN2oc/gKZ/nGP0iT+A34GbTt6BPwDIi+QwDVo/ABfE5FIRdj+AvbZiaiGDP4AhsT3vLIM/YDjYaPrDej/AfrRxhgtnPwBQPBZ1Tio/QDK+nM5DXj8Y9j0Y1qBiPzpXYgSwOWA/xD07b4uMVz+YIwMRsFFOP9wQFaOB+UE/Vi4xmDM2ND9hmNuGMyMmP9XifMIROxg/\",\"dtype\":\"float64\",\"order\":\"little\",\"shape\":[21]}},\"selected\":{\"id\":\"3926\"},\"selection_policy\":{\"id\":\"3925\"}},\"id\":\"3909\",\"type\":\"ColumnDataSource\"},{\"attributes\":{\"label\":{\"value\":\"Heun method approximation\"},\"renderers\":[{\"id\":\"3933\"}]},\"id\":\"3950\",\"type\":\"LegendItem\"},{\"attributes\":{},\"id\":\"3862\",\"type\":\"DataRange1d\"},{\"attributes\":{\"tools\":[{\"id\":\"3760\"},{\"id\":\"3761\"},{\"id\":\"3762\"},{\"id\":\"3763\"},{\"id\":\"3764\"},{\"id\":\"3765\"}]},\"id\":\"3767\",\"type\":\"Toolbar\"},{\"attributes\":{\"source\":{\"id\":\"3774\"}},\"id\":\"3779\",\"type\":\"CDSView\"},{\"attributes\":{},\"id\":\"3789\",\"type\":\"Selection\"},{\"attributes\":{\"axis_label\":\"t\",\"coordinates\":null,\"formatter\":{\"id\":\"3902\"},\"group\":null,\"major_label_policy\":{\"id\":\"3903\"},\"ticker\":{\"id\":\"3869\"}},\"id\":\"3868\",\"type\":\"LinearAxis\"},{\"attributes\":{},\"id\":\"3869\",\"type\":\"BasicTicker\"},{\"attributes\":{\"axis\":{\"id\":\"3868\"},\"coordinates\":null,\"group\":null,\"ticker\":null},\"id\":\"3871\",\"type\":\"Grid\"},{\"attributes\":{},\"id\":\"3877\",\"type\":\"WheelZoomTool\"},{\"attributes\":{\"axis_label\":\"GE\",\"coordinates\":null,\"formatter\":{\"id\":\"3899\"},\"group\":null,\"major_label_policy\":{\"id\":\"3900\"},\"ticker\":{\"id\":\"3873\"}},\"id\":\"3872\",\"type\":\"LinearAxis\"},{\"attributes\":{\"coordinates\":null,\"group\":null,\"items\":[{\"id\":\"3792\"},{\"id\":\"3812\"},{\"id\":\"3834\"},{\"id\":\"3858\"}]},\"id\":\"3791\",\"type\":\"Legend\"},{\"attributes\":{\"axis\":{\"id\":\"3872\"},\"coordinates\":null,\"dimension\":1,\"group\":null,\"ticker\":null},\"id\":\"3875\",\"type\":\"Grid\"},{\"attributes\":{},\"id\":\"3873\",\"type\":\"BasicTicker\"},{\"attributes\":{},\"id\":\"3881\",\"type\":\"HelpTool\"},{\"attributes\":{},\"id\":\"3876\",\"type\":\"PanTool\"},{\"attributes\":{\"overlay\":{\"id\":\"3882\"}},\"id\":\"3878\",\"type\":\"BoxZoomTool\"},{\"attributes\":{\"fill_alpha\":{\"value\":0.2},\"fill_color\":{\"value\":\"navy\"},\"hatch_alpha\":{\"value\":0.2},\"hatch_color\":{\"value\":\"navy\"},\"line_alpha\":{\"value\":0.2},\"line_color\":{\"value\":\"navy\"},\"size\":{\"value\":8},\"x\":{\"field\":\"x\"},\"y\":{\"field\":\"y\"}},\"id\":\"3796\",\"type\":\"Circle\"},{\"attributes\":{},\"id\":\"3879\",\"type\":\"SaveTool\"},{\"attributes\":{},\"id\":\"3880\",\"type\":\"ResetTool\"},{\"attributes\":{},\"id\":\"3810\",\"type\":\"Selection\"},{\"attributes\":{\"bottom_units\":\"screen\",\"coordinates\":null,\"fill_alpha\":0.5,\"fill_color\":\"lightgrey\",\"group\":null,\"left_units\":\"screen\",\"level\":\"overlay\",\"line_alpha\":1.0,\"line_color\":\"black\",\"line_dash\":[4,4],\"line_width\":2,\"right_units\":\"screen\",\"syncable\":false,\"top_units\":\"screen\"},\"id\":\"3766\",\"type\":\"BoxAnnotation\"},{\"attributes\":{\"data\":{\"x\":{\"__ndarray__\":\"AAAAAAAAAACamZmZmZnJP5qZmZmZmdk/NDMzMzMz4z+amZmZmZnpPwAAAAAAAPA/NDMzMzMz8z9nZmZmZmb2P5qZmZmZmfk/zczMzMzM/D8AAAAAAAAAQJqZmZmZmQFANDMzMzMzA0DNzMzMzMwEQGdmZmZmZgZAAAAAAAAACECamZmZmZkJQDQzMzMzMwtAzczMzMzMDEBnZmZmZmYOQAAAAAAAABBA\",\"dtype\":\"float64\",\"order\":\"little\",\"shape\":[21]},\"y\":{\"__ndarray__\":\"AAAAAAAA8D/hehSuR+HyPxu1wvS9hvQ/NyuUIPKK9D9WlP3yb+ryP/IiOUyDBvA/eV9ji+v/6D8iP4KR0vrhPxQN26/p59c/TjFARIZ9zT/Rr/iJfPbAP8I4faniUbI/VQtFV/C6oj9KlGA+iE+SPxCfksuHUIE/3LlY1EsKcD86YCjElYNdP54XmHR+V0s/5iXis7jaOT8YhF5OdkYpP54eMYZm1xk/\",\"dtype\":\"float64\",\"order\":\"little\",\"shape\":[21]}},\"selected\":{\"id\":\"3832\"},\"selection_policy\":{\"id\":\"3831\"}},\"id\":\"3813\",\"type\":\"ColumnDataSource\"},{\"attributes\":{},\"id\":\"3786\",\"type\":\"BasicTickFormatter\"},{\"attributes\":{},\"id\":\"3764\",\"type\":\"ResetTool\"},{\"attributes\":{},\"id\":\"3784\",\"type\":\"AllLabels\"},{\"attributes\":{},\"id\":\"3765\",\"type\":\"HelpTool\"},{\"attributes\":{\"line_alpha\":0.1,\"line_color\":\"#1f77b4\",\"x\":{\"field\":\"x\"},\"y\":{\"field\":\"y\"}},\"id\":\"3776\",\"type\":\"Line\"},{\"attributes\":{\"bottom_units\":\"screen\",\"coordinates\":null,\"fill_alpha\":0.5,\"fill_color\":\"lightgrey\",\"group\":null,\"left_units\":\"screen\",\"level\":\"overlay\",\"line_alpha\":1.0,\"line_color\":\"black\",\"line_dash\":[4,4],\"line_width\":2,\"right_units\":\"screen\",\"syncable\":false,\"top_units\":\"screen\"},\"id\":\"3882\",\"type\":\"BoxAnnotation\"},{\"attributes\":{\"coordinates\":null,\"group\":null},\"id\":\"3896\",\"type\":\"Title\"},{\"attributes\":{\"source\":{\"id\":\"3929\"}},\"id\":\"3934\",\"type\":\"CDSView\"},{\"attributes\":{\"coordinates\":null,\"group\":null},\"id\":\"3780\",\"type\":\"Title\"},{\"attributes\":{},\"id\":\"3783\",\"type\":\"BasicTickFormatter\"},{\"attributes\":{\"fill_alpha\":{\"value\":0.2},\"fill_color\":{\"value\":\"red\"},\"hatch_alpha\":{\"value\":0.2},\"hatch_color\":{\"value\":\"red\"},\"line_alpha\":{\"value\":0.2},\"line_color\":{\"value\":\"red\"},\"marker\":{\"value\":\"x\"},\"size\":{\"value\":8},\"x\":{\"field\":\"x\"},\"y\":{\"field\":\"y\"}},\"id\":\"3932\",\"type\":\"Scatter\"},{\"attributes\":{},\"id\":\"3787\",\"type\":\"AllLabels\"},{\"attributes\":{\"fill_alpha\":{\"value\":0.1},\"fill_color\":{\"value\":\"red\"},\"hatch_alpha\":{\"value\":0.1},\"hatch_color\":{\"value\":\"red\"},\"line_alpha\":{\"value\":0.1},\"line_color\":{\"value\":\"red\"},\"marker\":{\"value\":\"x\"},\"size\":{\"value\":8},\"x\":{\"field\":\"x\"},\"y\":{\"field\":\"y\"}},\"id\":\"3931\",\"type\":\"Scatter\"},{\"attributes\":{},\"id\":\"3947\",\"type\":\"UnionRenderers\"},{\"attributes\":{},\"id\":\"3948\",\"type\":\"Selection\"},{\"attributes\":{\"fill_alpha\":{\"value\":0.1},\"fill_color\":{\"value\":\"navy\"},\"hatch_alpha\":{\"value\":0.1},\"hatch_color\":{\"value\":\"navy\"},\"line_alpha\":{\"value\":0.1},\"line_color\":{\"value\":\"navy\"},\"size\":{\"value\":8},\"x\":{\"field\":\"x\"},\"y\":{\"field\":\"y\"}},\"id\":\"3795\",\"type\":\"Circle\"},{\"attributes\":{},\"id\":\"3788\",\"type\":\"UnionRenderers\"},{\"attributes\":{\"coordinates\":null,\"data_source\":{\"id\":\"3890\"},\"glyph\":{\"id\":\"3891\"},\"group\":null,\"hover_glyph\":null,\"muted_glyph\":{\"id\":\"3893\"},\"nonselection_glyph\":{\"id\":\"3892\"},\"view\":{\"id\":\"3895\"}},\"id\":\"3894\",\"type\":\"GlyphRenderer\"},{\"attributes\":{\"fill_alpha\":{\"value\":0.2},\"fill_color\":{\"value\":\"navy\"},\"hatch_alpha\":{\"value\":0.2},\"hatch_color\":{\"value\":\"navy\"},\"line_alpha\":{\"value\":0.2},\"line_color\":{\"value\":\"navy\"},\"size\":{\"value\":8},\"x\":{\"field\":\"x\"},\"y\":{\"field\":\"y\"}},\"id\":\"3893\",\"type\":\"Circle\"},{\"attributes\":{\"label\":{\"value\":\"Euler method approximation\"},\"renderers\":[{\"id\":\"3894\"}]},\"id\":\"3908\",\"type\":\"LegendItem\"},{\"attributes\":{\"source\":{\"id\":\"3793\"}},\"id\":\"3798\",\"type\":\"CDSView\"},{\"attributes\":{\"line_alpha\":0.2,\"line_color\":\"#1f77b4\",\"x\":{\"field\":\"x\"},\"y\":{\"field\":\"y\"}},\"id\":\"3777\",\"type\":\"Line\"},{\"attributes\":{\"label\":{\"value\":\"Exact solution\"},\"renderers\":[{\"id\":\"3778\"}]},\"id\":\"3792\",\"type\":\"LegendItem\"},{\"attributes\":{\"tools\":[{\"id\":\"3876\"},{\"id\":\"3877\"},{\"id\":\"3878\"},{\"id\":\"3879\"},{\"id\":\"3880\"},{\"id\":\"3881\"}]},\"id\":\"3883\",\"type\":\"Toolbar\"},{\"attributes\":{\"fill_alpha\":{\"value\":0.1},\"fill_color\":{\"value\":\"navy\"},\"hatch_alpha\":{\"value\":0.1},\"hatch_color\":{\"value\":\"navy\"},\"line_alpha\":{\"value\":0.1},\"line_color\":{\"value\":\"navy\"},\"size\":{\"value\":8},\"x\":{\"field\":\"x\"},\"y\":{\"field\":\"y\"}},\"id\":\"3892\",\"type\":\"Circle\"},{\"attributes\":{\"coordinates\":null,\"group\":null,\"items\":[{\"id\":\"3908\"},{\"id\":\"3928\"},{\"id\":\"3950\"}]},\"id\":\"3907\",\"type\":\"Legend\"},{\"attributes\":{\"coordinates\":null,\"data_source\":{\"id\":\"3793\"},\"glyph\":{\"id\":\"3794\"},\"group\":null,\"hover_glyph\":null,\"muted_glyph\":{\"id\":\"3796\"},\"nonselection_glyph\":{\"id\":\"3795\"},\"view\":{\"id\":\"3798\"}},\"id\":\"3797\",\"type\":\"GlyphRenderer\"},{\"attributes\":{},\"id\":\"3899\",\"type\":\"BasicTickFormatter\"},{\"attributes\":{\"coordinates\":null,\"data_source\":{\"id\":\"3813\"},\"glyph\":{\"id\":\"3814\"},\"group\":null,\"hover_glyph\":null,\"muted_glyph\":{\"id\":\"3816\"},\"nonselection_glyph\":{\"id\":\"3815\"},\"view\":{\"id\":\"3818\"}},\"id\":\"3817\",\"type\":\"GlyphRenderer\"},{\"attributes\":{},\"id\":\"3900\",\"type\":\"AllLabels\"},{\"attributes\":{\"label\":{\"value\":\"TS method approximation\"},\"renderers\":[{\"id\":\"3817\"}]},\"id\":\"3834\",\"type\":\"LegendItem\"},{\"attributes\":{},\"id\":\"3902\",\"type\":\"BasicTickFormatter\"},{\"attributes\":{\"data\":{\"x\":{\"__ndarray__\":\"AAAAAAAAAACamZmZmZnJP5qZmZmZmdk/NDMzMzMz4z+amZmZmZnpPwAAAAAAAPA/NDMzMzMz8z9nZmZmZmb2P5qZmZmZmfk/zczMzMzM/D8AAAAAAAAAQJqZmZmZmQFANDMzMzMzA0DNzMzMzMwEQGdmZmZmZgZAAAAAAAAACECamZmZmZkJQDQzMzMzMwtAzczMzMzMDEBnZmZmZmYOQAAAAAAAABBA\",\"dtype\":\"float64\",\"order\":\"little\",\"shape\":[21]},\"y\":{\"__ndarray__\":\"AAAAAAAA8D+Nl24Sg8DyP7qFCf4STPQ/8E4a1upH9D/edY9IBrXyPwElZ3F/4O8/0o6y53ge6T8Sohwk0VjiPzIiwvkn7Ng/Y5qTYiSfzz9kwc5ntNjCP1S3U1REQrU/CE+Upjvkpj9QZdUVRMWXP0xI50goE4g/TEjnSCgTeD9MSOdIKBNoP+jdBLgLYlg/nn+Phr1RST+P09q5iUM7P6qaFzrrwC4/\",\"dtype\":\"float64\",\"order\":\"little\",\"shape\":[21]}},\"selected\":{\"id\":\"3856\"},\"selection_policy\":{\"id\":\"3855\"}},\"id\":\"3835\",\"type\":\"ColumnDataSource\"},{\"attributes\":{},\"id\":\"3903\",\"type\":\"AllLabels\"},{\"attributes\":{},\"id\":\"3832\",\"type\":\"Selection\"},{\"attributes\":{\"fill_alpha\":{\"value\":0.2},\"fill_color\":{\"value\":\"white\"},\"hatch_alpha\":{\"value\":0.2},\"line_alpha\":{\"value\":0.2},\"line_color\":{\"value\":\"#1f77b4\"},\"size\":{\"value\":8},\"x\":{\"field\":\"x\"},\"y\":{\"field\":\"y\"}},\"id\":\"3816\",\"type\":\"Circle\"},{\"attributes\":{\"fill_alpha\":{\"value\":0.1},\"fill_color\":{\"value\":\"white\"},\"hatch_alpha\":{\"value\":0.1},\"line_alpha\":{\"value\":0.1},\"line_color\":{\"value\":\"#1f77b4\"},\"size\":{\"value\":8},\"x\":{\"field\":\"x\"},\"y\":{\"field\":\"y\"}},\"id\":\"3815\",\"type\":\"Circle\"},{\"attributes\":{\"source\":{\"id\":\"3813\"}},\"id\":\"3818\",\"type\":\"CDSView\"},{\"attributes\":{\"coordinates\":null,\"data_source\":{\"id\":\"3835\"},\"glyph\":{\"id\":\"3836\"},\"group\":null,\"hover_glyph\":null,\"muted_glyph\":{\"id\":\"3838\"},\"nonselection_glyph\":{\"id\":\"3837\"},\"view\":{\"id\":\"3840\"}},\"id\":\"3839\",\"type\":\"GlyphRenderer\"},{\"attributes\":{},\"id\":\"3831\",\"type\":\"UnionRenderers\"},{\"attributes\":{},\"id\":\"3904\",\"type\":\"UnionRenderers\"},{\"attributes\":{},\"id\":\"3905\",\"type\":\"Selection\"},{\"attributes\":{},\"id\":\"3750\",\"type\":\"LinearScale\"},{\"attributes\":{},\"id\":\"3746\",\"type\":\"DataRange1d\"},{\"attributes\":{\"below\":[{\"id\":\"3752\"}],\"center\":[{\"id\":\"3755\"},{\"id\":\"3759\"},{\"id\":\"3791\"}],\"height\":400,\"left\":[{\"id\":\"3756\"}],\"renderers\":[{\"id\":\"3778\"},{\"id\":\"3797\"},{\"id\":\"3817\"},{\"id\":\"3839\"}],\"title\":{\"id\":\"3780\"},\"toolbar\":{\"id\":\"3767\"},\"width\":980,\"x_range\":{\"id\":\"3744\"},\"x_scale\":{\"id\":\"3748\"},\"y_range\":{\"id\":\"3746\"},\"y_scale\":{\"id\":\"3750\"}},\"id\":\"3743\",\"subtype\":\"Figure\",\"type\":\"Plot\"},{\"attributes\":{},\"id\":\"3753\",\"type\":\"BasicTicker\"},{\"attributes\":{\"label\":{\"value\":\"Heun method approximation\"},\"renderers\":[{\"id\":\"3839\"}]},\"id\":\"3858\",\"type\":\"LegendItem\"},{\"attributes\":{},\"id\":\"3757\",\"type\":\"BasicTicker\"},{\"attributes\":{\"fill_color\":{\"value\":\"white\"},\"line_color\":{\"value\":\"#1f77b4\"},\"size\":{\"value\":8},\"x\":{\"field\":\"x\"},\"y\":{\"field\":\"y\"}},\"id\":\"3814\",\"type\":\"Circle\"},{\"attributes\":{\"fill_color\":{\"value\":\"navy\"},\"hatch_color\":{\"value\":\"navy\"},\"line_color\":{\"value\":\"navy\"},\"size\":{\"value\":8},\"x\":{\"field\":\"x\"},\"y\":{\"field\":\"y\"}},\"id\":\"3891\",\"type\":\"Circle\"},{\"attributes\":{\"below\":[{\"id\":\"3868\"}],\"center\":[{\"id\":\"3871\"},{\"id\":\"3875\"},{\"id\":\"3907\"}],\"height\":400,\"left\":[{\"id\":\"3872\"}],\"renderers\":[{\"id\":\"3894\"},{\"id\":\"3913\"},{\"id\":\"3933\"}],\"title\":{\"id\":\"3896\"},\"toolbar\":{\"id\":\"3883\"},\"width\":980,\"x_range\":{\"id\":\"3860\"},\"x_scale\":{\"id\":\"3864\"},\"y_range\":{\"id\":\"3862\"},\"y_scale\":{\"id\":\"3866\"}},\"id\":\"3859\",\"subtype\":\"Figure\",\"type\":\"Plot\"},{\"attributes\":{\"coordinates\":null,\"data_source\":{\"id\":\"3774\"},\"glyph\":{\"id\":\"3775\"},\"group\":null,\"hover_glyph\":null,\"muted_glyph\":{\"id\":\"3777\"},\"nonselection_glyph\":{\"id\":\"3776\"},\"view\":{\"id\":\"3779\"}},\"id\":\"3778\",\"type\":\"GlyphRenderer\"},{\"attributes\":{\"data\":{\"x\":{\"__ndarray__\":\"AAAAAAAAAACamZmZmZnJP5qZmZmZmdk/NDMzMzMz4z+amZmZmZnpPwAAAAAAAPA/NDMzMzMz8z9nZmZmZmb2P5qZmZmZmfk/zczMzMzM/D8AAAAAAAAAQJqZmZmZmQFANDMzMzMzA0DNzMzMzMwEQGdmZmZmZgZAAAAAAAAACECamZmZmZkJQDQzMzMzMwtAzczMzMzMDEBnZmZmZmYOQAAAAAAAABBA\",\"dtype\":\"float64\",\"order\":\"little\",\"shape\":[21]},\"y\":{\"__ndarray__\":\"AAAAAAAAAAAApyhb9x+bPwAzILjMn7I/8Lf67IExwD/IxN6bH4zFP1CxL0FcJcc/2Ihyb3c6xD8QaK9y/uO7P1AxVSYl1ao/gDcGBbEEfD/oJMy4MsSSPwQNgsasJZk/fLl+gHo7lD8LM5NGTJqIP3h7RqQoKXg/RVbZq9TtYz/cnE13e7VMP4UNBqP5uzI/QN7DbhSSFj+3XRc8Fhr5Pou8QztMxdk+\",\"dtype\":\"float64\",\"order\":\"little\",\"shape\":[21]}},\"selected\":{\"id\":\"3905\"},\"selection_policy\":{\"id\":\"3904\"}},\"id\":\"3890\",\"type\":\"ColumnDataSource\"},{\"attributes\":{\"source\":{\"id\":\"3835\"}},\"id\":\"3840\",\"type\":\"CDSView\"},{\"attributes\":{\"axis\":{\"id\":\"3752\"},\"coordinates\":null,\"group\":null,\"ticker\":null},\"id\":\"3755\",\"type\":\"Grid\"},{\"attributes\":{\"fill_alpha\":{\"value\":0.2},\"fill_color\":{\"value\":\"red\"},\"hatch_alpha\":{\"value\":0.2},\"hatch_color\":{\"value\":\"red\"},\"line_alpha\":{\"value\":0.2},\"line_color\":{\"value\":\"red\"},\"marker\":{\"value\":\"x\"},\"size\":{\"value\":8},\"x\":{\"field\":\"x\"},\"y\":{\"field\":\"y\"}},\"id\":\"3838\",\"type\":\"Scatter\"},{\"attributes\":{\"data\":{\"x\":{\"__ndarray__\":\"AAAAAAAAAACamZmZmZnJP5qZmZmZmdk/NDMzMzMz4z+amZmZmZnpPwAAAAAAAPA/NDMzMzMz8z9nZmZmZmb2P5qZmZmZmfk/zczMzMzM/D8AAAAAAAAAQJqZmZmZmQFANDMzMzMzA0DNzMzMzMwEQGdmZmZmZgZAAAAAAAAACECamZmZmZkJQDQzMzMzMwtAzczMzMzMDEBnZmZmZmYOQAAAAAAAABBA\",\"dtype\":\"float64\",\"order\":\"little\",\"shape\":[21]},\"y\":{\"__ndarray__\":\"AAAAAAAA8D8zMzMzMzPzPxov3SQGgfU/6IL6ljld9j8waUJJN3j1Pyr2JYir5PI/3YkJDaw67j8aB2MJ2MPlP0o8k87129s/zSSvn8szzz9e+kuZSPS9P7Iuo3qg9qc/FPR+iFKsjj8M4HnAOnJtP1i4bIV32EI/QKSfTlEfCD8AAAAAAAAAAAAAAAAAAAAAAAAAAAAAAAAAAAAAAAAAAAAAAAAAAAAA\",\"dtype\":\"float64\",\"order\":\"little\",\"shape\":[21]}},\"selected\":{\"id\":\"3810\"},\"selection_policy\":{\"id\":\"3809\"}},\"id\":\"3793\",\"type\":\"ColumnDataSource\"},{\"attributes\":{\"fill_alpha\":{\"value\":0.1},\"fill_color\":{\"value\":\"red\"},\"hatch_alpha\":{\"value\":0.1},\"hatch_color\":{\"value\":\"red\"},\"line_alpha\":{\"value\":0.1},\"line_color\":{\"value\":\"red\"},\"marker\":{\"value\":\"x\"},\"size\":{\"value\":8},\"x\":{\"field\":\"x\"},\"y\":{\"field\":\"y\"}},\"id\":\"3837\",\"type\":\"Scatter\"},{\"attributes\":{\"data\":{\"x\":{\"__ndarray__\":\"AAAAAAAAAABbv1Kg1q+kP1u/UqDWr7Q/CB988MEHvz9bv1Kg1q/EPzJvZ0jM28k/CB988MEHzz9wZ0jM2xnSP1u/UqDWr9Q/RhdddNFF1z8yb2dIzNvZPx3HcRzHcdw/CB988MEH3z96O0Ni3s7gP3BnSMzbGeI/ZZNNNtlk4z9bv1Kg1q/kP1HrVwrU+uU/RhdddNFF5z88Q2LezpDoPzJvZ0jM2+k/J5tssskm6z8dx3Ecx3HsPxPzdobEvO0/CB988MEH7z9/pUCtXynwP3o7Q2LezvA/ddFFF1108T9wZ0jM2xnyP2r9SoFav/I/ZZNNNtlk8z9gKVDrVwr0P1u/UqDWr/Q/VlVVVVVV9T9R61cK1Pr1P0yBWr9SoPY/RhdddNFF9z9BrV8pUOv3PzxDYt7OkPg/N9lkk002+T8yb2dIzNv5Py0Fav1Kgfo/J5tssskm+z8iMW9nSMz7Px3HcRzHcfw/GF100UUX/T8T83aGxLz9Pw6JeTtDYv4/CB988MEH/z8DtX6lQK3/P3+lQK1fKQBAffDBBx98AEB6O0Ni3s4AQHeGxLydIQFAddFFF110AUByHMdxHMcBQHBnSMzbGQJAbbLJJptsAkBq/UqBWr8CQGhIzNsZEgNAZZNNNtlkA0Bj3s6QmLcDQGApUOtXCgRAXnTRRRddBEBbv1Kg1q8EQFgK1PqVAgVAVlVVVVVVBUBToNavFKgFQFHrVwrU+gVATjbZZJNNBkBMgVq/UqAGQEnM2xkS8wZARhdddNFFB0BEYt7OkJgHQEGtXylQ6wdAP/jggw8+CEA8Q2LezpAIQDmO4ziO4whAN9lkk002CUA0JObtDIkJQDJvZ0jM2wlAL7rooosuCkAtBWr9SoEKQCpQ61cK1ApAJ5tssskmC0Al5u0MiXkLQCIxb2dIzAtAIHzwwQcfDEAdx3Ecx3EMQBsS83aGxAxAGF100UUXDUAVqPUrBWoNQBPzdobEvA1AED744IMPDkAOiXk7Q2IOQAvU+pUCtQ5ACB988MEHD0AGav1KgVoPQAO1fqVArQ9AAAAAAAAAEEA=\",\"dtype\":\"float64\",\"order\":\"little\",\"shape\":[100]},\"y\":{\"__ndarray__\":\"AAAAAAAA8D+4vlJV7aHwP0jjy9zTO/E/lfw+02PM8T8nsMWrWVLyP61Uu76CzPI/34lz1sE58z8S3JiBE5nzP32kzhOS6fM/qriBPnkq9D+bGcAtKVv0PyJobRcpe/Q/IzEoLimK9D+Gc57sA4j0P3eQzbG+dPQ/o6+fqolQ9D9jEGkJvxv0PzVf1I/h1vM/9rC3c5qC8z99Lfeqth/zP7Tr660jr/I/Qmelwusx8j8ppbblManxP26GBmctFvE/RvRCUiV68D9MqTd216zvPxl5mwqyWO4/ZuuVf4767D/XmgxSG5XrP09YKuH4Kuo/c1FAkLG+6D8a6f+lslLnP4KxDgJG6eU/WpXku4yE5D/si6y3eibjPyWSsTfT0OE/uGjoaiaF4D9wjxXnn4neP+6uObfsIdw/Iwts0RbV2T+nMjB5mqTXPxD+IVqQkdU//KO4drKc0z/1THMjYsbRP7FRXNquDtA/rvt/ZbvqzD/M2F+U4vPJPxfimtxjN8c/JXdetGuzxD+vq7C80mXCP+mE3p0tTMA/6AUJZLjHvD9FKeqTL1S5Pyrk/8YAOLY/7X5IZVFtsz8yQYTSQe6wPzyC3MgAaq0/fd4edbN3qT97174CjfqlP1crXm7t56I/zz3RJ7U1oD8IfSf0pLSbP4/PyNWVmZc/tfA384EJlD+ARglT7fSQP67+exU1m4w/dDVGIQsNiD85tLpStSeEP7m+BW3U1YA/Y7L5dGgIfD86o/qtVUN3P9gJsEHrPXM/JAPRU1O6bz9tIPPXmhJqPzE4FeoLW2U/iLa+b1xvYT8giU8AIGBcP8hWudLqA1c/+0/XP1ibUj9WwT0nyfxNP4ndnRvvFUg/E8WYXUlIQz/ta2BU9sU+PxKChKfXeTg/gyz5Y2BnMz8BWQkBT6ouP8X1gAD9Jig/UNIJN+r1Ij/2Cp8VOqwdP21IGRuOJBc/mvzDEbP9ET/H5PzAheELP5kJYCuJiAU/U8mwAKGTAD/1sjywUHD5Pp9Hf8SkdPM+NU2F5pip7T4V4jn9z4nmPgzXD07DEeE+i7xDO0zF2T4=\",\"dtype\":\"float64\",\"order\":\"little\",\"shape\":[100]}},\"selected\":{\"id\":\"3789\"},\"selection_policy\":{\"id\":\"3788\"}},\"id\":\"3774\",\"type\":\"ColumnDataSource\"},{\"attributes\":{},\"id\":\"3760\",\"type\":\"PanTool\"},{\"attributes\":{\"axis\":{\"id\":\"3756\"},\"coordinates\":null,\"dimension\":1,\"group\":null,\"ticker\":null},\"id\":\"3759\",\"type\":\"Grid\"},{\"attributes\":{},\"id\":\"3855\",\"type\":\"UnionRenderers\"},{\"attributes\":{},\"id\":\"3748\",\"type\":\"LinearScale\"},{\"attributes\":{},\"id\":\"3856\",\"type\":\"Selection\"},{\"attributes\":{\"end\":4.0},\"id\":\"3744\",\"type\":\"Range1d\"},{\"attributes\":{\"axis_label\":\"x(t)\",\"coordinates\":null,\"formatter\":{\"id\":\"3783\"},\"group\":null,\"major_label_policy\":{\"id\":\"3784\"},\"ticker\":{\"id\":\"3757\"}},\"id\":\"3756\",\"type\":\"LinearAxis\"},{\"attributes\":{\"fill_color\":{\"value\":\"navy\"},\"hatch_color\":{\"value\":\"navy\"},\"line_color\":{\"value\":\"navy\"},\"size\":{\"value\":8},\"x\":{\"field\":\"x\"},\"y\":{\"field\":\"y\"}},\"id\":\"3794\",\"type\":\"Circle\"},{\"attributes\":{\"axis_label\":\"t\",\"coordinates\":null,\"formatter\":{\"id\":\"3786\"},\"group\":null,\"major_label_policy\":{\"id\":\"3787\"},\"ticker\":{\"id\":\"3753\"}},\"id\":\"3752\",\"type\":\"LinearAxis\"},{\"attributes\":{\"overlay\":{\"id\":\"3766\"}},\"id\":\"3762\",\"type\":\"BoxZoomTool\"},{\"attributes\":{\"label\":{\"value\":\"TS method approximation\"},\"renderers\":[{\"id\":\"3913\"}]},\"id\":\"3928\",\"type\":\"LegendItem\"},{\"attributes\":{\"fill_alpha\":{\"value\":0.2},\"fill_color\":{\"value\":\"white\"},\"hatch_alpha\":{\"value\":0.2},\"line_alpha\":{\"value\":0.2},\"line_color\":{\"value\":\"#1f77b4\"},\"size\":{\"value\":8},\"x\":{\"field\":\"x\"},\"y\":{\"field\":\"y\"}},\"id\":\"3912\",\"type\":\"Circle\"},{\"attributes\":{},\"id\":\"3761\",\"type\":\"WheelZoomTool\"},{\"attributes\":{\"fill_color\":{\"value\":\"red\"},\"hatch_color\":{\"value\":\"red\"},\"line_color\":{\"value\":\"red\"},\"marker\":{\"value\":\"x\"},\"size\":{\"value\":8},\"x\":{\"field\":\"x\"},\"y\":{\"field\":\"y\"}},\"id\":\"3930\",\"type\":\"Scatter\"},{\"attributes\":{},\"id\":\"3763\",\"type\":\"SaveTool\"},{\"attributes\":{\"data\":{\"x\":{\"__ndarray__\":\"AAAAAAAAAACamZmZmZnJP5qZmZmZmdk/NDMzMzMz4z+amZmZmZnpPwAAAAAAAPA/NDMzMzMz8z9nZmZmZmb2P5qZmZmZmfk/zczMzMzM/D8AAAAAAAAAQJqZmZmZmQFANDMzMzMzA0DNzMzMzMwEQGdmZmZmZgZAAAAAAAAACECamZmZmZkJQDQzMzMzMwtAzczMzMzMDEBnZmZmZmYOQAAAAAAAABBA\",\"dtype\":\"float64\",\"order\":\"little\",\"shape\":[21]},\"y\":{\"__ndarray__\":\"AAAAAAAAAAAAKORfDcFYPwBgTKO27GU/APS5gQY9bj8AuRo3Da1xPwD/2piOgG8/AKqx9JIqWz8A+ocP6XhhP4AEY/6ztXo/IHXKsOS3hD+A+fNAnGCIP9DlDCtH7Ic/FNXUEKdthD8kP/JpWid/PxV+2vwYonU/wru6oP7Xaz8V4RNryeVgP4daQ08Ns1M/1gO3+Hp/Rj+0XRlW6LE5P8Z8PdjA8i0/\",\"dtype\":\"float64\",\"order\":\"little\",\"shape\":[21]}},\"selected\":{\"id\":\"3948\"},\"selection_policy\":{\"id\":\"3947\"}},\"id\":\"3929\",\"type\":\"ColumnDataSource\"},{\"attributes\":{\"coordinates\":null,\"data_source\":{\"id\":\"3909\"},\"glyph\":{\"id\":\"3910\"},\"group\":null,\"hover_glyph\":null,\"muted_glyph\":{\"id\":\"3912\"},\"nonselection_glyph\":{\"id\":\"3911\"},\"view\":{\"id\":\"3914\"}},\"id\":\"3913\",\"type\":\"GlyphRenderer\"},{\"attributes\":{\"source\":{\"id\":\"3909\"}},\"id\":\"3914\",\"type\":\"CDSView\"},{\"attributes\":{\"fill_alpha\":{\"value\":0.1},\"fill_color\":{\"value\":\"white\"},\"hatch_alpha\":{\"value\":0.1},\"line_alpha\":{\"value\":0.1},\"line_color\":{\"value\":\"#1f77b4\"},\"size\":{\"value\":8},\"x\":{\"field\":\"x\"},\"y\":{\"field\":\"y\"}},\"id\":\"3911\",\"type\":\"Circle\"}],\"root_ids\":[\"3951\"]},\"title\":\"Bokeh Application\",\"version\":\"2.4.1\"}};\n",
       "  const render_items = [{\"docid\":\"d127c2d2-41e6-46bc-95b3-3d03ca6122b9\",\"root_ids\":[\"3951\"],\"roots\":{\"3951\":\"9849d0f2-5456-400d-ab12-ae714327c774\"}}];\n",
       "  root.Bokeh.embed.embed_items_notebook(docs_json, render_items);\n",
       "\n",
       "  }\n",
       "  if (root.Bokeh !== undefined) {\n",
       "    embed_document(root);\n",
       "  } else {\n",
       "    let attempts = 0;\n",
       "    const timer = setInterval(function(root) {\n",
       "      if (root.Bokeh !== undefined) {\n",
       "        clearInterval(timer);\n",
       "        embed_document(root);\n",
       "      } else {\n",
       "        attempts++;\n",
       "        if (attempts > 100) {\n",
       "          clearInterval(timer);\n",
       "          console.log(\"Bokeh: ERROR: Unable to run BokehJS code because BokehJS library is missing\");\n",
       "        }\n",
       "      }\n",
       "    }, 10, root)\n",
       "  }\n",
       "})(window);"
      ],
      "application/vnd.bokehjs_exec.v0+json": ""
     },
     "metadata": {
      "application/vnd.bokehjs_exec.v0+json": {
       "id": "3951"
      }
     },
     "output_type": "display_data"
    }
   ],
   "source": [
    "t0 = 0.  #initial time\n",
    "tf = 4.0 #final time\n",
    "h  = 0.2 #time step\n",
    "y0 = 1.  #starting point\n",
    "\n",
    "u_Elr  = Euler(f1, t0, tf, h, y0)\n",
    "u_TS2  = TS2(f1, g1, t0, tf, h, y0)\n",
    "u_Heun = Heun(f1, t0, tf, h, y0)\n",
    "\n",
    "nt = np.size(u_Elr)\n",
    "t  = t0+1.*h*np.arange(nt)\n",
    "\n",
    "N = 100 # number of points for the exact solution\n",
    "texa = np.linspace(t0,tf,N)\n",
    "yexa1 = y1_exa(texa)\n",
    "\n",
    "fig1 = figure(x_range=(t0, tf), width=980, height=400, x_axis_label='t', y_axis_label='x(t)')\n",
    "fig1.line(texa,yexa1,legend_label = 'Exact solution')\n",
    "fig1.circle(t,u_Elr, color = 'navy', legend_label = 'Euler method approximation', size = 8)\n",
    "fig1.circle(t,u_TS2,fill_color = 'white', legend_label = 'TS method approximation', size = 8)\n",
    "fig1.x(t,u_Heun,color = 'red', legend_label = 'Heun method approximation', size = 8)\n",
    "\n",
    "yexa2 = y1_exa(t)\n",
    "fig2 = figure(x_range=(t0, tf), width=980, height=400, x_axis_label='t', y_axis_label='GE')\n",
    "fig2.circle(t,abs(yexa2-u_Elr), color = 'navy', legend_label = 'Euler method approximation', size = 8)\n",
    "fig2.circle(t,abs(yexa2-u_TS2),fill_color = 'white', legend_label = 'TS method approximation', size = 8)\n",
    "fig2.x(t,abs(yexa2-u_Heun),color = 'red', legend_label = 'Heun method approximation', size = 8)\n",
    "\n",
    "show(column(fig1,fig2))"
   ]
  },
  {
   "cell_type": "markdown",
   "metadata": {},
   "source": [
    "*Please write your answer here.*"
   ]
  },
  {
   "cell_type": "markdown",
   "metadata": {},
   "source": [
    "### Convergence study"
   ]
  },
  {
   "cell_type": "markdown",
   "metadata": {},
   "source": [
    "Comparing methods visually on an example is very usefull to detect the most obvious bugs and mistakes in the implementation. It does not allow however to check the theoretical order of the method. In this question we adress this specific aspect.\n",
    "\n",
    "We recall that a discrete equivalent of the $L^2$-norm $||u||_{L^2\\left([t_0,t_f]\\right)} = \\sqrt{\\int^{t_f}_{t_0}u^2(t)\\text{d}t}$ of a continuous function $u\\in \\mathcal{C}^0\\left([t_0,t_f]\\right)$ can be defined by:\n",
    "$$\n",
    "\\sqrt{\\frac{1}{N}\\sum^N_{n=0}u^2(t_n)}\n",
    "$$\n",
    "with $t_n = t_0 + nh$ where $h$ is the step size, $n\\in\\{0,...,N\\}$ and $N = \\left\\lfloor\\frac{t_f-t_0}{h}\\right\\rfloor$. It is called the $l^2$-norm.\n",
    "To assess the accuracy of a numerical approximation $\\left(u_n\\right)_{n\\in\\{0,...,N\\}}$, it can be useful to evaluate the following quantity: (error in discrete $l^2$-norm)\n",
    "$$\n",
    "e_{l^2\\text{-}norm} = \\sqrt{\\frac{1}{N}\\sum^N_{n=0}\\left(u(t_n)-u_n\\right)^2}\n",
    "$$\n",
    "We shall want to show that $e_{l^2-norm} = \\mathcal{O}\\left(h^p\\right)$ for an approximation of order $p$. This is equivalent to $|e_{l^2\\text{-}norm}|\\leq C h^p$ with $C>0$.\n",
    "For convergence studies, we usually use log scales to show that this upper bound holds:\n",
    "$$\n",
    "\\ln |e_{l^2\\text{-}norm}|\\leq p \\ln (h) + \\ln (C)\n",
    "$$\n",
    "Indeed, under this formalism, satisfying this inequality is graphically equivalent to remaining below a straight line.\n",
    "\n",
    "**Q7. To complete the process of checking the validity of your methods, study the order of convergence in terms of $l^2$-norm for the implemented methods using log-scale graphs.\n",
    "You do not need to write more code. If the code you wrote for Q1 is correct, the code below should run and produce what is expected. Please write a small comment telling us whether you are satisfied with what you observe or not.**"
   ]
  },
  {
   "cell_type": "code",
   "execution_count": 26,
   "metadata": {},
   "outputs": [
    {
     "data": {
      "text/html": [
       "\n",
       "\n",
       "\n",
       "\n",
       "\n",
       "\n",
       "  <div class=\"bk-root\" id=\"76ba5477-88f5-438c-9340-508d4ca90d30\" data-root-id=\"4323\"></div>\n"
      ]
     },
     "metadata": {},
     "output_type": "display_data"
    },
    {
     "data": {
      "application/javascript": [
       "(function(root) {\n",
       "  function embed_document(root) {\n",
       "    \n",
       "  const docs_json = {\"89b9b25c-6ad3-4f77-93f1-f9887ef5e386\":{\"defs\":[],\"roots\":{\"references\":[{\"attributes\":{\"below\":[{\"id\":\"4332\"}],\"center\":[{\"id\":\"4335\"},{\"id\":\"4339\"},{\"id\":\"4371\"}],\"height\":400,\"left\":[{\"id\":\"4336\"}],\"renderers\":[{\"id\":\"4358\"},{\"id\":\"4377\"},{\"id\":\"4397\"},{\"id\":\"4419\"},{\"id\":\"4443\"}],\"title\":{\"id\":\"4360\"},\"toolbar\":{\"id\":\"4347\"},\"width\":980,\"x_range\":{\"id\":\"4324\"},\"x_scale\":{\"id\":\"4328\"},\"y_range\":{\"id\":\"4326\"},\"y_scale\":{\"id\":\"4330\"}},\"id\":\"4323\",\"subtype\":\"Figure\",\"type\":\"Plot\"},{\"attributes\":{\"source\":{\"id\":\"4354\"}},\"id\":\"4359\",\"type\":\"CDSView\"},{\"attributes\":{\"source\":{\"id\":\"4393\"}},\"id\":\"4398\",\"type\":\"CDSView\"},{\"attributes\":{\"line_alpha\":0.1,\"line_color\":\"#1f77b4\",\"x\":{\"field\":\"x\"},\"y\":{\"field\":\"y\"}},\"id\":\"4417\",\"type\":\"Line\"},{\"attributes\":{\"fill_alpha\":{\"value\":0.1},\"fill_color\":{\"value\":\"navy\"},\"hatch_alpha\":{\"value\":0.1},\"hatch_color\":{\"value\":\"navy\"},\"line_alpha\":{\"value\":0.1},\"line_color\":{\"value\":\"navy\"},\"size\":{\"value\":8},\"x\":{\"field\":\"x\"},\"y\":{\"field\":\"y\"}},\"id\":\"4356\",\"type\":\"Circle\"},{\"attributes\":{\"data\":{\"x\":{\"__ndarray__\":\"LUMc6+I2Gj9URZhOFT0sP+UoZDlLaz4//Knx0k1iUD9PKx9RLaZhP4+Z3gMPA3M/exSuR+F6hD8j9maluA+WP/M/1sTSw6c/mpmZmZmZuT8=\",\"dtype\":\"float64\",\"order\":\"little\",\"shape\":[10]},\"y\":{\"__ndarray__\":\"hw4LaRc9Ej7+NpLJjyo1Pqtu2Z/MkFg+5ktI3c6EfD6htNUHh4+gPkh6RZeeQcM+0zhj/65z5j6CIM2Cek8KPy71pJxiaC8/Pik3b4+MUz8=\",\"dtype\":\"float64\",\"order\":\"little\",\"shape\":[10]}},\"selected\":{\"id\":\"4412\"},\"selection_policy\":{\"id\":\"4411\"}},\"id\":\"4393\",\"type\":\"ColumnDataSource\"},{\"attributes\":{\"line_color\":\"#1f77b4\",\"x\":{\"field\":\"x\"},\"y\":{\"field\":\"y\"}},\"id\":\"4416\",\"type\":\"Line\"},{\"attributes\":{},\"id\":\"4340\",\"type\":\"PanTool\"},{\"attributes\":{},\"id\":\"4369\",\"type\":\"Selection\"},{\"attributes\":{},\"id\":\"4328\",\"type\":\"LogScale\"},{\"attributes\":{},\"id\":\"4389\",\"type\":\"UnionRenderers\"},{\"attributes\":{},\"id\":\"4411\",\"type\":\"UnionRenderers\"},{\"attributes\":{},\"id\":\"4412\",\"type\":\"Selection\"},{\"attributes\":{\"label\":{\"value\":\"order 1 slope\"},\"renderers\":[{\"id\":\"4419\"}]},\"id\":\"4438\",\"type\":\"LegendItem\"},{\"attributes\":{},\"id\":\"4461\",\"type\":\"UnionRenderers\"},{\"attributes\":{},\"id\":\"4330\",\"type\":\"LogScale\"},{\"attributes\":{\"coordinates\":null,\"group\":null,\"items\":[{\"id\":\"4372\"},{\"id\":\"4392\"},{\"id\":\"4414\"},{\"id\":\"4438\"},{\"id\":\"4464\"}],\"location\":\"bottom_right\"},\"id\":\"4371\",\"type\":\"Legend\"},{\"attributes\":{\"fill_alpha\":{\"value\":0.2},\"fill_color\":{\"value\":\"white\"},\"hatch_alpha\":{\"value\":0.2},\"line_alpha\":{\"value\":0.2},\"line_color\":{\"value\":\"#1f77b4\"},\"size\":{\"value\":8},\"x\":{\"field\":\"x\"},\"y\":{\"field\":\"y\"}},\"id\":\"4376\",\"type\":\"Circle\"},{\"attributes\":{\"label\":{\"value\":\"Euler method approximation\"},\"renderers\":[{\"id\":\"4358\"}]},\"id\":\"4372\",\"type\":\"LegendItem\"},{\"attributes\":{\"tools\":[{\"id\":\"4340\"},{\"id\":\"4341\"},{\"id\":\"4342\"},{\"id\":\"4343\"},{\"id\":\"4344\"},{\"id\":\"4345\"}]},\"id\":\"4347\",\"type\":\"Toolbar\"},{\"attributes\":{\"coordinates\":null,\"data_source\":{\"id\":\"4439\"},\"glyph\":{\"id\":\"4440\"},\"group\":null,\"hover_glyph\":null,\"muted_glyph\":{\"id\":\"4442\"},\"nonselection_glyph\":{\"id\":\"4441\"},\"view\":{\"id\":\"4444\"}},\"id\":\"4443\",\"type\":\"GlyphRenderer\"},{\"attributes\":{\"axis_label\":\"h\",\"coordinates\":null,\"formatter\":{\"id\":\"4366\"},\"group\":null,\"major_label_policy\":{\"id\":\"4367\"},\"ticker\":{\"id\":\"4333\"}},\"id\":\"4332\",\"type\":\"LogAxis\"},{\"attributes\":{},\"id\":\"4324\",\"type\":\"DataRange1d\"},{\"attributes\":{\"axis_label\":\"GE\",\"coordinates\":null,\"formatter\":{\"id\":\"4363\"},\"group\":null,\"major_label_policy\":{\"id\":\"4364\"},\"ticker\":{\"id\":\"4337\"}},\"id\":\"4336\",\"type\":\"LogAxis\"},{\"attributes\":{\"data\":{\"x\":{\"__ndarray__\":\"LUMc6+I2Gj9URZhOFT0sP+UoZDlLaz4//Knx0k1iUD9PKx9RLaZhP4+Z3gMPA3M/exSuR+F6hD8j9maluA+WP/M/1sTSw6c/mpmZmZmZuT8=\",\"dtype\":\"float64\",\"order\":\"little\",\"shape\":[10]},\"y\":{\"__ndarray__\":\"bt9FE7YNFj6oIudOrJc5PkaaBZMzs10+4O60qn08gT4dllMvYwKkPkmIakB0Psc+dMS0I48K6z61l2yzXoQPP2Si/Dz7iTI/a3LzbEwWVj8=\",\"dtype\":\"float64\",\"order\":\"little\",\"shape\":[10]}},\"selected\":{\"id\":\"4390\"},\"selection_policy\":{\"id\":\"4389\"}},\"id\":\"4373\",\"type\":\"ColumnDataSource\"},{\"attributes\":{\"coordinates\":null,\"data_source\":{\"id\":\"4373\"},\"glyph\":{\"id\":\"4374\"},\"group\":null,\"hover_glyph\":null,\"muted_glyph\":{\"id\":\"4376\"},\"nonselection_glyph\":{\"id\":\"4375\"},\"view\":{\"id\":\"4378\"}},\"id\":\"4377\",\"type\":\"GlyphRenderer\"},{\"attributes\":{\"axis\":{\"id\":\"4336\"},\"coordinates\":null,\"dimension\":1,\"group\":null,\"ticker\":null},\"id\":\"4339\",\"type\":\"Grid\"},{\"attributes\":{\"num_minor_ticks\":10},\"id\":\"4337\",\"type\":\"LogTicker\"},{\"attributes\":{\"fill_color\":{\"value\":\"white\"},\"line_color\":{\"value\":\"#1f77b4\"},\"size\":{\"value\":8},\"x\":{\"field\":\"x\"},\"y\":{\"field\":\"y\"}},\"id\":\"4374\",\"type\":\"Circle\"},{\"attributes\":{\"fill_alpha\":{\"value\":0.1},\"fill_color\":{\"value\":\"white\"},\"hatch_alpha\":{\"value\":0.1},\"line_alpha\":{\"value\":0.1},\"line_color\":{\"value\":\"#1f77b4\"},\"size\":{\"value\":8},\"x\":{\"field\":\"x\"},\"y\":{\"field\":\"y\"}},\"id\":\"4375\",\"type\":\"Circle\"},{\"attributes\":{},\"id\":\"4344\",\"type\":\"ResetTool\"},{\"attributes\":{\"label\":{\"value\":\"TS2 method approximation\"},\"renderers\":[{\"id\":\"4377\"}]},\"id\":\"4392\",\"type\":\"LegendItem\"},{\"attributes\":{\"source\":{\"id\":\"4373\"}},\"id\":\"4378\",\"type\":\"CDSView\"},{\"attributes\":{\"axis\":{\"id\":\"4332\"},\"coordinates\":null,\"group\":null,\"ticker\":null},\"id\":\"4335\",\"type\":\"Grid\"},{\"attributes\":{\"fill_color\":{\"value\":\"navy\"},\"hatch_color\":{\"value\":\"navy\"},\"line_color\":{\"value\":\"navy\"},\"size\":{\"value\":8},\"x\":{\"field\":\"x\"},\"y\":{\"field\":\"y\"}},\"id\":\"4355\",\"type\":\"Circle\"},{\"attributes\":{\"coordinates\":null,\"data_source\":{\"id\":\"4393\"},\"glyph\":{\"id\":\"4394\"},\"group\":null,\"hover_glyph\":null,\"muted_glyph\":{\"id\":\"4396\"},\"nonselection_glyph\":{\"id\":\"4395\"},\"view\":{\"id\":\"4398\"}},\"id\":\"4397\",\"type\":\"GlyphRenderer\"},{\"attributes\":{\"num_minor_ticks\":10},\"id\":\"4333\",\"type\":\"LogTicker\"},{\"attributes\":{\"bottom_units\":\"screen\",\"coordinates\":null,\"fill_alpha\":0.5,\"fill_color\":\"lightgrey\",\"group\":null,\"left_units\":\"screen\",\"level\":\"overlay\",\"line_alpha\":1.0,\"line_color\":\"black\",\"line_dash\":[4,4],\"line_width\":2,\"right_units\":\"screen\",\"syncable\":false,\"top_units\":\"screen\"},\"id\":\"4346\",\"type\":\"BoxAnnotation\"},{\"attributes\":{\"data\":{\"x\":{\"__ndarray__\":\"LUMc6+I2Gj9URZhOFT0sP+UoZDlLaz4//Knx0k1iUD9PKx9RLaZhP4+Z3gMPA3M/exSuR+F6hD8j9maluA+WP/M/1sTSw6c/mpmZmZmZuT8=\",\"dtype\":\"float64\",\"order\":\"little\",\"shape\":[10]},\"y\":{\"__ndarray__\":\"VMPYX1mLAz9YohRR1A0VPzsLa0wRriY/tjhjzvBuOD/c3N8mUFJKP1KVVdLQXFw/cFjJxSmUbj+hz7eqKHuAP00RyMGB2ZE/rvQZu05coz8=\",\"dtype\":\"float64\",\"order\":\"little\",\"shape\":[10]}},\"selected\":{\"id\":\"4369\"},\"selection_policy\":{\"id\":\"4368\"}},\"id\":\"4354\",\"type\":\"ColumnDataSource\"},{\"attributes\":{\"fill_alpha\":{\"value\":0.2},\"fill_color\":{\"value\":\"red\"},\"hatch_alpha\":{\"value\":0.2},\"hatch_color\":{\"value\":\"red\"},\"line_alpha\":{\"value\":0.2},\"line_color\":{\"value\":\"red\"},\"marker\":{\"value\":\"x\"},\"size\":{\"value\":8},\"x\":{\"field\":\"x\"},\"y\":{\"field\":\"y\"}},\"id\":\"4396\",\"type\":\"Scatter\"},{\"attributes\":{\"line_alpha\":0.1,\"line_color\":\"red\",\"x\":{\"field\":\"x\"},\"y\":{\"field\":\"y\"}},\"id\":\"4441\",\"type\":\"Line\"},{\"attributes\":{\"fill_color\":{\"value\":\"red\"},\"hatch_color\":{\"value\":\"red\"},\"line_color\":{\"value\":\"red\"},\"marker\":{\"value\":\"x\"},\"size\":{\"value\":8},\"x\":{\"field\":\"x\"},\"y\":{\"field\":\"y\"}},\"id\":\"4394\",\"type\":\"Scatter\"},{\"attributes\":{\"ticker\":null},\"id\":\"4366\",\"type\":\"LogTickFormatter\"},{\"attributes\":{},\"id\":\"4390\",\"type\":\"Selection\"},{\"attributes\":{\"overlay\":{\"id\":\"4346\"}},\"id\":\"4342\",\"type\":\"BoxZoomTool\"},{\"attributes\":{\"label\":{\"value\":\"order 2 slope\"},\"renderers\":[{\"id\":\"4443\"}]},\"id\":\"4464\",\"type\":\"LegendItem\"},{\"attributes\":{},\"id\":\"4343\",\"type\":\"SaveTool\"},{\"attributes\":{},\"id\":\"4364\",\"type\":\"AllLabels\"},{\"attributes\":{\"coordinates\":null,\"data_source\":{\"id\":\"4354\"},\"glyph\":{\"id\":\"4355\"},\"group\":null,\"hover_glyph\":null,\"muted_glyph\":{\"id\":\"4357\"},\"nonselection_glyph\":{\"id\":\"4356\"},\"view\":{\"id\":\"4359\"}},\"id\":\"4358\",\"type\":\"GlyphRenderer\"},{\"attributes\":{\"fill_alpha\":{\"value\":0.1},\"fill_color\":{\"value\":\"red\"},\"hatch_alpha\":{\"value\":0.1},\"hatch_color\":{\"value\":\"red\"},\"line_alpha\":{\"value\":0.1},\"line_color\":{\"value\":\"red\"},\"marker\":{\"value\":\"x\"},\"size\":{\"value\":8},\"x\":{\"field\":\"x\"},\"y\":{\"field\":\"y\"}},\"id\":\"4395\",\"type\":\"Scatter\"},{\"attributes\":{},\"id\":\"4368\",\"type\":\"UnionRenderers\"},{\"attributes\":{},\"id\":\"4345\",\"type\":\"HelpTool\"},{\"attributes\":{},\"id\":\"4462\",\"type\":\"Selection\"},{\"attributes\":{\"ticker\":null},\"id\":\"4363\",\"type\":\"LogTickFormatter\"},{\"attributes\":{\"fill_alpha\":{\"value\":0.2},\"fill_color\":{\"value\":\"navy\"},\"hatch_alpha\":{\"value\":0.2},\"hatch_color\":{\"value\":\"navy\"},\"line_alpha\":{\"value\":0.2},\"line_color\":{\"value\":\"navy\"},\"size\":{\"value\":8},\"x\":{\"field\":\"x\"},\"y\":{\"field\":\"y\"}},\"id\":\"4357\",\"type\":\"Circle\"},{\"attributes\":{\"source\":{\"id\":\"4415\"}},\"id\":\"4420\",\"type\":\"CDSView\"},{\"attributes\":{\"source\":{\"id\":\"4439\"}},\"id\":\"4444\",\"type\":\"CDSView\"},{\"attributes\":{},\"id\":\"4367\",\"type\":\"AllLabels\"},{\"attributes\":{},\"id\":\"4341\",\"type\":\"WheelZoomTool\"},{\"attributes\":{\"line_alpha\":0.2,\"line_color\":\"red\",\"x\":{\"field\":\"x\"},\"y\":{\"field\":\"y\"}},\"id\":\"4442\",\"type\":\"Line\"},{\"attributes\":{},\"id\":\"4436\",\"type\":\"Selection\"},{\"attributes\":{\"coordinates\":null,\"group\":null},\"id\":\"4360\",\"type\":\"Title\"},{\"attributes\":{\"line_alpha\":0.2,\"line_color\":\"#1f77b4\",\"x\":{\"field\":\"x\"},\"y\":{\"field\":\"y\"}},\"id\":\"4418\",\"type\":\"Line\"},{\"attributes\":{},\"id\":\"4326\",\"type\":\"DataRange1d\"},{\"attributes\":{\"data\":{\"x\":{\"__ndarray__\":\"LUMc6+I2Gj9URZhOFT0sP+UoZDlLaz4//Knx0k1iUD9PKx9RLaZhP4+Z3gMPA3M/exSuR+F6hD8j9maluA+WP/M/1sTSw6c/mpmZmZmZuT8=\",\"dtype\":\"float64\",\"order\":\"little\",\"shape\":[10]},\"y\":{\"__ndarray__\":\"Ooww4o55RT7ETdTiWetoPutvXMuU6ow+je21oPfGsD613DU53nfTPnA34D5El/Y+LUMc6+I2Gj/cKGQ5S2s+P08rH1EtpmE/fBSuR+F6hD8=\",\"dtype\":\"float64\",\"order\":\"little\",\"shape\":[10]}},\"selected\":{\"id\":\"4462\"},\"selection_policy\":{\"id\":\"4461\"}},\"id\":\"4439\",\"type\":\"ColumnDataSource\"},{\"attributes\":{\"data\":{\"x\":{\"__ndarray__\":\"LUMc6+I2Gj9URZhOFT0sP+UoZDlLaz4//Knx0k1iUD9PKx9RLaZhP4+Z3gMPA3M/exSuR+F6hD8j9maluA+WP/M/1sTSw6c/mpmZmZmZuT8=\",\"dtype\":\"float64\",\"order\":\"little\",\"shape\":[10]},\"y\":{\"__ndarray__\":\"LUMc6+I2Gj9URZhOFT0sP+UoZDlLaz4//Knx0k1iUD9PKx9RLaZhP4+Z3gMPA3M/exSuR+F6hD8j9maluA+WP/M/1sTSw6c/mpmZmZmZuT8=\",\"dtype\":\"float64\",\"order\":\"little\",\"shape\":[10]}},\"selected\":{\"id\":\"4436\"},\"selection_policy\":{\"id\":\"4435\"}},\"id\":\"4415\",\"type\":\"ColumnDataSource\"},{\"attributes\":{\"line_color\":\"red\",\"x\":{\"field\":\"x\"},\"y\":{\"field\":\"y\"}},\"id\":\"4440\",\"type\":\"Line\"},{\"attributes\":{\"label\":{\"value\":\"Heun method approximation\"},\"renderers\":[{\"id\":\"4397\"}]},\"id\":\"4414\",\"type\":\"LegendItem\"},{\"attributes\":{},\"id\":\"4435\",\"type\":\"UnionRenderers\"},{\"attributes\":{\"coordinates\":null,\"data_source\":{\"id\":\"4415\"},\"glyph\":{\"id\":\"4416\"},\"group\":null,\"hover_glyph\":null,\"muted_glyph\":{\"id\":\"4418\"},\"nonselection_glyph\":{\"id\":\"4417\"},\"view\":{\"id\":\"4420\"}},\"id\":\"4419\",\"type\":\"GlyphRenderer\"}],\"root_ids\":[\"4323\"]},\"title\":\"Bokeh Application\",\"version\":\"2.4.1\"}};\n",
       "  const render_items = [{\"docid\":\"89b9b25c-6ad3-4f77-93f1-f9887ef5e386\",\"root_ids\":[\"4323\"],\"roots\":{\"4323\":\"76ba5477-88f5-438c-9340-508d4ca90d30\"}}];\n",
       "  root.Bokeh.embed.embed_items_notebook(docs_json, render_items);\n",
       "\n",
       "  }\n",
       "  if (root.Bokeh !== undefined) {\n",
       "    embed_document(root);\n",
       "  } else {\n",
       "    let attempts = 0;\n",
       "    const timer = setInterval(function(root) {\n",
       "      if (root.Bokeh !== undefined) {\n",
       "        clearInterval(timer);\n",
       "        embed_document(root);\n",
       "      } else {\n",
       "        attempts++;\n",
       "        if (attempts > 100) {\n",
       "          clearInterval(timer);\n",
       "          console.log(\"Bokeh: ERROR: Unable to run BokehJS code because BokehJS library is missing\");\n",
       "        }\n",
       "      }\n",
       "    }, 10, root)\n",
       "  }\n",
       "})(window);"
      ],
      "application/vnd.bokehjs_exec.v0+json": ""
     },
     "metadata": {
      "application/vnd.bokehjs_exec.v0+json": {
       "id": "4323"
      }
     },
     "output_type": "display_data"
    }
   ],
   "source": [
    "t0 = 0.  #initial time\n",
    "tf = 4.0 #final time \n",
    "y0 = 1.  #initial condition\n",
    "\n",
    "nh         = 10                        #number of possible values for h\n",
    "n_mthd     = 3                         #number of methods to be tested\n",
    "h_values   = 10**np.linspace(-4,-1,nh) #values of h\n",
    "err_values = np.zeros((n_mthd,nh))     #error values for each method and each h\n",
    "ith=0                                  #index corresponding to the current h in h_value\n",
    "\n",
    "for h in h_values:\n",
    "    u_Elr  = Euler(f1, t0, tf, h, y0)\n",
    "    u_TS2  = TS2(f1, g1, t0, tf, h, y0)\n",
    "    u_Heun = Heun(f1, t0, tf, h, y0)\n",
    "    \n",
    "    nt = np.size(u_Elr)\n",
    "    t = t0+1.*h*np.arange(nt)\n",
    "    yexa = y1_exa(t)\n",
    "    err_values[0,ith] = np.linalg.norm(yexa-u_Elr)/np.sqrt(nt)\n",
    "    err_values[1,ith] = np.linalg.norm(yexa-u_TS2)/np.sqrt(nt)\n",
    "    err_values[2,ith] = np.linalg.norm(yexa-u_Heun)/np.sqrt(nt)\n",
    "    ith+=1\n",
    "\n",
    "fig3 = figure( x_axis_type=\"log\", y_axis_type=\"log\", width=980, height=400, x_axis_label='h', y_axis_label='GE')\n",
    "fig3.circle(h_values,err_values[0,:], color = 'navy', legend_label = 'Euler method approximation', size = 8)\n",
    "fig3.circle(h_values,err_values[1,:],fill_color = 'white', legend_label = 'TS2 method approximation', size = 8)\n",
    "fig3.x(h_values,err_values[2,:],color = 'red', legend_label = 'Heun method approximation', size = 8)\n",
    "\n",
    "fig3.line(h_values,h_values,legend_label = 'order 1 slope')\n",
    "fig3.line(h_values,h_values**2,color ='red' ,legend_label = 'order 2 slope')\n",
    "fig3.legend.location = \"bottom_right\"\n",
    "show(fig3)"
   ]
  },
  {
   "cell_type": "markdown",
   "metadata": {},
   "source": [
    "*Please write your answer here.*"
   ]
  },
  {
   "cell_type": "markdown",
   "metadata": {},
   "source": [
    "# Part II: Implicit methods"
   ]
  },
  {
   "cell_type": "markdown",
   "metadata": {},
   "source": [
    "In this part we will implement the implicit methods, that is we will implement the backward Euler method and the trapezoidal rule.\n",
    "\n",
    "One the main challenge in implementing implicit methods is that in general they require to solve a non linear equation. This step in itself can be the source of multiple mistakes or bugs in our implementation. Consequently it is always a good habit to start implementing such method on a particular simple case first before considering the general implementation.\n",
    "\n",
    "That is how we will proceed in this part. First we will implement the backward Euler method spefically for the model problem $f_1$, which is linear, and subsequently we will consider the general case."
   ]
  },
  {
   "cell_type": "markdown",
   "metadata": {},
   "source": [
    "### The specific case of the model problem "
   ]
  },
  {
   "cell_type": "markdown",
   "metadata": {},
   "source": [
    "**Q8. Derive the formulas for the backward Euler method and Trapezoidal rule specifically in the case of the model problem.**"
   ]
  },
  {
   "cell_type": "markdown",
   "metadata": {},
   "source": [
    "*Please write your answer here.*\n",
    "\n",
    "For the Backward Euler Method, the formula is \n",
    "\\begin{equation} \n",
    "    U_{n+1} = \\frac{1}{1 - h \\left( 1 - 2 t_{n+1} \\right)} U_{n} \n",
    "\\end{equation}\n",
    "\n",
    "For the Trapezoidal Method, the formula is \n",
    "\\begin{equation} \n",
    "    U_{n+1} = \\frac{1 + \\frac{h}{2} \\left( 1 - 2 t_{n} \\right)}{1 - \\frac{h}{2} \\left( 1 - 2 t_{n+1} \\right)} U_{n} \n",
    "\\end{equation} "
   ]
  },
  {
   "cell_type": "markdown",
   "metadata": {},
   "source": [
    "**Q9. Implement these problem-specific versions of the Backward Euler method and Trapezoidal rule.**"
   ]
  },
  {
   "cell_type": "code",
   "execution_count": 32,
   "metadata": {},
   "outputs": [],
   "source": [
    "def backEuler_1(t0, tf, h, y0): #Method specific to the IVP (1)\n",
    "    \n",
    "    nt = int(round((tf-t0)/h))+1 #number of column of the output array\n",
    "    u  = np.zeros((nt,))\n",
    "    \n",
    "    t  = [t0 + i*h for i in range(nt)] \n",
    "    for i in range(nt): \n",
    "        if (i == 0): \n",
    "            u[i] = f1(t0, y0) \n",
    "        else: \n",
    "            u[i] = (1 / (1 - h*(1 - 2*t[i]))) * u[i-1] \n",
    "        \n",
    "    return u"
   ]
  },
  {
   "cell_type": "code",
   "execution_count": 33,
   "metadata": {},
   "outputs": [],
   "source": [
    "def TR_1(t0, tf, h, y0): #Method specific to the IVP (1)\n",
    "    \n",
    "    nt = int(round((tf-t0)/h))+1 #number of column of the output array\n",
    "    u  = np.zeros((nt,))\n",
    "    \n",
    "    t  = [t0 + i*h for i in range(nt)] \n",
    "    for i in range(nt): \n",
    "        if (i == 0): \n",
    "            u[i] = f1(t0, y0) \n",
    "        else: \n",
    "            u[i] = ((1 + (h/2)*(1 - 2*t[i-1])) / (1 - (h/2)*(1 - 2*t[i]))) * u[i-1]\n",
    "    \n",
    "    return u"
   ]
  },
  {
   "cell_type": "markdown",
   "metadata": {},
   "source": [
    "**Q10. In the manner of Q6. and Q7. verify that your methods are correctly implemented and yield the expected order of convergence**"
   ]
  },
  {
   "cell_type": "code",
   "execution_count": 35,
   "metadata": {},
   "outputs": [
    {
     "data": {
      "text/html": [
       "\n",
       "\n",
       "\n",
       "\n",
       "\n",
       "\n",
       "  <div class=\"bk-root\" id=\"aebfe304-82fb-4383-b9d4-b18c6942447e\" data-root-id=\"5513\"></div>\n"
      ]
     },
     "metadata": {},
     "output_type": "display_data"
    },
    {
     "data": {
      "application/javascript": [
       "(function(root) {\n",
       "  function embed_document(root) {\n",
       "    \n",
       "  const docs_json = {\"772ccffb-8e1b-4165-9e5e-c42963d5f303\":{\"defs\":[],\"roots\":{\"references\":[{\"attributes\":{\"children\":[{\"id\":\"5351\"},{\"id\":\"5443\"}]},\"id\":\"5513\",\"type\":\"Column\"},{\"attributes\":{},\"id\":\"5439\",\"type\":\"UnionRenderers\"},{\"attributes\":{\"source\":{\"id\":\"5421\"}},\"id\":\"5426\",\"type\":\"CDSView\"},{\"attributes\":{\"label\":{\"value\":\"Trapezoidal method approximation\"},\"renderers\":[{\"id\":\"5497\"}]},\"id\":\"5512\",\"type\":\"LegendItem\"},{\"attributes\":{\"coordinates\":null,\"data_source\":{\"id\":\"5493\"},\"glyph\":{\"id\":\"5494\"},\"group\":null,\"hover_glyph\":null,\"muted_glyph\":{\"id\":\"5496\"},\"nonselection_glyph\":{\"id\":\"5495\"},\"view\":{\"id\":\"5498\"}},\"id\":\"5497\",\"type\":\"GlyphRenderer\"},{\"attributes\":{},\"id\":\"5448\",\"type\":\"LinearScale\"},{\"attributes\":{\"fill_alpha\":{\"value\":0.2},\"fill_color\":{\"value\":\"white\"},\"hatch_alpha\":{\"value\":0.2},\"line_alpha\":{\"value\":0.2},\"line_color\":{\"value\":\"#1f77b4\"},\"size\":{\"value\":8},\"x\":{\"field\":\"x\"},\"y\":{\"field\":\"y\"}},\"id\":\"5496\",\"type\":\"Circle\"},{\"attributes\":{\"source\":{\"id\":\"5401\"}},\"id\":\"5406\",\"type\":\"CDSView\"},{\"attributes\":{\"fill_alpha\":{\"value\":0.1},\"fill_color\":{\"value\":\"white\"},\"hatch_alpha\":{\"value\":0.1},\"line_alpha\":{\"value\":0.1},\"line_color\":{\"value\":\"#1f77b4\"},\"size\":{\"value\":8},\"x\":{\"field\":\"x\"},\"y\":{\"field\":\"y\"}},\"id\":\"5423\",\"type\":\"Circle\"},{\"attributes\":{\"fill_alpha\":{\"value\":0.1},\"fill_color\":{\"value\":\"white\"},\"hatch_alpha\":{\"value\":0.1},\"line_alpha\":{\"value\":0.1},\"line_color\":{\"value\":\"#1f77b4\"},\"size\":{\"value\":8},\"x\":{\"field\":\"x\"},\"y\":{\"field\":\"y\"}},\"id\":\"5495\",\"type\":\"Circle\"},{\"attributes\":{\"source\":{\"id\":\"5474\"}},\"id\":\"5479\",\"type\":\"CDSView\"},{\"attributes\":{\"source\":{\"id\":\"5493\"}},\"id\":\"5498\",\"type\":\"CDSView\"},{\"attributes\":{\"fill_color\":{\"value\":\"white\"},\"line_color\":{\"value\":\"#1f77b4\"},\"size\":{\"value\":8},\"x\":{\"field\":\"x\"},\"y\":{\"field\":\"y\"}},\"id\":\"5494\",\"type\":\"Circle\"},{\"attributes\":{},\"id\":\"5450\",\"type\":\"LinearScale\"},{\"attributes\":{},\"id\":\"5510\",\"type\":\"Selection\"},{\"attributes\":{\"end\":4.0},\"id\":\"5444\",\"type\":\"Range1d\"},{\"attributes\":{\"data\":{\"x\":{\"__ndarray__\":\"AAAAAAAAAACamZmZmZnJP5qZmZmZmdk/NDMzMzMz4z+amZmZmZnpPwAAAAAAAPA/NDMzMzMz8z9nZmZmZmb2P5qZmZmZmfk/zczMzMzM/D8AAAAAAAAAQJqZmZmZmQFANDMzMzMzA0DNzMzMzMwEQGdmZmZmZgZAAAAAAAAACECamZmZmZkJQDQzMzMzMwtAzczMzMzMDEBnZmZmZmYOQAAAAAAAABBA\",\"dtype\":\"float64\",\"order\":\"little\",\"shape\":[21]},\"y\":{\"__ndarray__\":\"AAAAAAAAAAAAFl2ooARrPwDC1lxokHY/AMLWXGiQdj8AFl2ooARrPwAAAAAAAAAAAI6sqh9QZz8A4Od5oBRxPwDECoF/b28/APxfdfRJZD8AyrcOY9ZOPwASTsp3jyY/AFSXYqyNRj+gmTgsIFBIP4DGTd/CnkI/aDG/h38eNz9UE45/2VwoPxpcdc2zQRY/TKp17FDTAT+tggWMFjHpPuV+ZoYgiM8+\",\"dtype\":\"float64\",\"order\":\"little\",\"shape\":[21]}},\"selected\":{\"id\":\"5510\"},\"selection_policy\":{\"id\":\"5509\"}},\"id\":\"5493\",\"type\":\"ColumnDataSource\"},{\"attributes\":{},\"id\":\"5446\",\"type\":\"DataRange1d\"},{\"attributes\":{},\"id\":\"5486\",\"type\":\"BasicTickFormatter\"},{\"attributes\":{\"axis_label\":\"t\",\"coordinates\":null,\"formatter\":{\"id\":\"5486\"},\"group\":null,\"major_label_policy\":{\"id\":\"5487\"},\"ticker\":{\"id\":\"5453\"}},\"id\":\"5452\",\"type\":\"LinearAxis\"},{\"attributes\":{},\"id\":\"5509\",\"type\":\"UnionRenderers\"},{\"attributes\":{},\"id\":\"5453\",\"type\":\"BasicTicker\"},{\"attributes\":{\"axis\":{\"id\":\"5452\"},\"coordinates\":null,\"group\":null,\"ticker\":null},\"id\":\"5455\",\"type\":\"Grid\"},{\"attributes\":{},\"id\":\"5461\",\"type\":\"WheelZoomTool\"},{\"attributes\":{},\"id\":\"5487\",\"type\":\"AllLabels\"},{\"attributes\":{\"axis_label\":\"GE\",\"coordinates\":null,\"formatter\":{\"id\":\"5483\"},\"group\":null,\"major_label_policy\":{\"id\":\"5484\"},\"ticker\":{\"id\":\"5457\"}},\"id\":\"5456\",\"type\":\"LinearAxis\"},{\"attributes\":{\"axis\":{\"id\":\"5456\"},\"coordinates\":null,\"dimension\":1,\"group\":null,\"ticker\":null},\"id\":\"5459\",\"type\":\"Grid\"},{\"attributes\":{},\"id\":\"5457\",\"type\":\"BasicTicker\"},{\"attributes\":{},\"id\":\"5465\",\"type\":\"HelpTool\"},{\"attributes\":{},\"id\":\"5460\",\"type\":\"PanTool\"},{\"attributes\":{\"overlay\":{\"id\":\"5466\"}},\"id\":\"5462\",\"type\":\"BoxZoomTool\"},{\"attributes\":{},\"id\":\"5463\",\"type\":\"SaveTool\"},{\"attributes\":{},\"id\":\"5464\",\"type\":\"ResetTool\"},{\"attributes\":{},\"id\":\"5488\",\"type\":\"UnionRenderers\"},{\"attributes\":{},\"id\":\"5489\",\"type\":\"Selection\"},{\"attributes\":{\"bottom_units\":\"screen\",\"coordinates\":null,\"fill_alpha\":0.5,\"fill_color\":\"lightgrey\",\"group\":null,\"left_units\":\"screen\",\"level\":\"overlay\",\"line_alpha\":1.0,\"line_color\":\"black\",\"line_dash\":[4,4],\"line_width\":2,\"right_units\":\"screen\",\"syncable\":false,\"top_units\":\"screen\"},\"id\":\"5466\",\"type\":\"BoxAnnotation\"},{\"attributes\":{\"coordinates\":null,\"data_source\":{\"id\":\"5474\"},\"glyph\":{\"id\":\"5475\"},\"group\":null,\"hover_glyph\":null,\"muted_glyph\":{\"id\":\"5477\"},\"nonselection_glyph\":{\"id\":\"5476\"},\"view\":{\"id\":\"5479\"}},\"id\":\"5478\",\"type\":\"GlyphRenderer\"},{\"attributes\":{},\"id\":\"5361\",\"type\":\"BasicTicker\"},{\"attributes\":{},\"id\":\"5354\",\"type\":\"DataRange1d\"},{\"attributes\":{\"line_alpha\":0.2,\"line_color\":\"#1f77b4\",\"x\":{\"field\":\"x\"},\"y\":{\"field\":\"y\"}},\"id\":\"5385\",\"type\":\"Line\"},{\"attributes\":{\"label\":{\"value\":\"Backward Euler method approximation\"},\"renderers\":[{\"id\":\"5478\"}]},\"id\":\"5492\",\"type\":\"LegendItem\"},{\"attributes\":{\"coordinates\":null,\"group\":null,\"items\":[{\"id\":\"5400\"},{\"id\":\"5420\"},{\"id\":\"5442\"}]},\"id\":\"5399\",\"type\":\"Legend\"},{\"attributes\":{\"coordinates\":null,\"group\":null,\"items\":[{\"id\":\"5492\"},{\"id\":\"5512\"}]},\"id\":\"5491\",\"type\":\"Legend\"},{\"attributes\":{\"line_alpha\":0.1,\"line_color\":\"#1f77b4\",\"x\":{\"field\":\"x\"},\"y\":{\"field\":\"y\"}},\"id\":\"5384\",\"type\":\"Line\"},{\"attributes\":{},\"id\":\"5483\",\"type\":\"BasicTickFormatter\"},{\"attributes\":{},\"id\":\"5484\",\"type\":\"AllLabels\"},{\"attributes\":{\"fill_alpha\":{\"value\":0.1},\"fill_color\":{\"value\":\"navy\"},\"hatch_alpha\":{\"value\":0.1},\"hatch_color\":{\"value\":\"navy\"},\"line_alpha\":{\"value\":0.1},\"line_color\":{\"value\":\"navy\"},\"size\":{\"value\":8},\"x\":{\"field\":\"x\"},\"y\":{\"field\":\"y\"}},\"id\":\"5476\",\"type\":\"Circle\"},{\"attributes\":{\"line_color\":\"#1f77b4\",\"x\":{\"field\":\"x\"},\"y\":{\"field\":\"y\"}},\"id\":\"5383\",\"type\":\"Line\"},{\"attributes\":{},\"id\":\"5358\",\"type\":\"LinearScale\"},{\"attributes\":{\"tools\":[{\"id\":\"5460\"},{\"id\":\"5461\"},{\"id\":\"5462\"},{\"id\":\"5463\"},{\"id\":\"5464\"},{\"id\":\"5465\"}]},\"id\":\"5467\",\"type\":\"Toolbar\"},{\"attributes\":{\"source\":{\"id\":\"5382\"}},\"id\":\"5387\",\"type\":\"CDSView\"},{\"attributes\":{\"fill_color\":{\"value\":\"navy\"},\"hatch_color\":{\"value\":\"navy\"},\"line_color\":{\"value\":\"navy\"},\"size\":{\"value\":8},\"x\":{\"field\":\"x\"},\"y\":{\"field\":\"y\"}},\"id\":\"5402\",\"type\":\"Circle\"},{\"attributes\":{},\"id\":\"5394\",\"type\":\"BasicTickFormatter\"},{\"attributes\":{\"end\":4.0},\"id\":\"5352\",\"type\":\"Range1d\"},{\"attributes\":{\"coordinates\":null,\"group\":null},\"id\":\"5480\",\"type\":\"Title\"},{\"attributes\":{},\"id\":\"5391\",\"type\":\"BasicTickFormatter\"},{\"attributes\":{\"below\":[{\"id\":\"5360\"}],\"center\":[{\"id\":\"5363\"},{\"id\":\"5367\"},{\"id\":\"5399\"}],\"height\":400,\"left\":[{\"id\":\"5364\"}],\"renderers\":[{\"id\":\"5386\"},{\"id\":\"5405\"},{\"id\":\"5425\"}],\"title\":{\"id\":\"5388\"},\"toolbar\":{\"id\":\"5375\"},\"width\":980,\"x_range\":{\"id\":\"5352\"},\"x_scale\":{\"id\":\"5356\"},\"y_range\":{\"id\":\"5354\"},\"y_scale\":{\"id\":\"5358\"}},\"id\":\"5351\",\"subtype\":\"Figure\",\"type\":\"Plot\"},{\"attributes\":{\"fill_color\":{\"value\":\"white\"},\"line_color\":{\"value\":\"#1f77b4\"},\"size\":{\"value\":8},\"x\":{\"field\":\"x\"},\"y\":{\"field\":\"y\"}},\"id\":\"5422\",\"type\":\"Circle\"},{\"attributes\":{\"coordinates\":null,\"data_source\":{\"id\":\"5401\"},\"glyph\":{\"id\":\"5402\"},\"group\":null,\"hover_glyph\":null,\"muted_glyph\":{\"id\":\"5404\"},\"nonselection_glyph\":{\"id\":\"5403\"},\"view\":{\"id\":\"5406\"}},\"id\":\"5405\",\"type\":\"GlyphRenderer\"},{\"attributes\":{\"fill_alpha\":{\"value\":0.2},\"fill_color\":{\"value\":\"navy\"},\"hatch_alpha\":{\"value\":0.2},\"hatch_color\":{\"value\":\"navy\"},\"line_alpha\":{\"value\":0.2},\"line_color\":{\"value\":\"navy\"},\"size\":{\"value\":8},\"x\":{\"field\":\"x\"},\"y\":{\"field\":\"y\"}},\"id\":\"5404\",\"type\":\"Circle\"},{\"attributes\":{},\"id\":\"5395\",\"type\":\"AllLabels\"},{\"attributes\":{\"fill_alpha\":{\"value\":0.2},\"fill_color\":{\"value\":\"white\"},\"hatch_alpha\":{\"value\":0.2},\"line_alpha\":{\"value\":0.2},\"line_color\":{\"value\":\"#1f77b4\"},\"size\":{\"value\":8},\"x\":{\"field\":\"x\"},\"y\":{\"field\":\"y\"}},\"id\":\"5424\",\"type\":\"Circle\"},{\"attributes\":{},\"id\":\"5392\",\"type\":\"AllLabels\"},{\"attributes\":{\"label\":{\"value\":\"Exact solution\"},\"renderers\":[{\"id\":\"5386\"}]},\"id\":\"5400\",\"type\":\"LegendItem\"},{\"attributes\":{\"below\":[{\"id\":\"5452\"}],\"center\":[{\"id\":\"5455\"},{\"id\":\"5459\"},{\"id\":\"5491\"}],\"height\":400,\"left\":[{\"id\":\"5456\"}],\"renderers\":[{\"id\":\"5478\"},{\"id\":\"5497\"}],\"title\":{\"id\":\"5480\"},\"toolbar\":{\"id\":\"5467\"},\"width\":980,\"x_range\":{\"id\":\"5444\"},\"x_scale\":{\"id\":\"5448\"},\"y_range\":{\"id\":\"5446\"},\"y_scale\":{\"id\":\"5450\"}},\"id\":\"5443\",\"subtype\":\"Figure\",\"type\":\"Plot\"},{\"attributes\":{},\"id\":\"5368\",\"type\":\"PanTool\"},{\"attributes\":{},\"id\":\"5369\",\"type\":\"WheelZoomTool\"},{\"attributes\":{},\"id\":\"5440\",\"type\":\"Selection\"},{\"attributes\":{\"data\":{\"x\":{\"__ndarray__\":\"AAAAAAAAAACamZmZmZnJP5qZmZmZmdk/NDMzMzMz4z+amZmZmZnpPwAAAAAAAPA/NDMzMzMz8z9nZmZmZmb2P5qZmZmZmfk/zczMzMzM/D8AAAAAAAAAQJqZmZmZmQFANDMzMzMzA0DNzMzMzMwEQGdmZmZmZgZAAAAAAAAACECamZmZmZkJQDQzMzMzMwtAzczMzMzMDEBnZmZmZmYOQAAAAAAAABBA\",\"dtype\":\"float64\",\"order\":\"little\",\"shape\":[21]},\"y\":{\"__ndarray__\":\"AAAAAAAA8D8vuuiiiy7yP/HBBx988PI/j3WHMQE28j8/O8sQgULwP2kNqMaBGes/ekozY+0r5T/CqYc3eyLfP47gyHQOn9U/XV3tEvhyzD9aWtQL28fBP8B3pzLgKrU/QsKPOdANqD8belmBRiWaPzDfZ3EpPIs/MN9ncSk8ez9y4ON2ADBqPwBx77loP1g/Ce7eXFSmRT+4sqXL3qkyP90pFP4dGx8/\",\"dtype\":\"float64\",\"order\":\"little\",\"shape\":[21]}},\"selected\":{\"id\":\"5418\"},\"selection_policy\":{\"id\":\"5417\"}},\"id\":\"5401\",\"type\":\"ColumnDataSource\"},{\"attributes\":{},\"id\":\"5373\",\"type\":\"HelpTool\"},{\"attributes\":{\"fill_alpha\":{\"value\":0.2},\"fill_color\":{\"value\":\"navy\"},\"hatch_alpha\":{\"value\":0.2},\"hatch_color\":{\"value\":\"navy\"},\"line_alpha\":{\"value\":0.2},\"line_color\":{\"value\":\"navy\"},\"size\":{\"value\":8},\"x\":{\"field\":\"x\"},\"y\":{\"field\":\"y\"}},\"id\":\"5477\",\"type\":\"Circle\"},{\"attributes\":{\"coordinates\":null,\"data_source\":{\"id\":\"5382\"},\"glyph\":{\"id\":\"5383\"},\"group\":null,\"hover_glyph\":null,\"muted_glyph\":{\"id\":\"5385\"},\"nonselection_glyph\":{\"id\":\"5384\"},\"view\":{\"id\":\"5387\"}},\"id\":\"5386\",\"type\":\"GlyphRenderer\"},{\"attributes\":{\"data\":{\"x\":{\"__ndarray__\":\"AAAAAAAAAACamZmZmZnJP5qZmZmZmdk/NDMzMzMz4z+amZmZmZnpPwAAAAAAAPA/NDMzMzMz8z9nZmZmZmb2P5qZmZmZmfk/zczMzMzM/D8AAAAAAAAAQJqZmZmZmQFANDMzMzMzA0DNzMzMzMwEQGdmZmZmZgZAAAAAAAAACECamZmZmZkJQDQzMzMzMwtAzczMzMzMDEBnZmZmZmYOQAAAAAAAABBA\",\"dtype\":\"float64\",\"order\":\"little\",\"shape\":[21]},\"y\":{\"__ndarray__\":\"AAAAAAAAAAAAzbpb9gSjP5CfNqXTaLY/2LKdPkEIwT/AqtonkiHEP1zKX+X4mcM/tHTmN4MAwD+4KUr61LC1P5Cs/acVEqc/QFuZSeAKjj+AIzYFGkxtPzDpqh0mMYc//KHCXPkTiT8oSQEMslOEP92r200b9Hs/xfTdeAAVcT87eRCZoQJjP5/tLVFqkFM/QXIGzxHUQj/dPORnPRgxPxTuXzrJfh0/\",\"dtype\":\"float64\",\"order\":\"little\",\"shape\":[21]}},\"selected\":{\"id\":\"5489\"},\"selection_policy\":{\"id\":\"5488\"}},\"id\":\"5474\",\"type\":\"ColumnDataSource\"},{\"attributes\":{},\"id\":\"5356\",\"type\":\"LinearScale\"},{\"attributes\":{\"overlay\":{\"id\":\"5374\"}},\"id\":\"5370\",\"type\":\"BoxZoomTool\"},{\"attributes\":{\"data\":{\"x\":{\"__ndarray__\":\"AAAAAAAAAABbv1Kg1q+kP1u/UqDWr7Q/CB988MEHvz9bv1Kg1q/EPzJvZ0jM28k/CB988MEHzz9wZ0jM2xnSP1u/UqDWr9Q/RhdddNFF1z8yb2dIzNvZPx3HcRzHcdw/CB988MEH3z96O0Ni3s7gP3BnSMzbGeI/ZZNNNtlk4z9bv1Kg1q/kP1HrVwrU+uU/RhdddNFF5z88Q2LezpDoPzJvZ0jM2+k/J5tssskm6z8dx3Ecx3HsPxPzdobEvO0/CB988MEH7z9/pUCtXynwP3o7Q2LezvA/ddFFF1108T9wZ0jM2xnyP2r9SoFav/I/ZZNNNtlk8z9gKVDrVwr0P1u/UqDWr/Q/VlVVVVVV9T9R61cK1Pr1P0yBWr9SoPY/RhdddNFF9z9BrV8pUOv3PzxDYt7OkPg/N9lkk002+T8yb2dIzNv5Py0Fav1Kgfo/J5tssskm+z8iMW9nSMz7Px3HcRzHcfw/GF100UUX/T8T83aGxLz9Pw6JeTtDYv4/CB988MEH/z8DtX6lQK3/P3+lQK1fKQBAffDBBx98AEB6O0Ni3s4AQHeGxLydIQFAddFFF110AUByHMdxHMcBQHBnSMzbGQJAbbLJJptsAkBq/UqBWr8CQGhIzNsZEgNAZZNNNtlkA0Bj3s6QmLcDQGApUOtXCgRAXnTRRRddBEBbv1Kg1q8EQFgK1PqVAgVAVlVVVVVVBUBToNavFKgFQFHrVwrU+gVATjbZZJNNBkBMgVq/UqAGQEnM2xkS8wZARhdddNFFB0BEYt7OkJgHQEGtXylQ6wdAP/jggw8+CEA8Q2LezpAIQDmO4ziO4whAN9lkk002CUA0JObtDIkJQDJvZ0jM2wlAL7rooosuCkAtBWr9SoEKQCpQ61cK1ApAJ5tssskmC0Al5u0MiXkLQCIxb2dIzAtAIHzwwQcfDEAdx3Ecx3EMQBsS83aGxAxAGF100UUXDUAVqPUrBWoNQBPzdobEvA1AED744IMPDkAOiXk7Q2IOQAvU+pUCtQ5ACB988MEHD0AGav1KgVoPQAO1fqVArQ9AAAAAAAAAEEA=\",\"dtype\":\"float64\",\"order\":\"little\",\"shape\":[100]},\"y\":{\"__ndarray__\":\"AAAAAAAA8D+4vlJV7aHwP0jjy9zTO/E/lfw+02PM8T8nsMWrWVLyP61Uu76CzPI/34lz1sE58z8S3JiBE5nzP32kzhOS6fM/qriBPnkq9D+bGcAtKVv0PyJobRcpe/Q/IzEoLimK9D+Gc57sA4j0P3eQzbG+dPQ/o6+fqolQ9D9jEGkJvxv0PzVf1I/h1vM/9rC3c5qC8z99Lfeqth/zP7Tr660jr/I/Qmelwusx8j8ppbblManxP26GBmctFvE/RvRCUiV68D9MqTd216zvPxl5mwqyWO4/ZuuVf4767D/XmgxSG5XrP09YKuH4Kuo/c1FAkLG+6D8a6f+lslLnP4KxDgJG6eU/WpXku4yE5D/si6y3eibjPyWSsTfT0OE/uGjoaiaF4D9wjxXnn4neP+6uObfsIdw/Iwts0RbV2T+nMjB5mqTXPxD+IVqQkdU//KO4drKc0z/1THMjYsbRP7FRXNquDtA/rvt/ZbvqzD/M2F+U4vPJPxfimtxjN8c/JXdetGuzxD+vq7C80mXCP+mE3p0tTMA/6AUJZLjHvD9FKeqTL1S5Pyrk/8YAOLY/7X5IZVFtsz8yQYTSQe6wPzyC3MgAaq0/fd4edbN3qT97174CjfqlP1crXm7t56I/zz3RJ7U1oD8IfSf0pLSbP4/PyNWVmZc/tfA384EJlD+ARglT7fSQP67+exU1m4w/dDVGIQsNiD85tLpStSeEP7m+BW3U1YA/Y7L5dGgIfD86o/qtVUN3P9gJsEHrPXM/JAPRU1O6bz9tIPPXmhJqPzE4FeoLW2U/iLa+b1xvYT8giU8AIGBcP8hWudLqA1c/+0/XP1ibUj9WwT0nyfxNP4ndnRvvFUg/E8WYXUlIQz/ta2BU9sU+PxKChKfXeTg/gyz5Y2BnMz8BWQkBT6ouP8X1gAD9Jig/UNIJN+r1Ij/2Cp8VOqwdP21IGRuOJBc/mvzDEbP9ET/H5PzAheELP5kJYCuJiAU/U8mwAKGTAD/1sjywUHD5Pp9Hf8SkdPM+NU2F5pip7T4V4jn9z4nmPgzXD07DEeE+i7xDO0zF2T4=\",\"dtype\":\"float64\",\"order\":\"little\",\"shape\":[100]}},\"selected\":{\"id\":\"5397\"},\"selection_policy\":{\"id\":\"5396\"}},\"id\":\"5382\",\"type\":\"ColumnDataSource\"},{\"attributes\":{},\"id\":\"5371\",\"type\":\"SaveTool\"},{\"attributes\":{\"coordinates\":null,\"group\":null},\"id\":\"5388\",\"type\":\"Title\"},{\"attributes\":{\"axis\":{\"id\":\"5360\"},\"coordinates\":null,\"group\":null,\"ticker\":null},\"id\":\"5363\",\"type\":\"Grid\"},{\"attributes\":{},\"id\":\"5372\",\"type\":\"ResetTool\"},{\"attributes\":{\"label\":{\"value\":\"Trapezoidal method approximation\"},\"renderers\":[{\"id\":\"5425\"}]},\"id\":\"5442\",\"type\":\"LegendItem\"},{\"attributes\":{\"axis_label\":\"x(t)\",\"coordinates\":null,\"formatter\":{\"id\":\"5391\"},\"group\":null,\"major_label_policy\":{\"id\":\"5392\"},\"ticker\":{\"id\":\"5365\"}},\"id\":\"5364\",\"type\":\"LinearAxis\"},{\"attributes\":{\"axis_label\":\"t\",\"coordinates\":null,\"formatter\":{\"id\":\"5394\"},\"group\":null,\"major_label_policy\":{\"id\":\"5395\"},\"ticker\":{\"id\":\"5361\"}},\"id\":\"5360\",\"type\":\"LinearAxis\"},{\"attributes\":{\"axis\":{\"id\":\"5364\"},\"coordinates\":null,\"dimension\":1,\"group\":null,\"ticker\":null},\"id\":\"5367\",\"type\":\"Grid\"},{\"attributes\":{},\"id\":\"5365\",\"type\":\"BasicTicker\"},{\"attributes\":{\"coordinates\":null,\"data_source\":{\"id\":\"5421\"},\"glyph\":{\"id\":\"5422\"},\"group\":null,\"hover_glyph\":null,\"muted_glyph\":{\"id\":\"5424\"},\"nonselection_glyph\":{\"id\":\"5423\"},\"view\":{\"id\":\"5426\"}},\"id\":\"5425\",\"type\":\"GlyphRenderer\"},{\"attributes\":{\"fill_color\":{\"value\":\"navy\"},\"hatch_color\":{\"value\":\"navy\"},\"line_color\":{\"value\":\"navy\"},\"size\":{\"value\":8},\"x\":{\"field\":\"x\"},\"y\":{\"field\":\"y\"}},\"id\":\"5475\",\"type\":\"Circle\"},{\"attributes\":{},\"id\":\"5418\",\"type\":\"Selection\"},{\"attributes\":{\"label\":{\"value\":\"Backward Euler method approximation\"},\"renderers\":[{\"id\":\"5405\"}]},\"id\":\"5420\",\"type\":\"LegendItem\"},{\"attributes\":{\"fill_alpha\":{\"value\":0.1},\"fill_color\":{\"value\":\"navy\"},\"hatch_alpha\":{\"value\":0.1},\"hatch_color\":{\"value\":\"navy\"},\"line_alpha\":{\"value\":0.1},\"line_color\":{\"value\":\"navy\"},\"size\":{\"value\":8},\"x\":{\"field\":\"x\"},\"y\":{\"field\":\"y\"}},\"id\":\"5403\",\"type\":\"Circle\"},{\"attributes\":{},\"id\":\"5397\",\"type\":\"Selection\"},{\"attributes\":{},\"id\":\"5396\",\"type\":\"UnionRenderers\"},{\"attributes\":{},\"id\":\"5417\",\"type\":\"UnionRenderers\"},{\"attributes\":{\"tools\":[{\"id\":\"5368\"},{\"id\":\"5369\"},{\"id\":\"5370\"},{\"id\":\"5371\"},{\"id\":\"5372\"},{\"id\":\"5373\"}]},\"id\":\"5375\",\"type\":\"Toolbar\"},{\"attributes\":{\"data\":{\"x\":{\"__ndarray__\":\"AAAAAAAAAACamZmZmZnJP5qZmZmZmdk/NDMzMzMz4z+amZmZmZnpPwAAAAAAAPA/NDMzMzMz8z9nZmZmZmb2P5qZmZmZmfk/zczMzMzM/D8AAAAAAAAAQJqZmZmZmQFANDMzMzMzA0DNzMzMzMwEQGdmZmZmZgZAAAAAAAAACECamZmZmZkJQDQzMzMzMwtAzczMzMzMDEBnZmZmZmYOQAAAAAAAABBA\",\"dtype\":\"float64\",\"order\":\"little\",\"shape\":[21]},\"y\":{\"__ndarray__\":\"AAAAAAAA8D8MYnIFMbnyPyhV/vB4QPQ/KFX+8HhA9D8MYnIFMbnyPwAAAAAAAPA/NZTXUF5D6T/Y6QB8gWniP6iryigwwNg/AXNc6c2kzj+WOc4GgXHBP5HzDLNzObI/c7zUMJtuoT90Ie7z2HGOP7NZCjlfMHg/qe4bAIJqYT8HGGoXRZ5GP/1sUV8ZVyo/NBIS8ddQCz/BOCnsFQPpPjH6IPB3AsQ+\",\"dtype\":\"float64\",\"order\":\"little\",\"shape\":[21]}},\"selected\":{\"id\":\"5440\"},\"selection_policy\":{\"id\":\"5439\"}},\"id\":\"5421\",\"type\":\"ColumnDataSource\"},{\"attributes\":{\"bottom_units\":\"screen\",\"coordinates\":null,\"fill_alpha\":0.5,\"fill_color\":\"lightgrey\",\"group\":null,\"left_units\":\"screen\",\"level\":\"overlay\",\"line_alpha\":1.0,\"line_color\":\"black\",\"line_dash\":[4,4],\"line_width\":2,\"right_units\":\"screen\",\"syncable\":false,\"top_units\":\"screen\"},\"id\":\"5374\",\"type\":\"BoxAnnotation\"}],\"root_ids\":[\"5513\"]},\"title\":\"Bokeh Application\",\"version\":\"2.4.1\"}};\n",
       "  const render_items = [{\"docid\":\"772ccffb-8e1b-4165-9e5e-c42963d5f303\",\"root_ids\":[\"5513\"],\"roots\":{\"5513\":\"aebfe304-82fb-4383-b9d4-b18c6942447e\"}}];\n",
       "  root.Bokeh.embed.embed_items_notebook(docs_json, render_items);\n",
       "\n",
       "  }\n",
       "  if (root.Bokeh !== undefined) {\n",
       "    embed_document(root);\n",
       "  } else {\n",
       "    let attempts = 0;\n",
       "    const timer = setInterval(function(root) {\n",
       "      if (root.Bokeh !== undefined) {\n",
       "        clearInterval(timer);\n",
       "        embed_document(root);\n",
       "      } else {\n",
       "        attempts++;\n",
       "        if (attempts > 100) {\n",
       "          clearInterval(timer);\n",
       "          console.log(\"Bokeh: ERROR: Unable to run BokehJS code because BokehJS library is missing\");\n",
       "        }\n",
       "      }\n",
       "    }, 10, root)\n",
       "  }\n",
       "})(window);"
      ],
      "application/vnd.bokehjs_exec.v0+json": ""
     },
     "metadata": {
      "application/vnd.bokehjs_exec.v0+json": {
       "id": "5513"
      }
     },
     "output_type": "display_data"
    }
   ],
   "source": [
    "t0 = 0.  #initial time\n",
    "tf = 4.0 #final time\n",
    "h  = 0.2 #time step\n",
    "y0 = 1.  #starting point\n",
    "\n",
    "u_BEM = backEuler_1(t0, tf, h, y0) \n",
    "u_TR  = TR_1(t0, tf, h, y0) \n",
    "\n",
    "nt = np.size(u_BEM) \n",
    "t  = t0+1.*h*np.arange(nt)\n",
    "\n",
    "N = 100 # number of points for the exact solution\n",
    "texa = np.linspace(t0,tf,N)\n",
    "yexa1 = y1_exa(texa)\n",
    "\n",
    "fig1 = figure(x_range=(t0, tf), width=980, height=400, x_axis_label='t', y_axis_label='x(t)')\n",
    "fig1.line(texa,yexa1,legend_label = 'Exact solution')\n",
    "fig1.circle(t,u_BEM, color = 'navy', legend_label = 'Backward Euler method approximation', size = 8)\n",
    "fig1.circle(t,u_TR,fill_color = 'white', legend_label = 'Trapezoidal method approximation', size = 8)\n",
    "\n",
    "yexa2 = y1_exa(t)\n",
    "fig2 = figure(x_range=(t0, tf), width=980, height=400, x_axis_label='t', y_axis_label='GE')\n",
    "fig2.circle(t,abs(yexa2-u_BEM), color = 'navy', legend_label = 'Backward Euler method approximation', size = 8)\n",
    "fig2.circle(t,abs(yexa2-u_TR),fill_color = 'white', legend_label = 'Trapezoidal method approximation', size = 8)\n",
    "\n",
    "show(column(fig1,fig2))"
   ]
  },
  {
   "cell_type": "code",
   "execution_count": 37,
   "metadata": {},
   "outputs": [
    {
     "data": {
      "text/html": [
       "\n",
       "\n",
       "\n",
       "\n",
       "\n",
       "\n",
       "  <div class=\"bk-root\" id=\"8139d9f8-9237-4174-b9a2-eddd0ee4d656\" data-root-id=\"6444\"></div>\n"
      ]
     },
     "metadata": {},
     "output_type": "display_data"
    },
    {
     "data": {
      "application/javascript": [
       "(function(root) {\n",
       "  function embed_document(root) {\n",
       "    \n",
       "  const docs_json = {\"d07f9475-292f-4f16-a2b8-8ecfcd86c372\":{\"defs\":[],\"roots\":{\"references\":[{\"attributes\":{\"below\":[{\"id\":\"6453\"}],\"center\":[{\"id\":\"6456\"},{\"id\":\"6460\"},{\"id\":\"6492\"}],\"height\":400,\"left\":[{\"id\":\"6457\"}],\"renderers\":[{\"id\":\"6479\"},{\"id\":\"6498\"},{\"id\":\"6518\"},{\"id\":\"6540\"}],\"title\":{\"id\":\"6481\"},\"toolbar\":{\"id\":\"6468\"},\"width\":980,\"x_range\":{\"id\":\"6445\"},\"x_scale\":{\"id\":\"6449\"},\"y_range\":{\"id\":\"6447\"},\"y_scale\":{\"id\":\"6451\"}},\"id\":\"6444\",\"subtype\":\"Figure\",\"type\":\"Plot\"},{\"attributes\":{\"line_alpha\":0.1,\"line_color\":\"red\",\"x\":{\"field\":\"x\"},\"y\":{\"field\":\"y\"}},\"id\":\"6538\",\"type\":\"Line\"},{\"attributes\":{\"tools\":[{\"id\":\"6461\"},{\"id\":\"6462\"},{\"id\":\"6463\"},{\"id\":\"6464\"},{\"id\":\"6465\"},{\"id\":\"6466\"}]},\"id\":\"6468\",\"type\":\"Toolbar\"},{\"attributes\":{\"data\":{\"x\":{\"__ndarray__\":\"LUMc6+I2Gj9URZhOFT0sP+UoZDlLaz4//Knx0k1iUD9PKx9RLaZhP4+Z3gMPA3M/exSuR+F6hD8j9maluA+WP/M/1sTSw6c/mpmZmZmZuT8=\",\"dtype\":\"float64\",\"order\":\"little\",\"shape\":[10]},\"y\":{\"__ndarray__\":\"QYvz12cNBj5Hyx6B3ZYpPsy0jv0usU0+eEVDs/c5cT4XuYCxEvyTPkWt+LihLrc+1Vn3Pczi2j4xBIoQ9h//PjwqPFErCSI/RSe0N87CRD8=\",\"dtype\":\"float64\",\"order\":\"little\",\"shape\":[10]}},\"selected\":{\"id\":\"6511\"},\"selection_policy\":{\"id\":\"6510\"}},\"id\":\"6494\",\"type\":\"ColumnDataSource\"},{\"attributes\":{\"line_color\":\"#1f77b4\",\"x\":{\"field\":\"x\"},\"y\":{\"field\":\"y\"}},\"id\":\"6515\",\"type\":\"Line\"},{\"attributes\":{\"source\":{\"id\":\"6514\"}},\"id\":\"6519\",\"type\":\"CDSView\"},{\"attributes\":{\"axis_label\":\"h\",\"coordinates\":null,\"formatter\":{\"id\":\"6487\"},\"group\":null,\"major_label_policy\":{\"id\":\"6488\"},\"ticker\":{\"id\":\"6454\"}},\"id\":\"6453\",\"type\":\"LogAxis\"},{\"attributes\":{\"line_alpha\":0.2,\"line_color\":\"#1f77b4\",\"x\":{\"field\":\"x\"},\"y\":{\"field\":\"y\"}},\"id\":\"6517\",\"type\":\"Line\"},{\"attributes\":{\"axis_label\":\"GE\",\"coordinates\":null,\"formatter\":{\"id\":\"6484\"},\"group\":null,\"major_label_policy\":{\"id\":\"6485\"},\"ticker\":{\"id\":\"6458\"}},\"id\":\"6457\",\"type\":\"LogAxis\"},{\"attributes\":{\"data\":{\"x\":{\"__ndarray__\":\"LUMc6+I2Gj9URZhOFT0sP+UoZDlLaz4//Knx0k1iUD9PKx9RLaZhP4+Z3gMPA3M/exSuR+F6hD8j9maluA+WP/M/1sTSw6c/mpmZmZmZuT8=\",\"dtype\":\"float64\",\"order\":\"little\",\"shape\":[10]},\"y\":{\"__ndarray__\":\"LUMc6+I2Gj9URZhOFT0sP+UoZDlLaz4//Knx0k1iUD9PKx9RLaZhP4+Z3gMPA3M/exSuR+F6hD8j9maluA+WP/M/1sTSw6c/mpmZmZmZuT8=\",\"dtype\":\"float64\",\"order\":\"little\",\"shape\":[10]}},\"selected\":{\"id\":\"6533\"},\"selection_policy\":{\"id\":\"6532\"}},\"id\":\"6514\",\"type\":\"ColumnDataSource\"},{\"attributes\":{\"line_color\":\"red\",\"x\":{\"field\":\"x\"},\"y\":{\"field\":\"y\"}},\"id\":\"6537\",\"type\":\"Line\"},{\"attributes\":{\"fill_alpha\":{\"value\":0.2},\"fill_color\":{\"value\":\"white\"},\"hatch_alpha\":{\"value\":0.2},\"line_alpha\":{\"value\":0.2},\"line_color\":{\"value\":\"#1f77b4\"},\"size\":{\"value\":8},\"x\":{\"field\":\"x\"},\"y\":{\"field\":\"y\"}},\"id\":\"6497\",\"type\":\"Circle\"},{\"attributes\":{\"overlay\":{\"id\":\"6467\"}},\"id\":\"6463\",\"type\":\"BoxZoomTool\"},{\"attributes\":{\"label\":{\"value\":\"order 1 slope\"},\"renderers\":[{\"id\":\"6518\"}]},\"id\":\"6535\",\"type\":\"LegendItem\"},{\"attributes\":{},\"id\":\"6447\",\"type\":\"DataRange1d\"},{\"attributes\":{\"label\":{\"value\":\"order 2 slope\"},\"renderers\":[{\"id\":\"6540\"}]},\"id\":\"6559\",\"type\":\"LegendItem\"},{\"attributes\":{},\"id\":\"6510\",\"type\":\"UnionRenderers\"},{\"attributes\":{},\"id\":\"6533\",\"type\":\"Selection\"},{\"attributes\":{},\"id\":\"6556\",\"type\":\"UnionRenderers\"},{\"attributes\":{\"fill_alpha\":{\"value\":0.2},\"fill_color\":{\"value\":\"navy\"},\"hatch_alpha\":{\"value\":0.2},\"hatch_color\":{\"value\":\"navy\"},\"line_alpha\":{\"value\":0.2},\"line_color\":{\"value\":\"navy\"},\"size\":{\"value\":8},\"x\":{\"field\":\"x\"},\"y\":{\"field\":\"y\"}},\"id\":\"6478\",\"type\":\"Circle\"},{\"attributes\":{\"ticker\":null},\"id\":\"6487\",\"type\":\"LogTickFormatter\"},{\"attributes\":{},\"id\":\"6532\",\"type\":\"UnionRenderers\"},{\"attributes\":{},\"id\":\"6451\",\"type\":\"LogScale\"},{\"attributes\":{},\"id\":\"6489\",\"type\":\"UnionRenderers\"},{\"attributes\":{},\"id\":\"6462\",\"type\":\"WheelZoomTool\"},{\"attributes\":{\"coordinates\":null,\"data_source\":{\"id\":\"6494\"},\"glyph\":{\"id\":\"6495\"},\"group\":null,\"hover_glyph\":null,\"muted_glyph\":{\"id\":\"6497\"},\"nonselection_glyph\":{\"id\":\"6496\"},\"view\":{\"id\":\"6499\"}},\"id\":\"6498\",\"type\":\"GlyphRenderer\"},{\"attributes\":{},\"id\":\"6464\",\"type\":\"SaveTool\"},{\"attributes\":{},\"id\":\"6485\",\"type\":\"AllLabels\"},{\"attributes\":{\"fill_color\":{\"value\":\"navy\"},\"hatch_color\":{\"value\":\"navy\"},\"line_color\":{\"value\":\"navy\"},\"size\":{\"value\":8},\"x\":{\"field\":\"x\"},\"y\":{\"field\":\"y\"}},\"id\":\"6476\",\"type\":\"Circle\"},{\"attributes\":{\"data\":{\"x\":{\"__ndarray__\":\"LUMc6+I2Gj9URZhOFT0sP+UoZDlLaz4//Knx0k1iUD9PKx9RLaZhP4+Z3gMPA3M/exSuR+F6hD8j9maluA+WP/M/1sTSw6c/mpmZmZmZuT8=\",\"dtype\":\"float64\",\"order\":\"little\",\"shape\":[10]},\"y\":{\"__ndarray__\":\"Ooww4o55RT7ETdTiWetoPutvXMuU6ow+je21oPfGsD613DU53nfTPnA34D5El/Y+LUMc6+I2Gj/cKGQ5S2s+P08rH1EtpmE/fBSuR+F6hD8=\",\"dtype\":\"float64\",\"order\":\"little\",\"shape\":[10]}},\"selected\":{\"id\":\"6557\"},\"selection_policy\":{\"id\":\"6556\"}},\"id\":\"6536\",\"type\":\"ColumnDataSource\"},{\"attributes\":{\"axis\":{\"id\":\"6453\"},\"coordinates\":null,\"group\":null,\"ticker\":null},\"id\":\"6456\",\"type\":\"Grid\"},{\"attributes\":{\"line_alpha\":0.1,\"line_color\":\"#1f77b4\",\"x\":{\"field\":\"x\"},\"y\":{\"field\":\"y\"}},\"id\":\"6516\",\"type\":\"Line\"},{\"attributes\":{\"coordinates\":null,\"data_source\":{\"id\":\"6475\"},\"glyph\":{\"id\":\"6476\"},\"group\":null,\"hover_glyph\":null,\"muted_glyph\":{\"id\":\"6478\"},\"nonselection_glyph\":{\"id\":\"6477\"},\"view\":{\"id\":\"6480\"}},\"id\":\"6479\",\"type\":\"GlyphRenderer\"},{\"attributes\":{\"fill_color\":{\"value\":\"white\"},\"line_color\":{\"value\":\"#1f77b4\"},\"size\":{\"value\":8},\"x\":{\"field\":\"x\"},\"y\":{\"field\":\"y\"}},\"id\":\"6495\",\"type\":\"Circle\"},{\"attributes\":{\"data\":{\"x\":{\"__ndarray__\":\"LUMc6+I2Gj9URZhOFT0sP+UoZDlLaz4//Knx0k1iUD9PKx9RLaZhP4+Z3gMPA3M/exSuR+F6hD8j9maluA+WP/M/1sTSw6c/mpmZmZmZuT8=\",\"dtype\":\"float64\",\"order\":\"little\",\"shape\":[10]},\"y\":{\"__ndarray__\":\"Z+MJDReLAz+XYPFkOg0VP4tDmhisrCY/84n62rNrOD+bePnJzEpKP47ZYpNiS1w/XzbV2bprbj+cQr+sVkyAPxqQEEjabJE/CtBaD8Fgoj8=\",\"dtype\":\"float64\",\"order\":\"little\",\"shape\":[10]}},\"selected\":{\"id\":\"6490\"},\"selection_policy\":{\"id\":\"6489\"}},\"id\":\"6475\",\"type\":\"ColumnDataSource\"},{\"attributes\":{},\"id\":\"6449\",\"type\":\"LogScale\"},{\"attributes\":{\"ticker\":null},\"id\":\"6484\",\"type\":\"LogTickFormatter\"},{\"attributes\":{},\"id\":\"6511\",\"type\":\"Selection\"},{\"attributes\":{\"num_minor_ticks\":10},\"id\":\"6454\",\"type\":\"LogTicker\"},{\"attributes\":{\"bottom_units\":\"screen\",\"coordinates\":null,\"fill_alpha\":0.5,\"fill_color\":\"lightgrey\",\"group\":null,\"left_units\":\"screen\",\"level\":\"overlay\",\"line_alpha\":1.0,\"line_color\":\"black\",\"line_dash\":[4,4],\"line_width\":2,\"right_units\":\"screen\",\"syncable\":false,\"top_units\":\"screen\"},\"id\":\"6467\",\"type\":\"BoxAnnotation\"},{\"attributes\":{\"axis\":{\"id\":\"6457\"},\"coordinates\":null,\"dimension\":1,\"group\":null,\"ticker\":null},\"id\":\"6460\",\"type\":\"Grid\"},{\"attributes\":{\"source\":{\"id\":\"6536\"}},\"id\":\"6541\",\"type\":\"CDSView\"},{\"attributes\":{},\"id\":\"6461\",\"type\":\"PanTool\"},{\"attributes\":{\"label\":{\"value\":\"Backward Euler method approximation\"},\"renderers\":[{\"id\":\"6479\"}]},\"id\":\"6493\",\"type\":\"LegendItem\"},{\"attributes\":{\"coordinates\":null,\"group\":null,\"items\":[{\"id\":\"6493\"},{\"id\":\"6513\"},{\"id\":\"6535\"},{\"id\":\"6559\"}],\"location\":\"bottom_right\"},\"id\":\"6492\",\"type\":\"Legend\"},{\"attributes\":{},\"id\":\"6557\",\"type\":\"Selection\"},{\"attributes\":{\"fill_alpha\":{\"value\":0.1},\"fill_color\":{\"value\":\"navy\"},\"hatch_alpha\":{\"value\":0.1},\"hatch_color\":{\"value\":\"navy\"},\"line_alpha\":{\"value\":0.1},\"line_color\":{\"value\":\"navy\"},\"size\":{\"value\":8},\"x\":{\"field\":\"x\"},\"y\":{\"field\":\"y\"}},\"id\":\"6477\",\"type\":\"Circle\"},{\"attributes\":{\"source\":{\"id\":\"6494\"}},\"id\":\"6499\",\"type\":\"CDSView\"},{\"attributes\":{\"num_minor_ticks\":10},\"id\":\"6458\",\"type\":\"LogTicker\"},{\"attributes\":{\"source\":{\"id\":\"6475\"}},\"id\":\"6480\",\"type\":\"CDSView\"},{\"attributes\":{\"coordinates\":null,\"data_source\":{\"id\":\"6514\"},\"glyph\":{\"id\":\"6515\"},\"group\":null,\"hover_glyph\":null,\"muted_glyph\":{\"id\":\"6517\"},\"nonselection_glyph\":{\"id\":\"6516\"},\"view\":{\"id\":\"6519\"}},\"id\":\"6518\",\"type\":\"GlyphRenderer\"},{\"attributes\":{},\"id\":\"6466\",\"type\":\"HelpTool\"},{\"attributes\":{},\"id\":\"6490\",\"type\":\"Selection\"},{\"attributes\":{\"coordinates\":null,\"group\":null},\"id\":\"6481\",\"type\":\"Title\"},{\"attributes\":{\"coordinates\":null,\"data_source\":{\"id\":\"6536\"},\"glyph\":{\"id\":\"6537\"},\"group\":null,\"hover_glyph\":null,\"muted_glyph\":{\"id\":\"6539\"},\"nonselection_glyph\":{\"id\":\"6538\"},\"view\":{\"id\":\"6541\"}},\"id\":\"6540\",\"type\":\"GlyphRenderer\"},{\"attributes\":{},\"id\":\"6465\",\"type\":\"ResetTool\"},{\"attributes\":{\"label\":{\"value\":\"Trapezoidal method approximation\"},\"renderers\":[{\"id\":\"6498\"}]},\"id\":\"6513\",\"type\":\"LegendItem\"},{\"attributes\":{},\"id\":\"6445\",\"type\":\"DataRange1d\"},{\"attributes\":{\"line_alpha\":0.2,\"line_color\":\"red\",\"x\":{\"field\":\"x\"},\"y\":{\"field\":\"y\"}},\"id\":\"6539\",\"type\":\"Line\"},{\"attributes\":{\"fill_alpha\":{\"value\":0.1},\"fill_color\":{\"value\":\"white\"},\"hatch_alpha\":{\"value\":0.1},\"line_alpha\":{\"value\":0.1},\"line_color\":{\"value\":\"#1f77b4\"},\"size\":{\"value\":8},\"x\":{\"field\":\"x\"},\"y\":{\"field\":\"y\"}},\"id\":\"6496\",\"type\":\"Circle\"},{\"attributes\":{},\"id\":\"6488\",\"type\":\"AllLabels\"}],\"root_ids\":[\"6444\"]},\"title\":\"Bokeh Application\",\"version\":\"2.4.1\"}};\n",
       "  const render_items = [{\"docid\":\"d07f9475-292f-4f16-a2b8-8ecfcd86c372\",\"root_ids\":[\"6444\"],\"roots\":{\"6444\":\"8139d9f8-9237-4174-b9a2-eddd0ee4d656\"}}];\n",
       "  root.Bokeh.embed.embed_items_notebook(docs_json, render_items);\n",
       "\n",
       "  }\n",
       "  if (root.Bokeh !== undefined) {\n",
       "    embed_document(root);\n",
       "  } else {\n",
       "    let attempts = 0;\n",
       "    const timer = setInterval(function(root) {\n",
       "      if (root.Bokeh !== undefined) {\n",
       "        clearInterval(timer);\n",
       "        embed_document(root);\n",
       "      } else {\n",
       "        attempts++;\n",
       "        if (attempts > 100) {\n",
       "          clearInterval(timer);\n",
       "          console.log(\"Bokeh: ERROR: Unable to run BokehJS code because BokehJS library is missing\");\n",
       "        }\n",
       "      }\n",
       "    }, 10, root)\n",
       "  }\n",
       "})(window);"
      ],
      "application/vnd.bokehjs_exec.v0+json": ""
     },
     "metadata": {
      "application/vnd.bokehjs_exec.v0+json": {
       "id": "6444"
      }
     },
     "output_type": "display_data"
    }
   ],
   "source": [
    "t0 = 0.  #initial time\n",
    "tf = 4.0 #final time \n",
    "y0 = 1.  #initial condition\n",
    "\n",
    "nh         = 10                        #number of possible values for h\n",
    "n_mthd     = 3                         #number of methods to be tested\n",
    "h_values   = 10**np.linspace(-4,-1,nh) #values of h\n",
    "err_values = np.zeros((n_mthd,nh))     #error values for each method and each h\n",
    "ith=0                                  #index corresponding to the current h in h_value\n",
    "\n",
    "for h in h_values:\n",
    "    u_BEM = backEuler_1(t0, tf, h, y0) \n",
    "    u_TR  = TR_1(t0, tf, h, y0) \n",
    "\n",
    "    \n",
    "    nt = np.size(u_BEM)\n",
    "    t = t0+1.*h*np.arange(nt)\n",
    "    yexa = y1_exa(t)\n",
    "    err_values[0,ith] = np.linalg.norm(yexa-u_BEM)/np.sqrt(nt)\n",
    "    err_values[1,ith] = np.linalg.norm(yexa-u_TR)/np.sqrt(nt)\n",
    "    ith+=1\n",
    "\n",
    "fig3 = figure( x_axis_type=\"log\", y_axis_type=\"log\", width=980, height=400, x_axis_label='h', y_axis_label='GE')\n",
    "fig3.circle(h_values,err_values[0,:], color = 'navy', legend_label = 'Backward Euler method approximation', size = 8)\n",
    "fig3.circle(h_values,err_values[1,:],fill_color = 'white', legend_label = 'Trapezoidal method approximation', size = 8)\n",
    "\n",
    "fig3.line(h_values,h_values,legend_label = 'order 1 slope')\n",
    "fig3.line(h_values,h_values**2,color ='red' ,legend_label = 'order 2 slope')\n",
    "fig3.legend.location = \"bottom_right\"\n",
    "\n",
    "show(fig3)"
   ]
  },
  {
   "cell_type": "markdown",
   "metadata": {},
   "source": [
    "### General case"
   ]
  },
  {
   "cell_type": "markdown",
   "metadata": {},
   "source": [
    "**Q11. Using the fonction root of scipy.optimize, implement the backward Euler method and the Trapezoidal Rule method for a generic IVP associated to a function $f$**"
   ]
  },
  {
   "cell_type": "code",
   "execution_count": 39,
   "metadata": {},
   "outputs": [],
   "source": [
    "def backEuler(f, t0, tf, h, y0):\n",
    "    \n",
    "    nt = int(round((tf-t0)/h))+1 #number of column of the output array\n",
    "    u  = np.zeros((nt,))\n",
    "    \n",
    "    #########################\n",
    "    #To be completed\n",
    "    #########################\n",
    "\n",
    "    return u"
   ]
  },
  {
   "cell_type": "code",
   "execution_count": 44,
   "metadata": {},
   "outputs": [],
   "source": [
    "def TR(f, t0, tf, h, y0):\n",
    "    \n",
    "    nt = int(round((tf-t0)/h))+1 #number of column of the output array\n",
    "    u  = np.zeros((nt,))\n",
    "    \n",
    "    #########################\n",
    "    #To be completed\n",
    "    #########################\n",
    "    \n",
    "    return u"
   ]
  },
  {
   "cell_type": "markdown",
   "metadata": {},
   "source": [
    "**Q12. Check that in the case of our model problem, these general methods yield results  identical to that of previous implementations. Also test the case of a nonlinear ODE.**"
   ]
  },
  {
   "cell_type": "code",
   "execution_count": 24,
   "metadata": {},
   "outputs": [],
   "source": [
    "#########################\n",
    "#To be completed\n",
    "#########################"
   ]
  },
  {
   "cell_type": "code",
   "execution_count": null,
   "metadata": {},
   "outputs": [],
   "source": []
  }
 ],
 "metadata": {
  "kernelspec": {
   "display_name": "Python 3 (ipykernel)",
   "language": "python",
   "name": "python3"
  },
  "language_info": {
   "codemirror_mode": {
    "name": "ipython",
    "version": 3
   },
   "file_extension": ".py",
   "mimetype": "text/x-python",
   "name": "python",
   "nbconvert_exporter": "python",
   "pygments_lexer": "ipython3",
   "version": "3.9.7"
  }
 },
 "nbformat": 4,
 "nbformat_minor": 4
}
