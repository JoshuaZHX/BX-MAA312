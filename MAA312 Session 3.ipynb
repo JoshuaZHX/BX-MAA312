{
 "cells": [
  {
   "cell_type": "code",
   "execution_count": 1,
   "metadata": {},
   "outputs": [
    {
     "data": {
      "application/javascript": [
       "\n",
       "(function(root) {\n",
       "  function now() {\n",
       "    return new Date();\n",
       "  }\n",
       "\n",
       "  const force = true;\n",
       "\n",
       "  if (typeof root._bokeh_onload_callbacks === \"undefined\" || force === true) {\n",
       "    root._bokeh_onload_callbacks = [];\n",
       "    root._bokeh_is_loading = undefined;\n",
       "  }\n",
       "\n",
       "  const JS_MIME_TYPE = 'application/javascript';\n",
       "  const HTML_MIME_TYPE = 'text/html';\n",
       "  const EXEC_MIME_TYPE = 'application/vnd.bokehjs_exec.v0+json';\n",
       "  const CLASS_NAME = 'output_bokeh rendered_html';\n",
       "\n",
       "  /**\n",
       "   * Render data to the DOM node\n",
       "   */\n",
       "  function render(props, node) {\n",
       "    const script = document.createElement(\"script\");\n",
       "    node.appendChild(script);\n",
       "  }\n",
       "\n",
       "  /**\n",
       "   * Handle when an output is cleared or removed\n",
       "   */\n",
       "  function handleClearOutput(event, handle) {\n",
       "    const cell = handle.cell;\n",
       "\n",
       "    const id = cell.output_area._bokeh_element_id;\n",
       "    const server_id = cell.output_area._bokeh_server_id;\n",
       "    // Clean up Bokeh references\n",
       "    if (id != null && id in Bokeh.index) {\n",
       "      Bokeh.index[id].model.document.clear();\n",
       "      delete Bokeh.index[id];\n",
       "    }\n",
       "\n",
       "    if (server_id !== undefined) {\n",
       "      // Clean up Bokeh references\n",
       "      const cmd_clean = \"from bokeh.io.state import curstate; print(curstate().uuid_to_server['\" + server_id + \"'].get_sessions()[0].document.roots[0]._id)\";\n",
       "      cell.notebook.kernel.execute(cmd_clean, {\n",
       "        iopub: {\n",
       "          output: function(msg) {\n",
       "            const id = msg.content.text.trim();\n",
       "            if (id in Bokeh.index) {\n",
       "              Bokeh.index[id].model.document.clear();\n",
       "              delete Bokeh.index[id];\n",
       "            }\n",
       "          }\n",
       "        }\n",
       "      });\n",
       "      // Destroy server and session\n",
       "      const cmd_destroy = \"import bokeh.io.notebook as ion; ion.destroy_server('\" + server_id + \"')\";\n",
       "      cell.notebook.kernel.execute(cmd_destroy);\n",
       "    }\n",
       "  }\n",
       "\n",
       "  /**\n",
       "   * Handle when a new output is added\n",
       "   */\n",
       "  function handleAddOutput(event, handle) {\n",
       "    const output_area = handle.output_area;\n",
       "    const output = handle.output;\n",
       "\n",
       "    // limit handleAddOutput to display_data with EXEC_MIME_TYPE content only\n",
       "    if ((output.output_type != \"display_data\") || (!Object.prototype.hasOwnProperty.call(output.data, EXEC_MIME_TYPE))) {\n",
       "      return\n",
       "    }\n",
       "\n",
       "    const toinsert = output_area.element.find(\".\" + CLASS_NAME.split(' ')[0]);\n",
       "\n",
       "    if (output.metadata[EXEC_MIME_TYPE][\"id\"] !== undefined) {\n",
       "      toinsert[toinsert.length - 1].firstChild.textContent = output.data[JS_MIME_TYPE];\n",
       "      // store reference to embed id on output_area\n",
       "      output_area._bokeh_element_id = output.metadata[EXEC_MIME_TYPE][\"id\"];\n",
       "    }\n",
       "    if (output.metadata[EXEC_MIME_TYPE][\"server_id\"] !== undefined) {\n",
       "      const bk_div = document.createElement(\"div\");\n",
       "      bk_div.innerHTML = output.data[HTML_MIME_TYPE];\n",
       "      const script_attrs = bk_div.children[0].attributes;\n",
       "      for (let i = 0; i < script_attrs.length; i++) {\n",
       "        toinsert[toinsert.length - 1].firstChild.setAttribute(script_attrs[i].name, script_attrs[i].value);\n",
       "        toinsert[toinsert.length - 1].firstChild.textContent = bk_div.children[0].textContent\n",
       "      }\n",
       "      // store reference to server id on output_area\n",
       "      output_area._bokeh_server_id = output.metadata[EXEC_MIME_TYPE][\"server_id\"];\n",
       "    }\n",
       "  }\n",
       "\n",
       "  function register_renderer(events, OutputArea) {\n",
       "\n",
       "    function append_mime(data, metadata, element) {\n",
       "      // create a DOM node to render to\n",
       "      const toinsert = this.create_output_subarea(\n",
       "        metadata,\n",
       "        CLASS_NAME,\n",
       "        EXEC_MIME_TYPE\n",
       "      );\n",
       "      this.keyboard_manager.register_events(toinsert);\n",
       "      // Render to node\n",
       "      const props = {data: data, metadata: metadata[EXEC_MIME_TYPE]};\n",
       "      render(props, toinsert[toinsert.length - 1]);\n",
       "      element.append(toinsert);\n",
       "      return toinsert\n",
       "    }\n",
       "\n",
       "    /* Handle when an output is cleared or removed */\n",
       "    events.on('clear_output.CodeCell', handleClearOutput);\n",
       "    events.on('delete.Cell', handleClearOutput);\n",
       "\n",
       "    /* Handle when a new output is added */\n",
       "    events.on('output_added.OutputArea', handleAddOutput);\n",
       "\n",
       "    /**\n",
       "     * Register the mime type and append_mime function with output_area\n",
       "     */\n",
       "    OutputArea.prototype.register_mime_type(EXEC_MIME_TYPE, append_mime, {\n",
       "      /* Is output safe? */\n",
       "      safe: true,\n",
       "      /* Index of renderer in `output_area.display_order` */\n",
       "      index: 0\n",
       "    });\n",
       "  }\n",
       "\n",
       "  // register the mime type if in Jupyter Notebook environment and previously unregistered\n",
       "  if (root.Jupyter !== undefined) {\n",
       "    const events = require('base/js/events');\n",
       "    const OutputArea = require('notebook/js/outputarea').OutputArea;\n",
       "\n",
       "    if (OutputArea.prototype.mime_types().indexOf(EXEC_MIME_TYPE) == -1) {\n",
       "      register_renderer(events, OutputArea);\n",
       "    }\n",
       "  }\n",
       "\n",
       "  \n",
       "  if (typeof (root._bokeh_timeout) === \"undefined\" || force === true) {\n",
       "    root._bokeh_timeout = Date.now() + 5000;\n",
       "    root._bokeh_failed_load = false;\n",
       "  }\n",
       "\n",
       "  const NB_LOAD_WARNING = {'data': {'text/html':\n",
       "     \"<div style='background-color: #fdd'>\\n\"+\n",
       "     \"<p>\\n\"+\n",
       "     \"BokehJS does not appear to have successfully loaded. If loading BokehJS from CDN, this \\n\"+\n",
       "     \"may be due to a slow or bad network connection. Possible fixes:\\n\"+\n",
       "     \"</p>\\n\"+\n",
       "     \"<ul>\\n\"+\n",
       "     \"<li>re-rerun `output_notebook()` to attempt to load from CDN again, or</li>\\n\"+\n",
       "     \"<li>use INLINE resources instead, as so:</li>\\n\"+\n",
       "     \"</ul>\\n\"+\n",
       "     \"<code>\\n\"+\n",
       "     \"from bokeh.resources import INLINE\\n\"+\n",
       "     \"output_notebook(resources=INLINE)\\n\"+\n",
       "     \"</code>\\n\"+\n",
       "     \"</div>\"}};\n",
       "\n",
       "  function display_loaded() {\n",
       "    const el = document.getElementById(null);\n",
       "    if (el != null) {\n",
       "      el.textContent = \"BokehJS is loading...\";\n",
       "    }\n",
       "    if (root.Bokeh !== undefined) {\n",
       "      if (el != null) {\n",
       "        el.textContent = \"BokehJS \" + root.Bokeh.version + \" successfully loaded.\";\n",
       "      }\n",
       "    } else if (Date.now() < root._bokeh_timeout) {\n",
       "      setTimeout(display_loaded, 100)\n",
       "    }\n",
       "  }\n",
       "\n",
       "\n",
       "  function run_callbacks() {\n",
       "    try {\n",
       "      root._bokeh_onload_callbacks.forEach(function(callback) {\n",
       "        if (callback != null)\n",
       "          callback();\n",
       "      });\n",
       "    } finally {\n",
       "      delete root._bokeh_onload_callbacks\n",
       "    }\n",
       "    console.debug(\"Bokeh: all callbacks have finished\");\n",
       "  }\n",
       "\n",
       "  function load_libs(css_urls, js_urls, callback) {\n",
       "    if (css_urls == null) css_urls = [];\n",
       "    if (js_urls == null) js_urls = [];\n",
       "\n",
       "    root._bokeh_onload_callbacks.push(callback);\n",
       "    if (root._bokeh_is_loading > 0) {\n",
       "      console.debug(\"Bokeh: BokehJS is being loaded, scheduling callback at\", now());\n",
       "      return null;\n",
       "    }\n",
       "    if (js_urls == null || js_urls.length === 0) {\n",
       "      run_callbacks();\n",
       "      return null;\n",
       "    }\n",
       "    console.debug(\"Bokeh: BokehJS not loaded, scheduling load and callback at\", now());\n",
       "    root._bokeh_is_loading = css_urls.length + js_urls.length;\n",
       "\n",
       "    function on_load() {\n",
       "      root._bokeh_is_loading--;\n",
       "      if (root._bokeh_is_loading === 0) {\n",
       "        console.debug(\"Bokeh: all BokehJS libraries/stylesheets loaded\");\n",
       "        run_callbacks()\n",
       "      }\n",
       "    }\n",
       "\n",
       "    function on_error(url) {\n",
       "      console.error(\"failed to load \" + url);\n",
       "    }\n",
       "\n",
       "    for (let i = 0; i < css_urls.length; i++) {\n",
       "      const url = css_urls[i];\n",
       "      const element = document.createElement(\"link\");\n",
       "      element.onload = on_load;\n",
       "      element.onerror = on_error.bind(null, url);\n",
       "      element.rel = \"stylesheet\";\n",
       "      element.type = \"text/css\";\n",
       "      element.href = url;\n",
       "      console.debug(\"Bokeh: injecting link tag for BokehJS stylesheet: \", url);\n",
       "      document.body.appendChild(element);\n",
       "    }\n",
       "\n",
       "    for (let i = 0; i < js_urls.length; i++) {\n",
       "      const url = js_urls[i];\n",
       "      const element = document.createElement('script');\n",
       "      element.onload = on_load;\n",
       "      element.onerror = on_error.bind(null, url);\n",
       "      element.async = false;\n",
       "      element.src = url;\n",
       "      console.debug(\"Bokeh: injecting script tag for BokehJS library: \", url);\n",
       "      document.head.appendChild(element);\n",
       "    }\n",
       "  };\n",
       "\n",
       "  function inject_raw_css(css) {\n",
       "    const element = document.createElement(\"style\");\n",
       "    element.appendChild(document.createTextNode(css));\n",
       "    document.body.appendChild(element);\n",
       "  }\n",
       "\n",
       "  \n",
       "  const js_urls = [\"https://cdn.bokeh.org/bokeh/release/bokeh-2.4.1.min.js\", \"https://cdn.bokeh.org/bokeh/release/bokeh-gl-2.4.1.min.js\", \"https://cdn.bokeh.org/bokeh/release/bokeh-widgets-2.4.1.min.js\", \"https://cdn.bokeh.org/bokeh/release/bokeh-tables-2.4.1.min.js\", \"https://cdn.bokeh.org/bokeh/release/bokeh-mathjax-2.4.1.min.js\"];\n",
       "  const css_urls = [];\n",
       "  \n",
       "\n",
       "  const inline_js = [\n",
       "    function(Bokeh) {\n",
       "      Bokeh.set_log_level(\"info\");\n",
       "    },\n",
       "    function(Bokeh) {\n",
       "    \n",
       "    \n",
       "    }\n",
       "  ];\n",
       "\n",
       "  function run_inline_js() {\n",
       "    \n",
       "    if (root.Bokeh !== undefined || force === true) {\n",
       "      \n",
       "    for (let i = 0; i < inline_js.length; i++) {\n",
       "      inline_js[i].call(root, root.Bokeh);\n",
       "    }\n",
       "    } else if (Date.now() < root._bokeh_timeout) {\n",
       "      setTimeout(run_inline_js, 100);\n",
       "    } else if (!root._bokeh_failed_load) {\n",
       "      console.log(\"Bokeh: BokehJS failed to load within specified timeout.\");\n",
       "      root._bokeh_failed_load = true;\n",
       "    } else if (force !== true) {\n",
       "      const cell = $(document.getElementById(null)).parents('.cell').data().cell;\n",
       "      cell.output_area.append_execute_result(NB_LOAD_WARNING)\n",
       "    }\n",
       "\n",
       "  }\n",
       "\n",
       "  if (root._bokeh_is_loading === 0) {\n",
       "    console.debug(\"Bokeh: BokehJS loaded, going straight to plotting\");\n",
       "    run_inline_js();\n",
       "  } else {\n",
       "    load_libs(css_urls, js_urls, function() {\n",
       "      console.debug(\"Bokeh: BokehJS plotting callback run at\", now());\n",
       "      run_inline_js();\n",
       "    });\n",
       "  }\n",
       "}(window));"
      ],
      "application/vnd.bokehjs_load.v0+json": "\n(function(root) {\n  function now() {\n    return new Date();\n  }\n\n  const force = true;\n\n  if (typeof root._bokeh_onload_callbacks === \"undefined\" || force === true) {\n    root._bokeh_onload_callbacks = [];\n    root._bokeh_is_loading = undefined;\n  }\n\n  \n\n  \n  if (typeof (root._bokeh_timeout) === \"undefined\" || force === true) {\n    root._bokeh_timeout = Date.now() + 5000;\n    root._bokeh_failed_load = false;\n  }\n\n  const NB_LOAD_WARNING = {'data': {'text/html':\n     \"<div style='background-color: #fdd'>\\n\"+\n     \"<p>\\n\"+\n     \"BokehJS does not appear to have successfully loaded. If loading BokehJS from CDN, this \\n\"+\n     \"may be due to a slow or bad network connection. Possible fixes:\\n\"+\n     \"</p>\\n\"+\n     \"<ul>\\n\"+\n     \"<li>re-rerun `output_notebook()` to attempt to load from CDN again, or</li>\\n\"+\n     \"<li>use INLINE resources instead, as so:</li>\\n\"+\n     \"</ul>\\n\"+\n     \"<code>\\n\"+\n     \"from bokeh.resources import INLINE\\n\"+\n     \"output_notebook(resources=INLINE)\\n\"+\n     \"</code>\\n\"+\n     \"</div>\"}};\n\n  function display_loaded() {\n    const el = document.getElementById(null);\n    if (el != null) {\n      el.textContent = \"BokehJS is loading...\";\n    }\n    if (root.Bokeh !== undefined) {\n      if (el != null) {\n        el.textContent = \"BokehJS \" + root.Bokeh.version + \" successfully loaded.\";\n      }\n    } else if (Date.now() < root._bokeh_timeout) {\n      setTimeout(display_loaded, 100)\n    }\n  }\n\n\n  function run_callbacks() {\n    try {\n      root._bokeh_onload_callbacks.forEach(function(callback) {\n        if (callback != null)\n          callback();\n      });\n    } finally {\n      delete root._bokeh_onload_callbacks\n    }\n    console.debug(\"Bokeh: all callbacks have finished\");\n  }\n\n  function load_libs(css_urls, js_urls, callback) {\n    if (css_urls == null) css_urls = [];\n    if (js_urls == null) js_urls = [];\n\n    root._bokeh_onload_callbacks.push(callback);\n    if (root._bokeh_is_loading > 0) {\n      console.debug(\"Bokeh: BokehJS is being loaded, scheduling callback at\", now());\n      return null;\n    }\n    if (js_urls == null || js_urls.length === 0) {\n      run_callbacks();\n      return null;\n    }\n    console.debug(\"Bokeh: BokehJS not loaded, scheduling load and callback at\", now());\n    root._bokeh_is_loading = css_urls.length + js_urls.length;\n\n    function on_load() {\n      root._bokeh_is_loading--;\n      if (root._bokeh_is_loading === 0) {\n        console.debug(\"Bokeh: all BokehJS libraries/stylesheets loaded\");\n        run_callbacks()\n      }\n    }\n\n    function on_error(url) {\n      console.error(\"failed to load \" + url);\n    }\n\n    for (let i = 0; i < css_urls.length; i++) {\n      const url = css_urls[i];\n      const element = document.createElement(\"link\");\n      element.onload = on_load;\n      element.onerror = on_error.bind(null, url);\n      element.rel = \"stylesheet\";\n      element.type = \"text/css\";\n      element.href = url;\n      console.debug(\"Bokeh: injecting link tag for BokehJS stylesheet: \", url);\n      document.body.appendChild(element);\n    }\n\n    for (let i = 0; i < js_urls.length; i++) {\n      const url = js_urls[i];\n      const element = document.createElement('script');\n      element.onload = on_load;\n      element.onerror = on_error.bind(null, url);\n      element.async = false;\n      element.src = url;\n      console.debug(\"Bokeh: injecting script tag for BokehJS library: \", url);\n      document.head.appendChild(element);\n    }\n  };\n\n  function inject_raw_css(css) {\n    const element = document.createElement(\"style\");\n    element.appendChild(document.createTextNode(css));\n    document.body.appendChild(element);\n  }\n\n  \n  const js_urls = [\"https://cdn.bokeh.org/bokeh/release/bokeh-2.4.1.min.js\", \"https://cdn.bokeh.org/bokeh/release/bokeh-gl-2.4.1.min.js\", \"https://cdn.bokeh.org/bokeh/release/bokeh-widgets-2.4.1.min.js\", \"https://cdn.bokeh.org/bokeh/release/bokeh-tables-2.4.1.min.js\", \"https://cdn.bokeh.org/bokeh/release/bokeh-mathjax-2.4.1.min.js\"];\n  const css_urls = [];\n  \n\n  const inline_js = [\n    function(Bokeh) {\n      Bokeh.set_log_level(\"info\");\n    },\n    function(Bokeh) {\n    \n    \n    }\n  ];\n\n  function run_inline_js() {\n    \n    if (root.Bokeh !== undefined || force === true) {\n      \n    for (let i = 0; i < inline_js.length; i++) {\n      inline_js[i].call(root, root.Bokeh);\n    }\n    } else if (Date.now() < root._bokeh_timeout) {\n      setTimeout(run_inline_js, 100);\n    } else if (!root._bokeh_failed_load) {\n      console.log(\"Bokeh: BokehJS failed to load within specified timeout.\");\n      root._bokeh_failed_load = true;\n    } else if (force !== true) {\n      const cell = $(document.getElementById(null)).parents('.cell').data().cell;\n      cell.output_area.append_execute_result(NB_LOAD_WARNING)\n    }\n\n  }\n\n  if (root._bokeh_is_loading === 0) {\n    console.debug(\"Bokeh: BokehJS loaded, going straight to plotting\");\n    run_inline_js();\n  } else {\n    load_libs(css_urls, js_urls, function() {\n      console.debug(\"Bokeh: BokehJS plotting callback run at\", now());\n      run_inline_js();\n    });\n  }\n}(window));"
     },
     "metadata": {},
     "output_type": "display_data"
    }
   ],
   "source": [
    "import numpy as np\n",
    "\n",
    "from bokeh.io import show, output_notebook, push_notebook\n",
    "from bokeh.plotting import figure\n",
    "from bokeh.layouts import row, column\n",
    "from bokeh.models import Legend\n",
    "\n",
    "\n",
    "import matplotlib.pyplot as plt\n",
    "\n",
    "from scipy.optimize import root\n",
    "\n",
    "from ipywidgets import interact, FloatSlider\n",
    "output_notebook(hide_banner=True)"
   ]
  },
  {
   "cell_type": "markdown",
   "metadata": {},
   "source": [
    "# Context"
   ]
  },
  {
   "cell_type": "markdown",
   "metadata": {},
   "source": [
    "We are concerned with solving the following Cauchy problem:\n",
    "\\begin{equation}\n",
    "\\left\\{\n",
    "\\begin{aligned}\n",
    "y^\\prime(t)&=f\\left(t,y(t)\\right), \\quad t\\geq t_0\\\\\n",
    "y(t_0)&= y_0\n",
    "\\end{aligned}\n",
    "\\right.\n",
    "\\end{equation}\n",
    "with $y : t \\mapsto y(t) \\in \\mathbb{R}^m$, $m \\in \\mathbb{N}^*$ and $y_0\\in \\mathbb{R}^m$.\n",
    "\n",
    "It is assumed that the considered Cauchy problem possesses a unique solution on some interval $[t_0,t_f]$ with $t_f>t_0$\n",
    "\n",
    "In this notebook we will focus on various notions of *stability* for the numerical methods that were introduced in practical session 2 (Introduction to numerical method, 04/12/22).\n",
    "\n",
    "**The first part** is devoted to the so-called zero-stability. It can be shown that together with consistency, zero-stability ensures that a numerical method is convergent. Intuitively, the zero-stability property can be understood as the fact that a numerical method does not unreasonably amplifiy the local truncation error (LTE), that is the error we would make at some step if we were starting from the exact solution. The LTE was rigorously defined in the third lecture of this course (04/14/22).\n",
    "\n",
    "**The second part** is centered on the concept of Absolute stability. The notion of absolute stability deals with the abitility of a convergent numerical method to preserve the asymptotic behavior of a specific class of functions, namely the solutions of the **test equation**:\n",
    "\n",
    "\\begin{equation}\n",
    "\\left\\{\n",
    "\\begin{aligned}\n",
    "y^\\prime(t)&=\\lambda y, \\quad t\\geq t_0\\\\\n",
    "y(t_0)&= y_0\n",
    "\\end{aligned}\n",
    "\\right.\n",
    "\\end{equation}\n",
    "with $y : t \\mapsto y(t) \\in \\mathbb{C}$, $\\lambda\\in \\mathbb{C}$ such that $\\Re (\\lambda) <0$.\n",
    "\n",
    "More specifically, a convergent numerical method is said to be *absolutely stable* if the approximation $u_n$ it yields for a *fixed* step size $h$ when applied to the test equation of parameter $\\lambda$, $\\Re(\\lambda)<0$ converges toward 0 as $t_f\\to \\infty$ (equivalently, for $h$ fixed, we want $u_n \\to 0$ when $n\\to \\infty$, that is when $t_n = t_0+nh\\to \\infty$).\n",
    "It seems reasonable to expect that the numerical method will mimic the behavior of the solution to the considered Cauchy problem.\n",
    "\n",
    "We emphasize that this is an additionnal property to already convergent methods. In particular, in the definition of convergence we consider the case where the final time $t_f$ that we wish to achieve is *fixed*, and $h \\to 0$ when $n\\to \\infty$ (typically $h = \\frac{t_f-t_0}{n}$).\n",
    "\n",
    "Most examples and methods described here are adapted from: Giffiths and Higham, *Numerical Methods for Ordinary Differential Equations* or were introduced in practical session TD2."
   ]
  },
  {
   "cell_type": "markdown",
   "metadata": {},
   "source": [
    "# Model problem"
   ]
  },
  {
   "cell_type": "markdown",
   "metadata": {},
   "source": [
    "To illustrate the various concepts studied in the present notebook we will consider solutions of the following Cauchy problem (denoted CP (0)):\n",
    "\n",
    "\\begin{equation}\n",
    "\\left\\{\n",
    "\\begin{aligned}\n",
    "y^\\prime(t)&=-\\frac{1}{\\tau}\\left(y-g(t)\\right)+g^\\prime(t), \\quad t\\geq t_0\\\\\n",
    "y(t_0)&= y_0\n",
    "\\end{aligned}\n",
    "\\right.\n",
    "\\end{equation}\n",
    "with $y : t \\mapsto y(t) \\in \\mathbb{R}$, $\\tau\\in \\mathbb{R}$,$\\tau>0$ and $g\\in C^1\\left([t_0,t_f]\\right)$.\n",
    "We can see that this problem reduces to the Dahlquist equation when $g=0$ and if we let $\\lambda = -1/\\tau$.\n",
    "\n",
    "A particular solution of the ODE in this problem is\n",
    "$$\n",
    "y(t) = g(t)\n",
    "$$\n",
    "and a solution to the associated homogeneous equation is\n",
    "$$\n",
    "y(t) = C e^{-\\frac{1}{\\tau} \\left(t-t_0\\right)},\\quad C\\in \\mathbb{R}.\n",
    "$$\n",
    "Consequently a general solution is of the form\n",
    "$$\n",
    "y(t) = C e^{-\\frac{1}{\\tau} \\left(t-t_0\\right)}+g(t).\n",
    "$$\n",
    "Using the initial condition $y(t_0)=y_0$ we obtain $C = y_0-g(t_0)$ and finally the solution to the complete Cauchy problem is\n",
    "$$\n",
    "y : t \\mapsto y(t) = \\left(y_0-g(t_0)\\right)e^{-\\frac{1}{\\tau} \\left(t-t_0\\right)}+g(t)\n",
    "$$\n",
    "\n",
    "In this notebook we will study three specific cases:\n",
    "1. $\\tau=+\\infty$ (or equivalently $\\lambda = 0$) and $g=0$, i.e. $y(t) = y_0$ in order to study the amplification of errors by the Dahlquist method, as an instance of a numerical method that does not satisfy the zero-stability property.\n",
    "2. $\\tau>0$ and $g=0$, our test equation (for $\\lambda = -\\frac{1}{\\tau}$) to study the notion of absolute stability and define what is an A-stable method.\n",
    "3. $\\tau>0$ and $g = \\sin$ as a more pratical case, embodying the constraints that may lead to choose an A-stable method.\n",
    "\n",
    "We now show the form of the exact solution to case 3 to present some of its interesting features."
   ]
  },
  {
   "cell_type": "code",
   "execution_count": 2,
   "metadata": {},
   "outputs": [],
   "source": [
    "def f0(t,y,lbda,g,gprime):\n",
    "    return lbda*(y-g(t))+gprime(t)\n",
    "\n",
    "def y_exa0(t,t0,y0,lbda,g):\n",
    "    return (y0-g(t0))*np.exp(lbda*(t-t0))+g(t)"
   ]
  },
  {
   "cell_type": "code",
   "execution_count": 3,
   "metadata": {},
   "outputs": [
    {
     "data": {
      "text/html": [
       "\n",
       "\n",
       "\n",
       "\n",
       "\n",
       "\n",
       "  <div class=\"bk-root\" id=\"12281156-7d81-421a-b80a-56ac331ebc8d\" data-root-id=\"1002\"></div>\n"
      ]
     },
     "metadata": {},
     "output_type": "display_data"
    },
    {
     "data": {
      "application/javascript": [
       "(function(root) {\n",
       "  function embed_document(root) {\n",
       "    \n",
       "  const docs_json = {\"0152b731-66c9-4e6e-be15-0d5e12d37f6d\":{\"defs\":[],\"roots\":{\"references\":[{\"attributes\":{\"below\":[{\"id\":\"1011\"}],\"center\":[{\"id\":\"1014\"},{\"id\":\"1018\"},{\"id\":\"1050\"}],\"height\":400,\"left\":[{\"id\":\"1015\"}],\"renderers\":[{\"id\":\"1037\"},{\"id\":\"1056\"}],\"title\":{\"id\":\"1039\"},\"toolbar\":{\"id\":\"1026\"},\"width\":980,\"x_range\":{\"id\":\"1003\"},\"x_scale\":{\"id\":\"1007\"},\"y_range\":{\"id\":\"1005\"},\"y_scale\":{\"id\":\"1009\"}},\"id\":\"1002\",\"subtype\":\"Figure\",\"type\":\"Plot\"},{\"attributes\":{\"tools\":[{\"id\":\"1019\"},{\"id\":\"1020\"},{\"id\":\"1021\"},{\"id\":\"1022\"},{\"id\":\"1023\"},{\"id\":\"1024\"}]},\"id\":\"1026\",\"type\":\"Toolbar\"},{\"attributes\":{},\"id\":\"1023\",\"type\":\"ResetTool\"},{\"attributes\":{},\"id\":\"1007\",\"type\":\"LinearScale\"},{\"attributes\":{},\"id\":\"1022\",\"type\":\"SaveTool\"},{\"attributes\":{\"overlay\":{\"id\":\"1025\"}},\"id\":\"1021\",\"type\":\"BoxZoomTool\"},{\"attributes\":{},\"id\":\"1019\",\"type\":\"PanTool\"},{\"attributes\":{\"label\":{\"value\":\"sin(t)\"},\"renderers\":[{\"id\":\"1056\"}]},\"id\":\"1071\",\"type\":\"LegendItem\"},{\"attributes\":{},\"id\":\"1024\",\"type\":\"HelpTool\"},{\"attributes\":{\"end\":6.283185307179586},\"id\":\"1003\",\"type\":\"Range1d\"},{\"attributes\":{},\"id\":\"1047\",\"type\":\"UnionRenderers\"},{\"attributes\":{},\"id\":\"1068\",\"type\":\"UnionRenderers\"},{\"attributes\":{\"coordinates\":null,\"data_source\":{\"id\":\"1033\"},\"glyph\":{\"id\":\"1034\"},\"group\":null,\"hover_glyph\":null,\"muted_glyph\":{\"id\":\"1036\"},\"nonselection_glyph\":{\"id\":\"1035\"},\"view\":{\"id\":\"1038\"}},\"id\":\"1037\",\"type\":\"GlyphRenderer\"},{\"attributes\":{},\"id\":\"1016\",\"type\":\"BasicTicker\"},{\"attributes\":{\"axis\":{\"id\":\"1015\"},\"coordinates\":null,\"dimension\":1,\"group\":null,\"ticker\":null},\"id\":\"1018\",\"type\":\"Grid\"},{\"attributes\":{\"coordinates\":null,\"data_source\":{\"id\":\"1052\"},\"glyph\":{\"id\":\"1053\"},\"group\":null,\"hover_glyph\":null,\"muted_glyph\":{\"id\":\"1055\"},\"nonselection_glyph\":{\"id\":\"1054\"},\"view\":{\"id\":\"1057\"}},\"id\":\"1056\",\"type\":\"GlyphRenderer\"},{\"attributes\":{\"axis_label\":\"x(t)\",\"coordinates\":null,\"formatter\":{\"id\":\"1042\"},\"group\":null,\"major_label_policy\":{\"id\":\"1043\"},\"ticker\":{\"id\":\"1016\"}},\"id\":\"1015\",\"type\":\"LinearAxis\"},{\"attributes\":{\"source\":{\"id\":\"1052\"}},\"id\":\"1057\",\"type\":\"CDSView\"},{\"attributes\":{},\"id\":\"1043\",\"type\":\"AllLabels\"},{\"attributes\":{},\"id\":\"1045\",\"type\":\"BasicTickFormatter\"},{\"attributes\":{\"line_alpha\":0.2,\"line_color\":\"#1f77b4\",\"x\":{\"field\":\"x\"},\"y\":{\"field\":\"y\"}},\"id\":\"1036\",\"type\":\"Line\"},{\"attributes\":{\"line_alpha\":0.2,\"line_color\":\"purple\",\"line_dash\":[6],\"x\":{\"field\":\"x\"},\"y\":{\"field\":\"y\"}},\"id\":\"1055\",\"type\":\"Line\"},{\"attributes\":{\"line_color\":\"#1f77b4\",\"x\":{\"field\":\"x\"},\"y\":{\"field\":\"y\"}},\"id\":\"1034\",\"type\":\"Line\"},{\"attributes\":{\"line_alpha\":0.1,\"line_color\":\"purple\",\"line_dash\":[6],\"x\":{\"field\":\"x\"},\"y\":{\"field\":\"y\"}},\"id\":\"1054\",\"type\":\"Line\"},{\"attributes\":{\"axis_label\":\"t\",\"coordinates\":null,\"formatter\":{\"id\":\"1045\"},\"group\":null,\"major_label_policy\":{\"id\":\"1046\"},\"ticker\":{\"id\":\"1012\"}},\"id\":\"1011\",\"type\":\"LinearAxis\"},{\"attributes\":{\"data\":{\"x\":{\"__ndarray__\":\"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\",\"dtype\":\"float64\",\"order\":\"little\",\"shape\":[1000]},\"y\":{\"__ndarray__\":\"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\",\"dtype\":\"float64\",\"order\":\"little\",\"shape\":[1000]}},\"selected\":{\"id\":\"1069\"},\"selection_policy\":{\"id\":\"1068\"}},\"id\":\"1052\",\"type\":\"ColumnDataSource\"},{\"attributes\":{},\"id\":\"1020\",\"type\":\"WheelZoomTool\"},{\"attributes\":{\"axis\":{\"id\":\"1011\"},\"coordinates\":null,\"group\":null,\"ticker\":null},\"id\":\"1014\",\"type\":\"Grid\"},{\"attributes\":{\"line_alpha\":0.1,\"line_color\":\"#1f77b4\",\"x\":{\"field\":\"x\"},\"y\":{\"field\":\"y\"}},\"id\":\"1035\",\"type\":\"Line\"},{\"attributes\":{},\"id\":\"1009\",\"type\":\"LinearScale\"},{\"attributes\":{},\"id\":\"1069\",\"type\":\"Selection\"},{\"attributes\":{},\"id\":\"1012\",\"type\":\"BasicTicker\"},{\"attributes\":{\"coordinates\":null,\"group\":null},\"id\":\"1039\",\"type\":\"Title\"},{\"attributes\":{},\"id\":\"1042\",\"type\":\"BasicTickFormatter\"},{\"attributes\":{\"label\":{\"value\":\"Solution of the model IVP\"},\"renderers\":[{\"id\":\"1037\"}]},\"id\":\"1051\",\"type\":\"LegendItem\"},{\"attributes\":{\"source\":{\"id\":\"1033\"}},\"id\":\"1038\",\"type\":\"CDSView\"},{\"attributes\":{\"bottom_units\":\"screen\",\"coordinates\":null,\"fill_alpha\":0.5,\"fill_color\":\"lightgrey\",\"group\":null,\"left_units\":\"screen\",\"level\":\"overlay\",\"line_alpha\":1.0,\"line_color\":\"black\",\"line_dash\":[4,4],\"line_width\":2,\"right_units\":\"screen\",\"syncable\":false,\"top_units\":\"screen\"},\"id\":\"1025\",\"type\":\"BoxAnnotation\"},{\"attributes\":{},\"id\":\"1048\",\"type\":\"Selection\"},{\"attributes\":{},\"id\":\"1005\",\"type\":\"DataRange1d\"},{\"attributes\":{\"coordinates\":null,\"group\":null,\"items\":[{\"id\":\"1051\"},{\"id\":\"1071\"}]},\"id\":\"1050\",\"type\":\"Legend\"},{\"attributes\":{},\"id\":\"1046\",\"type\":\"AllLabels\"},{\"attributes\":{\"line_color\":\"purple\",\"line_dash\":[6],\"x\":{\"field\":\"x\"},\"y\":{\"field\":\"y\"}},\"id\":\"1053\",\"type\":\"Line\"},{\"attributes\":{\"data\":{\"x\":{\"__ndarray__\":\"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\",\"dtype\":\"float64\",\"order\":\"little\",\"shape\":[1000]},\"y\":{\"__ndarray__\":\"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\",\"dtype\":\"float64\",\"order\":\"little\",\"shape\":[1000]}},\"selected\":{\"id\":\"1048\"},\"selection_policy\":{\"id\":\"1047\"}},\"id\":\"1033\",\"type\":\"ColumnDataSource\"}],\"root_ids\":[\"1002\"]},\"title\":\"Bokeh Application\",\"version\":\"2.4.1\"}};\n",
       "  const render_items = [{\"docid\":\"0152b731-66c9-4e6e-be15-0d5e12d37f6d\",\"notebook_comms_target\":\"1085\",\"root_ids\":[\"1002\"],\"roots\":{\"1002\":\"12281156-7d81-421a-b80a-56ac331ebc8d\"}}];\n",
       "  root.Bokeh.embed.embed_items_notebook(docs_json, render_items);\n",
       "\n",
       "  }\n",
       "  if (root.Bokeh !== undefined) {\n",
       "    embed_document(root);\n",
       "  } else {\n",
       "    let attempts = 0;\n",
       "    const timer = setInterval(function(root) {\n",
       "      if (root.Bokeh !== undefined) {\n",
       "        clearInterval(timer);\n",
       "        embed_document(root);\n",
       "      } else {\n",
       "        attempts++;\n",
       "        if (attempts > 100) {\n",
       "          clearInterval(timer);\n",
       "          console.log(\"Bokeh: ERROR: Unable to run BokehJS code because BokehJS library is missing\");\n",
       "        }\n",
       "      }\n",
       "    }, 10, root)\n",
       "  }\n",
       "})(window);"
      ],
      "application/vnd.bokehjs_exec.v0+json": ""
     },
     "metadata": {
      "application/vnd.bokehjs_exec.v0+json": {
       "id": "1002"
      }
     },
     "output_type": "display_data"
    },
    {
     "data": {
      "application/vnd.jupyter.widget-view+json": {
       "model_id": "18b325f79b674f48ab7b57b322e8abe4",
       "version_major": 2,
       "version_minor": 0
      },
      "text/plain": [
       "interactive(children=(FloatSlider(value=0.12566370614359174, description='tau', max=0.6283185307179586, min=0.…"
      ]
     },
     "metadata": {},
     "output_type": "display_data"
    }
   ],
   "source": [
    "t0 = 0.\n",
    "tf = 2*np.pi\n",
    "y0 = 1.\n",
    "tau = tf*2e-2\n",
    "lbda = -1/tau\n",
    "\n",
    "def g(t):\n",
    "    return np.sin(t)\n",
    "def gprime(t):\n",
    "    return np.cos(t)\n",
    "nt = 1000\n",
    "texa0 = np.linspace(t0,tf,nt)\n",
    "\n",
    "yexa0 = y_exa0(texa0,t0,y0,lbda,g)\n",
    "\n",
    "fig1 = figure(x_range=(t0, tf), width=980, height=400, x_axis_label='t', y_axis_label='x(t)')\n",
    "plt_sol = fig1.line(texa0,yexa0,legend_label = 'Solution of the model IVP')\n",
    "plt_lim = fig1.line(texa0,np.sin(texa0),color='purple',line_dash = 'dashed',legend_label = 'sin(t)')\n",
    "\n",
    "show(fig1,notebook_handle=True)\n",
    "def update(tau):\n",
    "\n",
    "    lbda = -1/tau\n",
    "    yexa0 = y_exa0(texa0,t0,y0,lbda,g)\n",
    "    \n",
    "    plt_sol.data_source.data = dict(x=texa0, y=yexa0)\n",
    "\n",
    "    \n",
    "    push_notebook()\n",
    "\n",
    "_ = interact(update, tau=FloatSlider(min=1e-3*tf, max=1e-1*tf, step=1e-3*tf, value=tau))"
   ]
  },
  {
   "cell_type": "markdown",
   "metadata": {},
   "source": [
    "As we can see on this plot the solution to our model CP (0) essentially consists of two regimes:\n",
    "* A first transient regime, which length depends on a chosen characteristic time $\\tau$, during which the solution converges from its intial point $y_0$ to the curve $(t,\\sin(t))$. This regime is associated with strong variations of our solution function.\n",
    "* A second somewhat 'steady' regime, where the solution sticks to the curve $(t,\\sin(t))$, and where the variations of the solution functions are much lesser than in the first transient regime.\n",
    "\n",
    "In practical situations, we often encounter situations when we are more interested in the steady state of our problem than in the transient regime that leads to it. Consequently, our efforts focus on achieving a global accuracy adapted to the slow variations of the steady regime, and not so much on the fast-variation of the transient regime.\n",
    "\n",
    "As we will see below (part (II)), the very idea of the A-stability is precisely to allow for not accurately solving the first transient regime while keeping enough stability to have a reasonnable accuracy for our approximation in the 'steady' regime. On the other hand, methods that are not A-stable require very fine step size $h$ in order not to blow up during the first transient regime, and lead to very inefficient treatment of the slow time-varying 'steady' regime."
   ]
  },
  {
   "cell_type": "markdown",
   "metadata": {},
   "source": [
    "# Part I: Zero-Stability"
   ]
  },
  {
   "cell_type": "markdown",
   "metadata": {},
   "source": [
    "To illustrate the notion of zero stability, we introduce in this part the Dahlquist Method (described in chapter 4 of *Griffiths and Higham*) and we show that it is not zero-stable.\n",
    "\n",
    "To do so, we consider the simplest of all initial value problems (denoted hereafter IVP (1)):\n",
    "$$\n",
    "f_1(t,y) = 0, y(0) = y_0, \\text{ so that } y_{exa}^1(t) = y_0\n",
    "$$\n",
    "\n",
    "The Dahlquist method is defined by the relation:\n",
    "$$\n",
    "u_{n+2} + 4 u_{n+1} - 5 u_n = h\\left(4 f(t_{n+1},u_{n+1}) + 2 f(t_n,u_n)\\right)\n",
    "$$\n"
   ]
  },
  {
   "cell_type": "markdown",
   "metadata": {},
   "source": [
    "### Theoretical study"
   ]
  },
  {
   "cell_type": "markdown",
   "metadata": {},
   "source": [
    "**Q1. Show that the Dahlquist method is consistent and dertermine its theoretical order of consistency.**"
   ]
  },
  {
   "cell_type": "markdown",
   "metadata": {},
   "source": [
    "*Please write your answer here.* \n",
    "\n",
    "Assume that $u_n = u(t_n)$ and $u_{n+1} = u(t_{n+1})$, meaning at the beginning the numerical solution are equal to the exact solution. Let $u_{n+2}$ be given by the Dahlquist method. Then, the local truncational error is defined by the difference of the exact solution and the numerical solution. \n",
    "\n",
    "\\begin{align} \n",
    "    \\epsilon_{n+2} &= u(t_{n+2}) - u_{n+2} \n",
    "    \\\\ \n",
    "    &= u(t_{n+2}) + 4 u(t_{n+1}) - 5 u(t_n) - h \\left( 4 f(t_{n+1},u(t_{n+1})) + 2 f(t_n,u(t_n)) \\right) \n",
    "    \\\\ \n",
    "    &= u(t_{n+2}) + 4 u(t_{n+1}) - 5 u(t_n) - h \\left( 4 u'(t_{n+1}) + 2 u'(t_n)) \\right) \n",
    "\\end{align}\n",
    "\n",
    "We want to have that $\\epsilon_{n+2} = O(h^{p+1})$. From Taylor expansion, we have that \n",
    "\n",
    "\\begin{align} \n",
    "    u(t_{n+2}) &= u(t_n) + 2h u'(t_n) + \\frac{1}{2} (2h)^2 u''(t_n) + \\frac{1}{6} (2h)^3 u'''(t_n) + \\frac{1}{24} (2h)^4 u''''(t_n) + O(h^5)\n",
    "    \\\\ \n",
    "    u(t_{n+1}) &= u(t_n) + hu'(t_n) + \\frac{1}{2} h^2 u''(t_n) + \\frac{1}{6} h^3 u'''(t_n) + \\frac{1}{24} h^4 u''''(t_n) + O(h^5) \n",
    "    \\\\ \n",
    "    u'(t_n) - u'(t_{n+1}) &= - h u''(t_n) - \\frac{1}{2} h^2 u'''(t_n) - \\frac{1}{6} h^3 u''''(t_n) + O(h^4) \n",
    "\\end{align} \n",
    "\n",
    "Substituting all the expression in the definition of $\\epsilon_{n+2}$, we obtain that \n",
    "\n",
    "\\begin{align} \n",
    "    &\\text{0th order term :} \\quad (1 + 4 - 5) u(t_n) = 0 \n",
    "    \\\\ \n",
    "    &\\text{1st order term :} \\quad h (2 - 2) u'(t_n) = 0 \n",
    "    \\\\ \n",
    "    &\\text{2nd order term :} \\quad h^2 \\left( \\frac{4}{2} + \\frac{4}{2} - 4 \\right) u''(t_n) = 0 \n",
    "    \\\\ \n",
    "    &\\text{3rd order term :} \\quad h^3 \\left( \\frac{8}{6} + \\frac{4}{6} - \\frac{4}{2} \\right) u'''(t_n) = 0 \n",
    "    \\\\ \n",
    "    &\\text{4th order term :} \\quad h^4 \\left( \\frac{16}{24} + \\frac{4}{24} - \\frac{4}{6} \\right) u''''(t_n) \\neq 0 \n",
    "\\end{align}\n",
    "\n",
    "Therefore, the order of consistancy is $4 - 1 = 3$. "
   ]
  },
  {
   "cell_type": "markdown",
   "metadata": {},
   "source": [
    "In the particular case of IVP (1) the Dahlquist method reads:\n",
    "$$\n",
    "u_{n+2} + 4 u_{n+1} - 5 u_n = 0\n",
    "$$\n",
    "\n",
    "**Q2. Given $u_0$ and $u_1$, find the unique sequence that satisfies this equation.**"
   ]
  },
  {
   "cell_type": "markdown",
   "metadata": {},
   "source": [
    "*Please write your answer here.* \n",
    "\n",
    "We use the following auxilary equation. \n",
    "\n",
    "\\begin{equation} \n",
    "    r^2 + 4r - 5 = 0 \\quad \\longrightarrow \\quad r \\in \\left{ 1, -5 \\right} \n",
    "\\end{equation}"
   ]
  },
  {
   "cell_type": "markdown",
   "metadata": {},
   "source": [
    "**Q3. Show that if $u_1=y(t_1)$, that is in this case $u_1=u_0$, then the method yields the correct result.**"
   ]
  },
  {
   "cell_type": "markdown",
   "metadata": {},
   "source": [
    "*Please write your answer here.*"
   ]
  },
  {
   "cell_type": "markdown",
   "metadata": {},
   "source": [
    "In practice one can only expect to have an approximate starting value $u_1$ that verifies $u_1\\sim y(t_1)$ as $h \\to 0$. A representative example is for instance $u_1 = y_0+h$.\n",
    "\n",
    "**Q4. Does the method converge if $u_0 = y_0$ and $u_1 = y_0+h$?**"
   ]
  },
  {
   "cell_type": "markdown",
   "metadata": {},
   "source": [
    "*Please write your answer here.*"
   ]
  },
  {
   "cell_type": "markdown",
   "metadata": {},
   "source": [
    "### Numerical study"
   ]
  },
  {
   "cell_type": "code",
   "execution_count": 9,
   "metadata": {},
   "outputs": [],
   "source": [
    "def f1(t,y):\n",
    "    return np.zeros(np.shape(y))\n",
    "\n",
    "def y_exa1(t):\n",
    "    return np.ones(np.shape(t))"
   ]
  },
  {
   "cell_type": "markdown",
   "metadata": {},
   "source": [
    "**Q5. Implement the Dahlquist method. Your method should take as argument the IVP function $f$, the initial and final times $t_0$ and $t_f$, the size of the output vector $n_t$ ($n_t\\geq2$), and the starting points $u_0$ and $u_1$**"
   ]
  },
  {
   "cell_type": "code",
   "execution_count": 10,
   "metadata": {},
   "outputs": [],
   "source": [
    "def Dahlquist(f, t0, tf, nt, u0, u1):\n",
    "    h = float(tf-t0)/(nt-1) \n",
    "    t = [t0 + i*h for i in range(nt)] \n",
    "    u = np.zeros((nt,)) \n",
    "    \n",
    "    for i in range(nt): \n",
    "        if (i == 0): \n",
    "            u[i] = u0 \n",
    "        elif (i == 1): \n",
    "            u[i] = u1 \n",
    "        else: \n",
    "            u[i] = - 4*u[i-1] + 5*u[i-2] + h*(4*f(t[i-1], u[i-1]) + 2*f(t[i-2], u[i-2])) \n",
    "    \n",
    "    return u"
   ]
  },
  {
   "cell_type": "markdown",
   "metadata": {},
   "source": [
    "**Q6. Check that that if $u_1 = u_0 = y_0 = 1$ the method functions correctly.**"
   ]
  },
  {
   "cell_type": "code",
   "execution_count": 16,
   "metadata": {},
   "outputs": [
    {
     "data": {
      "image/png": "[encoded data removed]",
      "text/plain": [
       "<Figure size 432x288 with 1 Axes>"
      ]
     },
     "metadata": {
      "needs_background": "light"
     },
     "output_type": "display_data"
    }
   ],
   "source": [
    "t0 = 0 \n",
    "tf = 50 \n",
    "nt = 51 \n",
    "h = float(tf-t0)/(nt-1) \n",
    "t = [t0 + i*h for i in range(nt)] \n",
    "u = Dahlquist(f1, t0, tf, nt, 1, 1) \n",
    "y = [y_exa1(t[i]) for i in range(nt)] \n",
    "\n",
    "fig = plt.figure(1) \n",
    "ax1 = fig.add_subplot(111) \n",
    "ax1.plot(t, u, color='b', label='numerical solution') \n",
    "ax1.plot(t, y, color='r', label='exact solution') \n",
    "plt.legend() \n",
    "plt.show() "
   ]
  },
  {
   "cell_type": "markdown",
   "metadata": {},
   "source": [
    "**Q7. Now we consider the case $u_1 = y_0+h$. Plot the error $e_n = |u_n-y_{exa}^1(t_n)|$ using log-scales of the y-axis. Is the slope of the curve you obtain what you expected?**"
   ]
  },
  {
   "cell_type": "code",
   "execution_count": 7,
   "metadata": {},
   "outputs": [],
   "source": [
    "#########################\n",
    "#Please answer here.\n",
    "#########################"
   ]
  },
  {
   "cell_type": "markdown",
   "metadata": {},
   "source": [
    "# Part II: Absolute stability"
   ]
  },
  {
   "cell_type": "markdown",
   "metadata": {},
   "source": [
    "In this part we come back to the test equation case:\n",
    "\\begin{equation}\n",
    "\\left\\{\n",
    "\\begin{aligned}\n",
    "y^\\prime(t)&=\\lambda y, \\quad t\\geq t_0\\\\\n",
    "y(t_0)&= y_0\n",
    "\\end{aligned}\n",
    "\\right.\n",
    "\\end{equation}\n",
    "with $y : t \\mapsto y(t) \\in \\mathbb{C}$, $\\lambda\\in \\mathbb{C}$ such that $\\Re (\\lambda) <0$.\n",
    "\n",
    "For instance from the Giffiths and Higham textbook, we get the following definition for the Absolute stability:\n",
    "\n",
    "\"A numerical method is said to be absolutely stable if, when applied to the test problem\n",
    "$y^\\prime(t)  = \\lambda y(t) $ with $\\Re (\\lambda) < 0$ and a given value of $\\hat{h} = h \\lambda$, its solutions tend to\n",
    "zero as $n\\to \\infty$ for any choice of starting values.\"\n",
    "\n",
    "As mentioned above, the idea behind this definition is that we require of our approximate solution that it preserves the long-term behavior of the exact solution. Another way to intuitively see the effect of this property is that we want to translate the possible damping properties of the exact solution into the approximate solution.\n",
    "\n",
    "In order to illustrate this new definition, we will use the forward Euler and backward Euler methods.\n",
    "\n",
    "For the test equation case, the forward Euler method reads:\n",
    "$$\n",
    "u_{n+1} = u_n + h (\\lambda u_n), \\quad \\forall n \\in \\mathbb{N}\n",
    "$$\n",
    "Equivalently we can write $u_{n+1} = (1+\\lambda h) u_n$, for all $n\\in \\mathbb{N}$, so that the solution to the discrete problem is:\n",
    "$$\n",
    "u_n = \\left(1+\\lambda h\\right)^n u_0, \\quad \\forall n \\in \\mathbb{N}\n",
    "$$\n",
    "As a result, $u_n\\to 0$ as $n\\to \\infty$ if and only if $|1+\\lambda h|<1$. In an equivalent manner we can say that the forward Euler method is absolutely stable if and only if $\\hat{h}$ strictly belongs to the disk of the complex plane centered at $-1$ and of radius $1$.\n",
    "\n",
    "Regarding the backward Euler method we have:\n",
    "$$\n",
    "u_{n+1} = u_n + h (\\lambda u_{n+1}), \\quad \\forall n \\in \\mathbb{N}\n",
    "$$\n",
    "which rewrites $u_{n+1} = \\frac{1}{1-\\lambda h}u_n$ (we recall that $\\Re(\\lambda)<0$ so that $\\lambda \\neq 0$), and the solution to the discrete probleme is:\n",
    "$$\n",
    "u_n = \\frac{1}{\\left(1-\\lambda h\\right)^n}x_0, \\quad \\forall n \\in \\mathbb{N}\n",
    "$$\n",
    "Consequently, $u_n\\to 0$ as $n\\to \\infty$ if and only if $\\frac{1}{|1-\\lambda h|}<1\\Leftrightarrow |1-\\lambda h|>1$, that is to say that the backward Euler method is absolutely stable if and only if $\\hat{h}$ does not belong to the disk of the complex plane centered at 1 and of radius 1.\n",
    "\n",
    "Concretely, if $\\lambda \\in \\mathbb{R}$ and $\\lambda<0$, we can choose any step size $h>0$ for the backward Euler method whereas for the forward Euler method only the choice $0<h<-2/\\lambda$ leads to absolute stability.\n",
    "\n",
    "We recall here the implementations of the forward Euler and backward Euler method."
   ]
  },
  {
   "cell_type": "code",
   "execution_count": 20,
   "metadata": {},
   "outputs": [],
   "source": [
    "def Euler(f, t0, tf, h, y0):\n",
    "    \n",
    "    nt = int(round((tf-t0)/h))+1 #number of columns of the output array\n",
    "    t = t0 #initial time\n",
    "    u = np.zeros((nt,))\n",
    "    u[0] = y0 #initial value\n",
    "    it = 0\n",
    "\n",
    "    for it in range(nt-1):\n",
    "        u[it+1] = u[it] + h*f(t0+it*h,u[it]) \n",
    "\n",
    "    return u\n",
    "\n",
    "def backEuler(f, t0, tf, h, y0):\n",
    "    \n",
    "    nt = int(round((tf-t0)/h))+1 #number of column of the output array\n",
    "    t = t0 #intial time\n",
    "    u = np.zeros((nt,))\n",
    "    u[0] = y0 #intial value\n",
    "    it = 0\n",
    "    \n",
    "    def g(u,tnp1,un):\n",
    "        return u-un-h*f(tnp1,u)\n",
    "    \n",
    "    for it in range(nt-1):\n",
    "        tn = t0+it*h\n",
    "        ustart = u[it]+h*f(tn,u[it]) #initial guess for the root function\n",
    "        sol = root(g,ustart,(tn+h,u[it]))\n",
    "        u[it+1] = sol.x\n",
    "    return u"
   ]
  },
  {
   "cell_type": "markdown",
   "metadata": {},
   "source": [
    "**Q8. Plot the the approximations obtained via forward and backward Euler methods as well as the exact solution for the test equation with $\\lambda = -10$, $y_0 = 1$, $t_0 = 0$, $t_f = 1$ and $h\\in\\{h_{crit}/4,h_{crit},1.01h_{crit}\\}$ with $h_{crit} = 2/|\\lambda|$**"
   ]
  },
  {
   "cell_type": "code",
   "execution_count": 23,
   "metadata": {},
   "outputs": [],
   "source": [
    "def f2(t,y):\n",
    "    return -10*y\n",
    "def y_exa2(t,lbda):\n",
    "    return np.exp(lbda*t)"
   ]
  },
  {
   "cell_type": "code",
   "execution_count": 32,
   "metadata": {},
   "outputs": [
    {
     "data": {
      "image/png": "[encoded data removed]",
      "text/plain": [
       "<Figure size 432x288 with 1 Axes>"
      ]
     },
     "metadata": {
      "needs_background": "light"
     },
     "output_type": "display_data"
    }
   ],
   "source": [
    "y0 = 1\n",
    "t0 = 0 \n",
    "tf = 1 \n",
    "lbda = -10 \n",
    "hcrt = 2 / np.abs(lbda) \n",
    "hlst = [hcrt/4, hcrt, 1.01*hcrt] \n",
    "\n",
    "h = hlst[2] \n",
    "n = int(round((tf-t0) / h)) + 1\n",
    "t = [t0 + i*h for i in range(n)] \n",
    "u1 = Euler(f2, t0, tf, h, y0) \n",
    "u2 = backEuler(f2, t0, tf, h, y0) \n",
    "y = [y_exa2(t[i], lbda) for i in range(n)] \n",
    "\n",
    "fig = plt.figure(1) \n",
    "ax1 = fig.add_subplot(111) \n",
    "ax1.plot(t, u1, color='b', label='numerical solution Euler Forward') \n",
    "ax1.plot(t, u2, color='g', label='numerical solution Euler Backward') \n",
    "ax1.plot(t, y, color='r', label='exact solution') \n",
    "plt.legend() \n",
    "plt.show() "
   ]
  },
  {
   "cell_type": "markdown",
   "metadata": {},
   "source": [
    "If $h < h_{\\text{crit}}$, then it has the aystmpote behavior. If $h = h_{\\text{crit}}$, then it has constant oscialltion. If $h > h_{\\text{crit}}$, then it diverges. "
   ]
  },
  {
   "cell_type": "markdown",
   "metadata": {},
   "source": [
    "**Q9. When the condition $h<2/|\\lambda|$ holds, is the backward Euler method more accurate than the forward Euler method? (give quantitative argument). In this case, is it relevant to use the backward Euler method?**"
   ]
  },
  {
   "cell_type": "code",
   "execution_count": 13,
   "metadata": {},
   "outputs": [],
   "source": [
    "#########################\n",
    "#Please answer here.\n",
    "#########################"
   ]
  },
  {
   "cell_type": "markdown",
   "metadata": {},
   "source": [
    "### Domain of stability and A-stability"
   ]
  },
  {
   "cell_type": "markdown",
   "metadata": {},
   "source": [
    "We call stability domain of a numerical method the region of the complex plane $\\mathbb{C}$ of absolute stability of the method, that is the set of $\\hat{h}\\in\\mathbb{C}$ such that $u_n\\to 0$ as $n\\to\\infty$ with $(u_n)$ a solution of the considered method applied to the test equation.\n",
    "\n",
    "For both the forward Euler method and the backward Euler method we can write the numerical scheme (applied to the test equation case) under the form\n",
    "\n",
    "$$u_{n+1} = R\\left(\\hat{h}\\right)u_n.$$\n",
    "\n",
    "As a result the domain of stability of these methods can be written $\\left\\{\\hat{h}\\in \\mathbb{C}, \\left|R\\left(\\hat{h}\\right)\\right|< 1\\right\\}$. We call $R$ a **stability function**. \n",
    "\n",
    "We represented the domain of stability of the forward Euler and backward Euler methods on the following graph:"
   ]
  },
  {
   "cell_type": "code",
   "execution_count": 34,
   "metadata": {},
   "outputs": [
    {
     "data": {
      "image/png": "[encoded data removed]",
      "text/plain": [
       "<Figure size 1440x1440 with 2 Axes>"
      ]
     },
     "metadata": {
      "needs_background": "light"
     },
     "output_type": "display_data"
    }
   ],
   "source": [
    "#Adapted from a notebook by Laurent Series for the course MAP551, 3rd year of the ingineering cycle at Ecole polytechnique.\n",
    "x = np.linspace(-3, 3, 500)\n",
    "y = np.linspace(-3, 3, 500)\n",
    "\n",
    "z = x + 1j*y[:, np.newaxis]\n",
    "\n",
    "fig_Eul, (ax1, ax2) = plt.subplots(1, 2, figsize=(20, 20))\n",
    "\n",
    "# forward euler\n",
    "euler = z + 1\n",
    "output_euler = np.zeros_like(z, dtype = np.double)\n",
    "mask = np.abs(euler)<=1\n",
    "output_euler[mask] = 1 #np.abs(euler[mask])\n",
    "\n",
    "plt.subplot(2, 2, 1)\n",
    "plt.title('Forward Euler', fontsize=16)\n",
    "ax1 = fig_Eul.gca()\n",
    "ax1.axvline(x=0, color='k')\n",
    "ax1.axhline(y=0, color='k')\n",
    "ax1.contourf(x, y, output_euler, cmap='Blues')\n",
    "ax1.contour(x, y, output_euler, colors='k')\n",
    "\n",
    "# RK2\n",
    "bck_euler = 1/(z - 1)\n",
    "output_bck_euler = np.zeros_like(z, dtype = np.double)\n",
    "mask = np.abs(1/bck_euler)>=1\n",
    "output_bck_euler[mask] = 1 #np.abs(bck_euler[mask])\n",
    "\n",
    "plt.subplot(2, 2, 2)\n",
    "plt.title('Backward Euler', fontsize=16)\n",
    "ax2 = fig_Eul.gca()\n",
    "ax2.axvline(x=0, color='k')\n",
    "ax2.axhline(y=0, color='k')\n",
    "ax2.contour(x, y, output_bck_euler, colors='k')\n",
    "ax2.contourf(x, y, output_bck_euler, cmap='Blues')\n",
    "\n",
    "plt.show()"
   ]
  },
  {
   "cell_type": "markdown",
   "metadata": {},
   "source": [
    "A method is said to be A-stable if its domain of stability includes the left half-plane $\\left\\{\\hat{h}\\in\\mathbb{C},\\Re\\left(\\hat{h}\\right)<0\\right\\}$.\n",
    "\n",
    "From the graph above we can deduce that the backward Euler method is A-stable and that the Euler method is not."
   ]
  },
  {
   "cell_type": "markdown",
   "metadata": {},
   "source": [
    "**Q10. Find the stability functions associated to the Trapezoidal method, the Heun Method and the second order Taylor-series method.**"
   ]
  },
  {
   "cell_type": "markdown",
   "metadata": {},
   "source": [
    "*Please write you answer here.*"
   ]
  },
  {
   "cell_type": "markdown",
   "metadata": {},
   "source": [
    "**Q11. Display the region of stability of those three methods, and comment on their A-stability properties.**"
   ]
  },
  {
   "cell_type": "code",
   "execution_count": 15,
   "metadata": {},
   "outputs": [],
   "source": [
    "#########################\n",
    "#Please answer here.\n",
    "#########################"
   ]
  },
  {
   "cell_type": "markdown",
   "metadata": {},
   "source": [
    "*Please write your answer here*"
   ]
  },
  {
   "cell_type": "markdown",
   "metadata": {},
   "source": [
    "So far the notions of absolute stability and A-stability are apparently only valid for the relatively simple test equation and therefore of little practical interest. However, methods that are A-stable actually usually perform much better than methods that are not in problems involving damping.\n",
    "\n",
    "An example of a more realistic problem is IVP (0) and is studied in the next subsection."
   ]
  },
  {
   "cell_type": "markdown",
   "metadata": {},
   "source": [
    "### Back to our initial model problem IVP (0)"
   ]
  },
  {
   "cell_type": "markdown",
   "metadata": {},
   "source": [
    "We now apply the Euler and backward Euler methods to our intial problem IVP (0)"
   ]
  },
  {
   "cell_type": "code",
   "execution_count": 35,
   "metadata": {
    "scrolled": false
   },
   "outputs": [
    {
     "data": {
      "text/html": [
       "\n",
       "\n",
       "\n",
       "\n",
       "\n",
       "\n",
       "  <div class=\"bk-root\" id=\"e6b00c9f-5563-4ad3-a663-96cad74884fb\" data-root-id=\"1451\"></div>\n"
      ]
     },
     "metadata": {},
     "output_type": "display_data"
    },
    {
     "data": {
      "application/javascript": [
       "(function(root) {\n",
       "  function embed_document(root) {\n",
       "    \n",
       "  const docs_json = {\"9a2409e1-d410-4031-9c09-a7e315392812\":{\"defs\":[],\"roots\":{\"references\":[{\"attributes\":{\"below\":[{\"id\":\"1460\"}],\"center\":[{\"id\":\"1463\"},{\"id\":\"1467\"},{\"id\":\"1499\"}],\"height\":400,\"left\":[{\"id\":\"1464\"}],\"renderers\":[{\"id\":\"1486\"},{\"id\":\"1505\"},{\"id\":\"1525\"},{\"id\":\"1547\"}],\"title\":{\"id\":\"1488\"},\"toolbar\":{\"id\":\"1475\"},\"width\":980,\"x_range\":{\"id\":\"1452\"},\"x_scale\":{\"id\":\"1456\"},\"y_range\":{\"id\":\"1454\"},\"y_scale\":{\"id\":\"1458\"}},\"id\":\"1451\",\"subtype\":\"Figure\",\"type\":\"Plot\"},{\"attributes\":{},\"id\":\"1458\",\"type\":\"LinearScale\"},{\"attributes\":{\"source\":{\"id\":\"1543\"}},\"id\":\"1548\",\"type\":\"CDSView\"},{\"attributes\":{\"fill_alpha\":{\"value\":0.1},\"fill_color\":{\"value\":\"white\"},\"hatch_alpha\":{\"value\":0.1},\"hatch_color\":{\"value\":\"navy\"},\"line_alpha\":{\"value\":0.1},\"line_color\":{\"value\":\"navy\"},\"size\":{\"value\":8},\"x\":{\"field\":\"x\"},\"y\":{\"field\":\"y\"}},\"id\":\"1523\",\"type\":\"Circle\"},{\"attributes\":{\"end\":3,\"start\":-3},\"id\":\"1454\",\"type\":\"Range1d\"},{\"attributes\":{\"line_alpha\":0.1,\"line_color\":\"#1f77b4\",\"x\":{\"field\":\"x\"},\"y\":{\"field\":\"y\"}},\"id\":\"1484\",\"type\":\"Line\"},{\"attributes\":{\"fill_alpha\":{\"value\":0.1},\"fill_color\":{\"value\":\"#1f77b4\"},\"hatch_alpha\":{\"value\":0.1},\"line_alpha\":{\"value\":0.1},\"line_color\":{\"value\":\"#1f77b4\"},\"size\":{\"value\":8},\"x\":{\"field\":\"x\"},\"y\":{\"field\":\"y\"}},\"id\":\"1545\",\"type\":\"Circle\"},{\"attributes\":{},\"id\":\"1564\",\"type\":\"Selection\"},{\"attributes\":{\"end\":6.283185307179586},\"id\":\"1452\",\"type\":\"Range1d\"},{\"attributes\":{},\"id\":\"1461\",\"type\":\"BasicTicker\"},{\"attributes\":{\"data\":{\"x\":{\"__ndarray__\":\"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\",\"dtype\":\"float64\",\"order\":\"little\",\"shape\":[1000]},\"y\":{\"__ndarray__\":\"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\",\"dtype\":\"float64\",\"order\":\"little\",\"shape\":[1000]}},\"selected\":{\"id\":\"1497\"},\"selection_policy\":{\"id\":\"1496\"}},\"id\":\"1482\",\"type\":\"ColumnDataSource\"},{\"attributes\":{},\"id\":\"1492\",\"type\":\"AllLabels\"},{\"attributes\":{\"fill_alpha\":{\"value\":0.2},\"fill_color\":{\"value\":\"white\"},\"hatch_alpha\":{\"value\":0.2},\"hatch_color\":{\"value\":\"navy\"},\"line_alpha\":{\"value\":0.2},\"line_color\":{\"value\":\"navy\"},\"size\":{\"value\":8},\"x\":{\"field\":\"x\"},\"y\":{\"field\":\"y\"}},\"id\":\"1524\",\"type\":\"Circle\"},{\"attributes\":{\"data\":{\"x\":{\"__ndarray__\":\"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\",\"dtype\":\"float64\",\"order\":\"little\",\"shape\":[1000]},\"y\":{\"__ndarray__\":\"AAAAAAAAAABONnLm8sJ5Pw1f+IHRwok/5EINZPNRkz+dtRTxS8KZP/GmbNswGaA/GHhnAhJRoz/K8aAVwYimP+QJwb01wKk/VigHpGf3rD+p4i85JxewP+ECvelwsrE/3qpuuYxNsz9pgH9+dui0P/rjqw8qg7Y/ULo8RKMduD+sNBL03be5P3uXrvfVUbs/Xv9AKIfrvD9qJLBf7YS+P82NUjwCD8A/IgtLJ2TbwD+5j+hemqfBP4lrw9Gic8I/cJXqbns/wz9xBuklIgvEP68Ty+aU1sQ/HccjotGhxT/LNhJJ1mzGP9HaRs2gN8c/ueEIIS8CyD9hgzs3f8zIP1VSYwOPlsk/doureVxgyj/8Y+uO5SnLP7pVqzgo88s/jWkqbSK8zD//f2Mj0oTNP/uXElM1Tc4/iRO69EkVzz+R+qcBDt3PP8ad/bk/UtA/BXVUI8610D+UvcA6MRnRP9f/mv5nfNE//62ubXHf0T/SvjyHTELSP0ZH/kr4pNI/3hInuXMH0z/UOmjSvWnTP+278pfVy9M/Gwt6C7ot1D+tqDYvao/UP0Wy6AXl8NQ/WHPakilS1T9O9OLZNrPVP0OIaN8LFNY/PFljqKd01j/y8l86CdXWPyDMgZsvNdc/N86F0hmV1z+a28TmxvTXPzZUNuA1VNg/hphyx2Wz2D/1irWlVRLZP5UP4YQEcdk/Lop/b3HP2T+QWsZwmy3aPzBXmJSBi9o/BEaI5yLp2j+NU9t2fkbbPx6Ii1CTo9s/TztKg2AA3D+EhYIe5VzcP6WvWzIgudw/66C7zxAV3T+xSkkItnDdP2ISb+4OzN0/YzldlRon3j/8QgwR2IHeP0BYP3ZG3N4/3amG2mQ23z/mz0FUMpDfP3Qnovqt6d8/HZfWcmsh4D/wbR8X1k3gP5z8BXcWeuA/qTrSHyym4D8d3DqfFtLgP8R5ZoPV/eA/XLjsWmgp4T+Qbte0zlThP9DJoyAIgOE/AHJDLhSr4T/5qx1u8tXhP9R6EHGiAOI/BsBxyCMr4j9GWhAGdlXiPzRDNbyYf+I/yKukfYup4j+CF5/dTdPiP1R24m/f/OI/RT2ryD8m4z/afbV8bk/jPyH8PSFreOM/ekMDTDWh4z8NukaTzMnjP+6yzY0w8uM/6X7i0mAa5D/ze1X6XELkP0YjfpwkauQ/HBY8UreR5D8DKfi0FLnkP9ZtpV484OQ/TTzC6S0H5T8hOVnx6C3lP8ZbAhFtVOU/uvLj5Ll65T9cprMJz6DlP1Z6txysxuU/jc3Gu1Ds5T+YWEuFvBHmP8EqQhjvNuY/gKU8FOhb5j96dmEZp4DmP/2PbcgrpeY/9R+1wnXJ5j9ehSSqhO3mPx5EQSFYEec/Y/cqy+805z9qQpxLS1jnP6y/60Zqe+c/h+4MYkye5z9EH5FC8cDnP4VdqI5Y4+c/IVki7YEF6D9STW8FbSfoP1bmoH8ZSeg/XCVrBIdq6D/UQiU9tYvoPx6PytOjrOg/gVH7clLN6D+Gpf3FwO3oP5ZWvnjuDek/9LnRN9st6T8Ch3Swhk3pP8qtjJDwbOk/2SuqhhiM6T9f3wdC/qrpP5JYjHKhyek/U6nKyAHo6T8YMwP2HgbqPxVzJKz4I+o/l8zLnY5B6j+qUUZ+4F7qP+qJkQHue+o/lDdc3LaY6j/CGgfEOrXqP+SypW550eo/Yv7+knLt6j9sOI7oJQnrPwKVgyeTJOs/GPvECLo/6z/rvO5FmlrrP35OVJkzdes/NvoAvoWP6z+hk7hvkKnrP1wo+GpTw+s/E6/2bM7c6z+otKUzAfbrP3MHsn3rDuw/k2CECo0n7D9uC0Ka5T/sPzGLze30V+w/cz7Hxrpv7D/lAI7nNofsPxzLPxNpnuw/YVC6DVG17D+cmpub7svsPz+kQoJB4uw/SvDPh0n47D9QICZzBg7tP4iI6gt4I+0/5sGFGp447T85OiRoeE3tP0vCtr4GYu0/Chrz6Eh27T+telSyPortP9geHOfnne0/x8hRVESx7T9nRsTHU8TtP4LzCRAW1+0/zTmB/Irp7T8BD1FdsvvtP+FwaQOMDe4/Qt+DwBcf7j/90yNnVTDuP9o4l8pEQe4/ddv2vuVR7j8H3yYZOGLuPy8s1647cu4/n96DVvCB7j+8sHXnVZHuPy1lwjlsoO4/Vi5NJjOv7j+8E8eGqr3uP1VVrzXSy+4/wcxTDqrZ7j9uTNHsMefuP538E65p9O4/VbbXL1EB7z84XKhQ6A3vPzox4u8uGu8/RC2y7SQm7z+uTxYryjHvP6jv3YkePe8/dwqq7CFI7z+jj+021FLvP/Gq7Uw1Xe8/TwzCE0Vn7z+PLVVxA3HvPwmWZExweu8/FxyBjIuD7z9tJA8aVYzvP0vfRt7MlO8/joM0w/Kc7z+Wh7izxqTvPwzYh5tIrO8/fAwsZ3iz7z/JmQMEVrrvP3oCQmDhwO8/4gTwahrH7z8Ux+sTAc3vP70A6UuV0u8/yCJxBNfX7z/ffOMvxtzvP75gdcFi4e8/XUMyrazl7z/u2/vno+nvP65AimdI7e8/kQFsIprw7z+2QAYQmfPvP77IlChF9u8/5iAqZZ747z8En6+/pPrvP0h35TJY/O8/4cliurj97z9irpVSxv7vPws9w/iA/+8/15UHq+j/7z9o5VVo/f/vP7lneDC//+8/smgQBC7/7z99QpbkSf7vP7xZWdQS/e8/ixeA1oj77z9V4Qfvq/nvP3sOxSJ89+8/z9tid/n07z/jXGPzI/LvPyxrH5777u8/75LGf4Dr7z8R/l6hsufvP6pcxQyS4+8/esuszB7f7z8puJ7sWNrvP2HD+nhA1e8/tqD2ftXP7z9q9J0MGMrvPwUv0jAIxO8/vmZK+6W97z++LpN88bbvPztsDsbqr+8/Zinz6ZGo7z81Zk375qDvP/7m/Q3qmO8/8wC6NpuQ7z9vZAuL+ofvPyPlTyEIf+8/GkC5EMR17z+W30xxLmzvP8uc41tHYu8/dH8p6g5Y7z9Ke502hU3vP0srkVyqQu8/8YooeH437z83rVmmASzvP4px7AQ0IO8/jzZ6shUU7z/Vim3OpgfvP1/bAXnn+u4/GCBD09ft7j8jhg3/d+DuPxkYDR/I0u4/I2S9VsjE7j/8H2nKeLbuP97KKZ/Zp+4/Vk3n+uqY7j/4llcErYnuPxA6/uIfeu4/JgUsv0Nq7j+Cmv7BGFruP5EFYBWfSe4/Pk4G5NY47j82CnNZwCfuPybs8qFbFu4/1lCd6qgE7j9QylNhqPLtP+aowTRa4O0/PIJblL7N7T87tl6w1brtPwjy0Lmfp+0/7LB/4hyU7T80u/9cTYDtPxWjrFwxbO0/iD+oFclX7T8eJdq8FEPtP+Ac74cULu0/J5lYrcgY7T90KExkMQPtP1bmwuRO7ew/Sep4ZyHX7D+otOwlqcDsP5iZXlrmqew/CyrQP9mS7D/ImgMSgnvsP3opew3hY+w/1n94b/ZL7D/TFPx1wjPsP+OLxF9FG+w/UBJObH8C7D+lutHbcOnrPzXWRO8Z0Os/q0xY6Hq26z/I8XcJlJzrPyrZyZVlgus/Oagt0e9n6z835jsAM03rP2ZKRWgvMus/VghST+UW6z9cGiH8VPvqPyiKJ7Z+3+o/hbePxWLD6j9CnThzAafqP0wUtQhbiuo/7hRL0G9t6j9J9vIUQFDqP/arViLMMuo/3gHRRBQV6j9M1mzJGPfpPzBS5P3Z2Ok/nR+gMFi66T+Hnrawk5vpP8AX682MfOk/I+6s2ENd6T8azhYiuT3pP1nb7fvsHek/4NyguN/96D9KZ0erkd3oP2QFoScDveg/EF8UgjSc6D91Xq4PJnvoP4RTISbYWeg/0RXEG0s46D+6JJFHfxboP+zFJQF19Oc/SCLBoCzS5z8RYUN/pq/nP4rBLPbijOc/87KcX+Jp5z/f6lAWpUbnP/55pHUrI+c/Qt+O2XX/5j92GaOehNvmP0K3DiJYt+Y/luWYwfCS5j+XfKHbTm7mP+wKIM9ySeY/j9+i+1wk5j8gEk7BDf/lP5SJ2oCF2eU/ggGVm8Sz5T/iDV1zy43lP1QdpGqaZ+U/6Hls5DFB5T91SEhEkhrlP3WGWO678+Q/cQZMR6/M5D/+al60bKXkP08gV5v0feQ/WFSIYkdW5D+F7c1wZS7kPyWAjC1PBuQ/S0KwAAXe4z9u/qtSh7XjP6MEeIzWjOM/fBqRF/Nj4z+Mafdd3TrjP6FsLcqVEeM/ods2xxzo4j8blpfAcr7iP5OMUiKYlOI/eqjoWI1q4j/mslfRUkDiPwE6GfnoFeI/SHUhPlDr4T9rKN4OicDhPxKFNdqTleE/WguFD3Fq4T8kaaAeIT/hPyZY0HekE+E/3HrRi/vn4D9AONPLJrzgP1+WdqkmkOA/xhPNlvtj4D/Kf1cGpjfgP7HRBGsmC+A/df1hcPq83z84nkfDVWPfP45jH7dfCd8/ch4hNRmv3j9bNlUng1TeP4NKknie+d0/GNF6FGye3T9gtHrn7ELdP9LtxN4h59w/Jh9R6AuL3D9xKdnyqy7cPzzC1u0C0ts/sAaByRF12z/yDMp22RfbP1hzXOdauto/Ae6YDZdc2j930pPcjv7ZP4ShEkhDoNk/PY+JRLVB2T9FCRnH5eLYP1U7i8XVg9g/CpJRNoYk2D8EPIIQ+MTXP1ap1UssZdc/UQmk4CMF1z+xxuLH36TWP04CIvtgRNY/+AuKdKjj1T8P2tgut4LVP3Z/XyWOIdU/CaD/Uy7A1D+m4yi3mF7UP79n1kvO/NM/gC+MD9Ca0z+dklQAnzjTP7iqvRw81tI/d7/WY6hz0j9NsS3V5BDSP+5izHDyrdE/qyE2N9JK0T9IDGUphefQP+Z4x0gMhNA/m1k9l2gg0D/nPysuNnnPP4U+F5ZJsc4/1tuIbA3pzT8Zi5i4gyDNP0zEJ4KuV8w/bsDb0Y+Oyz+/MxixKcXKPxkG+il++8k/UwlSR48xyT8jrp8UX2fIP6C2C57vnMc/pOdi8ELSxj8/uBAZWwfGP5b/GSY6PMU/O6EXJuJwxD/+NzEoVaXDP1W/FzyV2cI/WDsAcqQNwj9tX57ahEHBP6IzH4c4dcA/lXFHEoNRvz9nF3flQ7i9P0ENv6y3Hrw/qMTYjeKEuj+MqzqvyOq4P+1pDThuULc/sB0hUNe1tT/DlOIfCBu0P6eFUNAEgLI/h8bwitHksD/VBYvz5JKuP1DghI7XW6s/YAGEPIMkqD9hLPVT8OykP85m5ysntaE/ga/sN2D6nD8YUWn4JoqWP7DFLEqzGZA/JDhtvStSgz/jvZQ/+8JpP663lD/7wmm/lzZtvStSg7/pxCxKsxmQv1FQafgmipa/u67sN2D6nL9rZucrJ7Whvz4s9VPw7KS//QCEPIMkqL/t34SO11urv3IFi/Pkkq6/VcbwitHksL91hVDQBICyv5GU4h8IG7S/fx0hUNe1tb+8aQ04blC3v1urOq/I6ri/d8TYjeKEur8QDb+stx68vzYXd+VDuL2/g3FHEoNRv7+JMx+HOHXAv1RfntqEQcG/QDsAcqQNwr88vxc8ldnCv+U3MShVpcO/IqEXJuJwxL9+/xkmOjzFvye4EBlbB8a/jOdi8ELSxr+Htgue75zHvwuunxRfZ8i/OglSR48xyb8ABvopfvvJv6YzGLEpxcq/VcDb0Y+Oy780xCeCrlfMvwGLmLiDIM2/vtuIbA3pzb9tPheWSbHOv88/Ky42ec+/j1k9l2gg0L/aeMdIDITQvzwMZSmF59C/nyE2N9JK0b/iYsxw8q3Rv0GxLdXkENK/a7/WY6hz0r+sqr0cPNbSv5GSVACfONO/dC+MD9Ca07+zZ9ZLzvzTv5vjKLeYXtS//Z//Uy7A1L9qf18ljiHVvwTa2C63gtW/7AuKdKjj1b9CAiL7YETWv63G4sffpNa/RQmk4CMF179KqdVLLGXXv/k7ghD4xNe//5FRNoYk2L9JO4vF1YPYvzkJGcfl4ti/Mo+JRLVB2b95oRJIQ6DZv2zSk9yO/tm/9u2YDZdc2r9Nc1znWrrav+cMynbZF9u/rAaByRF1278wwtbtAtLbv2Yp2fKrLty/Gx9R6AuL3L/H7cTeIefcv1W0eufsQt2/DdF6FGye3b94SpJ4nvndv1A2VSeDVN6/Zx4hNRmv3r+DYx+3Xwnfvy6eR8NVY9+/av1hcPq837+s0QRrJgvgv8V/VwamN+C/wRPNlvtj4L9alnapJpDgvzo408smvOC/1nrRi/vn4L8gWNB3pBPhvx5poB4hP+G/VQuFD3Fq4b8MhTXak5Xhv2Yo3g6JwOG/Q3UhPlDr4b/8ORn56BXiv+GyV9FSQOK/dajoWI1q4r+OjFIimJTivxaWl8ByvuK/nNs2xxzo4r+cbC3KlRHjv4dp913dOuO/dxqRF/Nj47+eBHiM1ozjv2n+q1KHteO/RkKwAAXe478hgIwtTwbkv4PtzXBlLuS/U1SIYkdW5L9LIFeb9H3kv/lqXrRspeS/bAZMR6/M5L9whljuu/Pkv3FISESSGuW/5Hls5DFB5b9PHaRqmmflv90NXXPLjeW/fQGVm8Sz5b+QidqAhdnlvxwSTsEN/+W/jt+i+1wk5r/nCiDPcknmv5J8odtObua/kuWYwfCS5r89tw4iWLfmv3IZo56E2+a/Pt+O2XX/5r/6eaR1KyPnv9vqUBalRue/7rKcX+Jp57+GwSz24oznvw1hQ3+mr+e/RCLBoCzS57/rxSUBdfTnv7YkkUd/Fui/zRXEG0s46L99UyEm2Fnov3Berg8me+i/CV8UgjSc6L9hBaEnA73ov0lnR6uR3ei/3NyguN/96L9X2+377B3pvxbOFiK5Pem/Iu6s2ENd6b+8F+vNjHzpv4aetrCTm+m/lx+gMFi66b8sUuT92djpv0bWbMkY9+m/2gHRRBQV6r/wq1YizDLqv0X28hRAUOq/7RRL0G9t6r9IFLUIW4rqv0GdOHMBp+q/grePxWLD6r8niie2ft/qv1gaIfxU++q/UwhST+UW679gSkVoLzLrvzTmOwAzTeu/NKgt0e9n678n2cmVZYLrv8PxdwmUnOu/qUxY6Hq267801kTvGdDrv6K60dtw6eu/ThJObH8C7L/gi8RfRRvsv9IU/HXCM+y/0394b/ZL7L93KXsN4WPsv8OaAxKCe+y/CSrQP9mS7L+TmV5a5qnsv6W07CWpwOy/Rep4ZyHX7L9T5sLkTu3sv3MoTGQxA+2/JJlYrcgY7b/fHO+HFC7tvxsl2rwUQ+2/hj+oFclX7b8So6xcMWztvzK7/1xNgO2/6bB/4hyU7b8H8tC5n6ftvze2XrDVuu2/OYJblL7N7b/iqME0WuDtv03KU2Go8u2/1VCd6qgE7r8k7PKhWxbuvzYKc1nAJ+6/O04G5NY47r+PBWAVn0nuv3+a/sEYWu6/JQUsv0Nq7r8NOv7iH3ruv/eWVwStie6/U03n+uqY7r/dyimf2afuv/sfacp4tu6/IWS9VsjE7r8ZGA0fyNLuvyGGDf934O6/FiBD09ft7r9d2wF55/ruv9SKbc6mB++/jTZ6shUU77+JcewENCDvvzWtWaYBLO+/8IooeH43779JK5FcqkLvv0h7nTaFTe+/dH8p6g5Y77/JnONbR2Lvv5bfTHEubO+/GUC5EMR1778j5U8hCH/vv21kC4v6h++/8gC6NpuQ77/95v0N6pjvvzRmTfvmoO+/ZSnz6ZGo7786bA7G6q/vv7wuk3zxtu+/vWZK+6W9778FL9IwCMTvv2r0nQwYyu+/taD2ftXP779gw/p4QNXvvym4nuxY2u+/ecuszB7f77+pXMUMkuPvvxD+XqGy5++/75LGf4Dr778rax+e++7vv+NcY/Mj8u+/zttid/n07796DsUifPfvv1XhB++r+e+/ixeA1oj777+8WVnUEv3vv3xCluRJ/u+/smgQBC7/77+5Z3gwv//vv2jlVWj9/++/15UHq+j/778LPcP4gP/vv2KulVLG/u+/4cliurj9779Jd+UyWPzvvwSfr7+k+u+/5yAqZZ7477++yJQoRfbvv7ZABhCZ8++/kQFsIprw77+uQIpnSO3vv+7b++ej6e+/XkMyrazl77+/YHXBYuHvv+B84y/G3O+/ySJxBNfX77+9AOlLldLvvxXH6xMBze+/4gTwahrH7797AkJg4cDvv8qZAwRWuu+/fAwsZ3iz778N2IebSKzvv5aHuLPGpO+/j4M0w/Kc779M30bezJTvv24kDxpVjO+/GByBjIuD778LlmRMcHrvv5AtVXEDce+/UQzCE0Vn77/zqu1MNV3vv6OP7TbUUu+/eQqq7CFI77+o792JHj3vv7BPFivKMe+/RS2y7SQm7788MeLvLhrvvzlcqFDoDe+/V7bXL1EB77+e/BOuafTuv3FM0ewx5+6/w8xTDqrZ7r9YVa810svuv74Tx4aqve6/Vy5NJjOv7r8vZcI5bKDuv7ywdedVke6/od6DVvCB7r8wLNeuO3LuvwrfJhk4Yu6/dtv2vuVR7r/dOJfKREHuv/7TI2dVMO6/Rt+DwBcf7r/kcGkDjA3uvwQPUV2y++2/zzmB/Irp7b+D8wkQFtftv2pGxMdTxO2/yMhRVESx7b/cHhzn553tv696VLI+iu2/Dhrz6Eh27b9Nwra+BmLtvzw6JGh4Te2/6MGFGp447b+MiOoLeCPtv1IgJnMGDu2/TvDPh0n47L9CpEKCQeLsv52am5vuy+y/ZFC6DVG17L8dyz8TaZ7sv+kAjuc2h+y/dT7Hxrpv7L81i83t9Ffsv3ALQprlP+y/l2CECo0n7L91B7J96w7sv620pTMB9uu/Fq/2bM7c679hKPhqU8Prv6STuG+Qqeu/N/oAvoWP67+BTlSZM3Xrv+287kWaWuu/HPvECLo/678FlYMnkyTrv3E4juglCeu/ZP7+knLt6r/psqVuedHqv8UaB8Q6teq/mTdc3LaY6r/tiZEB7nvqv6tRRn7gXuq/mszLnY5B6r8WcySs+CPqvxwzA/YeBuq/VanKyAHo6b+WWIxyocnpv2HfB0L+qum/3SuqhhiM6b/MrYyQ8GzpvweHdLCGTem/97nRN9st6b+bVr547g3pv4ql/cXA7ei/g1H7clLN6L8ij8rTo6zov9ZCJT21i+i/YCVrBIdq6L9Z5qB/GUnov1hNbwVtJ+i/I1ki7YEF6L+LXaiOWOPnv0cfkULxwOe/je4MYkye57+vv+tGanvnv3BCnEtLWOe/aPcqy+80578fREEhWBHnv2KFJKqE7ea/+B+1wnXJ5r8CkG3IK6Xmv3x2YRmngOa/hqU8FOhb5r/EKkIY7zbmv55YS4W8Eea/kM3Gu1Ds5b9cerccrMblv2CmswnPoOW/wfLj5Ll65b/KWwIRbVTlvyI5WfHoLeW/UjzC6S0H5b/YbaVePODkvwgp+LQUueS/HxY8UreR5L9NI36cJGrkv/Z7VfpcQuS/8H7i0mAa5L/yss2NMPLjvxS6RpPMyeO/fkMDTDWh478p/D0ha3jjv999tXxuT+O/Rz2ryD8m479ZduJv3/ziv4UXn91N0+K/zqukfYup4r83QzW8mH/iv0xaEAZ2VeK/CcBxyCMr4r/behBxogDiv/2rHW7y1eG/CHJDLhSr4b/VyaMgCIDhv5hu17TOVOG/YrjsWmgp4b/GeWaD1f3gvyLcOp8W0uC/rDrSHyym4L+i/AV3Fnrgv/JtHxfWTeC/JJfWcmsh4L97J6L6renfv/TPQVQykN+/5qmG2mQ2379QWD92RtzevwZDDBHYgd6/dTldlRon3r9tEm/uDszdv7VKSQi2cN2/96C7zxAV3b+rr1syILncv5CFgh7lXNy/VTtKg2AA3L8tiItQk6Pbv5RT23Z+Rtu/FEaI5yLp2r86V5iUgYvav6FaxnCbLdq/OIp/b3HP2b+nD+GEBHHZvwCLtaVVEtm/i5hyx2Wz2L9DVDbgNVTYv6DbxObG9Ne/Rc6F0hmV178nzIGbLzXXvwLzXzoJ1da/RFljqKd01r9UiGjfCxTWv1j04tk2s9W/aXPakilS1b9QsugF5fDUv8CoNi9qj9S/Jwt6C7ot1L/yu/KX1cvTv+A6aNK9adO/5BInuXMH079UR/5K+KTSv9q+PIdMQtK/Dq6ubXHf0b/f/5r+Z3zRv6W9wDoxGdG/D3VUI8610L/Ynf25P1LQv6f6pwEO3c+/kBO69EkVz78UmBJTNU3OvwqAYyPShM2/qGkqbSK8zL/GVas4KPPLvxpk647lKcu/hYureVxgyr91UmMDj5bJv3ODOzd/zMi/2+EIIS8CyL/l2kbNoDfHv/A2EknWbMa/M8cjotGhxb+4E8vmlNbEv4sG6SUiC8S/e5Xqbns/w7+la8PRonPCv8aP6F6ap8G/QQtLJ2TbwL/djVI8Ag/Av6sksF/thL6/gv9AKIfrvL/Cl6731VG7v9U0EvTdt7m/m7o8RKMduL8o5KsPKoO2v3uAf3526LS/EatuuYxNs7/3Ar3pcLKxv+LiLzknF7C/jSgHpGf3rL9gCsG9NcCpvwryoBXBiKa/nXhnAhJRo787p2zbMBmgv7u2FPFLwpm/jUMNZPNRk79yYfiB0cKJv0A5cubywnm/B1wUMyamsbw=\",\"dtype\":\"float64\",\"order\":\"little\",\"shape\":[1000]}},\"selected\":{\"id\":\"1518\"},\"selection_policy\":{\"id\":\"1517\"}},\"id\":\"1501\",\"type\":\"ColumnDataSource\"},{\"attributes\":{},\"id\":\"1518\",\"type\":\"Selection\"},{\"attributes\":{\"axis_label\":\"t\",\"coordinates\":null,\"formatter\":{\"id\":\"1494\"},\"group\":null,\"major_label_policy\":{\"id\":\"1495\"},\"ticker\":{\"id\":\"1461\"}},\"id\":\"1460\",\"type\":\"LinearAxis\"},{\"attributes\":{\"coordinates\":null,\"data_source\":{\"id\":\"1482\"},\"glyph\":{\"id\":\"1483\"},\"group\":null,\"hover_glyph\":null,\"muted_glyph\":{\"id\":\"1485\"},\"nonselection_glyph\":{\"id\":\"1484\"},\"view\":{\"id\":\"1487\"}},\"id\":\"1486\",\"type\":\"GlyphRenderer\"},{\"attributes\":{},\"id\":\"1491\",\"type\":\"BasicTickFormatter\"},{\"attributes\":{\"label\":{\"value\":\"Euler method approximation\"},\"renderers\":[{\"id\":\"1525\"}]},\"id\":\"1542\",\"type\":\"LegendItem\"},{\"attributes\":{},\"id\":\"1563\",\"type\":\"UnionRenderers\"},{\"attributes\":{\"coordinates\":null,\"data_source\":{\"id\":\"1543\"},\"glyph\":{\"id\":\"1544\"},\"group\":null,\"hover_glyph\":null,\"muted_glyph\":{\"id\":\"1546\"},\"nonselection_glyph\":{\"id\":\"1545\"},\"view\":{\"id\":\"1548\"}},\"id\":\"1547\",\"type\":\"GlyphRenderer\"},{\"attributes\":{},\"id\":\"1456\",\"type\":\"LinearScale\"},{\"attributes\":{\"line_color\":\"purple\",\"line_dash\":[6],\"x\":{\"field\":\"x\"},\"y\":{\"field\":\"y\"}},\"id\":\"1502\",\"type\":\"Line\"},{\"attributes\":{\"fill_alpha\":{\"value\":0.2},\"fill_color\":{\"value\":\"#1f77b4\"},\"hatch_alpha\":{\"value\":0.2},\"line_alpha\":{\"value\":0.2},\"line_color\":{\"value\":\"#1f77b4\"},\"size\":{\"value\":8},\"x\":{\"field\":\"x\"},\"y\":{\"field\":\"y\"}},\"id\":\"1546\",\"type\":\"Circle\"},{\"attributes\":{\"tools\":[{\"id\":\"1468\"},{\"id\":\"1469\"},{\"id\":\"1470\"},{\"id\":\"1471\"},{\"id\":\"1472\"},{\"id\":\"1473\"}]},\"id\":\"1475\",\"type\":\"Toolbar\"},{\"attributes\":{\"data\":{\"x\":{\"__ndarray__\":\"AAAAAAAAAAAaJxeSvxXQPxonF5K/FeA/p7oiW58g6D8aJxeSvxXwP+DwnHYvG/Q/p7oiW58g+D9uhKg/Dyb8PxonF5K/FQBA/QtahHcYAkDg8Jx2LxsEQMTV32jnHQZAp7oiW58gCECKn2VNVyMKQG6EqD8PJgxAUWnrMccoDkAaJxeSvxUQQIyZOIsbFxFA/QtahHcYEkBvfnt90xkTQODwnHYvGxRAUmO+b4scFUDE1d9o5x0WQDVIAWJDHxdAp7oiW58gGEAZLURU+yEZQA==\",\"dtype\":\"float64\",\"order\":\"little\",\"shape\":[26]},\"y\":{\"__ndarray__\":\"AAAAAAAA8D/v0w9Ik5HiP4FzL7nx0OI/Q7+wD3nU5j8dcqYUDA/rP2DdP8ogI+4/r/7VzFuB7z/zJObpc/TuP1xUbHbWeuw/vk30rdk46D87lO3k0XHiP7nPhCaWBNc/b7jx6KLNvj8Eio5QMTPAv+jgvLVLZNe/qiP1o1yb4r8navuJRlnov72iWYGHj+y/2cgFa1/67r9ik3Hv63Lvv8eVePuZ8e2/Q+jsmJ+O6r/ANBp9doDlvyurvIzfMN6/INdj4F/2zr8m8In7msJpPw==\",\"dtype\":\"float64\",\"order\":\"little\",\"shape\":[26]}},\"selected\":{\"id\":\"1564\"},\"selection_policy\":{\"id\":\"1563\"}},\"id\":\"1543\",\"type\":\"ColumnDataSource\"},{\"attributes\":{\"label\":{\"value\":\"Solution of the model IVP\"},\"renderers\":[{\"id\":\"1486\"}]},\"id\":\"1500\",\"type\":\"LegendItem\"},{\"attributes\":{\"fill_color\":{\"value\":\"white\"},\"hatch_color\":{\"value\":\"navy\"},\"line_color\":{\"value\":\"navy\"},\"size\":{\"value\":8},\"x\":{\"field\":\"x\"},\"y\":{\"field\":\"y\"}},\"id\":\"1522\",\"type\":\"Circle\"},{\"attributes\":{\"coordinates\":null,\"group\":null},\"id\":\"1488\",\"type\":\"Title\"},{\"attributes\":{\"source\":{\"id\":\"1482\"}},\"id\":\"1487\",\"type\":\"CDSView\"},{\"attributes\":{\"coordinates\":null,\"data_source\":{\"id\":\"1501\"},\"glyph\":{\"id\":\"1502\"},\"group\":null,\"hover_glyph\":null,\"muted_glyph\":{\"id\":\"1504\"},\"nonselection_glyph\":{\"id\":\"1503\"},\"view\":{\"id\":\"1506\"}},\"id\":\"1505\",\"type\":\"GlyphRenderer\"},{\"attributes\":{\"source\":{\"id\":\"1501\"}},\"id\":\"1506\",\"type\":\"CDSView\"},{\"attributes\":{\"source\":{\"id\":\"1521\"}},\"id\":\"1526\",\"type\":\"CDSView\"},{\"attributes\":{},\"id\":\"1465\",\"type\":\"BasicTicker\"},{\"attributes\":{\"coordinates\":null,\"group\":null,\"items\":[{\"id\":\"1500\"},{\"id\":\"1520\"},{\"id\":\"1542\"},{\"id\":\"1566\"}]},\"id\":\"1499\",\"type\":\"Legend\"},{\"attributes\":{\"fill_color\":{\"value\":\"#1f77b4\"},\"line_color\":{\"value\":\"#1f77b4\"},\"size\":{\"value\":8},\"x\":{\"field\":\"x\"},\"y\":{\"field\":\"y\"}},\"id\":\"1544\",\"type\":\"Circle\"},{\"attributes\":{\"line_alpha\":0.2,\"line_color\":\"purple\",\"line_dash\":[6],\"x\":{\"field\":\"x\"},\"y\":{\"field\":\"y\"}},\"id\":\"1504\",\"type\":\"Line\"},{\"attributes\":{},\"id\":\"1497\",\"type\":\"Selection\"},{\"attributes\":{},\"id\":\"1473\",\"type\":\"HelpTool\"},{\"attributes\":{\"data\":{\"x\":{\"__ndarray__\":\"AAAAAAAAAAAaJxeSvxXQPxonF5K/FeA/p7oiW58g6D8aJxeSvxXwP+DwnHYvG/Q/p7oiW58g+D9uhKg/Dyb8PxonF5K/FQBA/QtahHcYAkDg8Jx2LxsEQMTV32jnHQZAp7oiW58gCECKn2VNVyMKQG6EqD8PJgxAUWnrMccoDkAaJxeSvxUQQIyZOIsbFxFA/QtahHcYEkBvfnt90xkTQODwnHYvGxRAUmO+b4scFUDE1d9o5x0WQDVIAWJDHxdAp7oiW58gGEAZLURU+yEZQA==\",\"dtype\":\"float64\",\"order\":\"little\",\"shape\":[26]},\"y\":{\"__ndarray__\":\"AAAAAAAA8D90bPQ2IPXnvyD0kQft1Pc/YMNKVzCR07/+FcTQiLr9P6BOWTRnxqG/vK5XL68dAEAARJwcIcplvziG/AjluP4/QNFoYurWy7+WZAWWuJL5PzhaNivVCOS/xP4HQPIO8j8e4Ps9iQnyv66hbiL5EuQ/SShzL0+O+b8gWJU3ufLLP2o48aOStv6/AMby0E3VZz+kKmID2x0AwECUm6N6kKE/oPOY1nS9/b+AiMe7SYHTPyC9Il602fe/NK5E5o/q5z/8nBgEdAXwvw==\",\"dtype\":\"float64\",\"order\":\"little\",\"shape\":[26]}},\"selected\":{\"id\":\"1540\"},\"selection_policy\":{\"id\":\"1539\"}},\"id\":\"1521\",\"type\":\"ColumnDataSource\"},{\"attributes\":{},\"id\":\"1468\",\"type\":\"PanTool\"},{\"attributes\":{\"overlay\":{\"id\":\"1474\"}},\"id\":\"1470\",\"type\":\"BoxZoomTool\"},{\"attributes\":{},\"id\":\"1471\",\"type\":\"SaveTool\"},{\"attributes\":{},\"id\":\"1496\",\"type\":\"UnionRenderers\"},{\"attributes\":{},\"id\":\"1517\",\"type\":\"UnionRenderers\"},{\"attributes\":{},\"id\":\"1472\",\"type\":\"ResetTool\"},{\"attributes\":{\"line_alpha\":0.1,\"line_color\":\"purple\",\"line_dash\":[6],\"x\":{\"field\":\"x\"},\"y\":{\"field\":\"y\"}},\"id\":\"1503\",\"type\":\"Line\"},{\"attributes\":{\"label\":{\"value\":\"sin(t)\"},\"renderers\":[{\"id\":\"1505\"}]},\"id\":\"1520\",\"type\":\"LegendItem\"},{\"attributes\":{\"bottom_units\":\"screen\",\"coordinates\":null,\"fill_alpha\":0.5,\"fill_color\":\"lightgrey\",\"group\":null,\"left_units\":\"screen\",\"level\":\"overlay\",\"line_alpha\":1.0,\"line_color\":\"black\",\"line_dash\":[4,4],\"line_width\":2,\"right_units\":\"screen\",\"syncable\":false,\"top_units\":\"screen\"},\"id\":\"1474\",\"type\":\"BoxAnnotation\"},{\"attributes\":{},\"id\":\"1494\",\"type\":\"BasicTickFormatter\"},{\"attributes\":{\"axis\":{\"id\":\"1464\"},\"coordinates\":null,\"dimension\":1,\"group\":null,\"ticker\":null},\"id\":\"1467\",\"type\":\"Grid\"},{\"attributes\":{},\"id\":\"1469\",\"type\":\"WheelZoomTool\"},{\"attributes\":{},\"id\":\"1495\",\"type\":\"AllLabels\"},{\"attributes\":{\"axis_label\":\"x(t)\",\"coordinates\":null,\"formatter\":{\"id\":\"1491\"},\"group\":null,\"major_label_policy\":{\"id\":\"1492\"},\"ticker\":{\"id\":\"1465\"}},\"id\":\"1464\",\"type\":\"LinearAxis\"},{\"attributes\":{},\"id\":\"1539\",\"type\":\"UnionRenderers\"},{\"attributes\":{},\"id\":\"1540\",\"type\":\"Selection\"},{\"attributes\":{\"line_alpha\":0.2,\"line_color\":\"#1f77b4\",\"x\":{\"field\":\"x\"},\"y\":{\"field\":\"y\"}},\"id\":\"1485\",\"type\":\"Line\"},{\"attributes\":{\"coordinates\":null,\"data_source\":{\"id\":\"1521\"},\"glyph\":{\"id\":\"1522\"},\"group\":null,\"hover_glyph\":null,\"muted_glyph\":{\"id\":\"1524\"},\"nonselection_glyph\":{\"id\":\"1523\"},\"view\":{\"id\":\"1526\"}},\"id\":\"1525\",\"type\":\"GlyphRenderer\"},{\"attributes\":{\"axis\":{\"id\":\"1460\"},\"coordinates\":null,\"group\":null,\"ticker\":null},\"id\":\"1463\",\"type\":\"Grid\"},{\"attributes\":{\"label\":{\"value\":\"backward Euler method approximation\"},\"renderers\":[{\"id\":\"1547\"}]},\"id\":\"1566\",\"type\":\"LegendItem\"},{\"attributes\":{\"line_color\":\"#1f77b4\",\"x\":{\"field\":\"x\"},\"y\":{\"field\":\"y\"}},\"id\":\"1483\",\"type\":\"Line\"}],\"root_ids\":[\"1451\"]},\"title\":\"Bokeh Application\",\"version\":\"2.4.1\"}};\n",
       "  const render_items = [{\"docid\":\"9a2409e1-d410-4031-9c09-a7e315392812\",\"notebook_comms_target\":\"1597\",\"root_ids\":[\"1451\"],\"roots\":{\"1451\":\"e6b00c9f-5563-4ad3-a663-96cad74884fb\"}}];\n",
       "  root.Bokeh.embed.embed_items_notebook(docs_json, render_items);\n",
       "\n",
       "  }\n",
       "  if (root.Bokeh !== undefined) {\n",
       "    embed_document(root);\n",
       "  } else {\n",
       "    let attempts = 0;\n",
       "    const timer = setInterval(function(root) {\n",
       "      if (root.Bokeh !== undefined) {\n",
       "        clearInterval(timer);\n",
       "        embed_document(root);\n",
       "      } else {\n",
       "        attempts++;\n",
       "        if (attempts > 100) {\n",
       "          clearInterval(timer);\n",
       "          console.log(\"Bokeh: ERROR: Unable to run BokehJS code because BokehJS library is missing\");\n",
       "        }\n",
       "      }\n",
       "    }, 10, root)\n",
       "  }\n",
       "})(window);"
      ],
      "application/vnd.bokehjs_exec.v0+json": ""
     },
     "metadata": {
      "application/vnd.bokehjs_exec.v0+json": {
       "id": "1451"
      }
     },
     "output_type": "display_data"
    },
    {
     "data": {
      "application/vnd.jupyter.widget-view+json": {
       "model_id": "c6a26f44232943939590c4af5e69bb2f",
       "version_major": 2,
       "version_minor": 0
      },
      "text/plain": [
       "interactive(children=(FloatSlider(value=0.25132741228718347, description='h', max=0.7539822368615504, min=0.02…"
      ]
     },
     "metadata": {},
     "output_type": "display_data"
    }
   ],
   "source": [
    "t0 = 0.\n",
    "tf = 2*np.pi\n",
    "y0 = 1.\n",
    "tau = tf*2e-2\n",
    "lbda = -1/tau\n",
    "\n",
    "h_crit = -2/lbda\n",
    "\n",
    "h = h_crit\n",
    "\n",
    "def g(t):\n",
    "    return np.sin(t)\n",
    "def gprime(t):\n",
    "    return np.cos(t)\n",
    "\n",
    "f = lambda t,y : f0(t,y,lbda,g,gprime)\n",
    "\n",
    "nt = 1000\n",
    "texa0 = np.linspace(t0,tf,nt)\n",
    "\n",
    "yexa0 = y_exa0(texa0,t0,y0,lbda,g)\n",
    "\n",
    "Eul_approx = Euler(f, t0, tf, h, y0)\n",
    "backEul_approx = backEuler(f, t0, tf, h, y0)\n",
    "nt = np.size(Eul_approx)\n",
    "t = t0+1.*h*np.arange(nt)\n",
    "\n",
    "fig5 = figure(x_range=(t0, tf), y_range=(-3, 3), width=980, height=400, x_axis_label='t', y_axis_label='x(t)')\n",
    "plt_sol = fig5.line(texa0,yexa0,legend_label = 'Solution of the model IVP')\n",
    "plt_lim = fig5.line(texa0,np.sin(texa0),color='purple',line_dash = 'dashed',legend_label = 'sin(t)')\n",
    "plt_Elr = fig5.circle(t,Eul_approx,fill_color = 'white', color = 'navy', legend_label = 'Euler method approximation', size = 8)\n",
    "plt_bckElr = fig5.circle(t,backEul_approx, legend_label = 'backward Euler method approximation', size = 8)\n",
    "\n",
    "show(fig5,notebook_handle=True)\n",
    "def update(h):\n",
    "\n",
    "    Eul_approx = Euler(f, t0, tf, h, y0)\n",
    "    backEul_approx = backEuler(f, t0, tf, h, y0)\n",
    "    nt = np.size(Eul_approx)\n",
    "    t = t0+1.*h*np.arange(nt)\n",
    "    \n",
    "    plt_Elr.data_source.data = dict(x=t, y=Eul_approx)\n",
    "    plt_bckElr.data_source.data = dict(x=t, y=backEul_approx)\n",
    "\n",
    "    \n",
    "    push_notebook()\n",
    "\n",
    "_ = interact(update, h=FloatSlider(min=h_crit*1e-1, max=h_crit*3, step=1e-1*h_crit, value=h_crit))"
   ]
  },
  {
   "cell_type": "markdown",
   "metadata": {},
   "source": [
    "**Q12. Using the interactive graph and your answer at Q5, which method (betwen forward and backward Euler) would you choose depending on the accuracy that is to be achieved?**"
   ]
  },
  {
   "cell_type": "markdown",
   "metadata": {},
   "source": [
    "*Please write your answer here.*"
   ]
  },
  {
   "cell_type": "code",
   "execution_count": null,
   "metadata": {},
   "outputs": [],
   "source": []
  }
 ],
 "metadata": {
  "kernelspec": {
   "display_name": "Python 3 (ipykernel)",
   "language": "python",
   "name": "python3"
  },
  "language_info": {
   "codemirror_mode": {
    "name": "ipython",
    "version": 3
   },
   "file_extension": ".py",
   "mimetype": "text/x-python",
   "name": "python",
   "nbconvert_exporter": "python",
   "pygments_lexer": "ipython3",
   "version": "3.9.7"
  }
 },
 "nbformat": 4,
 "nbformat_minor": 4
}
