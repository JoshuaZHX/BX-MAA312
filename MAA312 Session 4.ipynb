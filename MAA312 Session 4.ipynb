{
 "cells": [
  {
   "cell_type": "code",
   "execution_count": 1,
   "metadata": {},
   "outputs": [
    {
     "data": {
      "application/javascript": [
       "\n",
       "(function(root) {\n",
       "  function now() {\n",
       "    return new Date();\n",
       "  }\n",
       "\n",
       "  const force = true;\n",
       "\n",
       "  if (typeof root._bokeh_onload_callbacks === \"undefined\" || force === true) {\n",
       "    root._bokeh_onload_callbacks = [];\n",
       "    root._bokeh_is_loading = undefined;\n",
       "  }\n",
       "\n",
       "  const JS_MIME_TYPE = 'application/javascript';\n",
       "  const HTML_MIME_TYPE = 'text/html';\n",
       "  const EXEC_MIME_TYPE = 'application/vnd.bokehjs_exec.v0+json';\n",
       "  const CLASS_NAME = 'output_bokeh rendered_html';\n",
       "\n",
       "  /**\n",
       "   * Render data to the DOM node\n",
       "   */\n",
       "  function render(props, node) {\n",
       "    const script = document.createElement(\"script\");\n",
       "    node.appendChild(script);\n",
       "  }\n",
       "\n",
       "  /**\n",
       "   * Handle when an output is cleared or removed\n",
       "   */\n",
       "  function handleClearOutput(event, handle) {\n",
       "    const cell = handle.cell;\n",
       "\n",
       "    const id = cell.output_area._bokeh_element_id;\n",
       "    const server_id = cell.output_area._bokeh_server_id;\n",
       "    // Clean up Bokeh references\n",
       "    if (id != null && id in Bokeh.index) {\n",
       "      Bokeh.index[id].model.document.clear();\n",
       "      delete Bokeh.index[id];\n",
       "    }\n",
       "\n",
       "    if (server_id !== undefined) {\n",
       "      // Clean up Bokeh references\n",
       "      const cmd_clean = \"from bokeh.io.state import curstate; print(curstate().uuid_to_server['\" + server_id + \"'].get_sessions()[0].document.roots[0]._id)\";\n",
       "      cell.notebook.kernel.execute(cmd_clean, {\n",
       "        iopub: {\n",
       "          output: function(msg) {\n",
       "            const id = msg.content.text.trim();\n",
       "            if (id in Bokeh.index) {\n",
       "              Bokeh.index[id].model.document.clear();\n",
       "              delete Bokeh.index[id];\n",
       "            }\n",
       "          }\n",
       "        }\n",
       "      });\n",
       "      // Destroy server and session\n",
       "      const cmd_destroy = \"import bokeh.io.notebook as ion; ion.destroy_server('\" + server_id + \"')\";\n",
       "      cell.notebook.kernel.execute(cmd_destroy);\n",
       "    }\n",
       "  }\n",
       "\n",
       "  /**\n",
       "   * Handle when a new output is added\n",
       "   */\n",
       "  function handleAddOutput(event, handle) {\n",
       "    const output_area = handle.output_area;\n",
       "    const output = handle.output;\n",
       "\n",
       "    // limit handleAddOutput to display_data with EXEC_MIME_TYPE content only\n",
       "    if ((output.output_type != \"display_data\") || (!Object.prototype.hasOwnProperty.call(output.data, EXEC_MIME_TYPE))) {\n",
       "      return\n",
       "    }\n",
       "\n",
       "    const toinsert = output_area.element.find(\".\" + CLASS_NAME.split(' ')[0]);\n",
       "\n",
       "    if (output.metadata[EXEC_MIME_TYPE][\"id\"] !== undefined) {\n",
       "      toinsert[toinsert.length - 1].firstChild.textContent = output.data[JS_MIME_TYPE];\n",
       "      // store reference to embed id on output_area\n",
       "      output_area._bokeh_element_id = output.metadata[EXEC_MIME_TYPE][\"id\"];\n",
       "    }\n",
       "    if (output.metadata[EXEC_MIME_TYPE][\"server_id\"] !== undefined) {\n",
       "      const bk_div = document.createElement(\"div\");\n",
       "      bk_div.innerHTML = output.data[HTML_MIME_TYPE];\n",
       "      const script_attrs = bk_div.children[0].attributes;\n",
       "      for (let i = 0; i < script_attrs.length; i++) {\n",
       "        toinsert[toinsert.length - 1].firstChild.setAttribute(script_attrs[i].name, script_attrs[i].value);\n",
       "        toinsert[toinsert.length - 1].firstChild.textContent = bk_div.children[0].textContent\n",
       "      }\n",
       "      // store reference to server id on output_area\n",
       "      output_area._bokeh_server_id = output.metadata[EXEC_MIME_TYPE][\"server_id\"];\n",
       "    }\n",
       "  }\n",
       "\n",
       "  function register_renderer(events, OutputArea) {\n",
       "\n",
       "    function append_mime(data, metadata, element) {\n",
       "      // create a DOM node to render to\n",
       "      const toinsert = this.create_output_subarea(\n",
       "        metadata,\n",
       "        CLASS_NAME,\n",
       "        EXEC_MIME_TYPE\n",
       "      );\n",
       "      this.keyboard_manager.register_events(toinsert);\n",
       "      // Render to node\n",
       "      const props = {data: data, metadata: metadata[EXEC_MIME_TYPE]};\n",
       "      render(props, toinsert[toinsert.length - 1]);\n",
       "      element.append(toinsert);\n",
       "      return toinsert\n",
       "    }\n",
       "\n",
       "    /* Handle when an output is cleared or removed */\n",
       "    events.on('clear_output.CodeCell', handleClearOutput);\n",
       "    events.on('delete.Cell', handleClearOutput);\n",
       "\n",
       "    /* Handle when a new output is added */\n",
       "    events.on('output_added.OutputArea', handleAddOutput);\n",
       "\n",
       "    /**\n",
       "     * Register the mime type and append_mime function with output_area\n",
       "     */\n",
       "    OutputArea.prototype.register_mime_type(EXEC_MIME_TYPE, append_mime, {\n",
       "      /* Is output safe? */\n",
       "      safe: true,\n",
       "      /* Index of renderer in `output_area.display_order` */\n",
       "      index: 0\n",
       "    });\n",
       "  }\n",
       "\n",
       "  // register the mime type if in Jupyter Notebook environment and previously unregistered\n",
       "  if (root.Jupyter !== undefined) {\n",
       "    const events = require('base/js/events');\n",
       "    const OutputArea = require('notebook/js/outputarea').OutputArea;\n",
       "\n",
       "    if (OutputArea.prototype.mime_types().indexOf(EXEC_MIME_TYPE) == -1) {\n",
       "      register_renderer(events, OutputArea);\n",
       "    }\n",
       "  }\n",
       "\n",
       "  \n",
       "  if (typeof (root._bokeh_timeout) === \"undefined\" || force === true) {\n",
       "    root._bokeh_timeout = Date.now() + 5000;\n",
       "    root._bokeh_failed_load = false;\n",
       "  }\n",
       "\n",
       "  const NB_LOAD_WARNING = {'data': {'text/html':\n",
       "     \"<div style='background-color: #fdd'>\\n\"+\n",
       "     \"<p>\\n\"+\n",
       "     \"BokehJS does not appear to have successfully loaded. If loading BokehJS from CDN, this \\n\"+\n",
       "     \"may be due to a slow or bad network connection. Possible fixes:\\n\"+\n",
       "     \"</p>\\n\"+\n",
       "     \"<ul>\\n\"+\n",
       "     \"<li>re-rerun `output_notebook()` to attempt to load from CDN again, or</li>\\n\"+\n",
       "     \"<li>use INLINE resources instead, as so:</li>\\n\"+\n",
       "     \"</ul>\\n\"+\n",
       "     \"<code>\\n\"+\n",
       "     \"from bokeh.resources import INLINE\\n\"+\n",
       "     \"output_notebook(resources=INLINE)\\n\"+\n",
       "     \"</code>\\n\"+\n",
       "     \"</div>\"}};\n",
       "\n",
       "  function display_loaded() {\n",
       "    const el = document.getElementById(null);\n",
       "    if (el != null) {\n",
       "      el.textContent = \"BokehJS is loading...\";\n",
       "    }\n",
       "    if (root.Bokeh !== undefined) {\n",
       "      if (el != null) {\n",
       "        el.textContent = \"BokehJS \" + root.Bokeh.version + \" successfully loaded.\";\n",
       "      }\n",
       "    } else if (Date.now() < root._bokeh_timeout) {\n",
       "      setTimeout(display_loaded, 100)\n",
       "    }\n",
       "  }\n",
       "\n",
       "\n",
       "  function run_callbacks() {\n",
       "    try {\n",
       "      root._bokeh_onload_callbacks.forEach(function(callback) {\n",
       "        if (callback != null)\n",
       "          callback();\n",
       "      });\n",
       "    } finally {\n",
       "      delete root._bokeh_onload_callbacks\n",
       "    }\n",
       "    console.debug(\"Bokeh: all callbacks have finished\");\n",
       "  }\n",
       "\n",
       "  function load_libs(css_urls, js_urls, callback) {\n",
       "    if (css_urls == null) css_urls = [];\n",
       "    if (js_urls == null) js_urls = [];\n",
       "\n",
       "    root._bokeh_onload_callbacks.push(callback);\n",
       "    if (root._bokeh_is_loading > 0) {\n",
       "      console.debug(\"Bokeh: BokehJS is being loaded, scheduling callback at\", now());\n",
       "      return null;\n",
       "    }\n",
       "    if (js_urls == null || js_urls.length === 0) {\n",
       "      run_callbacks();\n",
       "      return null;\n",
       "    }\n",
       "    console.debug(\"Bokeh: BokehJS not loaded, scheduling load and callback at\", now());\n",
       "    root._bokeh_is_loading = css_urls.length + js_urls.length;\n",
       "\n",
       "    function on_load() {\n",
       "      root._bokeh_is_loading--;\n",
       "      if (root._bokeh_is_loading === 0) {\n",
       "        console.debug(\"Bokeh: all BokehJS libraries/stylesheets loaded\");\n",
       "        run_callbacks()\n",
       "      }\n",
       "    }\n",
       "\n",
       "    function on_error(url) {\n",
       "      console.error(\"failed to load \" + url);\n",
       "    }\n",
       "\n",
       "    for (let i = 0; i < css_urls.length; i++) {\n",
       "      const url = css_urls[i];\n",
       "      const element = document.createElement(\"link\");\n",
       "      element.onload = on_load;\n",
       "      element.onerror = on_error.bind(null, url);\n",
       "      element.rel = \"stylesheet\";\n",
       "      element.type = \"text/css\";\n",
       "      element.href = url;\n",
       "      console.debug(\"Bokeh: injecting link tag for BokehJS stylesheet: \", url);\n",
       "      document.body.appendChild(element);\n",
       "    }\n",
       "\n",
       "    for (let i = 0; i < js_urls.length; i++) {\n",
       "      const url = js_urls[i];\n",
       "      const element = document.createElement('script');\n",
       "      element.onload = on_load;\n",
       "      element.onerror = on_error.bind(null, url);\n",
       "      element.async = false;\n",
       "      element.src = url;\n",
       "      console.debug(\"Bokeh: injecting script tag for BokehJS library: \", url);\n",
       "      document.head.appendChild(element);\n",
       "    }\n",
       "  };\n",
       "\n",
       "  function inject_raw_css(css) {\n",
       "    const element = document.createElement(\"style\");\n",
       "    element.appendChild(document.createTextNode(css));\n",
       "    document.body.appendChild(element);\n",
       "  }\n",
       "\n",
       "  \n",
       "  const js_urls = [\"https://cdn.bokeh.org/bokeh/release/bokeh-2.4.1.min.js\", \"https://cdn.bokeh.org/bokeh/release/bokeh-gl-2.4.1.min.js\", \"https://cdn.bokeh.org/bokeh/release/bokeh-widgets-2.4.1.min.js\", \"https://cdn.bokeh.org/bokeh/release/bokeh-tables-2.4.1.min.js\", \"https://cdn.bokeh.org/bokeh/release/bokeh-mathjax-2.4.1.min.js\"];\n",
       "  const css_urls = [];\n",
       "  \n",
       "\n",
       "  const inline_js = [\n",
       "    function(Bokeh) {\n",
       "      Bokeh.set_log_level(\"info\");\n",
       "    },\n",
       "    function(Bokeh) {\n",
       "    \n",
       "    \n",
       "    }\n",
       "  ];\n",
       "\n",
       "  function run_inline_js() {\n",
       "    \n",
       "    if (root.Bokeh !== undefined || force === true) {\n",
       "      \n",
       "    for (let i = 0; i < inline_js.length; i++) {\n",
       "      inline_js[i].call(root, root.Bokeh);\n",
       "    }\n",
       "    } else if (Date.now() < root._bokeh_timeout) {\n",
       "      setTimeout(run_inline_js, 100);\n",
       "    } else if (!root._bokeh_failed_load) {\n",
       "      console.log(\"Bokeh: BokehJS failed to load within specified timeout.\");\n",
       "      root._bokeh_failed_load = true;\n",
       "    } else if (force !== true) {\n",
       "      const cell = $(document.getElementById(null)).parents('.cell').data().cell;\n",
       "      cell.output_area.append_execute_result(NB_LOAD_WARNING)\n",
       "    }\n",
       "\n",
       "  }\n",
       "\n",
       "  if (root._bokeh_is_loading === 0) {\n",
       "    console.debug(\"Bokeh: BokehJS loaded, going straight to plotting\");\n",
       "    run_inline_js();\n",
       "  } else {\n",
       "    load_libs(css_urls, js_urls, function() {\n",
       "      console.debug(\"Bokeh: BokehJS plotting callback run at\", now());\n",
       "      run_inline_js();\n",
       "    });\n",
       "  }\n",
       "}(window));"
      ],
      "application/vnd.bokehjs_load.v0+json": "\n(function(root) {\n  function now() {\n    return new Date();\n  }\n\n  const force = true;\n\n  if (typeof root._bokeh_onload_callbacks === \"undefined\" || force === true) {\n    root._bokeh_onload_callbacks = [];\n    root._bokeh_is_loading = undefined;\n  }\n\n  \n\n  \n  if (typeof (root._bokeh_timeout) === \"undefined\" || force === true) {\n    root._bokeh_timeout = Date.now() + 5000;\n    root._bokeh_failed_load = false;\n  }\n\n  const NB_LOAD_WARNING = {'data': {'text/html':\n     \"<div style='background-color: #fdd'>\\n\"+\n     \"<p>\\n\"+\n     \"BokehJS does not appear to have successfully loaded. If loading BokehJS from CDN, this \\n\"+\n     \"may be due to a slow or bad network connection. Possible fixes:\\n\"+\n     \"</p>\\n\"+\n     \"<ul>\\n\"+\n     \"<li>re-rerun `output_notebook()` to attempt to load from CDN again, or</li>\\n\"+\n     \"<li>use INLINE resources instead, as so:</li>\\n\"+\n     \"</ul>\\n\"+\n     \"<code>\\n\"+\n     \"from bokeh.resources import INLINE\\n\"+\n     \"output_notebook(resources=INLINE)\\n\"+\n     \"</code>\\n\"+\n     \"</div>\"}};\n\n  function display_loaded() {\n    const el = document.getElementById(null);\n    if (el != null) {\n      el.textContent = \"BokehJS is loading...\";\n    }\n    if (root.Bokeh !== undefined) {\n      if (el != null) {\n        el.textContent = \"BokehJS \" + root.Bokeh.version + \" successfully loaded.\";\n      }\n    } else if (Date.now() < root._bokeh_timeout) {\n      setTimeout(display_loaded, 100)\n    }\n  }\n\n\n  function run_callbacks() {\n    try {\n      root._bokeh_onload_callbacks.forEach(function(callback) {\n        if (callback != null)\n          callback();\n      });\n    } finally {\n      delete root._bokeh_onload_callbacks\n    }\n    console.debug(\"Bokeh: all callbacks have finished\");\n  }\n\n  function load_libs(css_urls, js_urls, callback) {\n    if (css_urls == null) css_urls = [];\n    if (js_urls == null) js_urls = [];\n\n    root._bokeh_onload_callbacks.push(callback);\n    if (root._bokeh_is_loading > 0) {\n      console.debug(\"Bokeh: BokehJS is being loaded, scheduling callback at\", now());\n      return null;\n    }\n    if (js_urls == null || js_urls.length === 0) {\n      run_callbacks();\n      return null;\n    }\n    console.debug(\"Bokeh: BokehJS not loaded, scheduling load and callback at\", now());\n    root._bokeh_is_loading = css_urls.length + js_urls.length;\n\n    function on_load() {\n      root._bokeh_is_loading--;\n      if (root._bokeh_is_loading === 0) {\n        console.debug(\"Bokeh: all BokehJS libraries/stylesheets loaded\");\n        run_callbacks()\n      }\n    }\n\n    function on_error(url) {\n      console.error(\"failed to load \" + url);\n    }\n\n    for (let i = 0; i < css_urls.length; i++) {\n      const url = css_urls[i];\n      const element = document.createElement(\"link\");\n      element.onload = on_load;\n      element.onerror = on_error.bind(null, url);\n      element.rel = \"stylesheet\";\n      element.type = \"text/css\";\n      element.href = url;\n      console.debug(\"Bokeh: injecting link tag for BokehJS stylesheet: \", url);\n      document.body.appendChild(element);\n    }\n\n    for (let i = 0; i < js_urls.length; i++) {\n      const url = js_urls[i];\n      const element = document.createElement('script');\n      element.onload = on_load;\n      element.onerror = on_error.bind(null, url);\n      element.async = false;\n      element.src = url;\n      console.debug(\"Bokeh: injecting script tag for BokehJS library: \", url);\n      document.head.appendChild(element);\n    }\n  };\n\n  function inject_raw_css(css) {\n    const element = document.createElement(\"style\");\n    element.appendChild(document.createTextNode(css));\n    document.body.appendChild(element);\n  }\n\n  \n  const js_urls = [\"https://cdn.bokeh.org/bokeh/release/bokeh-2.4.1.min.js\", \"https://cdn.bokeh.org/bokeh/release/bokeh-gl-2.4.1.min.js\", \"https://cdn.bokeh.org/bokeh/release/bokeh-widgets-2.4.1.min.js\", \"https://cdn.bokeh.org/bokeh/release/bokeh-tables-2.4.1.min.js\", \"https://cdn.bokeh.org/bokeh/release/bokeh-mathjax-2.4.1.min.js\"];\n  const css_urls = [];\n  \n\n  const inline_js = [\n    function(Bokeh) {\n      Bokeh.set_log_level(\"info\");\n    },\n    function(Bokeh) {\n    \n    \n    }\n  ];\n\n  function run_inline_js() {\n    \n    if (root.Bokeh !== undefined || force === true) {\n      \n    for (let i = 0; i < inline_js.length; i++) {\n      inline_js[i].call(root, root.Bokeh);\n    }\n    } else if (Date.now() < root._bokeh_timeout) {\n      setTimeout(run_inline_js, 100);\n    } else if (!root._bokeh_failed_load) {\n      console.log(\"Bokeh: BokehJS failed to load within specified timeout.\");\n      root._bokeh_failed_load = true;\n    } else if (force !== true) {\n      const cell = $(document.getElementById(null)).parents('.cell').data().cell;\n      cell.output_area.append_execute_result(NB_LOAD_WARNING)\n    }\n\n  }\n\n  if (root._bokeh_is_loading === 0) {\n    console.debug(\"Bokeh: BokehJS loaded, going straight to plotting\");\n    run_inline_js();\n  } else {\n    load_libs(css_urls, js_urls, function() {\n      console.debug(\"Bokeh: BokehJS plotting callback run at\", now());\n      run_inline_js();\n    });\n  }\n}(window));"
     },
     "metadata": {},
     "output_type": "display_data"
    }
   ],
   "source": [
    "import numpy as np\n",
    "\n",
    "from bokeh.io import show, output_notebook\n",
    "from bokeh.plotting import figure\n",
    "from bokeh.layouts import row, column\n",
    "from bokeh.models import Legend\n",
    "\n",
    "from scipy.optimize import root\n",
    "\n",
    "output_notebook(hide_banner=True)"
   ]
  },
  {
   "cell_type": "markdown",
   "metadata": {},
   "source": [
    "# Context"
   ]
  },
  {
   "cell_type": "markdown",
   "metadata": {},
   "source": [
    "Here we are concerned with solving the following Initial Value Problem (IVP):\n",
    "\\begin{equation}\n",
    "\\left\\{\n",
    "\\begin{aligned}\n",
    "x^\\prime(t)&=f\\left(t,x(t)\\right), \\quad t\\geq t_0\\\\\n",
    "x(t_0)&= x_0\n",
    "\\end{aligned}\n",
    "\\right.\n",
    "\\end{equation}\n",
    "with $x : t \\mapsto x(t) \\in \\mathbb{R}^m$, $m \\in \\mathbb{N}^*$.\n",
    "\n",
    "It is assumed that the considered IVP possesses a unique solution on some interval $[t_0,t_f]$ with $t_f>t_0$\n",
    "\n",
    "To approximate the solution of this IVP we consider Linear Multistep Methods (LMM). In the first part (I) of this notebook, we will compare some 2-step LMM with several methods decribed in TD2 (TS2, TR). Part (II) is concerned with a more general implementation of 2-step explicit LMM and part (III) is the equivalent of part (II) for implicit methods. \n",
    "\n",
    "All examples and methods described here are adapted from: Giffiths and Higham, *Numerical Methods for Ordinary Differential Equations*, 2010, Springer."
   ]
  },
  {
   "cell_type": "markdown",
   "metadata": {},
   "source": [
    "**Simplifiying assumption**: In the present notebook only scalar problems are considered to keep relatively simple implementations. We also assume that step size $h$ is always such that $t_f-t_0 = Nh$ with $N \\in \\mathbb{N}$. One should always remember that if this condition does not hold then the methods presented here will not reach the correct final time $t_f$."
   ]
  },
  {
   "cell_type": "markdown",
   "metadata": {},
   "source": [
    "# Part I: Introduction to LMM, Adam-Bashforth method"
   ]
  },
  {
   "cell_type": "markdown",
   "metadata": {},
   "source": [
    "In this part we focus on a specific IVP, denoted IVP (1), given by :\n",
    "$$\n",
    "f_1(t,x) = (1-2t)x,\\quad x(0) = 1.\n",
    "$$\n",
    "The solution to this IVP is\n",
    "$$\n",
    "x_{sol}^1 : t \\mapsto \\exp \\left(\\frac{1}{4} - \\left(t-\\frac{1}{2}\\right)^2\\right)\n",
    "$$\n",
    "\n",
    "Our goal here is to compare, on this problem, a first LMM introduced in the last lecture with the Euler explicit, the Trapezoidal rule and TS2 methods.\n",
    "\n",
    "For the purpose of using the Taylor series method, the right hand side of the IVP must be differentiated with respect to $t$ so we introduce\n",
    "$$\n",
    "g_1(t,x) = \\partial_t f_1(t,x) + \\partial_x f_1(t,x)f_1(t,x) = -2 x + (1-2t)(1-2t)x = \\left((1-2t)^2-2\\right) x\n",
    "$$\n",
    "with $(t,x)\\in \\mathbb{R}_+\\times\\mathbb{R}$.\n",
    "\n",
    "We also recall that, in the specific case of IVP 1, the Trapezoidal rule reads, for $n \\in \\mathbb{N}$, $t_n = t_0 + nh$:\n",
    "$$\n",
    "x_{n+1}-x_n =  \\frac{h}{2}\\left(f_1(t_{n+1},x_{n+1})+f_1(t_n,x_n)\\right) = x_n+\\frac{h}{2}\\left[(1-2t_{n+1})x_{n+1}+(1-2t_n)x_n\\right]\n",
    "$$\n",
    "so that we have\n",
    "$$\n",
    "x_{n+1} = \\frac{1+\\frac{h}{2}(1-2t_n)}{1-\\frac{h}{2}(1-2t_{n+1})}x_n\n",
    "$$\n",
    "*We emphasize that the trapezoidal rule is implicit in general, here one is able to find an analytical explicit formula only because of the specific structure of IVP (1).*"
   ]
  },
  {
   "cell_type": "code",
   "execution_count": 2,
   "metadata": {},
   "outputs": [],
   "source": [
    "def f1(t,x):\n",
    "    return (1-2*t)*x\n",
    "\n",
    "def x1_exa(t):\n",
    "    return np.exp(1/4-(1/2-t)**2)\n",
    "\n",
    "def g1(t,x):\n",
    "    return ((1-2*t)**2-2)*x"
   ]
  },
  {
   "cell_type": "markdown",
   "metadata": {},
   "source": [
    "**We recall here the Euler, Trapezoidal and TS2 methods. The methods return an array of size $nt$ where $nt = \\left\\lfloor\\frac{t_f-t_0}{h}\\right\\rfloor+1$.**"
   ]
  },
  {
   "cell_type": "code",
   "execution_count": 3,
   "metadata": {},
   "outputs": [],
   "source": [
    "def Euler(f, t0, tf, h, x0):\n",
    "    \n",
    "    nt   = int(round((tf-t0)/h))+1 #number of columns of the output array\n",
    "    t    = t0                      #initial time\n",
    "    x    = np.zeros((nt,))         \n",
    "    x[0] = x0                      #initial value\n",
    "    it   = 0\n",
    "\n",
    "    for it in range(nt-1):\n",
    "        x[it+1] = x[it] + h*f(t0+it*h,x[it]) \n",
    "\n",
    "    return x"
   ]
  },
  {
   "cell_type": "code",
   "execution_count": 4,
   "metadata": {},
   "outputs": [],
   "source": [
    "def TS2(f, g, t0, tf, h, x0):\n",
    "    \n",
    "    nt   = int(round((tf-t0)/h))+1 #number of columns of the output array\n",
    "    t    = t0                      #initial time\n",
    "    x    = np.zeros((nt,))\n",
    "    x[0] = x0                      #initial value\n",
    "    it   = 0\n",
    "    \n",
    "    for it in range(nt-1):\n",
    "        x[it+1] = x[it] + h*f(t0+it*h,x[it]) + h**2/2*g(t0+it*h, x[it])\n",
    "\n",
    "    return x"
   ]
  },
  {
   "cell_type": "code",
   "execution_count": 5,
   "metadata": {},
   "outputs": [],
   "source": [
    "def TrapRule1(t0, tf, h, x0): #Method specific to the IVP (1)\n",
    "    \n",
    "    nt   = int(round((tf-t0)/h))+1 #number of column of the output array\n",
    "    t    = t0                      #intial time\n",
    "    x    = np.zeros((nt,))\n",
    "    x[0] = x0                      #intial value\n",
    "    it   = 0\n",
    "    \n",
    "    for it in range(nt-1):\n",
    "        tn = t0+it*h\n",
    "        tnp1 = t0+(it+1)*h\n",
    "        x[it+1] = (1+h/2*(1-2*tn))/(1-h/2*(1-2*tnp1))*x[it]\n",
    "        \n",
    "    return x"
   ]
  },
  {
   "cell_type": "markdown",
   "metadata": {},
   "source": [
    "We recall that for IVP (1), the Adams-Bashforth method of order two is defined by the iterative formula:\n",
    "$$\n",
    "\\begin{aligned}\n",
    "x_{n+2}&= x_{n+1} + \\frac{h}{2}\\left(3f_1(t_{n+1},x_{n+1})-f_1(t_n,x_n)\\right)\\\\\n",
    "&=x_{n+1}+\\frac{h}{2}\\left[3(1-2t_{n+1})x_{n+1}-(1-2t_n)x_n\\right]\\\\\n",
    "&=\\left[1+\\frac{3}{2}h(1-2t_{n+1})\\right]x_{n+1}-\\frac{h}{2}\\left[1-2t_n\\right]x_n\n",
    "\\end{aligned}\n",
    "$$\n",
    "The two step structure of the scheme naturally brings the question of how to compute the second initial value $x_1$ that is required to properly initialized the scheme. In general one do not have access to the exact value $x(t_1)$, and therefore an approximate value must be computed. In what follows we consider several ways to make the first-step approximation and study its impact on the overall convergence of the method.\n",
    "\n",
    "**Q1. Implement the second-order version of the Adams-Bashforth (AB) method for the IVP (1). Three versions should be implemented:**\n",
    "- **one version using a constant approximation to obtain the second initial value $x_1$ (i.e. $x_1=x_0$)**\n",
    "- **one version using the Euler method to obtain the second initial value $x_1$**\n",
    "- **one version using the Trapezoidal rule to obtain the second initial value $x_1$.**\n",
    "\n",
    "**The methods should return an array of size $nt$ where $nt = \\left\\lfloor\\frac{t_f-t_0}{h}\\right\\rfloor+1$.**"
   ]
  },
  {
   "cell_type": "code",
   "execution_count": 20,
   "metadata": {},
   "outputs": [],
   "source": [
    "#AB method using a constant approximation x_1=x_0 for the first step\n",
    "def AB_C1(t0, tf, h, x0): #Method specific to IVP (1)\n",
    "    \n",
    "    nt = int(round((tf-t0)/h))+1 #number of columns of the output array\n",
    "    x = np.zeros((nt,)) \n",
    "    t = [t0 + i*h for i in range(nt)] \n",
    "    \n",
    "    for i in range(nt): \n",
    "        if (i == 0): \n",
    "            x[i] = x0 \n",
    "        elif (i == 1): \n",
    "            x[i] = x0 \n",
    "        else: \n",
    "            x[i] = (1 + (3/2)*h*(1-2*t[i-1]))*x[i-1] - (h/2)*(1-2*t[i-2])*x[i-2] \n",
    "\n",
    "    return x"
   ]
  },
  {
   "cell_type": "code",
   "execution_count": 21,
   "metadata": {},
   "outputs": [],
   "source": [
    "#AB method using the Euler method for the first step\n",
    "def AB_E1(f, t0, tf, h, x0): #Method specific to IVP (1)\n",
    "    \n",
    "    nt = int(round((tf-t0)/h))+1 #number of columns of the output array\n",
    "    x = np.zeros((nt,))\n",
    "    t = [t0 + i*h for i in range(nt)] \n",
    "    \n",
    "    for i in range(nt): \n",
    "        if (i == 0): \n",
    "            x[i] = x0 \n",
    "        elif (i == 1): \n",
    "            res = Euler(f, t0, tf, h, x0) \n",
    "            x[i] = res[i] \n",
    "        else: \n",
    "            x[i] = (1 + (3/2)*h*(1-2*t[i-1])) * x[i-1] - (h/2)*(1-2*t[i-2])*x[i-2] \n",
    "\n",
    "    return x"
   ]
  },
  {
   "cell_type": "code",
   "execution_count": 22,
   "metadata": {},
   "outputs": [],
   "source": [
    "#AB method using the Trapezoidal rule method for the first step\n",
    "def AB_T1(t0, tf, h, x0): #Method specific to IVP (1)\n",
    "    \n",
    "    nt = int(round((tf-t0)/h))+1 #number of columns of the output array\n",
    "    x = np.zeros((nt,))\n",
    "    t = [t0 + i*h for i in range(nt)] \n",
    "    \n",
    "    for i in range(nt): \n",
    "        if (i == 0): \n",
    "            x[i] = x0 \n",
    "        elif (i == 1): \n",
    "            res = TrapRule1(t0, tf, h, x0) \n",
    "            x[i] = res[i] \n",
    "        else: \n",
    "            x[i] = (1 + (3/2)*h*(1-2*t[i-1])) * x[i-1] - (h/2)*(1-2*t[i-2])*x[i-2] \n",
    "    \n",
    "    return x"
   ]
  },
  {
   "cell_type": "markdown",
   "metadata": {},
   "source": [
    "**Q2. As a first step to verify that your implementation is correct, compare these methods on a graph. Also check the global error term on the second graph. You do not need to write more code. If the code you wrote for Q1 is correct, the code below should run and produce what is expected. Please write a small comment telling us whether you are satisfied with what you observe or not.**"
   ]
  },
  {
   "cell_type": "code",
   "execution_count": 23,
   "metadata": {},
   "outputs": [
    {
     "data": {
      "text/html": [
       "\n",
       "\n",
       "\n",
       "\n",
       "\n",
       "\n",
       "  <div class=\"bk-root\" id=\"6cbcb865-cdc6-411a-a635-d3150277fb07\" data-root-id=\"3632\"></div>\n"
      ]
     },
     "metadata": {},
     "output_type": "display_data"
    },
    {
     "data": {
      "application/javascript": [
       "(function(root) {\n",
       "  function embed_document(root) {\n",
       "    \n",
       "  const docs_json = {\"3f4ef723-ad7c-4935-a99e-129d286d52be\":{\"defs\":[],\"roots\":{\"references\":[{\"attributes\":{\"children\":[{\"id\":\"3262\"},{\"id\":\"3462\"}]},\"id\":\"3632\",\"type\":\"Column\"},{\"attributes\":{\"coordinates\":null,\"data_source\":{\"id\":\"3512\"},\"glyph\":{\"id\":\"3513\"},\"group\":null,\"hover_glyph\":null,\"muted_glyph\":{\"id\":\"3515\"},\"nonselection_glyph\":{\"id\":\"3514\"},\"view\":{\"id\":\"3517\"}},\"id\":\"3516\",\"type\":\"GlyphRenderer\"},{\"attributes\":{\"label\":{\"value\":\"Trapezoidal rule method approximation\"},\"renderers\":[{\"id\":\"3358\"}]},\"id\":\"3377\",\"type\":\"LegendItem\"},{\"attributes\":{\"fill_color\":{\"value\":\"navy\"},\"hatch_color\":{\"value\":\"navy\"},\"line_color\":{\"value\":\"navy\"},\"size\":{\"value\":8},\"x\":{\"field\":\"x\"},\"y\":{\"field\":\"y\"}},\"id\":\"3494\",\"type\":\"Circle\"},{\"attributes\":{\"data\":{\"x\":{\"__ndarray__\":\"AAAAAAAAAACamZmZmZnJP5qZmZmZmdk/NDMzMzMz4z+amZmZmZnpPwAAAAAAAPA/NDMzMzMz8z9nZmZmZmb2P5qZmZmZmfk/zczMzMzM/D8AAAAAAAAAQJqZmZmZmQFANDMzMzMzA0DNzMzMzMwEQGdmZmZmZgZAAAAAAAAACECamZmZmZkJQDQzMzMzMwtAzczMzMzMDEBnZmZmZmYOQAAAAAAAABBA\",\"dtype\":\"float64\",\"order\":\"little\",\"shape\":[21]},\"y\":{\"__ndarray__\":\"AAAAAAAAAAAASupNWJR6P4CYxLNN2oc/gKZ/nGP0iT+A34GbTt6BPwDIi+QwDVo/ABfE5FIRdj+AvbZiaiGDP4AhsT3vLIM/YDjYaPrDej/AfrRxhgtnPwBQPBZ1Tio/QDK+nM5DXj8Y9j0Y1qBiPzpXYgSwOWA/xD07b4uMVz+YIwMRsFFOP9wQFaOB+UE/Vi4xmDM2ND9hmNuGMyMmP9XifMIROxg/\",\"dtype\":\"float64\",\"order\":\"little\",\"shape\":[21]}},\"selected\":{\"id\":\"3529\"},\"selection_policy\":{\"id\":\"3528\"}},\"id\":\"3512\",\"type\":\"ColumnDataSource\"},{\"attributes\":{\"label\":{\"value\":\"AB (C) method approximation\"},\"renderers\":[{\"id\":\"3558\"}]},\"id\":\"3577\",\"type\":\"LegendItem\"},{\"attributes\":{\"coordinates\":null,\"data_source\":{\"id\":\"3354\"},\"glyph\":{\"id\":\"3355\"},\"group\":null,\"hover_glyph\":null,\"muted_glyph\":{\"id\":\"3357\"},\"nonselection_glyph\":{\"id\":\"3356\"},\"view\":{\"id\":\"3359\"}},\"id\":\"3358\",\"type\":\"GlyphRenderer\"},{\"attributes\":{\"coordinates\":null,\"data_source\":{\"id\":\"3404\"},\"glyph\":{\"id\":\"3405\"},\"group\":null,\"hover_glyph\":null,\"muted_glyph\":{\"id\":\"3407\"},\"nonselection_glyph\":{\"id\":\"3406\"},\"view\":{\"id\":\"3409\"}},\"id\":\"3408\",\"type\":\"GlyphRenderer\"},{\"attributes\":{\"coordinates\":null,\"data_source\":{\"id\":\"3554\"},\"glyph\":{\"id\":\"3555\"},\"group\":null,\"hover_glyph\":null,\"muted_glyph\":{\"id\":\"3557\"},\"nonselection_glyph\":{\"id\":\"3556\"},\"view\":{\"id\":\"3559\"}},\"id\":\"3558\",\"type\":\"GlyphRenderer\"},{\"attributes\":{\"source\":{\"id\":\"3332\"}},\"id\":\"3337\",\"type\":\"CDSView\"},{\"attributes\":{\"label\":{\"value\":\"TS method approximation\"},\"renderers\":[{\"id\":\"3516\"}]},\"id\":\"3531\",\"type\":\"LegendItem\"},{\"attributes\":{\"data\":{\"x\":{\"__ndarray__\":\"AAAAAAAAAACamZmZmZnJP5qZmZmZmdk/NDMzMzMz4z+amZmZmZnpPwAAAAAAAPA/NDMzMzMz8z9nZmZmZmb2P5qZmZmZmfk/zczMzMzM/D8AAAAAAAAAQJqZmZmZmQFANDMzMzMzA0DNzMzMzMwEQGdmZmZmZgZAAAAAAAAACECamZmZmZkJQDQzMzMzMwtAzczMzMzMDEBnZmZmZmYOQAAAAAAAABBA\",\"dtype\":\"float64\",\"order\":\"little\",\"shape\":[21]},\"y\":{\"__ndarray__\":\"AAAAAAAA8D8AAAAAAADwP0fhehSuR/E/eTarPldb8T9H2LeTiPDvP31cE7l94uo/o5/v9VW85D/+g2HwKm7dPw5a1hkNWNM/wGx397G/xz+yGEP03ni7P+nwQQl1Ma4/MEe0TUTCnz+mZmAkyxWQP8a51hKAi38/nR0H8WcSbj9na8G2g/hbPzASZijGdUk/qGZS3me8Nj/SrPhPI/YjP+SCp2G8QhE/\",\"dtype\":\"float64\",\"order\":\"little\",\"shape\":[21]}},\"selected\":{\"id\":\"3401\"},\"selection_policy\":{\"id\":\"3400\"}},\"id\":\"3378\",\"type\":\"ColumnDataSource\"},{\"attributes\":{\"data\":{\"x\":{\"__ndarray__\":\"AAAAAAAAAACamZmZmZnJP5qZmZmZmdk/NDMzMzMz4z+amZmZmZnpPwAAAAAAAPA/NDMzMzMz8z9nZmZmZmb2P5qZmZmZmfk/zczMzMzM/D8AAAAAAAAAQJqZmZmZmQFANDMzMzMzA0DNzMzMzMwEQGdmZmZmZgZAAAAAAAAACECamZmZmZkJQDQzMzMzMwtAzczMzMzMDEBnZmZmZmYOQAAAAAAAABBA\",\"dtype\":\"float64\",\"order\":\"little\",\"shape\":[21]},\"y\":{\"__ndarray__\":\"AAAAAAAA8D8MYnIFMbnyP8YhY69dfvQ/PVbncY6Z9D9jUHs5N/TyP1JeTneT6O8/gu+m5ESc6D/nVjCBA3fhPxdBMm9o9dY/Tn8wa8QvzD8Ln0Q+h03AP+yzHJbn6rE/coQJ/cHYoj+ufakUQheTPzSSwPBBuII/8LVCV3rYcT/WTGerRplgPyJCpPu0N04/mKy2twb8Oj8UXFf3CLEnP/Rd3LlvfBQ/\",\"dtype\":\"float64\",\"order\":\"little\",\"shape\":[21]}},\"selected\":{\"id\":\"3459\"},\"selection_policy\":{\"id\":\"3458\"}},\"id\":\"3432\",\"type\":\"ColumnDataSource\"},{\"attributes\":{\"source\":{\"id\":\"3493\"}},\"id\":\"3498\",\"type\":\"CDSView\"},{\"attributes\":{},\"id\":\"3467\",\"type\":\"LinearScale\"},{\"attributes\":{\"coordinates\":null,\"data_source\":{\"id\":\"3532\"},\"glyph\":{\"id\":\"3533\"},\"group\":null,\"hover_glyph\":null,\"muted_glyph\":{\"id\":\"3535\"},\"nonselection_glyph\":{\"id\":\"3534\"},\"view\":{\"id\":\"3537\"}},\"id\":\"3536\",\"type\":\"GlyphRenderer\"},{\"attributes\":{\"source\":{\"id\":\"3354\"}},\"id\":\"3359\",\"type\":\"CDSView\"},{\"attributes\":{\"fill_alpha\":{\"value\":0.2},\"fill_color\":{\"value\":\"red\"},\"hatch_alpha\":{\"value\":0.2},\"hatch_color\":{\"value\":\"red\"},\"line_alpha\":{\"value\":0.2},\"line_color\":{\"value\":\"red\"},\"marker\":{\"value\":\"x\"},\"size\":{\"value\":8},\"x\":{\"field\":\"x\"},\"y\":{\"field\":\"y\"}},\"id\":\"3357\",\"type\":\"Scatter\"},{\"attributes\":{\"source\":{\"id\":\"3404\"}},\"id\":\"3409\",\"type\":\"CDSView\"},{\"attributes\":{\"fill_alpha\":{\"value\":0.2},\"fill_color\":{\"value\":\"orange\"},\"hatch_alpha\":{\"value\":0.2},\"hatch_color\":{\"value\":\"orange\"},\"line_alpha\":{\"value\":0.2},\"line_color\":{\"value\":\"orange\"},\"marker\":{\"value\":\"x\"},\"size\":{\"value\":8},\"x\":{\"field\":\"x\"},\"y\":{\"field\":\"y\"}},\"id\":\"3407\",\"type\":\"Scatter\"},{\"attributes\":{},\"id\":\"3469\",\"type\":\"LinearScale\"},{\"attributes\":{\"fill_color\":{\"value\":\"white\"},\"line_color\":{\"value\":\"#1f77b4\"},\"size\":{\"value\":8},\"x\":{\"field\":\"x\"},\"y\":{\"field\":\"y\"}},\"id\":\"3513\",\"type\":\"Circle\"},{\"attributes\":{\"source\":{\"id\":\"3554\"}},\"id\":\"3559\",\"type\":\"CDSView\"},{\"attributes\":{\"end\":4.0},\"id\":\"3463\",\"type\":\"Range1d\"},{\"attributes\":{\"fill_alpha\":{\"value\":0.1},\"fill_color\":{\"value\":\"red\"},\"hatch_alpha\":{\"value\":0.1},\"hatch_color\":{\"value\":\"red\"},\"line_alpha\":{\"value\":0.1},\"line_color\":{\"value\":\"red\"},\"marker\":{\"value\":\"x\"},\"size\":{\"value\":8},\"x\":{\"field\":\"x\"},\"y\":{\"field\":\"y\"}},\"id\":\"3356\",\"type\":\"Scatter\"},{\"attributes\":{\"fill_alpha\":{\"value\":0.1},\"fill_color\":{\"value\":\"orange\"},\"hatch_alpha\":{\"value\":0.1},\"hatch_color\":{\"value\":\"orange\"},\"line_alpha\":{\"value\":0.1},\"line_color\":{\"value\":\"orange\"},\"marker\":{\"value\":\"x\"},\"size\":{\"value\":8},\"x\":{\"field\":\"x\"},\"y\":{\"field\":\"y\"}},\"id\":\"3406\",\"type\":\"Scatter\"},{\"attributes\":{\"coordinates\":null,\"data_source\":{\"id\":\"3432\"},\"glyph\":{\"id\":\"3433\"},\"group\":null,\"hover_glyph\":null,\"muted_glyph\":{\"id\":\"3435\"},\"nonselection_glyph\":{\"id\":\"3434\"},\"view\":{\"id\":\"3437\"}},\"id\":\"3436\",\"type\":\"GlyphRenderer\"},{\"attributes\":{},\"id\":\"3465\",\"type\":\"DataRange1d\"},{\"attributes\":{\"fill_alpha\":{\"value\":0.1},\"fill_color\":{\"value\":\"fuchsia\"},\"hatch_alpha\":{\"value\":0.1},\"hatch_color\":{\"value\":\"fuchsia\"},\"line_alpha\":{\"value\":0.1},\"line_color\":{\"value\":\"fuchsia\"},\"marker\":{\"value\":\"x\"},\"size\":{\"value\":8},\"x\":{\"field\":\"x\"},\"y\":{\"field\":\"y\"}},\"id\":\"3556\",\"type\":\"Scatter\"},{\"attributes\":{\"coordinates\":null,\"data_source\":{\"id\":\"3378\"},\"glyph\":{\"id\":\"3379\"},\"group\":null,\"hover_glyph\":null,\"muted_glyph\":{\"id\":\"3381\"},\"nonselection_glyph\":{\"id\":\"3380\"},\"view\":{\"id\":\"3383\"}},\"id\":\"3382\",\"type\":\"GlyphRenderer\"},{\"attributes\":{\"coordinates\":null,\"data_source\":{\"id\":\"3578\"},\"glyph\":{\"id\":\"3579\"},\"group\":null,\"hover_glyph\":null,\"muted_glyph\":{\"id\":\"3581\"},\"nonselection_glyph\":{\"id\":\"3580\"},\"view\":{\"id\":\"3583\"}},\"id\":\"3582\",\"type\":\"GlyphRenderer\"},{\"attributes\":{},\"id\":\"3374\",\"type\":\"UnionRenderers\"},{\"attributes\":{\"axis_label\":\"t\",\"coordinates\":null,\"formatter\":{\"id\":\"3505\"},\"group\":null,\"major_label_policy\":{\"id\":\"3506\"},\"ticker\":{\"id\":\"3472\"}},\"id\":\"3471\",\"type\":\"LinearAxis\"},{\"attributes\":{\"label\":{\"value\":\"AB (E) method approximation\"},\"renderers\":[{\"id\":\"3408\"}]},\"id\":\"3431\",\"type\":\"LegendItem\"},{\"attributes\":{},\"id\":\"3375\",\"type\":\"Selection\"},{\"attributes\":{\"label\":{\"value\":\"TS method approximation\"},\"renderers\":[{\"id\":\"3336\"}]},\"id\":\"3353\",\"type\":\"LegendItem\"},{\"attributes\":{},\"id\":\"3472\",\"type\":\"BasicTicker\"},{\"attributes\":{},\"id\":\"3429\",\"type\":\"Selection\"},{\"attributes\":{\"axis\":{\"id\":\"3471\"},\"coordinates\":null,\"group\":null,\"ticker\":null},\"id\":\"3474\",\"type\":\"Grid\"},{\"attributes\":{\"fill_alpha\":{\"value\":0.1},\"fill_color\":{\"value\":\"white\"},\"hatch_alpha\":{\"value\":0.1},\"line_alpha\":{\"value\":0.1},\"line_color\":{\"value\":\"#1f77b4\"},\"size\":{\"value\":8},\"x\":{\"field\":\"x\"},\"y\":{\"field\":\"y\"}},\"id\":\"3334\",\"type\":\"Circle\"},{\"attributes\":{},\"id\":\"3528\",\"type\":\"UnionRenderers\"},{\"attributes\":{},\"id\":\"3480\",\"type\":\"WheelZoomTool\"},{\"attributes\":{\"fill_color\":{\"value\":\"navy\"},\"hatch_color\":{\"value\":\"navy\"},\"line_color\":{\"value\":\"navy\"},\"size\":{\"value\":8},\"x\":{\"field\":\"x\"},\"y\":{\"field\":\"y\"}},\"id\":\"3313\",\"type\":\"Circle\"},{\"attributes\":{},\"id\":\"3428\",\"type\":\"UnionRenderers\"},{\"attributes\":{\"axis_label\":\"GE\",\"coordinates\":null,\"formatter\":{\"id\":\"3502\"},\"group\":null,\"major_label_policy\":{\"id\":\"3503\"},\"ticker\":{\"id\":\"3476\"}},\"id\":\"3475\",\"type\":\"LinearAxis\"},{\"attributes\":{},\"id\":\"3458\",\"type\":\"UnionRenderers\"},{\"attributes\":{\"axis\":{\"id\":\"3475\"},\"coordinates\":null,\"dimension\":1,\"group\":null,\"ticker\":null},\"id\":\"3478\",\"type\":\"Grid\"},{\"attributes\":{},\"id\":\"3574\",\"type\":\"UnionRenderers\"},{\"attributes\":{},\"id\":\"3476\",\"type\":\"BasicTicker\"},{\"attributes\":{},\"id\":\"3269\",\"type\":\"LinearScale\"},{\"attributes\":{},\"id\":\"3484\",\"type\":\"HelpTool\"},{\"attributes\":{\"fill_alpha\":{\"value\":0.2},\"fill_color\":{\"value\":\"white\"},\"hatch_alpha\":{\"value\":0.2},\"line_alpha\":{\"value\":0.2},\"line_color\":{\"value\":\"#1f77b4\"},\"size\":{\"value\":8},\"x\":{\"field\":\"x\"},\"y\":{\"field\":\"y\"}},\"id\":\"3335\",\"type\":\"Circle\"},{\"attributes\":{},\"id\":\"3479\",\"type\":\"PanTool\"},{\"attributes\":{\"overlay\":{\"id\":\"3485\"}},\"id\":\"3481\",\"type\":\"BoxZoomTool\"},{\"attributes\":{},\"id\":\"3272\",\"type\":\"BasicTicker\"},{\"attributes\":{},\"id\":\"3482\",\"type\":\"SaveTool\"},{\"attributes\":{\"coordinates\":null,\"data_source\":{\"id\":\"3293\"},\"glyph\":{\"id\":\"3294\"},\"group\":null,\"hover_glyph\":null,\"muted_glyph\":{\"id\":\"3296\"},\"nonselection_glyph\":{\"id\":\"3295\"},\"view\":{\"id\":\"3298\"}},\"id\":\"3297\",\"type\":\"GlyphRenderer\"},{\"attributes\":{},\"id\":\"3483\",\"type\":\"ResetTool\"},{\"attributes\":{\"bottom_units\":\"screen\",\"coordinates\":null,\"fill_alpha\":0.5,\"fill_color\":\"lightgrey\",\"group\":null,\"left_units\":\"screen\",\"level\":\"overlay\",\"line_alpha\":1.0,\"line_color\":\"black\",\"line_dash\":[4,4],\"line_width\":2,\"right_units\":\"screen\",\"syncable\":false,\"top_units\":\"screen\"},\"id\":\"3485\",\"type\":\"BoxAnnotation\"},{\"attributes\":{\"coordinates\":null,\"data_source\":{\"id\":\"3493\"},\"glyph\":{\"id\":\"3494\"},\"group\":null,\"hover_glyph\":null,\"muted_glyph\":{\"id\":\"3496\"},\"nonselection_glyph\":{\"id\":\"3495\"},\"view\":{\"id\":\"3498\"}},\"id\":\"3497\",\"type\":\"GlyphRenderer\"},{\"attributes\":{\"fill_alpha\":{\"value\":0.2},\"fill_color\":{\"value\":\"navy\"},\"hatch_alpha\":{\"value\":0.2},\"hatch_color\":{\"value\":\"navy\"},\"line_alpha\":{\"value\":0.2},\"line_color\":{\"value\":\"navy\"},\"size\":{\"value\":8},\"x\":{\"field\":\"x\"},\"y\":{\"field\":\"y\"}},\"id\":\"3496\",\"type\":\"Circle\"},{\"attributes\":{\"fill_alpha\":{\"value\":0.2},\"fill_color\":{\"value\":\"orange\"},\"hatch_alpha\":{\"value\":0.2},\"hatch_color\":{\"value\":\"orange\"},\"line_alpha\":{\"value\":0.2},\"line_color\":{\"value\":\"orange\"},\"marker\":{\"value\":\"x\"},\"size\":{\"value\":8},\"x\":{\"field\":\"x\"},\"y\":{\"field\":\"y\"}},\"id\":\"3581\",\"type\":\"Scatter\"},{\"attributes\":{\"label\":{\"value\":\"Trapezoidal rule method approximation\"},\"renderers\":[{\"id\":\"3536\"}]},\"id\":\"3553\",\"type\":\"LegendItem\"},{\"attributes\":{\"data\":{\"x\":{\"__ndarray__\":\"AAAAAAAAAACamZmZmZnJP5qZmZmZmdk/NDMzMzMz4z+amZmZmZnpPwAAAAAAAPA/NDMzMzMz8z9nZmZmZmb2P5qZmZmZmfk/zczMzMzM/D8AAAAAAAAAQJqZmZmZmQFANDMzMzMzA0DNzMzMzMwEQGdmZmZmZgZAAAAAAAAACECamZmZmZkJQDQzMzMzMwtAzczMzMzMDEBnZmZmZmYOQAAAAAAAABBA\",\"dtype\":\"float64\",\"order\":\"little\",\"shape\":[21]},\"y\":{\"__ndarray__\":\"AAAAAAAA8D8MYnIFMbnyPyhV/vB4QPQ/KFX+8HhA9D8MYnIFMbnyPwAAAAAAAPA/NZTXUF5D6T/Y6QB8gWniP6iryigwwNg/AXNc6c2kzj+WOc4GgXHBP5HzDLNzObI/c7zUMJtuoT90Ie7z2HGOP7NZCjlfMHg/qe4bAIJqYT8HGGoXRZ5GP/1sUV8ZVyo/NBIS8ddQCz/BOCnsFQPpPjH6IPB3AsQ+\",\"dtype\":\"float64\",\"order\":\"little\",\"shape\":[21]}},\"selected\":{\"id\":\"3375\"},\"selection_policy\":{\"id\":\"3374\"}},\"id\":\"3354\",\"type\":\"ColumnDataSource\"},{\"attributes\":{\"label\":{\"value\":\"AB (C) method approximation\"},\"renderers\":[{\"id\":\"3382\"}]},\"id\":\"3403\",\"type\":\"LegendItem\"},{\"attributes\":{\"label\":{\"value\":\"AB (E) method approximation\"},\"renderers\":[{\"id\":\"3582\"}]},\"id\":\"3603\",\"type\":\"LegendItem\"},{\"attributes\":{\"source\":{\"id\":\"3432\"}},\"id\":\"3437\",\"type\":\"CDSView\"},{\"attributes\":{\"fill_color\":{\"value\":\"fuchsia\"},\"hatch_color\":{\"value\":\"fuchsia\"},\"line_color\":{\"value\":\"fuchsia\"},\"marker\":{\"value\":\"x\"},\"size\":{\"value\":8},\"x\":{\"field\":\"x\"},\"y\":{\"field\":\"y\"}},\"id\":\"3555\",\"type\":\"Scatter\"},{\"attributes\":{\"data\":{\"x\":{\"__ndarray__\":\"AAAAAAAAAACamZmZmZnJP5qZmZmZmdk/NDMzMzMz4z+amZmZmZnpPwAAAAAAAPA/NDMzMzMz8z9nZmZmZmb2P5qZmZmZmfk/zczMzMzM/D8AAAAAAAAAQJqZmZmZmQFANDMzMzMzA0DNzMzMzMwEQGdmZmZmZgZAAAAAAAAACECamZmZmZkJQDQzMzMzMwtAzczMzMzMDEBnZmZmZmYOQAAAAAAAABBA\",\"dtype\":\"float64\",\"order\":\"little\",\"shape\":[21]},\"y\":{\"__ndarray__\":\"AAAAAAAA8D8zMzMzMzPzPxov3SQGgfU/6IL6ljld9j8waUJJN3j1Pyr2JYir5PI/3YkJDaw67j8aB2MJ2MPlP0o8k87129s/zSSvn8szzz9e+kuZSPS9P7Iuo3qg9qc/FPR+iFKsjj8M4HnAOnJtP1i4bIV32EI/QKSfTlEfCD8AAAAAAAAAAAAAAAAAAAAAAAAAAAAAAAAAAAAAAAAAAAAAAAAAAAAA\",\"dtype\":\"float64\",\"order\":\"little\",\"shape\":[21]}},\"selected\":{\"id\":\"3329\"},\"selection_policy\":{\"id\":\"3328\"}},\"id\":\"3312\",\"type\":\"ColumnDataSource\"},{\"attributes\":{\"fill_color\":{\"value\":\"orange\"},\"hatch_color\":{\"value\":\"orange\"},\"line_color\":{\"value\":\"orange\"},\"marker\":{\"value\":\"x\"},\"size\":{\"value\":8},\"x\":{\"field\":\"x\"},\"y\":{\"field\":\"y\"}},\"id\":\"3405\",\"type\":\"Scatter\"},{\"attributes\":{\"fill_color\":{\"value\":\"white\"},\"hatch_color\":{\"value\":\"red\"},\"line_color\":{\"value\":\"red\"},\"size\":{\"value\":8},\"x\":{\"field\":\"x\"},\"y\":{\"field\":\"y\"}},\"id\":\"3605\",\"type\":\"Circle\"},{\"attributes\":{\"fill_color\":{\"value\":\"white\"},\"line_color\":{\"value\":\"#1f77b4\"},\"size\":{\"value\":8},\"x\":{\"field\":\"x\"},\"y\":{\"field\":\"y\"}},\"id\":\"3333\",\"type\":\"Circle\"},{\"attributes\":{\"data\":{\"x\":{\"__ndarray__\":\"AAAAAAAAAACamZmZmZnJP5qZmZmZmdk/NDMzMzMz4z+amZmZmZnpPwAAAAAAAPA/NDMzMzMz8z9nZmZmZmb2P5qZmZmZmfk/zczMzMzM/D8AAAAAAAAAQJqZmZmZmQFANDMzMzMzA0DNzMzMzMwEQGdmZmZmZgZAAAAAAAAACECamZmZmZkJQDQzMzMzMwtAzczMzMzMDEBnZmZmZmYOQAAAAAAAABBA\",\"dtype\":\"float64\",\"order\":\"little\",\"shape\":[21]},\"y\":{\"__ndarray__\":\"AAAAAAAAAAC4hDSumjXGPxhVAifaesg/iKt/1ZDdxz+cI1VfeHPGPwyOshsJdsQ/ECD17OC+wT/IwOIWFoK8P0jwyD8QpbQ/RBk+gNBPqj+Yq+9M2bGcPywRiVIHYIk/sGJPuPt6bj8AH5EHqV0aPwydivchHVQ/jpHm/yuIUz/yOTX2iztLP24L41bJF0A/GG+hwuIXMT8bwXWI4NIgPzeO5jvPTA8/\",\"dtype\":\"float64\",\"order\":\"little\",\"shape\":[21]}},\"selected\":{\"id\":\"3575\"},\"selection_policy\":{\"id\":\"3574\"}},\"id\":\"3554\",\"type\":\"ColumnDataSource\"},{\"attributes\":{\"source\":{\"id\":\"3532\"}},\"id\":\"3537\",\"type\":\"CDSView\"},{\"attributes\":{\"data\":{\"x\":{\"__ndarray__\":\"AAAAAAAAAACamZmZmZnJP5qZmZmZmdk/NDMzMzMz4z+amZmZmZnpPwAAAAAAAPA/NDMzMzMz8z9nZmZmZmb2P5qZmZmZmfk/zczMzMzM/D8AAAAAAAAAQJqZmZmZmQFANDMzMzMzA0DNzMzMzMwEQGdmZmZmZgZAAAAAAAAACECamZmZmZkJQDQzMzMzMwtAzczMzMzMDEBnZmZmZmYOQAAAAAAAABBA\",\"dtype\":\"float64\",\"order\":\"little\",\"shape\":[21]},\"y\":{\"__ndarray__\":\"AAAAAAAA8D8zMzMzMzPzP3STGARWDvU/l6jeGtgq9T9TaGoj6HnzP7glGQnSZPA/fJ2ggdtJ6T8pRJCPM/LhPx8j72pYl9c/wRWkcpT2zD8ej5cAhcDAP1WOxRJJabI/mmjrKLFdoz+34U8Y6p2TP76uot9LPIM//I8K21lWcj/mQDW2Wg5hP+Lwm2DYDE8/jtLBHVy6Oz+m7QdbJFgoP2A4fxzvDBU/\",\"dtype\":\"float64\",\"order\":\"little\",\"shape\":[21]}},\"selected\":{\"id\":\"3429\"},\"selection_policy\":{\"id\":\"3428\"}},\"id\":\"3404\",\"type\":\"ColumnDataSource\"},{\"attributes\":{\"fill_alpha\":{\"value\":0.2},\"fill_color\":{\"value\":\"red\"},\"hatch_alpha\":{\"value\":0.2},\"hatch_color\":{\"value\":\"red\"},\"line_alpha\":{\"value\":0.2},\"line_color\":{\"value\":\"red\"},\"marker\":{\"value\":\"x\"},\"size\":{\"value\":8},\"x\":{\"field\":\"x\"},\"y\":{\"field\":\"y\"}},\"id\":\"3535\",\"type\":\"Scatter\"},{\"attributes\":{\"data\":{\"x\":{\"__ndarray__\":\"AAAAAAAAAACamZmZmZnJP5qZmZmZmdk/NDMzMzMz4z+amZmZmZnpPwAAAAAAAPA/NDMzMzMz8z9nZmZmZmb2P5qZmZmZmfk/zczMzMzM/D8AAAAAAAAAQJqZmZmZmQFANDMzMzMzA0DNzMzMzMwEQGdmZmZmZgZAAAAAAAAACECamZmZmZkJQDQzMzMzMwtAzczMzMzMDEBnZmZmZmYOQAAAAAAAABBA\",\"dtype\":\"float64\",\"order\":\"little\",\"shape\":[21]},\"y\":{\"__ndarray__\":\"AAAAAAAAAAAAFl2ooARrPwDu+gMrqoM/wJQKI0ahkD8A5l/a8cGGPwCuobGIbGc/oAS/kCn5kT8gZpg7lwqaP5BQZamLvpg/GJ6zYg0fkT8QLK5XNlKAP4CrWTX2dFY/8KqmqgH/YD84QYXKpN5oP8ojGpmY2GU/FC7jekXFXj8+yyebz9dSP2A7ISq42UQ/CLUFnIFXNT9dcNQvxo0kPysiKPYa4BI/\",\"dtype\":\"float64\",\"order\":\"little\",\"shape\":[21]}},\"selected\":{\"id\":\"3629\"},\"selection_policy\":{\"id\":\"3628\"}},\"id\":\"3604\",\"type\":\"ColumnDataSource\"},{\"attributes\":{\"source\":{\"id\":\"3378\"}},\"id\":\"3383\",\"type\":\"CDSView\"},{\"attributes\":{\"source\":{\"id\":\"3578\"}},\"id\":\"3583\",\"type\":\"CDSView\"},{\"attributes\":{\"fill_color\":{\"value\":\"orange\"},\"hatch_color\":{\"value\":\"orange\"},\"line_color\":{\"value\":\"orange\"},\"marker\":{\"value\":\"x\"},\"size\":{\"value\":8},\"x\":{\"field\":\"x\"},\"y\":{\"field\":\"y\"}},\"id\":\"3579\",\"type\":\"Scatter\"},{\"attributes\":{\"fill_alpha\":{\"value\":0.2},\"fill_color\":{\"value\":\"fuchsia\"},\"hatch_alpha\":{\"value\":0.2},\"hatch_color\":{\"value\":\"fuchsia\"},\"line_alpha\":{\"value\":0.2},\"line_color\":{\"value\":\"fuchsia\"},\"marker\":{\"value\":\"x\"},\"size\":{\"value\":8},\"x\":{\"field\":\"x\"},\"y\":{\"field\":\"y\"}},\"id\":\"3381\",\"type\":\"Scatter\"},{\"attributes\":{\"data\":{\"x\":{\"__ndarray__\":\"AAAAAAAAAACamZmZmZnJP5qZmZmZmdk/NDMzMzMz4z+amZmZmZnpPwAAAAAAAPA/NDMzMzMz8z9nZmZmZmb2P5qZmZmZmfk/zczMzMzM/D8AAAAAAAAAQJqZmZmZmQFANDMzMzMzA0DNzMzMzMwEQGdmZmZmZgZAAAAAAAAACECamZmZmZkJQDQzMzMzMwtAzczMzMzMDEBnZmZmZmYOQAAAAAAAABBA\",\"dtype\":\"float64\",\"order\":\"little\",\"shape\":[21]},\"y\":{\"__ndarray__\":\"AAAAAAAAAAAApyhb9x+bPwAzILjMn7I/8Lf67IExwD/IxN6bH4zFP1CxL0FcJcc/2Ihyb3c6xD8QaK9y/uO7P1AxVSYl1ao/gDcGBbEEfD/oJMy4MsSSPwQNgsasJZk/fLl+gHo7lD8LM5NGTJqIP3h7RqQoKXg/RVbZq9TtYz/cnE13e7VMP4UNBqP5uzI/QN7DbhSSFj+3XRc8Fhr5Pou8QztMxdk+\",\"dtype\":\"float64\",\"order\":\"little\",\"shape\":[21]}},\"selected\":{\"id\":\"3508\"},\"selection_policy\":{\"id\":\"3507\"}},\"id\":\"3493\",\"type\":\"ColumnDataSource\"},{\"attributes\":{\"fill_alpha\":{\"value\":0.1},\"fill_color\":{\"value\":\"red\"},\"hatch_alpha\":{\"value\":0.1},\"hatch_color\":{\"value\":\"red\"},\"line_alpha\":{\"value\":0.1},\"line_color\":{\"value\":\"red\"},\"marker\":{\"value\":\"x\"},\"size\":{\"value\":8},\"x\":{\"field\":\"x\"},\"y\":{\"field\":\"y\"}},\"id\":\"3534\",\"type\":\"Scatter\"},{\"attributes\":{},\"id\":\"3265\",\"type\":\"DataRange1d\"},{\"attributes\":{\"fill_color\":{\"value\":\"white\"},\"hatch_color\":{\"value\":\"red\"},\"line_color\":{\"value\":\"red\"},\"size\":{\"value\":8},\"x\":{\"field\":\"x\"},\"y\":{\"field\":\"y\"}},\"id\":\"3433\",\"type\":\"Circle\"},{\"attributes\":{\"fill_alpha\":{\"value\":0.1},\"fill_color\":{\"value\":\"fuchsia\"},\"hatch_alpha\":{\"value\":0.1},\"hatch_color\":{\"value\":\"fuchsia\"},\"line_alpha\":{\"value\":0.1},\"line_color\":{\"value\":\"fuchsia\"},\"marker\":{\"value\":\"x\"},\"size\":{\"value\":8},\"x\":{\"field\":\"x\"},\"y\":{\"field\":\"y\"}},\"id\":\"3380\",\"type\":\"Scatter\"},{\"attributes\":{\"fill_alpha\":{\"value\":0.2},\"fill_color\":{\"value\":\"white\"},\"hatch_alpha\":{\"value\":0.2},\"hatch_color\":{\"value\":\"red\"},\"line_alpha\":{\"value\":0.2},\"line_color\":{\"value\":\"red\"},\"size\":{\"value\":8},\"x\":{\"field\":\"x\"},\"y\":{\"field\":\"y\"}},\"id\":\"3435\",\"type\":\"Circle\"},{\"attributes\":{\"fill_alpha\":{\"value\":0.1},\"fill_color\":{\"value\":\"orange\"},\"hatch_alpha\":{\"value\":0.1},\"hatch_color\":{\"value\":\"orange\"},\"line_alpha\":{\"value\":0.1},\"line_color\":{\"value\":\"orange\"},\"marker\":{\"value\":\"x\"},\"size\":{\"value\":8},\"x\":{\"field\":\"x\"},\"y\":{\"field\":\"y\"}},\"id\":\"3580\",\"type\":\"Scatter\"},{\"attributes\":{\"fill_alpha\":{\"value\":0.1},\"fill_color\":{\"value\":\"white\"},\"hatch_alpha\":{\"value\":0.1},\"hatch_color\":{\"value\":\"red\"},\"line_alpha\":{\"value\":0.1},\"line_color\":{\"value\":\"red\"},\"size\":{\"value\":8},\"x\":{\"field\":\"x\"},\"y\":{\"field\":\"y\"}},\"id\":\"3434\",\"type\":\"Circle\"},{\"attributes\":{\"below\":[{\"id\":\"3271\"}],\"center\":[{\"id\":\"3274\"},{\"id\":\"3278\"},{\"id\":\"3310\"}],\"height\":400,\"left\":[{\"id\":\"3275\"}],\"renderers\":[{\"id\":\"3297\"},{\"id\":\"3316\"},{\"id\":\"3336\"},{\"id\":\"3358\"},{\"id\":\"3382\"},{\"id\":\"3408\"},{\"id\":\"3436\"}],\"title\":{\"id\":\"3299\"},\"toolbar\":{\"id\":\"3286\"},\"width\":980,\"x_range\":{\"id\":\"3263\"},\"x_scale\":{\"id\":\"3267\"},\"y_range\":{\"id\":\"3265\"},\"y_scale\":{\"id\":\"3269\"}},\"id\":\"3262\",\"subtype\":\"Figure\",\"type\":\"Plot\"},{\"attributes\":{\"coordinates\":null,\"group\":null},\"id\":\"3299\",\"type\":\"Title\"},{\"attributes\":{\"below\":[{\"id\":\"3471\"}],\"center\":[{\"id\":\"3474\"},{\"id\":\"3478\"},{\"id\":\"3510\"}],\"height\":400,\"left\":[{\"id\":\"3475\"}],\"renderers\":[{\"id\":\"3497\"},{\"id\":\"3516\"},{\"id\":\"3536\"},{\"id\":\"3558\"},{\"id\":\"3582\"},{\"id\":\"3608\"}],\"title\":{\"id\":\"3499\"},\"toolbar\":{\"id\":\"3486\"},\"width\":980,\"x_range\":{\"id\":\"3463\"},\"x_scale\":{\"id\":\"3467\"},\"y_range\":{\"id\":\"3465\"},\"y_scale\":{\"id\":\"3469\"}},\"id\":\"3462\",\"subtype\":\"Figure\",\"type\":\"Plot\"},{\"attributes\":{},\"id\":\"3401\",\"type\":\"Selection\"},{\"attributes\":{},\"id\":\"3551\",\"type\":\"Selection\"},{\"attributes\":{},\"id\":\"3267\",\"type\":\"LinearScale\"},{\"attributes\":{},\"id\":\"3400\",\"type\":\"UnionRenderers\"},{\"attributes\":{},\"id\":\"3459\",\"type\":\"Selection\"},{\"attributes\":{\"label\":{\"value\":\"AB (T) method approximation\"},\"renderers\":[{\"id\":\"3436\"}]},\"id\":\"3461\",\"type\":\"LegendItem\"},{\"attributes\":{},\"id\":\"3600\",\"type\":\"UnionRenderers\"},{\"attributes\":{},\"id\":\"3601\",\"type\":\"Selection\"},{\"attributes\":{\"end\":4.0},\"id\":\"3263\",\"type\":\"Range1d\"},{\"attributes\":{\"axis_label\":\"t\",\"coordinates\":null,\"formatter\":{\"id\":\"3305\"},\"group\":null,\"major_label_policy\":{\"id\":\"3306\"},\"ticker\":{\"id\":\"3272\"}},\"id\":\"3271\",\"type\":\"LinearAxis\"},{\"attributes\":{\"line_alpha\":0.1,\"line_color\":\"#1f77b4\",\"x\":{\"field\":\"x\"},\"y\":{\"field\":\"y\"}},\"id\":\"3295\",\"type\":\"Line\"},{\"attributes\":{\"label\":{\"value\":\"Euler method approximation\"},\"renderers\":[{\"id\":\"3497\"}]},\"id\":\"3511\",\"type\":\"LegendItem\"},{\"attributes\":{},\"id\":\"3351\",\"type\":\"Selection\"},{\"attributes\":{\"coordinates\":null,\"group\":null,\"items\":[{\"id\":\"3511\"},{\"id\":\"3531\"},{\"id\":\"3553\"},{\"id\":\"3577\"},{\"id\":\"3603\"},{\"id\":\"3631\"}]},\"id\":\"3510\",\"type\":\"Legend\"},{\"attributes\":{\"line_color\":\"#1f77b4\",\"x\":{\"field\":\"x\"},\"y\":{\"field\":\"y\"}},\"id\":\"3294\",\"type\":\"Line\"},{\"attributes\":{\"coordinates\":null,\"data_source\":{\"id\":\"3332\"},\"glyph\":{\"id\":\"3333\"},\"group\":null,\"hover_glyph\":null,\"muted_glyph\":{\"id\":\"3335\"},\"nonselection_glyph\":{\"id\":\"3334\"},\"view\":{\"id\":\"3337\"}},\"id\":\"3336\",\"type\":\"GlyphRenderer\"},{\"attributes\":{\"fill_alpha\":{\"value\":0.1},\"fill_color\":{\"value\":\"navy\"},\"hatch_alpha\":{\"value\":0.1},\"hatch_color\":{\"value\":\"navy\"},\"line_alpha\":{\"value\":0.1},\"line_color\":{\"value\":\"navy\"},\"size\":{\"value\":8},\"x\":{\"field\":\"x\"},\"y\":{\"field\":\"y\"}},\"id\":\"3495\",\"type\":\"Circle\"},{\"attributes\":{\"label\":{\"value\":\"Exact solution\"},\"renderers\":[{\"id\":\"3297\"}]},\"id\":\"3311\",\"type\":\"LegendItem\"},{\"attributes\":{\"fill_color\":{\"value\":\"fuchsia\"},\"hatch_color\":{\"value\":\"fuchsia\"},\"line_color\":{\"value\":\"fuchsia\"},\"marker\":{\"value\":\"x\"},\"size\":{\"value\":8},\"x\":{\"field\":\"x\"},\"y\":{\"field\":\"y\"}},\"id\":\"3379\",\"type\":\"Scatter\"},{\"attributes\":{},\"id\":\"3350\",\"type\":\"UnionRenderers\"},{\"attributes\":{\"coordinates\":null,\"group\":null},\"id\":\"3499\",\"type\":\"Title\"},{\"attributes\":{},\"id\":\"3328\",\"type\":\"UnionRenderers\"},{\"attributes\":{\"tools\":[{\"id\":\"3479\"},{\"id\":\"3480\"},{\"id\":\"3481\"},{\"id\":\"3482\"},{\"id\":\"3483\"},{\"id\":\"3484\"}]},\"id\":\"3486\",\"type\":\"Toolbar\"},{\"attributes\":{\"coordinates\":null,\"group\":null,\"items\":[{\"id\":\"3311\"},{\"id\":\"3331\"},{\"id\":\"3353\"},{\"id\":\"3377\"},{\"id\":\"3403\"},{\"id\":\"3431\"},{\"id\":\"3461\"}]},\"id\":\"3310\",\"type\":\"Legend\"},{\"attributes\":{\"coordinates\":null,\"data_source\":{\"id\":\"3604\"},\"glyph\":{\"id\":\"3605\"},\"group\":null,\"hover_glyph\":null,\"muted_glyph\":{\"id\":\"3607\"},\"nonselection_glyph\":{\"id\":\"3606\"},\"view\":{\"id\":\"3609\"}},\"id\":\"3608\",\"type\":\"GlyphRenderer\"},{\"attributes\":{},\"id\":\"3628\",\"type\":\"UnionRenderers\"},{\"attributes\":{\"source\":{\"id\":\"3604\"}},\"id\":\"3609\",\"type\":\"CDSView\"},{\"attributes\":{\"data\":{\"x\":{\"__ndarray__\":\"AAAAAAAAAACamZmZmZnJP5qZmZmZmdk/NDMzMzMz4z+amZmZmZnpPwAAAAAAAPA/NDMzMzMz8z9nZmZmZmb2P5qZmZmZmfk/zczMzMzM/D8AAAAAAAAAQJqZmZmZmQFANDMzMzMzA0DNzMzMzMwEQGdmZmZmZgZAAAAAAAAACECamZmZmZkJQDQzMzMzMwtAzczMzMzMDEBnZmZmZmYOQAAAAAAAABBA\",\"dtype\":\"float64\",\"order\":\"little\",\"shape\":[21]},\"y\":{\"__ndarray__\":\"AAAAAAAA8D/hehSuR+HyPxu1wvS9hvQ/NyuUIPKK9D9WlP3yb+ryP/IiOUyDBvA/eV9ji+v/6D8iP4KR0vrhPxQN26/p59c/TjFARIZ9zT/Rr/iJfPbAP8I4faniUbI/VQtFV/C6oj9KlGA+iE+SPxCfksuHUIE/3LlY1EsKcD86YCjElYNdP54XmHR+V0s/5iXis7jaOT8YhF5OdkYpP54eMYZm1xk/\",\"dtype\":\"float64\",\"order\":\"little\",\"shape\":[21]}},\"selected\":{\"id\":\"3351\"},\"selection_policy\":{\"id\":\"3350\"}},\"id\":\"3332\",\"type\":\"ColumnDataSource\"},{\"attributes\":{},\"id\":\"3283\",\"type\":\"ResetTool\"},{\"attributes\":{\"fill_alpha\":{\"value\":0.2},\"fill_color\":{\"value\":\"white\"},\"hatch_alpha\":{\"value\":0.2},\"hatch_color\":{\"value\":\"red\"},\"line_alpha\":{\"value\":0.2},\"line_color\":{\"value\":\"red\"},\"size\":{\"value\":8},\"x\":{\"field\":\"x\"},\"y\":{\"field\":\"y\"}},\"id\":\"3607\",\"type\":\"Circle\"},{\"attributes\":{\"fill_alpha\":{\"value\":0.1},\"fill_color\":{\"value\":\"navy\"},\"hatch_alpha\":{\"value\":0.1},\"hatch_color\":{\"value\":\"navy\"},\"line_alpha\":{\"value\":0.1},\"line_color\":{\"value\":\"navy\"},\"size\":{\"value\":8},\"x\":{\"field\":\"x\"},\"y\":{\"field\":\"y\"}},\"id\":\"3314\",\"type\":\"Circle\"},{\"attributes\":{},\"id\":\"3282\",\"type\":\"SaveTool\"},{\"attributes\":{\"fill_alpha\":{\"value\":0.1},\"fill_color\":{\"value\":\"white\"},\"hatch_alpha\":{\"value\":0.1},\"hatch_color\":{\"value\":\"red\"},\"line_alpha\":{\"value\":0.1},\"line_color\":{\"value\":\"red\"},\"size\":{\"value\":8},\"x\":{\"field\":\"x\"},\"y\":{\"field\":\"y\"}},\"id\":\"3606\",\"type\":\"Circle\"},{\"attributes\":{},\"id\":\"3502\",\"type\":\"BasicTickFormatter\"},{\"attributes\":{},\"id\":\"3629\",\"type\":\"Selection\"},{\"attributes\":{},\"id\":\"3503\",\"type\":\"AllLabels\"},{\"attributes\":{\"label\":{\"value\":\"AB (T) method approximation\"},\"renderers\":[{\"id\":\"3608\"}]},\"id\":\"3631\",\"type\":\"LegendItem\"},{\"attributes\":{\"axis_label\":\"x(t)\",\"coordinates\":null,\"formatter\":{\"id\":\"3302\"},\"group\":null,\"major_label_policy\":{\"id\":\"3303\"},\"ticker\":{\"id\":\"3276\"}},\"id\":\"3275\",\"type\":\"LinearAxis\"},{\"attributes\":{},\"id\":\"3505\",\"type\":\"BasicTickFormatter\"},{\"attributes\":{\"overlay\":{\"id\":\"3285\"}},\"id\":\"3281\",\"type\":\"BoxZoomTool\"},{\"attributes\":{\"axis\":{\"id\":\"3275\"},\"coordinates\":null,\"dimension\":1,\"group\":null,\"ticker\":null},\"id\":\"3278\",\"type\":\"Grid\"},{\"attributes\":{},\"id\":\"3506\",\"type\":\"AllLabels\"},{\"attributes\":{\"label\":{\"value\":\"Euler method approximation\"},\"renderers\":[{\"id\":\"3316\"}]},\"id\":\"3331\",\"type\":\"LegendItem\"},{\"attributes\":{},\"id\":\"3507\",\"type\":\"UnionRenderers\"},{\"attributes\":{},\"id\":\"3280\",\"type\":\"WheelZoomTool\"},{\"attributes\":{},\"id\":\"3575\",\"type\":\"Selection\"},{\"attributes\":{},\"id\":\"3508\",\"type\":\"Selection\"},{\"attributes\":{\"axis\":{\"id\":\"3271\"},\"coordinates\":null,\"group\":null,\"ticker\":null},\"id\":\"3274\",\"type\":\"Grid\"},{\"attributes\":{\"source\":{\"id\":\"3512\"}},\"id\":\"3517\",\"type\":\"CDSView\"},{\"attributes\":{\"tools\":[{\"id\":\"3279\"},{\"id\":\"3280\"},{\"id\":\"3281\"},{\"id\":\"3282\"},{\"id\":\"3283\"},{\"id\":\"3284\"}]},\"id\":\"3286\",\"type\":\"Toolbar\"},{\"attributes\":{\"line_alpha\":0.2,\"line_color\":\"#1f77b4\",\"x\":{\"field\":\"x\"},\"y\":{\"field\":\"y\"}},\"id\":\"3296\",\"type\":\"Line\"},{\"attributes\":{\"source\":{\"id\":\"3312\"}},\"id\":\"3317\",\"type\":\"CDSView\"},{\"attributes\":{},\"id\":\"3329\",\"type\":\"Selection\"},{\"attributes\":{},\"id\":\"3550\",\"type\":\"UnionRenderers\"},{\"attributes\":{},\"id\":\"3279\",\"type\":\"PanTool\"},{\"attributes\":{\"fill_color\":{\"value\":\"red\"},\"hatch_color\":{\"value\":\"red\"},\"line_color\":{\"value\":\"red\"},\"marker\":{\"value\":\"x\"},\"size\":{\"value\":8},\"x\":{\"field\":\"x\"},\"y\":{\"field\":\"y\"}},\"id\":\"3355\",\"type\":\"Scatter\"},{\"attributes\":{},\"id\":\"3276\",\"type\":\"BasicTicker\"},{\"attributes\":{},\"id\":\"3284\",\"type\":\"HelpTool\"},{\"attributes\":{},\"id\":\"3529\",\"type\":\"Selection\"},{\"attributes\":{},\"id\":\"3308\",\"type\":\"Selection\"},{\"attributes\":{\"fill_alpha\":{\"value\":0.2},\"fill_color\":{\"value\":\"navy\"},\"hatch_alpha\":{\"value\":0.2},\"hatch_color\":{\"value\":\"navy\"},\"line_alpha\":{\"value\":0.2},\"line_color\":{\"value\":\"navy\"},\"size\":{\"value\":8},\"x\":{\"field\":\"x\"},\"y\":{\"field\":\"y\"}},\"id\":\"3315\",\"type\":\"Circle\"},{\"attributes\":{\"data\":{\"x\":{\"__ndarray__\":\"AAAAAAAAAABbv1Kg1q+kP1u/UqDWr7Q/CB988MEHvz9bv1Kg1q/EPzJvZ0jM28k/CB988MEHzz9wZ0jM2xnSP1u/UqDWr9Q/RhdddNFF1z8yb2dIzNvZPx3HcRzHcdw/CB988MEH3z96O0Ni3s7gP3BnSMzbGeI/ZZNNNtlk4z9bv1Kg1q/kP1HrVwrU+uU/RhdddNFF5z88Q2LezpDoPzJvZ0jM2+k/J5tssskm6z8dx3Ecx3HsPxPzdobEvO0/CB988MEH7z9/pUCtXynwP3o7Q2LezvA/ddFFF1108T9wZ0jM2xnyP2r9SoFav/I/ZZNNNtlk8z9gKVDrVwr0P1u/UqDWr/Q/VlVVVVVV9T9R61cK1Pr1P0yBWr9SoPY/RhdddNFF9z9BrV8pUOv3PzxDYt7OkPg/N9lkk002+T8yb2dIzNv5Py0Fav1Kgfo/J5tssskm+z8iMW9nSMz7Px3HcRzHcfw/GF100UUX/T8T83aGxLz9Pw6JeTtDYv4/CB988MEH/z8DtX6lQK3/P3+lQK1fKQBAffDBBx98AEB6O0Ni3s4AQHeGxLydIQFAddFFF110AUByHMdxHMcBQHBnSMzbGQJAbbLJJptsAkBq/UqBWr8CQGhIzNsZEgNAZZNNNtlkA0Bj3s6QmLcDQGApUOtXCgRAXnTRRRddBEBbv1Kg1q8EQFgK1PqVAgVAVlVVVVVVBUBToNavFKgFQFHrVwrU+gVATjbZZJNNBkBMgVq/UqAGQEnM2xkS8wZARhdddNFFB0BEYt7OkJgHQEGtXylQ6wdAP/jggw8+CEA8Q2LezpAIQDmO4ziO4whAN9lkk002CUA0JObtDIkJQDJvZ0jM2wlAL7rooosuCkAtBWr9SoEKQCpQ61cK1ApAJ5tssskmC0Al5u0MiXkLQCIxb2dIzAtAIHzwwQcfDEAdx3Ecx3EMQBsS83aGxAxAGF100UUXDUAVqPUrBWoNQBPzdobEvA1AED744IMPDkAOiXk7Q2IOQAvU+pUCtQ5ACB988MEHD0AGav1KgVoPQAO1fqVArQ9AAAAAAAAAEEA=\",\"dtype\":\"float64\",\"order\":\"little\",\"shape\":[100]},\"y\":{\"__ndarray__\":\"AAAAAAAA8D+4vlJV7aHwP0jjy9zTO/E/lfw+02PM8T8nsMWrWVLyP61Uu76CzPI/34lz1sE58z8S3JiBE5nzP32kzhOS6fM/qriBPnkq9D+bGcAtKVv0PyJobRcpe/Q/IzEoLimK9D+Gc57sA4j0P3eQzbG+dPQ/o6+fqolQ9D9jEGkJvxv0PzVf1I/h1vM/9rC3c5qC8z99Lfeqth/zP7Tr660jr/I/Qmelwusx8j8ppbblManxP26GBmctFvE/RvRCUiV68D9MqTd216zvPxl5mwqyWO4/ZuuVf4767D/XmgxSG5XrP09YKuH4Kuo/c1FAkLG+6D8a6f+lslLnP4KxDgJG6eU/WpXku4yE5D/si6y3eibjPyWSsTfT0OE/uGjoaiaF4D9wjxXnn4neP+6uObfsIdw/Iwts0RbV2T+nMjB5mqTXPxD+IVqQkdU//KO4drKc0z/1THMjYsbRP7FRXNquDtA/rvt/ZbvqzD/M2F+U4vPJPxfimtxjN8c/JXdetGuzxD+vq7C80mXCP+mE3p0tTMA/6AUJZLjHvD9FKeqTL1S5Pyrk/8YAOLY/7X5IZVFtsz8yQYTSQe6wPzyC3MgAaq0/fd4edbN3qT97174CjfqlP1crXm7t56I/zz3RJ7U1oD8IfSf0pLSbP4/PyNWVmZc/tfA384EJlD+ARglT7fSQP67+exU1m4w/dDVGIQsNiD85tLpStSeEP7m+BW3U1YA/Y7L5dGgIfD86o/qtVUN3P9gJsEHrPXM/JAPRU1O6bz9tIPPXmhJqPzE4FeoLW2U/iLa+b1xvYT8giU8AIGBcP8hWudLqA1c/+0/XP1ibUj9WwT0nyfxNP4ndnRvvFUg/E8WYXUlIQz/ta2BU9sU+PxKChKfXeTg/gyz5Y2BnMz8BWQkBT6ouP8X1gAD9Jig/UNIJN+r1Ij/2Cp8VOqwdP21IGRuOJBc/mvzDEbP9ET/H5PzAheELP5kJYCuJiAU/U8mwAKGTAD/1sjywUHD5Pp9Hf8SkdPM+NU2F5pip7T4V4jn9z4nmPgzXD07DEeE+i7xDO0zF2T4=\",\"dtype\":\"float64\",\"order\":\"little\",\"shape\":[100]}},\"selected\":{\"id\":\"3308\"},\"selection_policy\":{\"id\":\"3307\"}},\"id\":\"3293\",\"type\":\"ColumnDataSource\"},{\"attributes\":{\"coordinates\":null,\"data_source\":{\"id\":\"3312\"},\"glyph\":{\"id\":\"3313\"},\"group\":null,\"hover_glyph\":null,\"muted_glyph\":{\"id\":\"3315\"},\"nonselection_glyph\":{\"id\":\"3314\"},\"view\":{\"id\":\"3317\"}},\"id\":\"3316\",\"type\":\"GlyphRenderer\"},{\"attributes\":{},\"id\":\"3307\",\"type\":\"UnionRenderers\"},{\"attributes\":{\"data\":{\"x\":{\"__ndarray__\":\"AAAAAAAAAACamZmZmZnJP5qZmZmZmdk/NDMzMzMz4z+amZmZmZnpPwAAAAAAAPA/NDMzMzMz8z9nZmZmZmb2P5qZmZmZmfk/zczMzMzM/D8AAAAAAAAAQJqZmZmZmQFANDMzMzMzA0DNzMzMzMwEQGdmZmZmZgZAAAAAAAAACECamZmZmZkJQDQzMzMzMwtAzczMzMzMDEBnZmZmZmYOQAAAAAAAABBA\",\"dtype\":\"float64\",\"order\":\"little\",\"shape\":[21]},\"y\":{\"__ndarray__\":\"AAAAAAAAAAAApyhb9x+bP0DxrFeV6aY/oJVvMNh5qj+A93q0mWamPwBuSUaCNJk/ANW1c1DNbT/AezXfKkmFPyBgLtsXP40/ANUtThrRhT/AVf5ktERyP4DduenRRkI/cO3EaPRNaT+AYbjn5BNtP/KVolTA6Gc/IksBxWFeYD9es8Ow98FTPyDqGI/brkU//toQAtcVNj/vAYWT4TQlP5f8yliacBM/\",\"dtype\":\"float64\",\"order\":\"little\",\"shape\":[21]}},\"selected\":{\"id\":\"3601\"},\"selection_policy\":{\"id\":\"3600\"}},\"id\":\"3578\",\"type\":\"ColumnDataSource\"},{\"attributes\":{},\"id\":\"3306\",\"type\":\"AllLabels\"},{\"attributes\":{\"source\":{\"id\":\"3293\"}},\"id\":\"3298\",\"type\":\"CDSView\"},{\"attributes\":{},\"id\":\"3305\",\"type\":\"BasicTickFormatter\"},{\"attributes\":{\"bottom_units\":\"screen\",\"coordinates\":null,\"fill_alpha\":0.5,\"fill_color\":\"lightgrey\",\"group\":null,\"left_units\":\"screen\",\"level\":\"overlay\",\"line_alpha\":1.0,\"line_color\":\"black\",\"line_dash\":[4,4],\"line_width\":2,\"right_units\":\"screen\",\"syncable\":false,\"top_units\":\"screen\"},\"id\":\"3285\",\"type\":\"BoxAnnotation\"},{\"attributes\":{},\"id\":\"3303\",\"type\":\"AllLabels\"},{\"attributes\":{},\"id\":\"3302\",\"type\":\"BasicTickFormatter\"},{\"attributes\":{\"data\":{\"x\":{\"__ndarray__\":\"AAAAAAAAAACamZmZmZnJP5qZmZmZmdk/NDMzMzMz4z+amZmZmZnpPwAAAAAAAPA/NDMzMzMz8z9nZmZmZmb2P5qZmZmZmfk/zczMzMzM/D8AAAAAAAAAQJqZmZmZmQFANDMzMzMzA0DNzMzMzMwEQGdmZmZmZgZAAAAAAAAACECamZmZmZkJQDQzMzMzMwtAzczMzMzMDEBnZmZmZmYOQAAAAAAAABBA\",\"dtype\":\"float64\",\"order\":\"little\",\"shape\":[21]},\"y\":{\"__ndarray__\":\"AAAAAAAAAAAAFl2ooARrPwDC1lxokHY/AMLWXGiQdj8AFl2ooARrPwAAAAAAAAAAAI6sqh9QZz8A4Od5oBRxPwDECoF/b28/APxfdfRJZD8AyrcOY9ZOPwASTsp3jyY/AFSXYqyNRj+gmTgsIFBIP4DGTd/CnkI/aDG/h38eNz9UE45/2VwoPxpcdc2zQRY/TKp17FDTAT+tggWMFjHpPuV+ZoYgiM8+\",\"dtype\":\"float64\",\"order\":\"little\",\"shape\":[21]}},\"selected\":{\"id\":\"3551\"},\"selection_policy\":{\"id\":\"3550\"}},\"id\":\"3532\",\"type\":\"ColumnDataSource\"},{\"attributes\":{\"fill_alpha\":{\"value\":0.2},\"fill_color\":{\"value\":\"fuchsia\"},\"hatch_alpha\":{\"value\":0.2},\"hatch_color\":{\"value\":\"fuchsia\"},\"line_alpha\":{\"value\":0.2},\"line_color\":{\"value\":\"fuchsia\"},\"marker\":{\"value\":\"x\"},\"size\":{\"value\":8},\"x\":{\"field\":\"x\"},\"y\":{\"field\":\"y\"}},\"id\":\"3557\",\"type\":\"Scatter\"},{\"attributes\":{\"fill_alpha\":{\"value\":0.1},\"fill_color\":{\"value\":\"white\"},\"hatch_alpha\":{\"value\":0.1},\"line_alpha\":{\"value\":0.1},\"line_color\":{\"value\":\"#1f77b4\"},\"size\":{\"value\":8},\"x\":{\"field\":\"x\"},\"y\":{\"field\":\"y\"}},\"id\":\"3514\",\"type\":\"Circle\"},{\"attributes\":{\"fill_color\":{\"value\":\"red\"},\"hatch_color\":{\"value\":\"red\"},\"line_color\":{\"value\":\"red\"},\"marker\":{\"value\":\"x\"},\"size\":{\"value\":8},\"x\":{\"field\":\"x\"},\"y\":{\"field\":\"y\"}},\"id\":\"3533\",\"type\":\"Scatter\"},{\"attributes\":{\"fill_alpha\":{\"value\":0.2},\"fill_color\":{\"value\":\"white\"},\"hatch_alpha\":{\"value\":0.2},\"line_alpha\":{\"value\":0.2},\"line_color\":{\"value\":\"#1f77b4\"},\"size\":{\"value\":8},\"x\":{\"field\":\"x\"},\"y\":{\"field\":\"y\"}},\"id\":\"3515\",\"type\":\"Circle\"}],\"root_ids\":[\"3632\"]},\"title\":\"Bokeh Application\",\"version\":\"2.4.1\"}};\n",
       "  const render_items = [{\"docid\":\"3f4ef723-ad7c-4935-a99e-129d286d52be\",\"root_ids\":[\"3632\"],\"roots\":{\"3632\":\"6cbcb865-cdc6-411a-a635-d3150277fb07\"}}];\n",
       "  root.Bokeh.embed.embed_items_notebook(docs_json, render_items);\n",
       "\n",
       "  }\n",
       "  if (root.Bokeh !== undefined) {\n",
       "    embed_document(root);\n",
       "  } else {\n",
       "    let attempts = 0;\n",
       "    const timer = setInterval(function(root) {\n",
       "      if (root.Bokeh !== undefined) {\n",
       "        clearInterval(timer);\n",
       "        embed_document(root);\n",
       "      } else {\n",
       "        attempts++;\n",
       "        if (attempts > 100) {\n",
       "          clearInterval(timer);\n",
       "          console.log(\"Bokeh: ERROR: Unable to run BokehJS code because BokehJS library is missing\");\n",
       "        }\n",
       "      }\n",
       "    }, 10, root)\n",
       "  }\n",
       "})(window);"
      ],
      "application/vnd.bokehjs_exec.v0+json": ""
     },
     "metadata": {
      "application/vnd.bokehjs_exec.v0+json": {
       "id": "3632"
      }
     },
     "output_type": "display_data"
    }
   ],
   "source": [
    "t0 = 0.\n",
    "tf = 4.0\n",
    "h = 0.2\n",
    "x0 = 1.\n",
    "\n",
    "x_Elr    = Euler(f1, t0, tf, h, x0)\n",
    "x_TS2    = TS2(f1, g1, t0, tf, h, x0)\n",
    "x_TR1    = TrapRule1(t0, tf, h, x0)\n",
    "x_ABC1   = AB_C1(t0, tf, h, x0)\n",
    "x_ABE1   = AB_E1(f1, t0, tf, h, x0)\n",
    "x_ABT1   = AB_T1(t0, tf, h, x0)\n",
    "\n",
    "nt = np.size(x_Elr)\n",
    "t = t0+1.*h*np.arange(nt)\n",
    "\n",
    "N = 100 # number of points for the exact solution\n",
    "texa = np.linspace(t0,tf,N)\n",
    "xexa1 = x1_exa(texa)\n",
    "\n",
    "fig1 = figure(x_range=(t0, tf), width=980, height=400, x_axis_label='t', y_axis_label='x(t)')\n",
    "fig1.line(texa,xexa1,legend_label = 'Exact solution')\n",
    "fig1.circle(t,x_Elr, color = 'navy', legend_label = 'Euler method approximation', size = 8)\n",
    "fig1.circle(t,x_TS2,fill_color = 'white', legend_label = 'TS method approximation', size = 8)\n",
    "fig1.x(t,x_TR1,color = 'red', legend_label = 'Trapezoidal rule method approximation', size = 8)\n",
    "fig1.x(t,x_ABC1,color = 'fuchsia', legend_label = 'AB (C) method approximation', size = 8)\n",
    "fig1.x(t,x_ABE1,color = 'orange', legend_label = 'AB (E) method approximation', size = 8)\n",
    "fig1.circle(t,x_ABT1,color = 'red',fill_color='white', legend_label = 'AB (T) method approximation', size = 8)\n",
    "\n",
    "xexa2 = x1_exa(t)\n",
    "fig2 = figure(x_range=(t0, tf), width=980, height=400, x_axis_label='t', y_axis_label='GE')\n",
    "fig2.circle(t,abs(xexa2-x_Elr), color = 'navy', legend_label = 'Euler method approximation', size = 8)\n",
    "fig2.circle(t,abs(xexa2-x_TS2),fill_color = 'white', legend_label = 'TS method approximation', size = 8)\n",
    "fig2.x(t,abs(xexa2-x_TR1),color = 'red', legend_label = 'Trapezoidal rule method approximation', size = 8)\n",
    "fig2.x(t,abs(xexa2-x_ABC1),color = 'fuchsia', legend_label = 'AB (C) method approximation', size = 8)\n",
    "fig2.x(t,abs(xexa2-x_ABE1),color = 'orange', legend_label = 'AB (E) method approximation', size = 8)\n",
    "fig2.circle(t,abs(xexa2-x_ABT1),color = 'red',fill_color='white', legend_label = 'AB (T) method approximation', size = 8)\n",
    "\n",
    "show(column(fig1,fig2))"
   ]
  },
  {
   "cell_type": "markdown",
   "metadata": {},
   "source": [
    "### Convergence study"
   ]
  },
  {
   "cell_type": "markdown",
   "metadata": {},
   "source": [
    "We recall that a discrete equivalent of the $L^\\infty$-norm $||u||_{L^\\infty\\left([t_0,t_f]\\right)} = \\max_{t\\in [t_0,t_f]} \\left|u(t)\\right|$ of a continuous function $u\\in \\mathcal{C}^0\\left([t_0,t_f]\\right)$ can be defined for a sequence $(x_j)_{j\\in\\{0,...,N\\}}$ by:\n",
    "$$\n",
    "\\max_{j\\in\\{0,...,N\\}} \\left|x_j\\right|.\n",
    "$$\n",
    "It is called the $l^\\infty$-norm.\n",
    "To assess the accuracy of a numerical approximation $\\left(u_n\\right)_{n\\in\\{0,...,N\\}}$, it can be useful to evaluate the following quantity: (error in discrete $l^\\infty$-norm)\n",
    "$$\n",
    "e_{l^\\infty\\text{-}norm} = \\max_{n\\in\\{0,...,N\\}}\\left|u(t_n)-u_n\\right|^2\n",
    "$$\n",
    "with $t_n = t_0 + nh$ where $h$ is the step size, $n\\in\\{0,...,N\\}$ and $N = \\left\\lfloor\\frac{t_f-t_0}{h}\\right\\rfloor$.\n",
    "We shall want to show that $e_{l^\\infty-norm} = \\mathcal{O}\\left(h^p\\right)$ for an approximation of order $p$. This is equivalent to $|e_{l^\\infty\\text{-}norm}|\\leq C h^p$ with $C>0$.\n",
    "For convergence studies, we usually use log scales to show that this upper bound holds:\n",
    "$$\n",
    "\\ln |e_{l^\\infty\\text{-}norm}|\\leq p \\ln (h) + \\ln (C)\n",
    "$$\n",
    "Indeed, under this formalism, satisfying this inequality is graphically equivalent to remaining below a straight line.\n",
    "\n",
    "**Q3. To complete the process of checking the validity of your methods, study the order of convergence in terms of $l^\\infty$-norm for the implemented methods using log-scale graphs.\n",
    "You do not need to write more code. If the code you wrote for Q1 is correct, the code below should run and produce what is expected.**\n",
    "\n",
    "**Do all the choices for the approximation of the first step $x_1$ yield the expected order? Why?**"
   ]
  },
  {
   "cell_type": "markdown",
   "metadata": {},
   "source": [
    "Three methods : 1) x1 = x0. 2) x1 = x0 + h f(t0, x0). 3) x1 = x0 + (h/2) (f(t0, x0) + f(t1, x1)). \n",
    "\n",
    "The error term : 1) x(t1) - x0 = x(t0) + h x'(t0) + O(h^2) - x(t0) = O(h) which is order 1 for the first step. 2) x(t1) - x0 - h f(t0, x0) = O(h^2) which is order 2 for the first step. \n",
    "\n",
    "The order of error in the first step keeps in the algorithm. \n",
    "\n",
    "However, for Euler method, its global error is e_n = u(tn) - un = O(N h^2) = O(h) with N = T/h. Hence, it is order 1. "
   ]
  },
  {
   "cell_type": "code",
   "execution_count": 24,
   "metadata": {},
   "outputs": [
    {
     "data": {
      "text/html": [
       "\n",
       "\n",
       "\n",
       "\n",
       "\n",
       "\n",
       "  <div class=\"bk-root\" id=\"574b93c1-b4f6-44ee-9e67-72b275bb6375\" data-root-id=\"4035\"></div>\n"
      ]
     },
     "metadata": {},
     "output_type": "display_data"
    },
    {
     "data": {
      "application/javascript": [
       "(function(root) {\n",
       "  function embed_document(root) {\n",
       "    \n",
       "  const docs_json = {\"2c1513dd-dde3-42c7-988b-0c1c2f02f2c5\":{\"defs\":[],\"roots\":{\"references\":[{\"attributes\":{\"below\":[{\"id\":\"4044\"}],\"center\":[{\"id\":\"4047\"},{\"id\":\"4051\"},{\"id\":\"4083\"}],\"height\":400,\"left\":[{\"id\":\"4048\"}],\"renderers\":[{\"id\":\"4070\"},{\"id\":\"4089\"},{\"id\":\"4109\"},{\"id\":\"4131\"},{\"id\":\"4155\"},{\"id\":\"4181\"},{\"id\":\"4209\"},{\"id\":\"4239\"}],\"title\":{\"id\":\"4072\"},\"toolbar\":{\"id\":\"4059\"},\"width\":980,\"x_range\":{\"id\":\"4036\"},\"x_scale\":{\"id\":\"4040\"},\"y_range\":{\"id\":\"4038\"},\"y_scale\":{\"id\":\"4042\"}},\"id\":\"4035\",\"subtype\":\"Figure\",\"type\":\"Plot\"},{\"attributes\":{},\"id\":\"4148\",\"type\":\"Selection\"},{\"attributes\":{},\"id\":\"4263\",\"type\":\"UnionRenderers\"},{\"attributes\":{},\"id\":\"4147\",\"type\":\"UnionRenderers\"},{\"attributes\":{},\"id\":\"4264\",\"type\":\"Selection\"},{\"attributes\":{\"label\":{\"value\":\"AB (E) method approximation\"},\"renderers\":[{\"id\":\"4155\"}]},\"id\":\"4176\",\"type\":\"LegendItem\"},{\"attributes\":{\"coordinates\":null,\"group\":null},\"id\":\"4072\",\"type\":\"Title\"},{\"attributes\":{\"coordinates\":null,\"data_source\":{\"id\":\"4151\"},\"glyph\":{\"id\":\"4152\"},\"group\":null,\"hover_glyph\":null,\"muted_glyph\":{\"id\":\"4154\"},\"nonselection_glyph\":{\"id\":\"4153\"},\"view\":{\"id\":\"4156\"}},\"id\":\"4155\",\"type\":\"GlyphRenderer\"},{\"attributes\":{},\"id\":\"4173\",\"type\":\"UnionRenderers\"},{\"attributes\":{\"data\":{\"x\":{\"__ndarray__\":\"LUMc6+I2Gj9URZhOFT0sP+UoZDlLaz4//Knx0k1iUD9PKx9RLaZhP4+Z3gMPA3M/exSuR+F6hD8j9maluA+WP/M/1sTSw6c/mpmZmZmZuT8=\",\"dtype\":\"float64\",\"order\":\"little\",\"shape\":[10]},\"y\":{\"__ndarray__\":\"AAAAgF2WPz4AAAA8TVJiPgAAAB8gP4U+AACgSNSeqD4AAHjcAnzMPgAA2Hmwa/A+AAAusuDJEj8AcKXGESY1PwDI0umi71Y/gFWOMkMHeD8=\",\"dtype\":\"float64\",\"order\":\"little\",\"shape\":[10]}},\"selected\":{\"id\":\"4202\"},\"selection_policy\":{\"id\":\"4201\"}},\"id\":\"4177\",\"type\":\"ColumnDataSource\"},{\"attributes\":{\"source\":{\"id\":\"4151\"}},\"id\":\"4156\",\"type\":\"CDSView\"},{\"attributes\":{\"fill_alpha\":{\"value\":0.2},\"fill_color\":{\"value\":\"orange\"},\"hatch_alpha\":{\"value\":0.2},\"hatch_color\":{\"value\":\"orange\"},\"line_alpha\":{\"value\":0.2},\"line_color\":{\"value\":\"orange\"},\"marker\":{\"value\":\"x\"},\"size\":{\"value\":8},\"x\":{\"field\":\"x\"},\"y\":{\"field\":\"y\"}},\"id\":\"4154\",\"type\":\"Scatter\"},{\"attributes\":{\"fill_alpha\":{\"value\":0.1},\"fill_color\":{\"value\":\"orange\"},\"hatch_alpha\":{\"value\":0.1},\"hatch_color\":{\"value\":\"orange\"},\"line_alpha\":{\"value\":0.1},\"line_color\":{\"value\":\"orange\"},\"marker\":{\"value\":\"x\"},\"size\":{\"value\":8},\"x\":{\"field\":\"x\"},\"y\":{\"field\":\"y\"}},\"id\":\"4153\",\"type\":\"Scatter\"},{\"attributes\":{\"label\":{\"value\":\"AB (T) method approximation\"},\"renderers\":[{\"id\":\"4181\"}]},\"id\":\"4204\",\"type\":\"LegendItem\"},{\"attributes\":{},\"id\":\"4174\",\"type\":\"Selection\"},{\"attributes\":{\"bottom_units\":\"screen\",\"coordinates\":null,\"fill_alpha\":0.5,\"fill_color\":\"lightgrey\",\"group\":null,\"left_units\":\"screen\",\"level\":\"overlay\",\"line_alpha\":1.0,\"line_color\":\"black\",\"line_dash\":[4,4],\"line_width\":2,\"right_units\":\"screen\",\"syncable\":false,\"top_units\":\"screen\"},\"id\":\"4058\",\"type\":\"BoxAnnotation\"},{\"attributes\":{\"coordinates\":null,\"data_source\":{\"id\":\"4177\"},\"glyph\":{\"id\":\"4178\"},\"group\":null,\"hover_glyph\":null,\"muted_glyph\":{\"id\":\"4180\"},\"nonselection_glyph\":{\"id\":\"4179\"},\"view\":{\"id\":\"4182\"}},\"id\":\"4181\",\"type\":\"GlyphRenderer\"},{\"attributes\":{\"source\":{\"id\":\"4085\"}},\"id\":\"4090\",\"type\":\"CDSView\"},{\"attributes\":{\"fill_alpha\":{\"value\":0.1},\"fill_color\":{\"value\":\"white\"},\"hatch_alpha\":{\"value\":0.1},\"hatch_color\":{\"value\":\"red\"},\"line_alpha\":{\"value\":0.1},\"line_color\":{\"value\":\"red\"},\"size\":{\"value\":8},\"x\":{\"field\":\"x\"},\"y\":{\"field\":\"y\"}},\"id\":\"4179\",\"type\":\"Circle\"},{\"attributes\":{\"coordinates\":null,\"data_source\":{\"id\":\"4205\"},\"glyph\":{\"id\":\"4206\"},\"group\":null,\"hover_glyph\":null,\"muted_glyph\":{\"id\":\"4208\"},\"nonselection_glyph\":{\"id\":\"4207\"},\"view\":{\"id\":\"4210\"}},\"id\":\"4209\",\"type\":\"GlyphRenderer\"},{\"attributes\":{\"source\":{\"id\":\"4177\"}},\"id\":\"4182\",\"type\":\"CDSView\"},{\"attributes\":{\"fill_alpha\":{\"value\":0.2},\"fill_color\":{\"value\":\"white\"},\"hatch_alpha\":{\"value\":0.2},\"hatch_color\":{\"value\":\"red\"},\"line_alpha\":{\"value\":0.2},\"line_color\":{\"value\":\"red\"},\"size\":{\"value\":8},\"x\":{\"field\":\"x\"},\"y\":{\"field\":\"y\"}},\"id\":\"4180\",\"type\":\"Circle\"},{\"attributes\":{\"label\":{\"value\":\"order 1 slope\"},\"renderers\":[{\"id\":\"4209\"}]},\"id\":\"4234\",\"type\":\"LegendItem\"},{\"attributes\":{},\"id\":\"4201\",\"type\":\"UnionRenderers\"},{\"attributes\":{},\"id\":\"4202\",\"type\":\"Selection\"},{\"attributes\":{},\"id\":\"4042\",\"type\":\"LogScale\"},{\"attributes\":{\"coordinates\":null,\"data_source\":{\"id\":\"4235\"},\"glyph\":{\"id\":\"4236\"},\"group\":null,\"hover_glyph\":null,\"muted_glyph\":{\"id\":\"4238\"},\"nonselection_glyph\":{\"id\":\"4237\"},\"view\":{\"id\":\"4240\"}},\"id\":\"4239\",\"type\":\"GlyphRenderer\"},{\"attributes\":{\"fill_alpha\":{\"value\":0.1},\"fill_color\":{\"value\":\"white\"},\"hatch_alpha\":{\"value\":0.1},\"line_alpha\":{\"value\":0.1},\"line_color\":{\"value\":\"#1f77b4\"},\"size\":{\"value\":8},\"x\":{\"field\":\"x\"},\"y\":{\"field\":\"y\"}},\"id\":\"4087\",\"type\":\"Circle\"},{\"attributes\":{},\"id\":\"4057\",\"type\":\"HelpTool\"},{\"attributes\":{},\"id\":\"4056\",\"type\":\"ResetTool\"},{\"attributes\":{\"tools\":[{\"id\":\"4052\"},{\"id\":\"4053\"},{\"id\":\"4054\"},{\"id\":\"4055\"},{\"id\":\"4056\"},{\"id\":\"4057\"}]},\"id\":\"4059\",\"type\":\"Toolbar\"},{\"attributes\":{\"data\":{\"x\":{\"__ndarray__\":\"LUMc6+I2Gj9URZhOFT0sP+UoZDlLaz4//Knx0k1iUD9PKx9RLaZhP4+Z3gMPA3M/exSuR+F6hD8j9maluA+WP/M/1sTSw6c/mpmZmZmZuT8=\",\"dtype\":\"float64\",\"order\":\"little\",\"shape\":[10]},\"y\":{\"__ndarray__\":\"AMDC+TM3Fj8AoPfmlO4nPwCwVFQwyDk/ADB8+w/HSz8ASPl//+5dPwA/CWynInA/AD4GolRpgT+ASLkfQdOSPwDRcnzmcaQ/MBPPD5NRtj8=\",\"dtype\":\"float64\",\"order\":\"little\",\"shape\":[10]}},\"selected\":{\"id\":\"4081\"},\"selection_policy\":{\"id\":\"4080\"}},\"id\":\"4066\",\"type\":\"ColumnDataSource\"},{\"attributes\":{},\"id\":\"4055\",\"type\":\"SaveTool\"},{\"attributes\":{\"label\":{\"value\":\"Trapezoidal rule method approximation\"},\"renderers\":[{\"id\":\"4109\"}]},\"id\":\"4126\",\"type\":\"LegendItem\"},{\"attributes\":{},\"id\":\"4101\",\"type\":\"UnionRenderers\"},{\"attributes\":{\"overlay\":{\"id\":\"4058\"}},\"id\":\"4054\",\"type\":\"BoxZoomTool\"},{\"attributes\":{\"coordinates\":null,\"data_source\":{\"id\":\"4105\"},\"glyph\":{\"id\":\"4106\"},\"group\":null,\"hover_glyph\":null,\"muted_glyph\":{\"id\":\"4108\"},\"nonselection_glyph\":{\"id\":\"4107\"},\"view\":{\"id\":\"4110\"}},\"id\":\"4109\",\"type\":\"GlyphRenderer\"},{\"attributes\":{\"label\":{\"value\":\"Euler method approximation\"},\"renderers\":[{\"id\":\"4070\"}]},\"id\":\"4084\",\"type\":\"LegendItem\"},{\"attributes\":{\"fill_alpha\":{\"value\":0.1},\"fill_color\":{\"value\":\"navy\"},\"hatch_alpha\":{\"value\":0.1},\"hatch_color\":{\"value\":\"navy\"},\"line_alpha\":{\"value\":0.1},\"line_color\":{\"value\":\"navy\"},\"size\":{\"value\":8},\"x\":{\"field\":\"x\"},\"y\":{\"field\":\"y\"}},\"id\":\"4068\",\"type\":\"Circle\"},{\"attributes\":{\"label\":{\"value\":\"TS method approximation\"},\"renderers\":[{\"id\":\"4089\"}]},\"id\":\"4104\",\"type\":\"LegendItem\"},{\"attributes\":{},\"id\":\"4123\",\"type\":\"UnionRenderers\"},{\"attributes\":{\"coordinates\":null,\"group\":null,\"items\":[{\"id\":\"4084\"},{\"id\":\"4104\"},{\"id\":\"4126\"},{\"id\":\"4150\"},{\"id\":\"4176\"},{\"id\":\"4204\"},{\"id\":\"4234\"},{\"id\":\"4266\"}],\"location\":\"bottom_right\"},\"id\":\"4083\",\"type\":\"Legend\"},{\"attributes\":{\"data\":{\"x\":{\"__ndarray__\":\"LUMc6+I2Gj9URZhOFT0sP+UoZDlLaz4//Knx0k1iUD9PKx9RLaZhP4+Z3gMPA3M/exSuR+F6hD8j9maluA+WP/M/1sTSw6c/mpmZmZmZuT8=\",\"dtype\":\"float64\",\"order\":\"little\",\"shape\":[10]},\"y\":{\"__ndarray__\":\"AAAAgM5GGT4AAABAo1Q9PgAAADCBBGE+AACAbka/gz4AACCxHuqmPgAA2H/vlso+AACmP6Pa7j4AQLGRy+URPwAwF59yvzQ/AHxUl9gIWD8=\",\"dtype\":\"float64\",\"order\":\"little\",\"shape\":[10]}},\"selected\":{\"id\":\"4124\"},\"selection_policy\":{\"id\":\"4123\"}},\"id\":\"4105\",\"type\":\"ColumnDataSource\"},{\"attributes\":{\"data\":{\"x\":{\"__ndarray__\":\"LUMc6+I2Gj9URZhOFT0sP+UoZDlLaz4//Knx0k1iUD9PKx9RLaZhP4+Z3gMPA3M/exSuR+F6hD8j9maluA+WP/M/1sTSw6c/mpmZmZmZuT8=\",\"dtype\":\"float64\",\"order\":\"little\",\"shape\":[10]},\"y\":{\"__ndarray__\":\"AGD69cvTID8AsMk+lx8yPwB4ppPkg0M/ACD++yABVT8AMNhM1JVmPwCo0h33O3g/gO9AwPriiT+AVPqFYmKbPwDNh+xlXqw/gDOM3rgjvD8=\",\"dtype\":\"float64\",\"order\":\"little\",\"shape\":[10]}},\"selected\":{\"id\":\"4148\"},\"selection_policy\":{\"id\":\"4147\"}},\"id\":\"4127\",\"type\":\"ColumnDataSource\"},{\"attributes\":{\"source\":{\"id\":\"4105\"}},\"id\":\"4110\",\"type\":\"CDSView\"},{\"attributes\":{},\"id\":\"4102\",\"type\":\"Selection\"},{\"attributes\":{\"fill_alpha\":{\"value\":0.2},\"fill_color\":{\"value\":\"red\"},\"hatch_alpha\":{\"value\":0.2},\"hatch_color\":{\"value\":\"red\"},\"line_alpha\":{\"value\":0.2},\"line_color\":{\"value\":\"red\"},\"marker\":{\"value\":\"x\"},\"size\":{\"value\":8},\"x\":{\"field\":\"x\"},\"y\":{\"field\":\"y\"}},\"id\":\"4108\",\"type\":\"Scatter\"},{\"attributes\":{\"fill_color\":{\"value\":\"red\"},\"hatch_color\":{\"value\":\"red\"},\"line_color\":{\"value\":\"red\"},\"marker\":{\"value\":\"x\"},\"size\":{\"value\":8},\"x\":{\"field\":\"x\"},\"y\":{\"field\":\"y\"}},\"id\":\"4106\",\"type\":\"Scatter\"},{\"attributes\":{\"fill_color\":{\"value\":\"fuchsia\"},\"hatch_color\":{\"value\":\"fuchsia\"},\"line_color\":{\"value\":\"fuchsia\"},\"marker\":{\"value\":\"x\"},\"size\":{\"value\":8},\"x\":{\"field\":\"x\"},\"y\":{\"field\":\"y\"}},\"id\":\"4128\",\"type\":\"Scatter\"},{\"attributes\":{\"data\":{\"x\":{\"__ndarray__\":\"LUMc6+I2Gj9URZhOFT0sP+UoZDlLaz4//Knx0k1iUD9PKx9RLaZhP4+Z3gMPA3M/exSuR+F6hD8j9maluA+WP/M/1sTSw6c/mpmZmZmZuT8=\",\"dtype\":\"float64\",\"order\":\"little\",\"shape\":[10]},\"y\":{\"__ndarray__\":\"LUMc6+I2Gj9URZhOFT0sP+UoZDlLaz4//Knx0k1iUD9PKx9RLaZhP4+Z3gMPA3M/exSuR+F6hD8j9maluA+WP/M/1sTSw6c/mpmZmZmZuT8=\",\"dtype\":\"float64\",\"order\":\"little\",\"shape\":[10]}},\"selected\":{\"id\":\"4232\"},\"selection_policy\":{\"id\":\"4231\"}},\"id\":\"4205\",\"type\":\"ColumnDataSource\"},{\"attributes\":{\"source\":{\"id\":\"4066\"}},\"id\":\"4071\",\"type\":\"CDSView\"},{\"attributes\":{\"line_alpha\":0.2,\"line_color\":\"#1f77b4\",\"x\":{\"field\":\"x\"},\"y\":{\"field\":\"y\"}},\"id\":\"4208\",\"type\":\"Line\"},{\"attributes\":{\"fill_alpha\":{\"value\":0.1},\"fill_color\":{\"value\":\"red\"},\"hatch_alpha\":{\"value\":0.1},\"hatch_color\":{\"value\":\"red\"},\"line_alpha\":{\"value\":0.1},\"line_color\":{\"value\":\"red\"},\"marker\":{\"value\":\"x\"},\"size\":{\"value\":8},\"x\":{\"field\":\"x\"},\"y\":{\"field\":\"y\"}},\"id\":\"4107\",\"type\":\"Scatter\"},{\"attributes\":{\"data\":{\"x\":{\"__ndarray__\":\"LUMc6+I2Gj9URZhOFT0sP+UoZDlLaz4//Knx0k1iUD9PKx9RLaZhP4+Z3gMPA3M/exSuR+F6hD8j9maluA+WP/M/1sTSw6c/mpmZmZmZuT8=\",\"dtype\":\"float64\",\"order\":\"little\",\"shape\":[10]},\"y\":{\"__ndarray__\":\"Ooww4o55RT7ETdTiWetoPutvXMuU6ow+je21oPfGsD613DU53nfTPnA34D5El/Y+LUMc6+I2Gj/cKGQ5S2s+P08rH1EtpmE/fBSuR+F6hD8=\",\"dtype\":\"float64\",\"order\":\"little\",\"shape\":[10]}},\"selected\":{\"id\":\"4264\"},\"selection_policy\":{\"id\":\"4263\"}},\"id\":\"4235\",\"type\":\"ColumnDataSource\"},{\"attributes\":{\"coordinates\":null,\"data_source\":{\"id\":\"4127\"},\"glyph\":{\"id\":\"4128\"},\"group\":null,\"hover_glyph\":null,\"muted_glyph\":{\"id\":\"4130\"},\"nonselection_glyph\":{\"id\":\"4129\"},\"view\":{\"id\":\"4132\"}},\"id\":\"4131\",\"type\":\"GlyphRenderer\"},{\"attributes\":{},\"id\":\"4231\",\"type\":\"UnionRenderers\"},{\"attributes\":{\"source\":{\"id\":\"4205\"}},\"id\":\"4210\",\"type\":\"CDSView\"},{\"attributes\":{},\"id\":\"4124\",\"type\":\"Selection\"},{\"attributes\":{\"line_alpha\":0.1,\"line_color\":\"#1f77b4\",\"x\":{\"field\":\"x\"},\"y\":{\"field\":\"y\"}},\"id\":\"4207\",\"type\":\"Line\"},{\"attributes\":{\"axis_label\":\"h\",\"coordinates\":null,\"formatter\":{\"id\":\"4078\"},\"group\":null,\"major_label_policy\":{\"id\":\"4079\"},\"ticker\":{\"id\":\"4045\"}},\"id\":\"4044\",\"type\":\"LogAxis\"},{\"attributes\":{\"line_color\":\"#1f77b4\",\"x\":{\"field\":\"x\"},\"y\":{\"field\":\"y\"}},\"id\":\"4206\",\"type\":\"Line\"},{\"attributes\":{\"axis_label\":\"GE\",\"coordinates\":null,\"formatter\":{\"id\":\"4075\"},\"group\":null,\"major_label_policy\":{\"id\":\"4076\"},\"ticker\":{\"id\":\"4049\"}},\"id\":\"4048\",\"type\":\"LogAxis\"},{\"attributes\":{},\"id\":\"4232\",\"type\":\"Selection\"},{\"attributes\":{\"source\":{\"id\":\"4235\"}},\"id\":\"4240\",\"type\":\"CDSView\"},{\"attributes\":{\"num_minor_ticks\":10},\"id\":\"4049\",\"type\":\"LogTicker\"},{\"attributes\":{},\"id\":\"4076\",\"type\":\"AllLabels\"},{\"attributes\":{\"ticker\":null},\"id\":\"4078\",\"type\":\"LogTickFormatter\"},{\"attributes\":{},\"id\":\"4040\",\"type\":\"LogScale\"},{\"attributes\":{\"fill_color\":{\"value\":\"white\"},\"line_color\":{\"value\":\"#1f77b4\"},\"size\":{\"value\":8},\"x\":{\"field\":\"x\"},\"y\":{\"field\":\"y\"}},\"id\":\"4086\",\"type\":\"Circle\"},{\"attributes\":{},\"id\":\"4038\",\"type\":\"DataRange1d\"},{\"attributes\":{\"fill_alpha\":{\"value\":0.2},\"fill_color\":{\"value\":\"navy\"},\"hatch_alpha\":{\"value\":0.2},\"hatch_color\":{\"value\":\"navy\"},\"line_alpha\":{\"value\":0.2},\"line_color\":{\"value\":\"navy\"},\"size\":{\"value\":8},\"x\":{\"field\":\"x\"},\"y\":{\"field\":\"y\"}},\"id\":\"4069\",\"type\":\"Circle\"},{\"attributes\":{\"ticker\":null},\"id\":\"4075\",\"type\":\"LogTickFormatter\"},{\"attributes\":{\"coordinates\":null,\"data_source\":{\"id\":\"4085\"},\"glyph\":{\"id\":\"4086\"},\"group\":null,\"hover_glyph\":null,\"muted_glyph\":{\"id\":\"4088\"},\"nonselection_glyph\":{\"id\":\"4087\"},\"view\":{\"id\":\"4090\"}},\"id\":\"4089\",\"type\":\"GlyphRenderer\"},{\"attributes\":{},\"id\":\"4052\",\"type\":\"PanTool\"},{\"attributes\":{\"axis\":{\"id\":\"4044\"},\"coordinates\":null,\"group\":null,\"ticker\":null},\"id\":\"4047\",\"type\":\"Grid\"},{\"attributes\":{\"data\":{\"x\":{\"__ndarray__\":\"LUMc6+I2Gj9URZhOFT0sP+UoZDlLaz4//Knx0k1iUD9PKx9RLaZhP4+Z3gMPA3M/exSuR+F6hD8j9maluA+WP/M/1sTSw6c/mpmZmZmZuT8=\",\"dtype\":\"float64\",\"order\":\"little\",\"shape\":[10]},\"y\":{\"__ndarray__\":\"AAAAYABHKT4AAABgUVVNPgAAAKdZBXE+AABAA2TBkz4AAOCOaO+2PgAAYAlIpNo+AAD1wej7/j4AwF57xg4iPwCACIMFMEU/AOhyo+ofaT8=\",\"dtype\":\"float64\",\"order\":\"little\",\"shape\":[10]}},\"selected\":{\"id\":\"4102\"},\"selection_policy\":{\"id\":\"4101\"}},\"id\":\"4085\",\"type\":\"ColumnDataSource\"},{\"attributes\":{\"coordinates\":null,\"data_source\":{\"id\":\"4066\"},\"glyph\":{\"id\":\"4067\"},\"group\":null,\"hover_glyph\":null,\"muted_glyph\":{\"id\":\"4069\"},\"nonselection_glyph\":{\"id\":\"4068\"},\"view\":{\"id\":\"4071\"}},\"id\":\"4070\",\"type\":\"GlyphRenderer\"},{\"attributes\":{\"fill_color\":{\"value\":\"white\"},\"hatch_color\":{\"value\":\"red\"},\"line_color\":{\"value\":\"red\"},\"size\":{\"value\":8},\"x\":{\"field\":\"x\"},\"y\":{\"field\":\"y\"}},\"id\":\"4178\",\"type\":\"Circle\"},{\"attributes\":{},\"id\":\"4079\",\"type\":\"AllLabels\"},{\"attributes\":{\"axis\":{\"id\":\"4048\"},\"coordinates\":null,\"dimension\":1,\"group\":null,\"ticker\":null},\"id\":\"4051\",\"type\":\"Grid\"},{\"attributes\":{},\"id\":\"4053\",\"type\":\"WheelZoomTool\"},{\"attributes\":{\"line_alpha\":0.1,\"line_color\":\"red\",\"x\":{\"field\":\"x\"},\"y\":{\"field\":\"y\"}},\"id\":\"4237\",\"type\":\"Line\"},{\"attributes\":{},\"id\":\"4081\",\"type\":\"Selection\"},{\"attributes\":{\"fill_color\":{\"value\":\"orange\"},\"hatch_color\":{\"value\":\"orange\"},\"line_color\":{\"value\":\"orange\"},\"marker\":{\"value\":\"x\"},\"size\":{\"value\":8},\"x\":{\"field\":\"x\"},\"y\":{\"field\":\"y\"}},\"id\":\"4152\",\"type\":\"Scatter\"},{\"attributes\":{},\"id\":\"4036\",\"type\":\"DataRange1d\"},{\"attributes\":{\"fill_alpha\":{\"value\":0.2},\"fill_color\":{\"value\":\"white\"},\"hatch_alpha\":{\"value\":0.2},\"line_alpha\":{\"value\":0.2},\"line_color\":{\"value\":\"#1f77b4\"},\"size\":{\"value\":8},\"x\":{\"field\":\"x\"},\"y\":{\"field\":\"y\"}},\"id\":\"4088\",\"type\":\"Circle\"},{\"attributes\":{\"data\":{\"x\":{\"__ndarray__\":\"LUMc6+I2Gj9URZhOFT0sP+UoZDlLaz4//Knx0k1iUD9PKx9RLaZhP4+Z3gMPA3M/exSuR+F6hD8j9maluA+WP/M/1sTSw6c/mpmZmZmZuT8=\",\"dtype\":\"float64\",\"order\":\"little\",\"shape\":[10]},\"y\":{\"__ndarray__\":\"AAAAuGSVTT4AAAAd2ClxPgAAgD4L6pM+AADQQloatz4AAMT0e8vaPgAAA0QRD/8+AOBMFjn6IT8A2A60jsFEPwB6KwFr2Gc/gCFB4a78ij8=\",\"dtype\":\"float64\",\"order\":\"little\",\"shape\":[10]}},\"selected\":{\"id\":\"4174\"},\"selection_policy\":{\"id\":\"4173\"}},\"id\":\"4151\",\"type\":\"ColumnDataSource\"},{\"attributes\":{\"line_alpha\":0.2,\"line_color\":\"red\",\"x\":{\"field\":\"x\"},\"y\":{\"field\":\"y\"}},\"id\":\"4238\",\"type\":\"Line\"},{\"attributes\":{\"label\":{\"value\":\"AB (C) method approximation\"},\"renderers\":[{\"id\":\"4131\"}]},\"id\":\"4150\",\"type\":\"LegendItem\"},{\"attributes\":{\"num_minor_ticks\":10},\"id\":\"4045\",\"type\":\"LogTicker\"},{\"attributes\":{\"fill_color\":{\"value\":\"navy\"},\"hatch_color\":{\"value\":\"navy\"},\"line_color\":{\"value\":\"navy\"},\"size\":{\"value\":8},\"x\":{\"field\":\"x\"},\"y\":{\"field\":\"y\"}},\"id\":\"4067\",\"type\":\"Circle\"},{\"attributes\":{\"fill_alpha\":{\"value\":0.2},\"fill_color\":{\"value\":\"fuchsia\"},\"hatch_alpha\":{\"value\":0.2},\"hatch_color\":{\"value\":\"fuchsia\"},\"line_alpha\":{\"value\":0.2},\"line_color\":{\"value\":\"fuchsia\"},\"marker\":{\"value\":\"x\"},\"size\":{\"value\":8},\"x\":{\"field\":\"x\"},\"y\":{\"field\":\"y\"}},\"id\":\"4130\",\"type\":\"Scatter\"},{\"attributes\":{\"fill_alpha\":{\"value\":0.1},\"fill_color\":{\"value\":\"fuchsia\"},\"hatch_alpha\":{\"value\":0.1},\"hatch_color\":{\"value\":\"fuchsia\"},\"line_alpha\":{\"value\":0.1},\"line_color\":{\"value\":\"fuchsia\"},\"marker\":{\"value\":\"x\"},\"size\":{\"value\":8},\"x\":{\"field\":\"x\"},\"y\":{\"field\":\"y\"}},\"id\":\"4129\",\"type\":\"Scatter\"},{\"attributes\":{\"label\":{\"value\":\"order 2 slope\"},\"renderers\":[{\"id\":\"4239\"}]},\"id\":\"4266\",\"type\":\"LegendItem\"},{\"attributes\":{\"source\":{\"id\":\"4127\"}},\"id\":\"4132\",\"type\":\"CDSView\"},{\"attributes\":{},\"id\":\"4080\",\"type\":\"UnionRenderers\"},{\"attributes\":{\"line_color\":\"red\",\"x\":{\"field\":\"x\"},\"y\":{\"field\":\"y\"}},\"id\":\"4236\",\"type\":\"Line\"}],\"root_ids\":[\"4035\"]},\"title\":\"Bokeh Application\",\"version\":\"2.4.1\"}};\n",
       "  const render_items = [{\"docid\":\"2c1513dd-dde3-42c7-988b-0c1c2f02f2c5\",\"root_ids\":[\"4035\"],\"roots\":{\"4035\":\"574b93c1-b4f6-44ee-9e67-72b275bb6375\"}}];\n",
       "  root.Bokeh.embed.embed_items_notebook(docs_json, render_items);\n",
       "\n",
       "  }\n",
       "  if (root.Bokeh !== undefined) {\n",
       "    embed_document(root);\n",
       "  } else {\n",
       "    let attempts = 0;\n",
       "    const timer = setInterval(function(root) {\n",
       "      if (root.Bokeh !== undefined) {\n",
       "        clearInterval(timer);\n",
       "        embed_document(root);\n",
       "      } else {\n",
       "        attempts++;\n",
       "        if (attempts > 100) {\n",
       "          clearInterval(timer);\n",
       "          console.log(\"Bokeh: ERROR: Unable to run BokehJS code because BokehJS library is missing\");\n",
       "        }\n",
       "      }\n",
       "    }, 10, root)\n",
       "  }\n",
       "})(window);"
      ],
      "application/vnd.bokehjs_exec.v0+json": ""
     },
     "metadata": {
      "application/vnd.bokehjs_exec.v0+json": {
       "id": "4035"
      }
     },
     "output_type": "display_data"
    }
   ],
   "source": [
    "t0 = 0.\n",
    "tf = 4.0\n",
    "x0 = 1.\n",
    "\n",
    "nh = 10\n",
    "h_values = 10**np.linspace(-4,-1,nh)\n",
    "err_values = np.zeros((6,nh))\n",
    "ith=0\n",
    "\n",
    "for h in h_values:\n",
    "    x_Elr    = Euler(f1, t0, tf, h, x0)\n",
    "    x_TS2    = TS2(f1, g1, t0, tf, h, x0)\n",
    "    x_TR1    = TrapRule1(t0, tf, h, x0)\n",
    "    x_ABC1   = AB_C1(t0, tf, h, x0)\n",
    "    x_ABE1   = AB_E1(f1, t0, tf, h, x0)\n",
    "    x_ABT1   = AB_T1(t0, tf, h, x0)\n",
    "    \n",
    "    nt = np.size(x_Elr)\n",
    "    t = t0+1.*h*np.arange(nt)\n",
    "    xexa = x1_exa(t)\n",
    "    err_values[0,ith] = np.amax(np.abs(xexa-x_Elr))\n",
    "    err_values[1,ith] = np.amax(np.abs(xexa-x_TS2))\n",
    "    err_values[2,ith] = np.amax(np.abs(xexa-x_TR1))\n",
    "    err_values[3,ith] = np.amax(np.abs(xexa-x_ABC1))\n",
    "    err_values[4,ith] = np.amax(np.abs(xexa-x_ABE1))\n",
    "    err_values[5,ith] = np.amax(np.abs(xexa-x_ABT1))\n",
    "    ith+=1\n",
    "\n",
    "fig3 = figure( x_axis_type=\"log\", y_axis_type=\"log\", width=980, height=400, x_axis_label='h', y_axis_label='GE')\n",
    "fig3.circle(h_values,err_values[0,:], color = 'navy', legend_label = 'Euler method approximation', size = 8)\n",
    "fig3.circle(h_values,err_values[1,:],fill_color = 'white', legend_label = 'TS method approximation', size = 8)\n",
    "fig3.x(h_values,err_values[2,:],color = 'red', legend_label = 'Trapezoidal rule method approximation', size = 8)\n",
    "fig3.x(h_values,err_values[3,:],color = 'fuchsia', legend_label = 'AB (C) method approximation', size = 8)\n",
    "fig3.x(h_values,err_values[4,:],color = 'orange', legend_label = 'AB (E) method approximation', size = 8)\n",
    "fig3.circle(h_values,err_values[5,:],color = 'red',fill_color='white', legend_label = 'AB (T) method approximation', size = 8)\n",
    "\n",
    "fig3.line(h_values,h_values,legend_label = 'order 1 slope')\n",
    "fig3.line(h_values,h_values**2,color ='red' ,legend_label = 'order 2 slope')\n",
    "fig3.legend.location = \"bottom_right\"\n",
    "show(fig3)"
   ]
  },
  {
   "cell_type": "markdown",
   "metadata": {},
   "source": [
    "# Part II: Explicit 2-step methods"
   ]
  },
  {
   "cell_type": "markdown",
   "metadata": {},
   "source": [
    "We recall that a general explicit 2-step method is of the form, for $n\\in\\mathbb{N}$:\n",
    "$$\n",
    "x_{n+2} + \\alpha_1 x_{n+1} + \\alpha_0 x_n = h\\left(\\beta_1 f(t_{n+1},x_{n+1})+\\beta_0 f(t_n,x_n)\\right)\n",
    "$$\n",
    "For this method to be consistent, it is required that the following equalities hold:\n",
    "$$\n",
    "1+\\alpha_1+\\alpha_0 = 0, \\quad 2 +\\alpha_1 = \\beta_1+\\beta_0\n",
    "$$\n",
    "\n",
    "**Bonus: Show that these two conditions are indeed required for the method to be consistent.**"
   ]
  },
  {
   "cell_type": "code",
   "execution_count": null,
   "metadata": {},
   "outputs": [],
   "source": []
  },
  {
   "cell_type": "markdown",
   "metadata": {},
   "source": [
    "**Q4. Implement a general method that takes as argument the IVP function $f$, the initial and final times $t_0$ and $t_f$, the step size $h$, the starting point $x_0$ and method coefficients $a_k = [\\alpha_0,\\alpha_1]$ and $b_k = [\\beta_0, \\beta_1]$. The first step $x_1$ of the method should be obtained thanks to Euler's explicit method.**"
   ]
  },
  {
   "cell_type": "code",
   "execution_count": 25,
   "metadata": {},
   "outputs": [],
   "source": [
    "def LMMexp(f, t0, tf, h, x0, ak, bk): #The method is no longer specific to IVP (1)\n",
    "    \n",
    "    nt = int(round((tf-t0)/h))+1 #number of column of the output array\n",
    "    x = np.zeros((nt,))\n",
    "    t = [t0 + i*h for i in range(nt)] \n",
    "    \n",
    "    for i in range(nt): \n",
    "        if (i == 0): \n",
    "            x[i] = x0 \n",
    "        elif (i == 1): \n",
    "            res = Euler(f, t0, tf, h, x0) \n",
    "            x[i] = res[i] \n",
    "        else: \n",
    "            a0, a1 = ak \n",
    "            b0, b1 = bk \n",
    "            x[i] = - a1*x[i-1] - a0*x[i-2] + h*(b1*f(t[i-1], x[i-1]) + b0*f(t[i-2], x[i-2])) \n",
    "    \n",
    "    return x"
   ]
  },
  {
   "cell_type": "markdown",
   "metadata": {},
   "source": [
    "Now we also consider the IVP (2) defined by $f_2(t,x) = x$ and $x(0) = 1$. The solution to this very simple IVP is $x(t) = \\exp(t)$, for all $t\\in \\mathbb{R}_+$"
   ]
  },
  {
   "cell_type": "code",
   "execution_count": 26,
   "metadata": {},
   "outputs": [],
   "source": [
    "def f2(t,x):\n",
    "    return x\n",
    "def x2_exa(t):\n",
    "    return np.exp(t)\n",
    "def g2(t,x):\n",
    "    return x"
   ]
  },
  {
   "cell_type": "markdown",
   "metadata": {},
   "source": [
    "**Q5. Determine the coefficients $a_k$ and $b_k$ for the Euler method and the AB method. Using a code similar to that of Q2, display the result for IVP (1) and (2).**"
   ]
  },
  {
   "cell_type": "markdown",
   "metadata": {},
   "source": [
    "For the Euler method x[i] = x[i-1] + hf(t[i-1], x[i-1]), we have that ak = (a0, a1) = (0, -1) and bk = (b0, b1) = (0, 1). \n",
    "For the AB method, we have that ak = (a0, a1) = (0, -1) and bk = (b0, b1) = (-1/2, 3/2). "
   ]
  },
  {
   "cell_type": "code",
   "execution_count": 31,
   "metadata": {},
   "outputs": [
    {
     "data": {
      "text/html": [
       "\n",
       "\n",
       "\n",
       "\n",
       "\n",
       "\n",
       "  <div class=\"bk-root\" id=\"afd05936-2f2a-4f62-9a1e-fbe2bffadeea\" data-root-id=\"5865\"></div>\n"
      ]
     },
     "metadata": {},
     "output_type": "display_data"
    },
    {
     "data": {
      "application/javascript": [
       "(function(root) {\n",
       "  function embed_document(root) {\n",
       "    \n",
       "  const docs_json = {\"b1e92974-60b7-48f5-9721-d48fa7aebffa\":{\"defs\":[],\"roots\":{\"references\":[{\"attributes\":{\"children\":[{\"id\":\"5703\"},{\"id\":\"5795\"}]},\"id\":\"5865\",\"type\":\"Column\"},{\"attributes\":{\"coordinates\":null,\"group\":null,\"items\":[{\"id\":\"5752\"},{\"id\":\"5772\"},{\"id\":\"5794\"}]},\"id\":\"5751\",\"type\":\"Legend\"},{\"attributes\":{\"line_color\":\"#1f77b4\",\"x\":{\"field\":\"x\"},\"y\":{\"field\":\"y\"}},\"id\":\"5735\",\"type\":\"Line\"},{\"attributes\":{\"label\":{\"value\":\"Euler method approximation\"},\"renderers\":[{\"id\":\"5830\"}]},\"id\":\"5844\",\"type\":\"LegendItem\"},{\"attributes\":{\"fill_alpha\":{\"value\":0.2},\"fill_color\":{\"value\":\"navy\"},\"hatch_alpha\":{\"value\":0.2},\"hatch_color\":{\"value\":\"navy\"},\"line_alpha\":{\"value\":0.2},\"line_color\":{\"value\":\"navy\"},\"size\":{\"value\":8},\"x\":{\"field\":\"x\"},\"y\":{\"field\":\"y\"}},\"id\":\"5829\",\"type\":\"Circle\"},{\"attributes\":{\"fill_alpha\":{\"value\":0.1},\"fill_color\":{\"value\":\"navy\"},\"hatch_alpha\":{\"value\":0.1},\"hatch_color\":{\"value\":\"navy\"},\"line_alpha\":{\"value\":0.1},\"line_color\":{\"value\":\"navy\"},\"size\":{\"value\":8},\"x\":{\"field\":\"x\"},\"y\":{\"field\":\"y\"}},\"id\":\"5828\",\"type\":\"Circle\"},{\"attributes\":{\"coordinates\":null,\"group\":null},\"id\":\"5740\",\"type\":\"Title\"},{\"attributes\":{},\"id\":\"5724\",\"type\":\"ResetTool\"},{\"attributes\":{\"source\":{\"id\":\"5734\"}},\"id\":\"5739\",\"type\":\"CDSView\"},{\"attributes\":{},\"id\":\"5725\",\"type\":\"HelpTool\"},{\"attributes\":{},\"id\":\"5862\",\"type\":\"Selection\"},{\"attributes\":{\"coordinates\":null,\"data_source\":{\"id\":\"5773\"},\"glyph\":{\"id\":\"5774\"},\"group\":null,\"hover_glyph\":null,\"muted_glyph\":{\"id\":\"5776\"},\"nonselection_glyph\":{\"id\":\"5775\"},\"view\":{\"id\":\"5778\"}},\"id\":\"5777\",\"type\":\"GlyphRenderer\"},{\"attributes\":{\"coordinates\":null,\"group\":null},\"id\":\"5832\",\"type\":\"Title\"},{\"attributes\":{},\"id\":\"5770\",\"type\":\"Selection\"},{\"attributes\":{\"label\":{\"value\":\"LMMexp method approximation\"},\"renderers\":[{\"id\":\"5777\"}]},\"id\":\"5794\",\"type\":\"LegendItem\"},{\"attributes\":{\"end\":4.0},\"id\":\"5796\",\"type\":\"Range1d\"},{\"attributes\":{\"coordinates\":null,\"group\":null,\"items\":[{\"id\":\"5844\"},{\"id\":\"5864\"}]},\"id\":\"5843\",\"type\":\"Legend\"},{\"attributes\":{\"data\":{\"x\":{\"__ndarray__\":\"AAAAAAAAAACamZmZmZnJP5qZmZmZmdk/NDMzMzMz4z+amZmZmZnpPwAAAAAAAPA/NDMzMzMz8z9nZmZmZmb2P5qZmZmZmfk/zczMzMzM/D8AAAAAAAAAQJqZmZmZmQFANDMzMzMzA0DNzMzMzMwEQGdmZmZmZgZAAAAAAAAACECamZmZmZkJQDQzMzMzMwtAzczMzMzMDEBnZmZmZmYOQAAAAAAAABBA\",\"dtype\":\"float64\",\"order\":\"little\",\"shape\":[21]},\"y\":{\"__ndarray__\":\"AAAAAAAAAACAVl7JmuqVP8Aa/UrEiKo/cLGdcSsYuD9wRmbjzHLDP9CsR6Jjb80/WOfqDW9i1T8YtyvhjzXeP/AwGh4k5+Q/oC8zmMp57D8051itOCjzP/T5JhrVhPk/cEdeoErbAECQFrTrhh0GQGij44b81wxAdk5Ausy2EkD0HfutKS0YQBDepiSpHB9A8A3GPibzI0Auy/lnoYEpQGi0c2mzQjBA\",\"dtype\":\"float64\",\"order\":\"little\",\"shape\":[21]}},\"selected\":{\"id\":\"5841\"},\"selection_policy\":{\"id\":\"5840\"}},\"id\":\"5826\",\"type\":\"ColumnDataSource\"},{\"attributes\":{\"line_alpha\":0.1,\"line_color\":\"#1f77b4\",\"x\":{\"field\":\"x\"},\"y\":{\"field\":\"y\"}},\"id\":\"5736\",\"type\":\"Line\"},{\"attributes\":{},\"id\":\"5792\",\"type\":\"Selection\"},{\"attributes\":{\"fill_alpha\":{\"value\":0.2},\"fill_color\":{\"value\":\"white\"},\"hatch_alpha\":{\"value\":0.2},\"line_alpha\":{\"value\":0.2},\"line_color\":{\"value\":\"#1f77b4\"},\"size\":{\"value\":8},\"x\":{\"field\":\"x\"},\"y\":{\"field\":\"y\"}},\"id\":\"5776\",\"type\":\"Circle\"},{\"attributes\":{\"fill_alpha\":{\"value\":0.1},\"fill_color\":{\"value\":\"white\"},\"hatch_alpha\":{\"value\":0.1},\"line_alpha\":{\"value\":0.1},\"line_color\":{\"value\":\"#1f77b4\"},\"size\":{\"value\":8},\"x\":{\"field\":\"x\"},\"y\":{\"field\":\"y\"}},\"id\":\"5775\",\"type\":\"Circle\"},{\"attributes\":{\"source\":{\"id\":\"5773\"}},\"id\":\"5778\",\"type\":\"CDSView\"},{\"attributes\":{},\"id\":\"5791\",\"type\":\"UnionRenderers\"},{\"attributes\":{\"line_alpha\":0.2,\"line_color\":\"#1f77b4\",\"x\":{\"field\":\"x\"},\"y\":{\"field\":\"y\"}},\"id\":\"5737\",\"type\":\"Line\"},{\"attributes\":{\"label\":{\"value\":\"Exact solution\"},\"renderers\":[{\"id\":\"5738\"}]},\"id\":\"5752\",\"type\":\"LegendItem\"},{\"attributes\":{\"coordinates\":null,\"data_source\":{\"id\":\"5753\"},\"glyph\":{\"id\":\"5754\"},\"group\":null,\"hover_glyph\":null,\"muted_glyph\":{\"id\":\"5756\"},\"nonselection_glyph\":{\"id\":\"5755\"},\"view\":{\"id\":\"5758\"}},\"id\":\"5757\",\"type\":\"GlyphRenderer\"},{\"attributes\":{\"coordinates\":null,\"data_source\":{\"id\":\"5845\"},\"glyph\":{\"id\":\"5846\"},\"group\":null,\"hover_glyph\":null,\"muted_glyph\":{\"id\":\"5848\"},\"nonselection_glyph\":{\"id\":\"5847\"},\"view\":{\"id\":\"5850\"}},\"id\":\"5849\",\"type\":\"GlyphRenderer\"},{\"attributes\":{\"data\":{\"x\":{\"__ndarray__\":\"AAAAAAAAAACamZmZmZnJP5qZmZmZmdk/NDMzMzMz4z+amZmZmZnpPwAAAAAAAPA/NDMzMzMz8z9nZmZmZmb2P5qZmZmZmfk/zczMzMzM/D8AAAAAAAAAQJqZmZmZmQFANDMzMzMzA0DNzMzMzMwEQGdmZmZmZgZAAAAAAAAACECamZmZmZkJQDQzMzMzMwtAzczMzMzMDEBnZmZmZmYOQAAAAAAAABBA\",\"dtype\":\"float64\",\"order\":\"little\",\"shape\":[21]},\"y\":{\"__ndarray__\":\"AAAAAAAA8D8zMzMzMzPzP1yPwvUoXPc/ppvEILBy/D80ETY8vVIBQGLboswGGQVArk7OUNyxCUDy6fu6HUsPQIg65htVDhNAy+ZRwUY1F0AupoZ400McQHqgRh45NiFAtq7uekz2JEDgn5XpkIcpQPjXXSObFy9AY4S1MffuMkAbrg0yEw83QEwI5ghNFTxAStYUUOQZQUD2Ytxay9NEQGyeTyGLXUlA\",\"dtype\":\"float64\",\"order\":\"little\",\"shape\":[21]}},\"selected\":{\"id\":\"5792\"},\"selection_policy\":{\"id\":\"5791\"}},\"id\":\"5773\",\"type\":\"ColumnDataSource\"},{\"attributes\":{\"source\":{\"id\":\"5845\"}},\"id\":\"5850\",\"type\":\"CDSView\"},{\"attributes\":{},\"id\":\"5798\",\"type\":\"DataRange1d\"},{\"attributes\":{\"fill_alpha\":{\"value\":0.2},\"fill_color\":{\"value\":\"white\"},\"hatch_alpha\":{\"value\":0.2},\"line_alpha\":{\"value\":0.2},\"line_color\":{\"value\":\"#1f77b4\"},\"size\":{\"value\":8},\"x\":{\"field\":\"x\"},\"y\":{\"field\":\"y\"}},\"id\":\"5848\",\"type\":\"Circle\"},{\"attributes\":{\"fill_alpha\":{\"value\":0.2},\"fill_color\":{\"value\":\"navy\"},\"hatch_alpha\":{\"value\":0.2},\"hatch_color\":{\"value\":\"navy\"},\"line_alpha\":{\"value\":0.2},\"line_color\":{\"value\":\"navy\"},\"size\":{\"value\":8},\"x\":{\"field\":\"x\"},\"y\":{\"field\":\"y\"}},\"id\":\"5756\",\"type\":\"Circle\"},{\"attributes\":{},\"id\":\"5840\",\"type\":\"UnionRenderers\"},{\"attributes\":{},\"id\":\"5743\",\"type\":\"BasicTickFormatter\"},{\"attributes\":{\"fill_alpha\":{\"value\":0.1},\"fill_color\":{\"value\":\"white\"},\"hatch_alpha\":{\"value\":0.1},\"line_alpha\":{\"value\":0.1},\"line_color\":{\"value\":\"#1f77b4\"},\"size\":{\"value\":8},\"x\":{\"field\":\"x\"},\"y\":{\"field\":\"y\"}},\"id\":\"5847\",\"type\":\"Circle\"},{\"attributes\":{\"fill_alpha\":{\"value\":0.1},\"fill_color\":{\"value\":\"navy\"},\"hatch_alpha\":{\"value\":0.1},\"hatch_color\":{\"value\":\"navy\"},\"line_alpha\":{\"value\":0.1},\"line_color\":{\"value\":\"navy\"},\"size\":{\"value\":8},\"x\":{\"field\":\"x\"},\"y\":{\"field\":\"y\"}},\"id\":\"5755\",\"type\":\"Circle\"},{\"attributes\":{\"data\":{\"x\":{\"__ndarray__\":\"AAAAAAAAAACamZmZmZnJP5qZmZmZmdk/NDMzMzMz4z+amZmZmZnpPwAAAAAAAPA/NDMzMzMz8z9nZmZmZmb2P5qZmZmZmfk/zczMzMzM/D8AAAAAAAAAQJqZmZmZmQFANDMzMzMzA0DNzMzMzMwEQGdmZmZmZgZAAAAAAAAACECamZmZmZkJQDQzMzMzMwtAzczMzMzMDEBnZmZmZmYOQAAAAAAAABBA\",\"dtype\":\"float64\",\"order\":\"little\",\"shape\":[21]},\"y\":{\"__ndarray__\":\"AAAAAAAAAACAVl7JmuqVP4AQJqdTS6A/QMmhSb2Wpj9AbQ2yysquP+CAL853wLQ/AN9CqKS3uz/gqWwy717CP4Csn+5TMsg/QPfA8wCyzz8AeOMEFKnUP6C8rW+u0to/QLuxtRRZ4T9QzW2M4l3mPwDJpqfZwOw/MMqi2+hu8j+Ql3BBC5T3PwDCeZ0jGP4/0BuKIuoqA0CQVNPvUF8IQMC+ec1Q8A5A\",\"dtype\":\"float64\",\"order\":\"little\",\"shape\":[21]}},\"selected\":{\"id\":\"5862\"},\"selection_policy\":{\"id\":\"5861\"}},\"id\":\"5845\",\"type\":\"ColumnDataSource\"},{\"attributes\":{\"label\":{\"value\":\"LMMexp method approximation\"},\"renderers\":[{\"id\":\"5849\"}]},\"id\":\"5864\",\"type\":\"LegendItem\"},{\"attributes\":{\"label\":{\"value\":\"Euler method approximation\"},\"renderers\":[{\"id\":\"5757\"}]},\"id\":\"5772\",\"type\":\"LegendItem\"},{\"attributes\":{},\"id\":\"5802\",\"type\":\"LinearScale\"},{\"attributes\":{\"fill_color\":{\"value\":\"navy\"},\"hatch_color\":{\"value\":\"navy\"},\"line_color\":{\"value\":\"navy\"},\"size\":{\"value\":8},\"x\":{\"field\":\"x\"},\"y\":{\"field\":\"y\"}},\"id\":\"5827\",\"type\":\"Circle\"},{\"attributes\":{},\"id\":\"5861\",\"type\":\"UnionRenderers\"},{\"attributes\":{},\"id\":\"5800\",\"type\":\"LinearScale\"},{\"attributes\":{},\"id\":\"5769\",\"type\":\"UnionRenderers\"},{\"attributes\":{\"axis_label\":\"t\",\"coordinates\":null,\"formatter\":{\"id\":\"5838\"},\"group\":null,\"major_label_policy\":{\"id\":\"5839\"},\"ticker\":{\"id\":\"5805\"}},\"id\":\"5804\",\"type\":\"LinearAxis\"},{\"attributes\":{\"source\":{\"id\":\"5753\"}},\"id\":\"5758\",\"type\":\"CDSView\"},{\"attributes\":{},\"id\":\"5805\",\"type\":\"BasicTicker\"},{\"attributes\":{\"axis\":{\"id\":\"5804\"},\"coordinates\":null,\"group\":null,\"ticker\":null},\"id\":\"5807\",\"type\":\"Grid\"},{\"attributes\":{},\"id\":\"5746\",\"type\":\"BasicTickFormatter\"},{\"attributes\":{},\"id\":\"5813\",\"type\":\"WheelZoomTool\"},{\"attributes\":{\"axis_label\":\"GE\",\"coordinates\":null,\"formatter\":{\"id\":\"5835\"},\"group\":null,\"major_label_policy\":{\"id\":\"5836\"},\"ticker\":{\"id\":\"5809\"}},\"id\":\"5808\",\"type\":\"LinearAxis\"},{\"attributes\":{},\"id\":\"5839\",\"type\":\"AllLabels\"},{\"attributes\":{\"axis\":{\"id\":\"5808\"},\"coordinates\":null,\"dimension\":1,\"group\":null,\"ticker\":null},\"id\":\"5811\",\"type\":\"Grid\"},{\"attributes\":{},\"id\":\"5809\",\"type\":\"BasicTicker\"},{\"attributes\":{\"coordinates\":null,\"data_source\":{\"id\":\"5826\"},\"glyph\":{\"id\":\"5827\"},\"group\":null,\"hover_glyph\":null,\"muted_glyph\":{\"id\":\"5829\"},\"nonselection_glyph\":{\"id\":\"5828\"},\"view\":{\"id\":\"5831\"}},\"id\":\"5830\",\"type\":\"GlyphRenderer\"},{\"attributes\":{\"source\":{\"id\":\"5826\"}},\"id\":\"5831\",\"type\":\"CDSView\"},{\"attributes\":{},\"id\":\"5817\",\"type\":\"HelpTool\"},{\"attributes\":{},\"id\":\"5812\",\"type\":\"PanTool\"},{\"attributes\":{},\"id\":\"5838\",\"type\":\"BasicTickFormatter\"},{\"attributes\":{},\"id\":\"5744\",\"type\":\"AllLabels\"},{\"attributes\":{\"overlay\":{\"id\":\"5818\"}},\"id\":\"5814\",\"type\":\"BoxZoomTool\"},{\"attributes\":{},\"id\":\"5815\",\"type\":\"SaveTool\"},{\"attributes\":{},\"id\":\"5816\",\"type\":\"ResetTool\"},{\"attributes\":{},\"id\":\"5835\",\"type\":\"BasicTickFormatter\"},{\"attributes\":{\"bottom_units\":\"screen\",\"coordinates\":null,\"fill_alpha\":0.5,\"fill_color\":\"lightgrey\",\"group\":null,\"left_units\":\"screen\",\"level\":\"overlay\",\"line_alpha\":1.0,\"line_color\":\"black\",\"line_dash\":[4,4],\"line_width\":2,\"right_units\":\"screen\",\"syncable\":false,\"top_units\":\"screen\"},\"id\":\"5818\",\"type\":\"BoxAnnotation\"},{\"attributes\":{},\"id\":\"5747\",\"type\":\"AllLabels\"},{\"attributes\":{},\"id\":\"5836\",\"type\":\"AllLabels\"},{\"attributes\":{\"tools\":[{\"id\":\"5812\"},{\"id\":\"5813\"},{\"id\":\"5814\"},{\"id\":\"5815\"},{\"id\":\"5816\"},{\"id\":\"5817\"}]},\"id\":\"5819\",\"type\":\"Toolbar\"},{\"attributes\":{},\"id\":\"5841\",\"type\":\"Selection\"},{\"attributes\":{},\"id\":\"5723\",\"type\":\"SaveTool\"},{\"attributes\":{\"bottom_units\":\"screen\",\"coordinates\":null,\"fill_alpha\":0.5,\"fill_color\":\"lightgrey\",\"group\":null,\"left_units\":\"screen\",\"level\":\"overlay\",\"line_alpha\":1.0,\"line_color\":\"black\",\"line_dash\":[4,4],\"line_width\":2,\"right_units\":\"screen\",\"syncable\":false,\"top_units\":\"screen\"},\"id\":\"5726\",\"type\":\"BoxAnnotation\"},{\"attributes\":{\"tools\":[{\"id\":\"5720\"},{\"id\":\"5721\"},{\"id\":\"5722\"},{\"id\":\"5723\"},{\"id\":\"5724\"},{\"id\":\"5725\"}]},\"id\":\"5727\",\"type\":\"Toolbar\"},{\"attributes\":{\"below\":[{\"id\":\"5804\"}],\"center\":[{\"id\":\"5807\"},{\"id\":\"5811\"},{\"id\":\"5843\"}],\"height\":400,\"left\":[{\"id\":\"5808\"}],\"renderers\":[{\"id\":\"5830\"},{\"id\":\"5849\"}],\"title\":{\"id\":\"5832\"},\"toolbar\":{\"id\":\"5819\"},\"width\":980,\"x_range\":{\"id\":\"5796\"},\"x_scale\":{\"id\":\"5800\"},\"y_range\":{\"id\":\"5798\"},\"y_scale\":{\"id\":\"5802\"}},\"id\":\"5795\",\"subtype\":\"Figure\",\"type\":\"Plot\"},{\"attributes\":{\"fill_color\":{\"value\":\"white\"},\"line_color\":{\"value\":\"#1f77b4\"},\"size\":{\"value\":8},\"x\":{\"field\":\"x\"},\"y\":{\"field\":\"y\"}},\"id\":\"5846\",\"type\":\"Circle\"},{\"attributes\":{},\"id\":\"5748\",\"type\":\"UnionRenderers\"},{\"attributes\":{},\"id\":\"5749\",\"type\":\"Selection\"},{\"attributes\":{\"below\":[{\"id\":\"5712\"}],\"center\":[{\"id\":\"5715\"},{\"id\":\"5719\"},{\"id\":\"5751\"}],\"height\":400,\"left\":[{\"id\":\"5716\"}],\"renderers\":[{\"id\":\"5738\"},{\"id\":\"5757\"},{\"id\":\"5777\"}],\"title\":{\"id\":\"5740\"},\"toolbar\":{\"id\":\"5727\"},\"width\":980,\"x_range\":{\"id\":\"5704\"},\"x_scale\":{\"id\":\"5708\"},\"y_range\":{\"id\":\"5706\"},\"y_scale\":{\"id\":\"5710\"}},\"id\":\"5703\",\"subtype\":\"Figure\",\"type\":\"Plot\"},{\"attributes\":{\"data\":{\"x\":{\"__ndarray__\":\"AAAAAAAAAACamZmZmZnJP5qZmZmZmdk/NDMzMzMz4z+amZmZmZnpPwAAAAAAAPA/NDMzMzMz8z9nZmZmZmb2P5qZmZmZmfk/zczMzMzM/D8AAAAAAAAAQJqZmZmZmQFANDMzMzMzA0DNzMzMzMwEQGdmZmZmZgZAAAAAAAAACECamZmZmZkJQDQzMzMzMwtAzczMzMzMDEBnZmZmZmYOQAAAAAAAABBA\",\"dtype\":\"float64\",\"order\":\"little\",\"shape\":[21]},\"y\":{\"__ndarray__\":\"AAAAAAAA8D8zMzMzMzPzPwrXo3A9Cvc/2c73U+Ol+z+C4seYu5YAQJzc71AU6ANAuwhTlEvjB0CtPf2xWqoMQM7xlzcDMxFAkYjpdZ2jFEDho36NVsQYQEFe/txnuB1AjjgyHgvVIUARd29XDWYlQK5bH5yprSlA0Tq/IWXQLkAX8KV6CX0yQOjsk/mkLzZAFukXxZKfOkDnSrYfsPI/QCRgbXk2K0NA\",\"dtype\":\"float64\",\"order\":\"little\",\"shape\":[21]}},\"selected\":{\"id\":\"5770\"},\"selection_policy\":{\"id\":\"5769\"}},\"id\":\"5753\",\"type\":\"ColumnDataSource\"},{\"attributes\":{},\"id\":\"5708\",\"type\":\"LinearScale\"},{\"attributes\":{\"fill_color\":{\"value\":\"white\"},\"line_color\":{\"value\":\"#1f77b4\"},\"size\":{\"value\":8},\"x\":{\"field\":\"x\"},\"y\":{\"field\":\"y\"}},\"id\":\"5774\",\"type\":\"Circle\"},{\"attributes\":{\"coordinates\":null,\"data_source\":{\"id\":\"5734\"},\"glyph\":{\"id\":\"5735\"},\"group\":null,\"hover_glyph\":null,\"muted_glyph\":{\"id\":\"5737\"},\"nonselection_glyph\":{\"id\":\"5736\"},\"view\":{\"id\":\"5739\"}},\"id\":\"5738\",\"type\":\"GlyphRenderer\"},{\"attributes\":{\"fill_color\":{\"value\":\"navy\"},\"hatch_color\":{\"value\":\"navy\"},\"line_color\":{\"value\":\"navy\"},\"size\":{\"value\":8},\"x\":{\"field\":\"x\"},\"y\":{\"field\":\"y\"}},\"id\":\"5754\",\"type\":\"Circle\"},{\"attributes\":{\"end\":4.0},\"id\":\"5704\",\"type\":\"Range1d\"},{\"attributes\":{},\"id\":\"5710\",\"type\":\"LinearScale\"},{\"attributes\":{},\"id\":\"5706\",\"type\":\"DataRange1d\"},{\"attributes\":{},\"id\":\"5721\",\"type\":\"WheelZoomTool\"},{\"attributes\":{},\"id\":\"5713\",\"type\":\"BasicTicker\"},{\"attributes\":{\"axis\":{\"id\":\"5712\"},\"coordinates\":null,\"group\":null,\"ticker\":null},\"id\":\"5715\",\"type\":\"Grid\"},{\"attributes\":{\"axis_label\":\"t\",\"coordinates\":null,\"formatter\":{\"id\":\"5746\"},\"group\":null,\"major_label_policy\":{\"id\":\"5747\"},\"ticker\":{\"id\":\"5713\"}},\"id\":\"5712\",\"type\":\"LinearAxis\"},{\"attributes\":{\"data\":{\"x\":{\"__ndarray__\":\"AAAAAAAAAABbv1Kg1q+kP1u/UqDWr7Q/CB988MEHvz9bv1Kg1q/EPzJvZ0jM28k/CB988MEHzz9wZ0jM2xnSP1u/UqDWr9Q/RhdddNFF1z8yb2dIzNvZPx3HcRzHcdw/CB988MEH3z96O0Ni3s7gP3BnSMzbGeI/ZZNNNtlk4z9bv1Kg1q/kP1HrVwrU+uU/RhdddNFF5z88Q2LezpDoPzJvZ0jM2+k/J5tssskm6z8dx3Ecx3HsPxPzdobEvO0/CB988MEH7z9/pUCtXynwP3o7Q2LezvA/ddFFF1108T9wZ0jM2xnyP2r9SoFav/I/ZZNNNtlk8z9gKVDrVwr0P1u/UqDWr/Q/VlVVVVVV9T9R61cK1Pr1P0yBWr9SoPY/RhdddNFF9z9BrV8pUOv3PzxDYt7OkPg/N9lkk002+T8yb2dIzNv5Py0Fav1Kgfo/J5tssskm+z8iMW9nSMz7Px3HcRzHcfw/GF100UUX/T8T83aGxLz9Pw6JeTtDYv4/CB988MEH/z8DtX6lQK3/P3+lQK1fKQBAffDBBx98AEB6O0Ni3s4AQHeGxLydIQFAddFFF110AUByHMdxHMcBQHBnSMzbGQJAbbLJJptsAkBq/UqBWr8CQGhIzNsZEgNAZZNNNtlkA0Bj3s6QmLcDQGApUOtXCgRAXnTRRRddBEBbv1Kg1q8EQFgK1PqVAgVAVlVVVVVVBUBToNavFKgFQFHrVwrU+gVATjbZZJNNBkBMgVq/UqAGQEnM2xkS8wZARhdddNFFB0BEYt7OkJgHQEGtXylQ6wdAP/jggw8+CEA8Q2LezpAIQDmO4ziO4whAN9lkk002CUA0JObtDIkJQDJvZ0jM2wlAL7rooosuCkAtBWr9SoEKQCpQ61cK1ApAJ5tssskmC0Al5u0MiXkLQCIxb2dIzAtAIHzwwQcfDEAdx3Ecx3EMQBsS83aGxAxAGF100UUXDUAVqPUrBWoNQBPzdobEvA1AED744IMPDkAOiXk7Q2IOQAvU+pUCtQ5ACB988MEHD0AGav1KgVoPQAO1fqVArQ9AAAAAAAAAEEA=\",\"dtype\":\"float64\",\"order\":\"little\",\"shape\":[100]},\"y\":{\"__ndarray__\":\"AAAAAAAA8D9BCKU+4qjwP9rE7Bi7WPE/+fuvDtQP8j+JJZWnec7yPxE1DZP7lPM/Lwaiyaxj9D94V6Sv4zr1P4fSRzn6GvY/+Tg8EE4E9z9lbdO6QPf3P0i1xMQ39Pg/ij2e6Zz7+T8dn/ZA3g37P3PccGxuK/w/hhOmx8RU/T8x6wiaXYr+P++V10q6zP8/IhCZyzCOAEAT0zXl7zwBQLr8Vnzj8gFA8h0EnlewAkDW+AB6m3UDQK6P5oMBQwRA/Y6Zld8YBUA6eiwTj/cFQMSaPBBt3wZA9U7ZdtrQB0AS/AUwPMwIQG2R50370QlA2T2vN4XiCkCCslTXS/4LQCEQM8nFJQ1AOGWcjW5ZDkDwdXi8xpkPQJIwgh2qcxBA18zkOVEhEUAqzHFIIdYRQLRQVtxlkhJAS311pm1WE0BTfEyWiiIUQAOyMfwR9xRAeGr9rFzUFUAu6yonx7oWQKhsgbmxqhdADiVVq4CkGEDiNnFmnKgZQLgIvKJxtxpAlEOok3HRG0BbdoUXEvccQOkkxOjNKB5AgdpB0SRnH0AgWNnvTVkgQH5Nn8/eBSFAjd+0KI25IUBU/y8VpHQiQMd63sdxNyNAi1D1rEcCJED0AhmMetUkQJMjzatisSVADedZ9luWJkBTLTcgxoQnQNMMDdAEfShAHZlayH9/KUCHTdQSo4wqQJc8jC3fpCtAwuP2OanILEDBSuAte/gtQBLlZQbUNC9A6EGF/hs/MEDkQ31fmOowQGS2S9MmnTFAFF6x+xFXMkCpuDCOpxgzQAvyiHQ44jNA86+H7hi0NEBx1j+1oI41QJf9sx8rcjZAWesDSRdfN0C/Bi04yFU4QAxibgmlVjlAY6hhGRliOkDR8toxlHg7QN5ForiKmjxAsT8a4HXIPUAjTOjZ0wI/QKPF2QUUJUBALDsIo33PQECwG9j+7YBBQFnNdUOvOUJAjz7hqQ76QkCA0DSaXMJDQJryQM3skkRAI3uKbxZsRUBaXbpFNE5GQKD3jdKkOUdAetVXfsouSEAAaCHACy5JQPnlfkjTN0pAWDonLpBMS0A=\",\"dtype\":\"float64\",\"order\":\"little\",\"shape\":[100]}},\"selected\":{\"id\":\"5749\"},\"selection_policy\":{\"id\":\"5748\"}},\"id\":\"5734\",\"type\":\"ColumnDataSource\"},{\"attributes\":{\"axis_label\":\"x(t)\",\"coordinates\":null,\"formatter\":{\"id\":\"5743\"},\"group\":null,\"major_label_policy\":{\"id\":\"5744\"},\"ticker\":{\"id\":\"5717\"}},\"id\":\"5716\",\"type\":\"LinearAxis\"},{\"attributes\":{\"axis\":{\"id\":\"5716\"},\"coordinates\":null,\"dimension\":1,\"group\":null,\"ticker\":null},\"id\":\"5719\",\"type\":\"Grid\"},{\"attributes\":{},\"id\":\"5720\",\"type\":\"PanTool\"},{\"attributes\":{\"overlay\":{\"id\":\"5726\"}},\"id\":\"5722\",\"type\":\"BoxZoomTool\"},{\"attributes\":{},\"id\":\"5717\",\"type\":\"BasicTicker\"}],\"root_ids\":[\"5865\"]},\"title\":\"Bokeh Application\",\"version\":\"2.4.1\"}};\n",
       "  const render_items = [{\"docid\":\"b1e92974-60b7-48f5-9721-d48fa7aebffa\",\"root_ids\":[\"5865\"],\"roots\":{\"5865\":\"afd05936-2f2a-4f62-9a1e-fbe2bffadeea\"}}];\n",
       "  root.Bokeh.embed.embed_items_notebook(docs_json, render_items);\n",
       "\n",
       "  }\n",
       "  if (root.Bokeh !== undefined) {\n",
       "    embed_document(root);\n",
       "  } else {\n",
       "    let attempts = 0;\n",
       "    const timer = setInterval(function(root) {\n",
       "      if (root.Bokeh !== undefined) {\n",
       "        clearInterval(timer);\n",
       "        embed_document(root);\n",
       "      } else {\n",
       "        attempts++;\n",
       "        if (attempts > 100) {\n",
       "          clearInterval(timer);\n",
       "          console.log(\"Bokeh: ERROR: Unable to run BokehJS code because BokehJS library is missing\");\n",
       "        }\n",
       "      }\n",
       "    }, 10, root)\n",
       "  }\n",
       "})(window);"
      ],
      "application/vnd.bokehjs_exec.v0+json": ""
     },
     "metadata": {
      "application/vnd.bokehjs_exec.v0+json": {
       "id": "5865"
      }
     },
     "output_type": "display_data"
    }
   ],
   "source": [
    "t0 = 0.\n",
    "tf = 4.0\n",
    "h = 0.2\n",
    "x0 = 1.\n",
    "\n",
    "##### f2 ##### \n",
    "ak2 = (0, -1) \n",
    "bk2 = (-1/2, 3/2) \n",
    "\n",
    "x_Elr  = Euler(f2, t0, tf, h, x0) \n",
    "x_LMM  = LMMexp(f2, t0, tf, h, x0, ak2, bk2) \n",
    "\n",
    "nt = np.size(x_Elr)\n",
    "t = t0+1.*h*np.arange(nt)\n",
    "\n",
    "N = 100 # number of points for the exact solution\n",
    "texa = np.linspace(t0,tf,N)\n",
    "xexa1 = x2_exa(texa)\n",
    "\n",
    "fig1 = figure(x_range=(t0, tf), width=980, height=400, x_axis_label='t', y_axis_label='x(t)')\n",
    "fig1.line(texa,xexa1,legend_label = 'Exact solution')\n",
    "fig1.circle(t,x_Elr, color = 'navy', legend_label = 'Euler method approximation', size = 8)\n",
    "fig1.circle(t,x_LMM, fill_color = 'white', legend_label = 'LMMexp method approximation', size = 8)\n",
    "\n",
    "xexa2 = x2_exa(t)\n",
    "fig2 = figure(x_range=(t0, tf), width=980, height=400, x_axis_label='t', y_axis_label='GE')\n",
    "fig2.circle(t,abs(xexa2-x_Elr), color = 'navy', legend_label = 'Euler method approximation', size = 8)\n",
    "fig2.circle(t,abs(xexa2-x_LMM), fill_color = 'white', legend_label = 'LMMexp method approximation', size = 8)\n",
    "\n",
    "show(column(fig1,fig2)) "
   ]
  },
  {
   "cell_type": "markdown",
   "metadata": {},
   "source": [
    "**Q6. Using a code similar to that of Q3, study the order of convergence of these two methods for IVP (1) and (2).**"
   ]
  },
  {
   "cell_type": "code",
   "execution_count": 32,
   "metadata": {},
   "outputs": [
    {
     "data": {
      "text/html": [
       "\n",
       "\n",
       "\n",
       "\n",
       "\n",
       "\n",
       "  <div class=\"bk-root\" id=\"0d2d7a74-8d12-4acb-aed0-241e45d74cee\" data-root-id=\"6297\"></div>\n"
      ]
     },
     "metadata": {},
     "output_type": "display_data"
    },
    {
     "data": {
      "application/javascript": [
       "(function(root) {\n",
       "  function embed_document(root) {\n",
       "    \n",
       "  const docs_json = {\"b7b7a7e3-59cc-4f74-92a9-5e9a678371a4\":{\"defs\":[],\"roots\":{\"references\":[{\"attributes\":{\"below\":[{\"id\":\"6306\"}],\"center\":[{\"id\":\"6309\"},{\"id\":\"6313\"},{\"id\":\"6345\"}],\"height\":400,\"left\":[{\"id\":\"6310\"}],\"renderers\":[{\"id\":\"6332\"},{\"id\":\"6351\"},{\"id\":\"6371\"},{\"id\":\"6393\"}],\"title\":{\"id\":\"6334\"},\"toolbar\":{\"id\":\"6321\"},\"width\":980,\"x_range\":{\"id\":\"6298\"},\"x_scale\":{\"id\":\"6302\"},\"y_range\":{\"id\":\"6300\"},\"y_scale\":{\"id\":\"6304\"}},\"id\":\"6297\",\"subtype\":\"Figure\",\"type\":\"Plot\"},{\"attributes\":{},\"id\":\"6341\",\"type\":\"AllLabels\"},{\"attributes\":{\"num_minor_ticks\":10},\"id\":\"6311\",\"type\":\"LogTicker\"},{\"attributes\":{\"coordinates\":null,\"data_source\":{\"id\":\"6328\"},\"glyph\":{\"id\":\"6329\"},\"group\":null,\"hover_glyph\":null,\"muted_glyph\":{\"id\":\"6331\"},\"nonselection_glyph\":{\"id\":\"6330\"},\"view\":{\"id\":\"6333\"}},\"id\":\"6332\",\"type\":\"GlyphRenderer\"},{\"attributes\":{\"bottom_units\":\"screen\",\"coordinates\":null,\"fill_alpha\":0.5,\"fill_color\":\"lightgrey\",\"group\":null,\"left_units\":\"screen\",\"level\":\"overlay\",\"line_alpha\":1.0,\"line_color\":\"black\",\"line_dash\":[4,4],\"line_width\":2,\"right_units\":\"screen\",\"syncable\":false,\"top_units\":\"screen\"},\"id\":\"6320\",\"type\":\"BoxAnnotation\"},{\"attributes\":{},\"id\":\"6319\",\"type\":\"HelpTool\"},{\"attributes\":{},\"id\":\"6317\",\"type\":\"SaveTool\"},{\"attributes\":{\"axis_label\":\"GE\",\"coordinates\":null,\"formatter\":{\"id\":\"6337\"},\"group\":null,\"major_label_policy\":{\"id\":\"6338\"},\"ticker\":{\"id\":\"6311\"}},\"id\":\"6310\",\"type\":\"LogAxis\"},{\"attributes\":{\"data\":{\"x\":{\"__ndarray__\":\"LUMc6+I2Gj9URZhOFT0sP+UoZDlLaz4//Knx0k1iUD9PKx9RLaZhP4+Z3gMPA3M/exSuR+F6hD8j9maluA+WP/M/1sTSw6c/mpmZmZmZuT8=\",\"dtype\":\"float64\",\"order\":\"little\",\"shape\":[10]},\"y\":{\"__ndarray__\":\"AAAAFG3Ysz4AAIBmTAbXPgAAgBQpuPo+AAAgRDP9Hj8AAAolbvtBPwBAmFQg1mQ/ABCrMScOiD8AQOGxqOmrPwDbLjdbKM8/YAD1yqVa8T8=\",\"dtype\":\"float64\",\"order\":\"little\",\"shape\":[10]}},\"selected\":{\"id\":\"6364\"},\"selection_policy\":{\"id\":\"6363\"}},\"id\":\"6347\",\"type\":\"ColumnDataSource\"},{\"attributes\":{},\"id\":\"6304\",\"type\":\"LogScale\"},{\"attributes\":{\"label\":{\"value\":\"Euler method approximation\"},\"renderers\":[{\"id\":\"6332\"}]},\"id\":\"6346\",\"type\":\"LegendItem\"},{\"attributes\":{},\"id\":\"6385\",\"type\":\"UnionRenderers\"},{\"attributes\":{\"axis\":{\"id\":\"6310\"},\"coordinates\":null,\"dimension\":1,\"group\":null,\"ticker\":null},\"id\":\"6313\",\"type\":\"Grid\"},{\"attributes\":{},\"id\":\"6338\",\"type\":\"AllLabels\"},{\"attributes\":{\"num_minor_ticks\":10},\"id\":\"6307\",\"type\":\"LogTicker\"},{\"attributes\":{\"coordinates\":null,\"group\":null,\"items\":[{\"id\":\"6346\"},{\"id\":\"6366\"},{\"id\":\"6388\"},{\"id\":\"6412\"}],\"location\":\"bottom_right\"},\"id\":\"6345\",\"type\":\"Legend\"},{\"attributes\":{\"axis_label\":\"h\",\"coordinates\":null,\"formatter\":{\"id\":\"6340\"},\"group\":null,\"major_label_policy\":{\"id\":\"6341\"},\"ticker\":{\"id\":\"6307\"}},\"id\":\"6306\",\"type\":\"LogAxis\"},{\"attributes\":{\"fill_alpha\":{\"value\":0.1},\"fill_color\":{\"value\":\"navy\"},\"hatch_alpha\":{\"value\":0.1},\"hatch_color\":{\"value\":\"navy\"},\"line_alpha\":{\"value\":0.1},\"line_color\":{\"value\":\"navy\"},\"size\":{\"value\":8},\"x\":{\"field\":\"x\"},\"y\":{\"field\":\"y\"}},\"id\":\"6330\",\"type\":\"Circle\"},{\"attributes\":{\"overlay\":{\"id\":\"6320\"}},\"id\":\"6316\",\"type\":\"BoxZoomTool\"},{\"attributes\":{},\"id\":\"6318\",\"type\":\"ResetTool\"},{\"attributes\":{\"source\":{\"id\":\"6328\"}},\"id\":\"6333\",\"type\":\"CDSView\"},{\"attributes\":{},\"id\":\"6298\",\"type\":\"DataRange1d\"},{\"attributes\":{\"label\":{\"value\":\"LMMexp method approximation\"},\"renderers\":[{\"id\":\"6351\"}]},\"id\":\"6366\",\"type\":\"LegendItem\"},{\"attributes\":{},\"id\":\"6342\",\"type\":\"UnionRenderers\"},{\"attributes\":{\"coordinates\":null,\"data_source\":{\"id\":\"6347\"},\"glyph\":{\"id\":\"6348\"},\"group\":null,\"hover_glyph\":null,\"muted_glyph\":{\"id\":\"6350\"},\"nonselection_glyph\":{\"id\":\"6349\"},\"view\":{\"id\":\"6352\"}},\"id\":\"6351\",\"type\":\"GlyphRenderer\"},{\"attributes\":{},\"id\":\"6314\",\"type\":\"PanTool\"},{\"attributes\":{},\"id\":\"6409\",\"type\":\"UnionRenderers\"},{\"attributes\":{\"ticker\":null},\"id\":\"6337\",\"type\":\"LogTickFormatter\"},{\"attributes\":{},\"id\":\"6302\",\"type\":\"LogScale\"},{\"attributes\":{\"ticker\":null},\"id\":\"6340\",\"type\":\"LogTickFormatter\"},{\"attributes\":{\"tools\":[{\"id\":\"6314\"},{\"id\":\"6315\"},{\"id\":\"6316\"},{\"id\":\"6317\"},{\"id\":\"6318\"},{\"id\":\"6319\"}]},\"id\":\"6321\",\"type\":\"Toolbar\"},{\"attributes\":{\"line_alpha\":0.2,\"line_color\":\"#1f77b4\",\"x\":{\"field\":\"x\"},\"y\":{\"field\":\"y\"}},\"id\":\"6370\",\"type\":\"Line\"},{\"attributes\":{\"coordinates\":null,\"data_source\":{\"id\":\"6367\"},\"glyph\":{\"id\":\"6368\"},\"group\":null,\"hover_glyph\":null,\"muted_glyph\":{\"id\":\"6370\"},\"nonselection_glyph\":{\"id\":\"6369\"},\"view\":{\"id\":\"6372\"}},\"id\":\"6371\",\"type\":\"GlyphRenderer\"},{\"attributes\":{\"coordinates\":null,\"data_source\":{\"id\":\"6389\"},\"glyph\":{\"id\":\"6390\"},\"group\":null,\"hover_glyph\":null,\"muted_glyph\":{\"id\":\"6392\"},\"nonselection_glyph\":{\"id\":\"6391\"},\"view\":{\"id\":\"6394\"}},\"id\":\"6393\",\"type\":\"GlyphRenderer\"},{\"attributes\":{\"source\":{\"id\":\"6389\"}},\"id\":\"6394\",\"type\":\"CDSView\"},{\"attributes\":{\"coordinates\":null,\"group\":null},\"id\":\"6334\",\"type\":\"Title\"},{\"attributes\":{},\"id\":\"6410\",\"type\":\"Selection\"},{\"attributes\":{\"fill_alpha\":{\"value\":0.2},\"fill_color\":{\"value\":\"white\"},\"hatch_alpha\":{\"value\":0.2},\"line_alpha\":{\"value\":0.2},\"line_color\":{\"value\":\"#1f77b4\"},\"size\":{\"value\":8},\"x\":{\"field\":\"x\"},\"y\":{\"field\":\"y\"}},\"id\":\"6350\",\"type\":\"Circle\"},{\"attributes\":{\"line_alpha\":0.2,\"line_color\":\"red\",\"x\":{\"field\":\"x\"},\"y\":{\"field\":\"y\"}},\"id\":\"6392\",\"type\":\"Line\"},{\"attributes\":{\"data\":{\"x\":{\"__ndarray__\":\"LUMc6+I2Gj9URZhOFT0sP+UoZDlLaz4//Knx0k1iUD9PKx9RLaZhP4+Z3gMPA3M/exSuR+F6hD8j9maluA+WP/M/1sTSw6c/mpmZmZmZuT8=\",\"dtype\":\"float64\",\"order\":\"little\",\"shape\":[10]},\"y\":{\"__ndarray__\":\"Ooww4o55RT7ETdTiWetoPutvXMuU6ow+je21oPfGsD613DU53nfTPnA34D5El/Y+LUMc6+I2Gj/cKGQ5S2s+P08rH1EtpmE/fBSuR+F6hD8=\",\"dtype\":\"float64\",\"order\":\"little\",\"shape\":[10]}},\"selected\":{\"id\":\"6410\"},\"selection_policy\":{\"id\":\"6409\"}},\"id\":\"6389\",\"type\":\"ColumnDataSource\"},{\"attributes\":{\"axis\":{\"id\":\"6306\"},\"coordinates\":null,\"group\":null,\"ticker\":null},\"id\":\"6309\",\"type\":\"Grid\"},{\"attributes\":{\"fill_alpha\":{\"value\":0.1},\"fill_color\":{\"value\":\"white\"},\"hatch_alpha\":{\"value\":0.1},\"line_alpha\":{\"value\":0.1},\"line_color\":{\"value\":\"#1f77b4\"},\"size\":{\"value\":8},\"x\":{\"field\":\"x\"},\"y\":{\"field\":\"y\"}},\"id\":\"6349\",\"type\":\"Circle\"},{\"attributes\":{\"data\":{\"x\":{\"__ndarray__\":\"LUMc6+I2Gj9URZhOFT0sP+UoZDlLaz4//Knx0k1iUD9PKx9RLaZhP4+Z3gMPA3M/exSuR+F6hD8j9maluA+WP/M/1sTSw6c/mpmZmZmZuT8=\",\"dtype\":\"float64\",\"order\":\"little\",\"shape\":[10]},\"y\":{\"__ndarray__\":\"LUMc6+I2Gj9URZhOFT0sP+UoZDlLaz4//Knx0k1iUD9PKx9RLaZhP4+Z3gMPA3M/exSuR+F6hD8j9maluA+WP/M/1sTSw6c/mpmZmZmZuT8=\",\"dtype\":\"float64\",\"order\":\"little\",\"shape\":[10]}},\"selected\":{\"id\":\"6386\"},\"selection_policy\":{\"id\":\"6385\"}},\"id\":\"6367\",\"type\":\"ColumnDataSource\"},{\"attributes\":{\"source\":{\"id\":\"6347\"}},\"id\":\"6352\",\"type\":\"CDSView\"},{\"attributes\":{\"fill_color\":{\"value\":\"white\"},\"line_color\":{\"value\":\"#1f77b4\"},\"size\":{\"value\":8},\"x\":{\"field\":\"x\"},\"y\":{\"field\":\"y\"}},\"id\":\"6348\",\"type\":\"Circle\"},{\"attributes\":{\"line_color\":\"red\",\"x\":{\"field\":\"x\"},\"y\":{\"field\":\"y\"}},\"id\":\"6390\",\"type\":\"Line\"},{\"attributes\":{\"source\":{\"id\":\"6367\"}},\"id\":\"6372\",\"type\":\"CDSView\"},{\"attributes\":{\"line_alpha\":0.1,\"line_color\":\"red\",\"x\":{\"field\":\"x\"},\"y\":{\"field\":\"y\"}},\"id\":\"6391\",\"type\":\"Line\"},{\"attributes\":{},\"id\":\"6300\",\"type\":\"DataRange1d\"},{\"attributes\":{\"line_alpha\":0.1,\"line_color\":\"#1f77b4\",\"x\":{\"field\":\"x\"},\"y\":{\"field\":\"y\"}},\"id\":\"6369\",\"type\":\"Line\"},{\"attributes\":{},\"id\":\"6343\",\"type\":\"Selection\"},{\"attributes\":{},\"id\":\"6364\",\"type\":\"Selection\"},{\"attributes\":{\"line_color\":\"#1f77b4\",\"x\":{\"field\":\"x\"},\"y\":{\"field\":\"y\"}},\"id\":\"6368\",\"type\":\"Line\"},{\"attributes\":{},\"id\":\"6386\",\"type\":\"Selection\"},{\"attributes\":{\"label\":{\"value\":\"order 2 slope\"},\"renderers\":[{\"id\":\"6393\"}]},\"id\":\"6412\",\"type\":\"LegendItem\"},{\"attributes\":{\"data\":{\"x\":{\"__ndarray__\":\"LUMc6+I2Gj9URZhOFT0sP+UoZDlLaz4//Knx0k1iUD9PKx9RLaZhP4+Z3gMPA3M/exSuR+F6hD8j9maluA+WP/M/1sTSw6c/mpmZmZmZuT8=\",\"dtype\":\"float64\",\"order\":\"little\",\"shape\":[10]},\"y\":{\"__ndarray__\":\"ACDdshNchj8ASGSPTBSYPwAcIDAu76k/AEboImHouz8AbzWl0wjOPwDT8BOTHeA/IPkYCz0v8T+QGvAAnVQCQAgfzR7ynRJAGKtHk4OtIkA=\",\"dtype\":\"float64\",\"order\":\"little\",\"shape\":[10]}},\"selected\":{\"id\":\"6343\"},\"selection_policy\":{\"id\":\"6342\"}},\"id\":\"6328\",\"type\":\"ColumnDataSource\"},{\"attributes\":{\"label\":{\"value\":\"order 1 slope\"},\"renderers\":[{\"id\":\"6371\"}]},\"id\":\"6388\",\"type\":\"LegendItem\"},{\"attributes\":{},\"id\":\"6363\",\"type\":\"UnionRenderers\"},{\"attributes\":{\"fill_alpha\":{\"value\":0.2},\"fill_color\":{\"value\":\"navy\"},\"hatch_alpha\":{\"value\":0.2},\"hatch_color\":{\"value\":\"navy\"},\"line_alpha\":{\"value\":0.2},\"line_color\":{\"value\":\"navy\"},\"size\":{\"value\":8},\"x\":{\"field\":\"x\"},\"y\":{\"field\":\"y\"}},\"id\":\"6331\",\"type\":\"Circle\"},{\"attributes\":{\"fill_color\":{\"value\":\"navy\"},\"hatch_color\":{\"value\":\"navy\"},\"line_color\":{\"value\":\"navy\"},\"size\":{\"value\":8},\"x\":{\"field\":\"x\"},\"y\":{\"field\":\"y\"}},\"id\":\"6329\",\"type\":\"Circle\"},{\"attributes\":{},\"id\":\"6315\",\"type\":\"WheelZoomTool\"}],\"root_ids\":[\"6297\"]},\"title\":\"Bokeh Application\",\"version\":\"2.4.1\"}};\n",
       "  const render_items = [{\"docid\":\"b7b7a7e3-59cc-4f74-92a9-5e9a678371a4\",\"root_ids\":[\"6297\"],\"roots\":{\"6297\":\"0d2d7a74-8d12-4acb-aed0-241e45d74cee\"}}];\n",
       "  root.Bokeh.embed.embed_items_notebook(docs_json, render_items);\n",
       "\n",
       "  }\n",
       "  if (root.Bokeh !== undefined) {\n",
       "    embed_document(root);\n",
       "  } else {\n",
       "    let attempts = 0;\n",
       "    const timer = setInterval(function(root) {\n",
       "      if (root.Bokeh !== undefined) {\n",
       "        clearInterval(timer);\n",
       "        embed_document(root);\n",
       "      } else {\n",
       "        attempts++;\n",
       "        if (attempts > 100) {\n",
       "          clearInterval(timer);\n",
       "          console.log(\"Bokeh: ERROR: Unable to run BokehJS code because BokehJS library is missing\");\n",
       "        }\n",
       "      }\n",
       "    }, 10, root)\n",
       "  }\n",
       "})(window);"
      ],
      "application/vnd.bokehjs_exec.v0+json": ""
     },
     "metadata": {
      "application/vnd.bokehjs_exec.v0+json": {
       "id": "6297"
      }
     },
     "output_type": "display_data"
    }
   ],
   "source": [
    "t0 = 0.\n",
    "tf = 4.0\n",
    "x0 = 1.\n",
    "\n",
    "nh = 10\n",
    "h_values = 10**np.linspace(-4,-1,nh)\n",
    "err_values = np.zeros((6,nh))\n",
    "ith=0\n",
    "\n",
    "##### f2 ##### \n",
    "ak2 = (0, -1) \n",
    "bk2 = (-1/2, 3/2) \n",
    "\n",
    "for h in h_values:\n",
    "    x_Elr  = Euler(f2, t0, tf, h, x0)\n",
    "    x_LMM  = LMMexp(f2, t0, tf, h, x0, ak2, bk2) \n",
    "\n",
    "    nt = np.size(x_Elr)\n",
    "    t = t0+1.*h*np.arange(nt)\n",
    "    xexa = x2_exa(t)\n",
    "    err_values[0,ith] = np.amax(np.abs(xexa-x_Elr))\n",
    "    err_values[1,ith] = np.amax(np.abs(xexa-x_LMM))\n",
    "    ith+=1\n",
    "\n",
    "fig3 = figure( x_axis_type=\"log\", y_axis_type=\"log\", width=980, height=400, x_axis_label='h', y_axis_label='GE')\n",
    "fig3.circle(h_values,err_values[0,:], color = 'navy', legend_label = 'Euler method approximation', size = 8)\n",
    "fig3.circle(h_values,err_values[1,:],fill_color = 'white', legend_label = 'LMMexp method approximation', size = 8)\n",
    "\n",
    "fig3.line(h_values,h_values,legend_label = 'order 1 slope')\n",
    "fig3.line(h_values,h_values**2,color ='red' ,legend_label = 'order 2 slope')\n",
    "fig3.legend.location = \"bottom_right\"\n",
    "show(fig3)"
   ]
  },
  {
   "cell_type": "markdown",
   "metadata": {},
   "source": [
    "# Part III: Implicit 2-step methods"
   ]
  },
  {
   "cell_type": "markdown",
   "metadata": {},
   "source": [
    "## Backward Euler method and Trapezoidal rule"
   ]
  },
  {
   "cell_type": "markdown",
   "metadata": {},
   "source": [
    "The backward Euler method is defined by the following:\n",
    "$$\n",
    "x_{n+1} = x_n + h  f(t_{n+1},x_{n+1})\n",
    "$$\n",
    "where $t_n = t_0+hn$, $n \\in \\mathbb{N}$.\n",
    "In general there is no analytical way to find $x_{n+1}$ and one must approximate the root of the function:\n",
    "$$\n",
    "g_n^{Eul} : x \\mapsto x-x_n-hf(t_{n+1},x)\n",
    "$$\n",
    "Similarly, for the Trapezoidal rule we have:\n",
    "$$\n",
    "x_{n+1} = x_n + \\frac{h}{2} \\left(f(t_{n+1},x_{n+1})+f(t_n,x_n)\\right)\n",
    "$$\n",
    "and we need to find the root of the function:\n",
    "$$\n",
    "g_n^{TR} : x \\mapsto x - x_n - \\frac{h}{2} \\left(f(t_{n+1},x)+f(t_n,x_n)\\right)\n",
    "$$"
   ]
  },
  {
   "cell_type": "markdown",
   "metadata": {},
   "source": [
    "**Here we give a possible implementation of the backward Euler method**"
   ]
  },
  {
   "cell_type": "code",
   "execution_count": 33,
   "metadata": {},
   "outputs": [],
   "source": [
    "def backEuler(f, t0, tf, h, x0):\n",
    "    \n",
    "    nt = int(round((tf-t0)/h))+1 #number of column of the output array\n",
    "    t = t0 #intial time\n",
    "    x = np.zeros((nt,))\n",
    "    x[0] = x0 #intial value\n",
    "    it = 0\n",
    "    \n",
    "    def g(x,tnp1,xn):\n",
    "        return x-xn-h*f(tnp1,x)\n",
    "    \n",
    "    for it in range(nt-1):\n",
    "        tn = t0+it*h\n",
    "        xstart = x[it]+h*f(tn,x[it]) #initial guess for the root function\n",
    "        sol = root(g,xstart,(tn+h,x[it]))\n",
    "        x[it+1] = sol.x\n",
    "    \n",
    "    return x"
   ]
  },
  {
   "cell_type": "markdown",
   "metadata": {},
   "source": [
    "**Q7. Using the function root of scipy.optimize, implement the Trapezoidal Rule method for a generic IVP associated to a function $f$**"
   ]
  },
  {
   "cell_type": "code",
   "execution_count": 40,
   "metadata": {},
   "outputs": [],
   "source": [
    "def TR(f, t0, tf, h, x0):\n",
    "    \n",
    "    nt = int(round((tf-t0)/h))+1 #number of column of the output array\n",
    "    x = np.zeros((nt,)) \n",
    "    t = [t0 + i*h for i in range(nt)] \n",
    "    \n",
    "    def g(x, xn, tn, tn1): \n",
    "        return x - xn - (h/2)*(f(tn1, x) + f(tn, xn)) \n",
    "    \n",
    "    for i in range(nt): \n",
    "        if (i == 0): \n",
    "            x[i] = x0 \n",
    "        else: \n",
    "            xstart = x[i-1] + h*f(t[i-1],x[i-1]) #initial guess for the root function\n",
    "            sol = root(g,xstart,(t[i], t[i-1], x[i-1])) \n",
    "            x[i] = sol.x\n",
    "    \n",
    "    return x"
   ]
  },
  {
   "cell_type": "markdown",
   "metadata": {},
   "source": [
    "**Q8. Test these functions with IVP (1) and (2). For the Trapezoidal rule method, compare this implementation to the first one.**"
   ]
  },
  {
   "cell_type": "code",
   "execution_count": 41,
   "metadata": {},
   "outputs": [
    {
     "data": {
      "text/html": [
       "\n",
       "\n",
       "\n",
       "\n",
       "\n",
       "\n",
       "  <div class=\"bk-root\" id=\"9f5f3fb4-9682-4530-b7d4-9160f4adda47\" data-root-id=\"7607\"></div>\n"
      ]
     },
     "metadata": {},
     "output_type": "display_data"
    },
    {
     "data": {
      "application/javascript": [
       "(function(root) {\n",
       "  function embed_document(root) {\n",
       "    \n",
       "  const docs_json = {\"cfdbaa2e-effd-43ee-8718-1c0ede10d270\":{\"defs\":[],\"roots\":{\"references\":[{\"attributes\":{\"children\":[{\"id\":\"7445\"},{\"id\":\"7537\"}]},\"id\":\"7607\",\"type\":\"Column\"},{\"attributes\":{},\"id\":\"7577\",\"type\":\"BasicTickFormatter\"},{\"attributes\":{},\"id\":\"7578\",\"type\":\"AllLabels\"},{\"attributes\":{\"fill_alpha\":{\"value\":0.1},\"fill_color\":{\"value\":\"white\"},\"hatch_alpha\":{\"value\":0.1},\"line_alpha\":{\"value\":0.1},\"line_color\":{\"value\":\"#1f77b4\"},\"size\":{\"value\":8},\"x\":{\"field\":\"x\"},\"y\":{\"field\":\"y\"}},\"id\":\"7517\",\"type\":\"Circle\"},{\"attributes\":{},\"id\":\"7580\",\"type\":\"BasicTickFormatter\"},{\"attributes\":{\"axis_label\":\"GE\",\"coordinates\":null,\"formatter\":{\"id\":\"7577\"},\"group\":null,\"major_label_policy\":{\"id\":\"7578\"},\"ticker\":{\"id\":\"7551\"}},\"id\":\"7550\",\"type\":\"LinearAxis\"},{\"attributes\":{},\"id\":\"7555\",\"type\":\"WheelZoomTool\"},{\"attributes\":{},\"id\":\"7581\",\"type\":\"AllLabels\"},{\"attributes\":{\"source\":{\"id\":\"7568\"}},\"id\":\"7573\",\"type\":\"CDSView\"},{\"attributes\":{\"axis\":{\"id\":\"7546\"},\"coordinates\":null,\"group\":null,\"ticker\":null},\"id\":\"7549\",\"type\":\"Grid\"},{\"attributes\":{},\"id\":\"7533\",\"type\":\"UnionRenderers\"},{\"attributes\":{\"axis\":{\"id\":\"7550\"},\"coordinates\":null,\"dimension\":1,\"group\":null,\"ticker\":null},\"id\":\"7553\",\"type\":\"Grid\"},{\"attributes\":{},\"id\":\"7551\",\"type\":\"BasicTicker\"},{\"attributes\":{},\"id\":\"7559\",\"type\":\"HelpTool\"},{\"attributes\":{},\"id\":\"7554\",\"type\":\"PanTool\"},{\"attributes\":{\"overlay\":{\"id\":\"7560\"}},\"id\":\"7556\",\"type\":\"BoxZoomTool\"},{\"attributes\":{},\"id\":\"7557\",\"type\":\"SaveTool\"},{\"attributes\":{},\"id\":\"7558\",\"type\":\"ResetTool\"},{\"attributes\":{},\"id\":\"7582\",\"type\":\"UnionRenderers\"},{\"attributes\":{},\"id\":\"7583\",\"type\":\"Selection\"},{\"attributes\":{\"bottom_units\":\"screen\",\"coordinates\":null,\"fill_alpha\":0.5,\"fill_color\":\"lightgrey\",\"group\":null,\"left_units\":\"screen\",\"level\":\"overlay\",\"line_alpha\":1.0,\"line_color\":\"black\",\"line_dash\":[4,4],\"line_width\":2,\"right_units\":\"screen\",\"syncable\":false,\"top_units\":\"screen\"},\"id\":\"7560\",\"type\":\"BoxAnnotation\"},{\"attributes\":{\"coordinates\":null,\"data_source\":{\"id\":\"7568\"},\"glyph\":{\"id\":\"7569\"},\"group\":null,\"hover_glyph\":null,\"muted_glyph\":{\"id\":\"7571\"},\"nonselection_glyph\":{\"id\":\"7570\"},\"view\":{\"id\":\"7573\"}},\"id\":\"7572\",\"type\":\"GlyphRenderer\"},{\"attributes\":{\"label\":{\"value\":\"Trapezoidal Rule method approximation\"},\"renderers\":[{\"id\":\"7519\"}]},\"id\":\"7536\",\"type\":\"LegendItem\"},{\"attributes\":{\"data\":{\"x\":{\"__ndarray__\":\"AAAAAAAAAACamZmZmZnJP5qZmZmZmdk/NDMzMzMz4z+amZmZmZnpPwAAAAAAAPA/NDMzMzMz8z9nZmZmZmb2P5qZmZmZmfk/zczMzMzM/D8AAAAAAAAAQJqZmZmZmQFANDMzMzMzA0DNzMzMzMwEQGdmZmZmZgZAAAAAAAAACECamZmZmZkJQDQzMzMzMwtAzczMzMzMDEBnZmZmZmYOQAAAAAAAABBA\",\"dtype\":\"float64\",\"order\":\"little\",\"shape\":[21]},\"y\":{\"__ndarray__\":\"AAAAAAAA8D+g9Emf9EnPP6D0SZ/0Sd8/eHd3d3d35z+g9Emf9EnvP+Q4juM4jvM/eHd3d3d39z8MtmALtmD7P6D0SZ/0Sf8/mpmZmZmZAUDkOI7jOI4DQC7Ygi3YggVAeHd3d3d3B0DCFmzBFmwJQAy2YAu2YAtAVVVVVVVVDUCg9Emf9EkPQPVJn/RJnxBAmpmZmZmZEUA/6ZM+6ZMSQOQ4juM4jhNA\",\"dtype\":\"float64\",\"order\":\"little\",\"shape\":[21]}},\"selected\":{\"id\":\"7534\"},\"selection_policy\":{\"id\":\"7533\"}},\"id\":\"7515\",\"type\":\"ColumnDataSource\"},{\"attributes\":{\"fill_alpha\":{\"value\":0.2},\"fill_color\":{\"value\":\"navy\"},\"hatch_alpha\":{\"value\":0.2},\"hatch_color\":{\"value\":\"navy\"},\"line_alpha\":{\"value\":0.2},\"line_color\":{\"value\":\"navy\"},\"size\":{\"value\":8},\"x\":{\"field\":\"x\"},\"y\":{\"field\":\"y\"}},\"id\":\"7571\",\"type\":\"Circle\"},{\"attributes\":{\"coordinates\":null,\"data_source\":{\"id\":\"7515\"},\"glyph\":{\"id\":\"7516\"},\"group\":null,\"hover_glyph\":null,\"muted_glyph\":{\"id\":\"7518\"},\"nonselection_glyph\":{\"id\":\"7517\"},\"view\":{\"id\":\"7520\"}},\"id\":\"7519\",\"type\":\"GlyphRenderer\"},{\"attributes\":{\"coordinates\":null,\"group\":null},\"id\":\"7574\",\"type\":\"Title\"},{\"attributes\":{\"data\":{\"x\":{\"__ndarray__\":\"AAAAAAAAAACamZmZmZnJP5qZmZmZmdk/NDMzMzMz4z+amZmZmZnpPwAAAAAAAPA/NDMzMzMz8z9nZmZmZmb2P5qZmZmZmfk/zczMzMzM/D8AAAAAAAAAQJqZmZmZmQFANDMzMzMzA0DNzMzMzMwEQGdmZmZmZgZAAAAAAAAACECamZmZmZkJQDQzMzMzMwtAzczMzMzMDEBnZmZmZmYOQAAAAAAAABBA\",\"dtype\":\"float64\",\"order\":\"little\",\"shape\":[21]},\"y\":{\"__ndarray__\":\"AAAAAAAAAADA3NRpmEidPwACRNDGF7I/gLByp8/EwD9wkRuQeaHLP7hEXaerV9U/0NJ8TzSn3z/ALXVHTdLmP1AgkxJxHvA/7EVA3Dhq9j9IiawcZsn+P4TG71ih7gRAWNbYbts6DECWBkdwlecSQPB2j/6+KxlA9J2IzR6sIEDYkDgTPf0lQCg355G/4yxA8p8i6rTpMkCCw5GuELA4QCjeQ8OqEUBA\",\"dtype\":\"float64\",\"order\":\"little\",\"shape\":[21]}},\"selected\":{\"id\":\"7583\"},\"selection_policy\":{\"id\":\"7582\"}},\"id\":\"7568\",\"type\":\"ColumnDataSource\"},{\"attributes\":{\"fill_color\":{\"value\":\"navy\"},\"hatch_color\":{\"value\":\"navy\"},\"line_color\":{\"value\":\"navy\"},\"size\":{\"value\":8},\"x\":{\"field\":\"x\"},\"y\":{\"field\":\"y\"}},\"id\":\"7496\",\"type\":\"Circle\"},{\"attributes\":{},\"id\":\"7450\",\"type\":\"LinearScale\"},{\"attributes\":{\"label\":{\"value\":\"Exact solution\"},\"renderers\":[{\"id\":\"7480\"}]},\"id\":\"7494\",\"type\":\"LegendItem\"},{\"attributes\":{\"coordinates\":null,\"data_source\":{\"id\":\"7476\"},\"glyph\":{\"id\":\"7477\"},\"group\":null,\"hover_glyph\":null,\"muted_glyph\":{\"id\":\"7479\"},\"nonselection_glyph\":{\"id\":\"7478\"},\"view\":{\"id\":\"7481\"}},\"id\":\"7480\",\"type\":\"GlyphRenderer\"},{\"attributes\":{\"source\":{\"id\":\"7476\"}},\"id\":\"7481\",\"type\":\"CDSView\"},{\"attributes\":{\"data\":{\"x\":{\"__ndarray__\":\"AAAAAAAAAACamZmZmZnJP5qZmZmZmdk/NDMzMzMz4z+amZmZmZnpPwAAAAAAAPA/NDMzMzMz8z9nZmZmZmb2P5qZmZmZmfk/zczMzMzM/D8AAAAAAAAAQJqZmZmZmQFANDMzMzMzA0DNzMzMzMwEQGdmZmZmZgZAAAAAAAAACECamZmZmZkJQDQzMzMzMwtAzczMzMzMDEBnZmZmZmYOQAAAAAAAABBA\",\"dtype\":\"float64\",\"order\":\"little\",\"shape\":[21]},\"y\":{\"__ndarray__\":\"AAAAAAAA8D8AAAAAAAD0PwAAAAAAAPk/AAAAAABA/z8AAAAAAIgDQAAAAAAAaghAAAAAAICEDkAAAAAA0BITQAAAAACE1xdAAAAAAGXNHUAAAAAgX6AiQAAAAOh2SCdAAAAAopQaLUAAAEDlnDAyQAAAkB7EvDZAAAA0JvVrPEAAgOA3ecNBQACg2IVXNEZAAMhOZ23BS0AAPZFg5FhRQECMtXgdr1VA\",\"dtype\":\"float64\",\"order\":\"little\",\"shape\":[21]}},\"selected\":{\"id\":\"7512\"},\"selection_policy\":{\"id\":\"7511\"}},\"id\":\"7495\",\"type\":\"ColumnDataSource\"},{\"attributes\":{\"fill_color\":{\"value\":\"white\"},\"line_color\":{\"value\":\"#1f77b4\"},\"size\":{\"value\":8},\"x\":{\"field\":\"x\"},\"y\":{\"field\":\"y\"}},\"id\":\"7516\",\"type\":\"Circle\"},{\"attributes\":{},\"id\":\"7452\",\"type\":\"LinearScale\"},{\"attributes\":{\"end\":4.0},\"id\":\"7446\",\"type\":\"Range1d\"},{\"attributes\":{\"line_color\":\"#1f77b4\",\"x\":{\"field\":\"x\"},\"y\":{\"field\":\"y\"}},\"id\":\"7477\",\"type\":\"Line\"},{\"attributes\":{\"below\":[{\"id\":\"7454\"}],\"center\":[{\"id\":\"7457\"},{\"id\":\"7461\"},{\"id\":\"7493\"}],\"height\":400,\"left\":[{\"id\":\"7458\"}],\"renderers\":[{\"id\":\"7480\"},{\"id\":\"7499\"},{\"id\":\"7519\"}],\"title\":{\"id\":\"7482\"},\"toolbar\":{\"id\":\"7469\"},\"width\":980,\"x_range\":{\"id\":\"7446\"},\"x_scale\":{\"id\":\"7450\"},\"y_range\":{\"id\":\"7448\"},\"y_scale\":{\"id\":\"7452\"}},\"id\":\"7445\",\"subtype\":\"Figure\",\"type\":\"Plot\"},{\"attributes\":{\"data\":{\"x\":{\"__ndarray__\":\"AAAAAAAAAABbv1Kg1q+kP1u/UqDWr7Q/CB988MEHvz9bv1Kg1q/EPzJvZ0jM28k/CB988MEHzz9wZ0jM2xnSP1u/UqDWr9Q/RhdddNFF1z8yb2dIzNvZPx3HcRzHcdw/CB988MEH3z96O0Ni3s7gP3BnSMzbGeI/ZZNNNtlk4z9bv1Kg1q/kP1HrVwrU+uU/RhdddNFF5z88Q2LezpDoPzJvZ0jM2+k/J5tssskm6z8dx3Ecx3HsPxPzdobEvO0/CB988MEH7z9/pUCtXynwP3o7Q2LezvA/ddFFF1108T9wZ0jM2xnyP2r9SoFav/I/ZZNNNtlk8z9gKVDrVwr0P1u/UqDWr/Q/VlVVVVVV9T9R61cK1Pr1P0yBWr9SoPY/RhdddNFF9z9BrV8pUOv3PzxDYt7OkPg/N9lkk002+T8yb2dIzNv5Py0Fav1Kgfo/J5tssskm+z8iMW9nSMz7Px3HcRzHcfw/GF100UUX/T8T83aGxLz9Pw6JeTtDYv4/CB988MEH/z8DtX6lQK3/P3+lQK1fKQBAffDBBx98AEB6O0Ni3s4AQHeGxLydIQFAddFFF110AUByHMdxHMcBQHBnSMzbGQJAbbLJJptsAkBq/UqBWr8CQGhIzNsZEgNAZZNNNtlkA0Bj3s6QmLcDQGApUOtXCgRAXnTRRRddBEBbv1Kg1q8EQFgK1PqVAgVAVlVVVVVVBUBToNavFKgFQFHrVwrU+gVATjbZZJNNBkBMgVq/UqAGQEnM2xkS8wZARhdddNFFB0BEYt7OkJgHQEGtXylQ6wdAP/jggw8+CEA8Q2LezpAIQDmO4ziO4whAN9lkk002CUA0JObtDIkJQDJvZ0jM2wlAL7rooosuCkAtBWr9SoEKQCpQ61cK1ApAJ5tssskmC0Al5u0MiXkLQCIxb2dIzAtAIHzwwQcfDEAdx3Ecx3EMQBsS83aGxAxAGF100UUXDUAVqPUrBWoNQBPzdobEvA1AED744IMPDkAOiXk7Q2IOQAvU+pUCtQ5ACB988MEHD0AGav1KgVoPQAO1fqVArQ9AAAAAAAAAEEA=\",\"dtype\":\"float64\",\"order\":\"little\",\"shape\":[100]},\"y\":{\"__ndarray__\":\"AAAAAAAA8D9BCKU+4qjwP9rE7Bi7WPE/+fuvDtQP8j+JJZWnec7yPxE1DZP7lPM/Lwaiyaxj9D94V6Sv4zr1P4fSRzn6GvY/+Tg8EE4E9z9lbdO6QPf3P0i1xMQ39Pg/ij2e6Zz7+T8dn/ZA3g37P3PccGxuK/w/hhOmx8RU/T8x6wiaXYr+P++V10q6zP8/IhCZyzCOAEAT0zXl7zwBQLr8Vnzj8gFA8h0EnlewAkDW+AB6m3UDQK6P5oMBQwRA/Y6Zld8YBUA6eiwTj/cFQMSaPBBt3wZA9U7ZdtrQB0AS/AUwPMwIQG2R50370QlA2T2vN4XiCkCCslTXS/4LQCEQM8nFJQ1AOGWcjW5ZDkDwdXi8xpkPQJIwgh2qcxBA18zkOVEhEUAqzHFIIdYRQLRQVtxlkhJAS311pm1WE0BTfEyWiiIUQAOyMfwR9xRAeGr9rFzUFUAu6yonx7oWQKhsgbmxqhdADiVVq4CkGEDiNnFmnKgZQLgIvKJxtxpAlEOok3HRG0BbdoUXEvccQOkkxOjNKB5AgdpB0SRnH0AgWNnvTVkgQH5Nn8/eBSFAjd+0KI25IUBU/y8VpHQiQMd63sdxNyNAi1D1rEcCJED0AhmMetUkQJMjzatisSVADedZ9luWJkBTLTcgxoQnQNMMDdAEfShAHZlayH9/KUCHTdQSo4wqQJc8jC3fpCtAwuP2OanILEDBSuAte/gtQBLlZQbUNC9A6EGF/hs/MEDkQ31fmOowQGS2S9MmnTFAFF6x+xFXMkCpuDCOpxgzQAvyiHQ44jNA86+H7hi0NEBx1j+1oI41QJf9sx8rcjZAWesDSRdfN0C/Bi04yFU4QAxibgmlVjlAY6hhGRliOkDR8toxlHg7QN5ForiKmjxAsT8a4HXIPUAjTOjZ0wI/QKPF2QUUJUBALDsIo33PQECwG9j+7YBBQFnNdUOvOUJAjz7hqQ76QkCA0DSaXMJDQJryQM3skkRAI3uKbxZsRUBaXbpFNE5GQKD3jdKkOUdAetVXfsouSEAAaCHACy5JQPnlfkjTN0pAWDonLpBMS0A=\",\"dtype\":\"float64\",\"order\":\"little\",\"shape\":[100]}},\"selected\":{\"id\":\"7491\"},\"selection_policy\":{\"id\":\"7490\"}},\"id\":\"7476\",\"type\":\"ColumnDataSource\"},{\"attributes\":{},\"id\":\"7448\",\"type\":\"DataRange1d\"},{\"attributes\":{\"coordinates\":null,\"group\":null},\"id\":\"7482\",\"type\":\"Title\"},{\"attributes\":{\"axis_label\":\"t\",\"coordinates\":null,\"formatter\":{\"id\":\"7488\"},\"group\":null,\"major_label_policy\":{\"id\":\"7489\"},\"ticker\":{\"id\":\"7455\"}},\"id\":\"7454\",\"type\":\"LinearAxis\"},{\"attributes\":{},\"id\":\"7540\",\"type\":\"DataRange1d\"},{\"attributes\":{},\"id\":\"7455\",\"type\":\"BasicTicker\"},{\"attributes\":{},\"id\":\"7547\",\"type\":\"BasicTicker\"},{\"attributes\":{\"axis\":{\"id\":\"7454\"},\"coordinates\":null,\"group\":null,\"ticker\":null},\"id\":\"7457\",\"type\":\"Grid\"},{\"attributes\":{},\"id\":\"7544\",\"type\":\"LinearScale\"},{\"attributes\":{},\"id\":\"7463\",\"type\":\"WheelZoomTool\"},{\"attributes\":{},\"id\":\"7534\",\"type\":\"Selection\"},{\"attributes\":{\"axis_label\":\"x(t)\",\"coordinates\":null,\"formatter\":{\"id\":\"7485\"},\"group\":null,\"major_label_policy\":{\"id\":\"7486\"},\"ticker\":{\"id\":\"7459\"}},\"id\":\"7458\",\"type\":\"LinearAxis\"},{\"attributes\":{\"data\":{\"x\":{\"__ndarray__\":\"AAAAAAAAAACamZmZmZnJP5qZmZmZmdk/NDMzMzMz4z+amZmZmZnpPwAAAAAAAPA/NDMzMzMz8z9nZmZmZmb2P5qZmZmZmfk/zczMzMzM/D8AAAAAAAAAQJqZmZmZmQFANDMzMzMzA0DNzMzMzMwEQGdmZmZmZgZAAAAAAAAACECamZmZmZkJQDQzMzMzMwtAzczMzMzMDEBnZmZmZmYOQAAAAAAAABBA\",\"dtype\":\"float64\",\"order\":\"little\",\"shape\":[21]},\"y\":{\"__ndarray__\":\"AAAAAAAAAADy294UPkPvP7hCKWsGDPA/NO5VT6pr8T+Ck1d+1vbzP+51mjLc7/c/1FOpdLun/T+KWXKoscACQIh1ESfV+gdAcENG+BPMDkA8wQ1HSMcTQKewxgwxWBlAjOxr6P8tIEAEdwFiaZIkQAUXADt7CypAWwbFFDtrMEAAeTtSFZ80QO/RlcX8zjlA1EQKv18ZQEAXGwdCQwdEQDxztRHJ2khA\",\"dtype\":\"float64\",\"order\":\"little\",\"shape\":[21]}},\"selected\":{\"id\":\"7604\"},\"selection_policy\":{\"id\":\"7603\"}},\"id\":\"7587\",\"type\":\"ColumnDataSource\"},{\"attributes\":{\"axis\":{\"id\":\"7458\"},\"coordinates\":null,\"dimension\":1,\"group\":null,\"ticker\":null},\"id\":\"7461\",\"type\":\"Grid\"},{\"attributes\":{\"end\":4.0},\"id\":\"7538\",\"type\":\"Range1d\"},{\"attributes\":{\"tools\":[{\"id\":\"7554\"},{\"id\":\"7555\"},{\"id\":\"7556\"},{\"id\":\"7557\"},{\"id\":\"7558\"},{\"id\":\"7559\"}]},\"id\":\"7561\",\"type\":\"Toolbar\"},{\"attributes\":{},\"id\":\"7459\",\"type\":\"BasicTicker\"},{\"attributes\":{},\"id\":\"7542\",\"type\":\"LinearScale\"},{\"attributes\":{\"axis_label\":\"t\",\"coordinates\":null,\"formatter\":{\"id\":\"7580\"},\"group\":null,\"major_label_policy\":{\"id\":\"7581\"},\"ticker\":{\"id\":\"7547\"}},\"id\":\"7546\",\"type\":\"LinearAxis\"},{\"attributes\":{},\"id\":\"7467\",\"type\":\"HelpTool\"},{\"attributes\":{\"label\":{\"value\":\"Back Euler method approximation\"},\"renderers\":[{\"id\":\"7572\"}]},\"id\":\"7586\",\"type\":\"LegendItem\"},{\"attributes\":{\"line_alpha\":0.2,\"line_color\":\"#1f77b4\",\"x\":{\"field\":\"x\"},\"y\":{\"field\":\"y\"}},\"id\":\"7479\",\"type\":\"Line\"},{\"attributes\":{},\"id\":\"7462\",\"type\":\"PanTool\"},{\"attributes\":{\"coordinates\":null,\"data_source\":{\"id\":\"7587\"},\"glyph\":{\"id\":\"7588\"},\"group\":null,\"hover_glyph\":null,\"muted_glyph\":{\"id\":\"7590\"},\"nonselection_glyph\":{\"id\":\"7589\"},\"view\":{\"id\":\"7592\"}},\"id\":\"7591\",\"type\":\"GlyphRenderer\"},{\"attributes\":{\"fill_alpha\":{\"value\":0.2},\"fill_color\":{\"value\":\"navy\"},\"hatch_alpha\":{\"value\":0.2},\"hatch_color\":{\"value\":\"navy\"},\"line_alpha\":{\"value\":0.2},\"line_color\":{\"value\":\"navy\"},\"size\":{\"value\":8},\"x\":{\"field\":\"x\"},\"y\":{\"field\":\"y\"}},\"id\":\"7498\",\"type\":\"Circle\"},{\"attributes\":{\"overlay\":{\"id\":\"7468\"}},\"id\":\"7464\",\"type\":\"BoxZoomTool\"},{\"attributes\":{\"fill_alpha\":{\"value\":0.2},\"fill_color\":{\"value\":\"white\"},\"hatch_alpha\":{\"value\":0.2},\"line_alpha\":{\"value\":0.2},\"line_color\":{\"value\":\"#1f77b4\"},\"size\":{\"value\":8},\"x\":{\"field\":\"x\"},\"y\":{\"field\":\"y\"}},\"id\":\"7518\",\"type\":\"Circle\"},{\"attributes\":{},\"id\":\"7465\",\"type\":\"SaveTool\"},{\"attributes\":{\"source\":{\"id\":\"7515\"}},\"id\":\"7520\",\"type\":\"CDSView\"},{\"attributes\":{},\"id\":\"7466\",\"type\":\"ResetTool\"},{\"attributes\":{\"coordinates\":null,\"group\":null,\"items\":[{\"id\":\"7586\"},{\"id\":\"7606\"}]},\"id\":\"7585\",\"type\":\"Legend\"},{\"attributes\":{\"line_alpha\":0.1,\"line_color\":\"#1f77b4\",\"x\":{\"field\":\"x\"},\"y\":{\"field\":\"y\"}},\"id\":\"7478\",\"type\":\"Line\"},{\"attributes\":{\"fill_color\":{\"value\":\"white\"},\"line_color\":{\"value\":\"#1f77b4\"},\"size\":{\"value\":8},\"x\":{\"field\":\"x\"},\"y\":{\"field\":\"y\"}},\"id\":\"7588\",\"type\":\"Circle\"},{\"attributes\":{\"coordinates\":null,\"group\":null,\"items\":[{\"id\":\"7494\"},{\"id\":\"7514\"},{\"id\":\"7536\"}]},\"id\":\"7493\",\"type\":\"Legend\"},{\"attributes\":{\"label\":{\"value\":\"Trapezoidal Rule method approximation\"},\"renderers\":[{\"id\":\"7591\"}]},\"id\":\"7606\",\"type\":\"LegendItem\"},{\"attributes\":{\"bottom_units\":\"screen\",\"coordinates\":null,\"fill_alpha\":0.5,\"fill_color\":\"lightgrey\",\"group\":null,\"left_units\":\"screen\",\"level\":\"overlay\",\"line_alpha\":1.0,\"line_color\":\"black\",\"line_dash\":[4,4],\"line_width\":2,\"right_units\":\"screen\",\"syncable\":false,\"top_units\":\"screen\"},\"id\":\"7468\",\"type\":\"BoxAnnotation\"},{\"attributes\":{\"fill_alpha\":{\"value\":0.2},\"fill_color\":{\"value\":\"white\"},\"hatch_alpha\":{\"value\":0.2},\"line_alpha\":{\"value\":0.2},\"line_color\":{\"value\":\"#1f77b4\"},\"size\":{\"value\":8},\"x\":{\"field\":\"x\"},\"y\":{\"field\":\"y\"}},\"id\":\"7590\",\"type\":\"Circle\"},{\"attributes\":{\"source\":{\"id\":\"7587\"}},\"id\":\"7592\",\"type\":\"CDSView\"},{\"attributes\":{\"fill_alpha\":{\"value\":0.1},\"fill_color\":{\"value\":\"navy\"},\"hatch_alpha\":{\"value\":0.1},\"hatch_color\":{\"value\":\"navy\"},\"line_alpha\":{\"value\":0.1},\"line_color\":{\"value\":\"navy\"},\"size\":{\"value\":8},\"x\":{\"field\":\"x\"},\"y\":{\"field\":\"y\"}},\"id\":\"7570\",\"type\":\"Circle\"},{\"attributes\":{\"tools\":[{\"id\":\"7462\"},{\"id\":\"7463\"},{\"id\":\"7464\"},{\"id\":\"7465\"},{\"id\":\"7466\"},{\"id\":\"7467\"}]},\"id\":\"7469\",\"type\":\"Toolbar\"},{\"attributes\":{\"fill_alpha\":{\"value\":0.1},\"fill_color\":{\"value\":\"white\"},\"hatch_alpha\":{\"value\":0.1},\"line_alpha\":{\"value\":0.1},\"line_color\":{\"value\":\"#1f77b4\"},\"size\":{\"value\":8},\"x\":{\"field\":\"x\"},\"y\":{\"field\":\"y\"}},\"id\":\"7589\",\"type\":\"Circle\"},{\"attributes\":{},\"id\":\"7604\",\"type\":\"Selection\"},{\"attributes\":{},\"id\":\"7603\",\"type\":\"UnionRenderers\"},{\"attributes\":{\"below\":[{\"id\":\"7546\"}],\"center\":[{\"id\":\"7549\"},{\"id\":\"7553\"},{\"id\":\"7585\"}],\"height\":400,\"left\":[{\"id\":\"7550\"}],\"renderers\":[{\"id\":\"7572\"},{\"id\":\"7591\"}],\"title\":{\"id\":\"7574\"},\"toolbar\":{\"id\":\"7561\"},\"width\":980,\"x_range\":{\"id\":\"7538\"},\"x_scale\":{\"id\":\"7542\"},\"y_range\":{\"id\":\"7540\"},\"y_scale\":{\"id\":\"7544\"}},\"id\":\"7537\",\"subtype\":\"Figure\",\"type\":\"Plot\"},{\"attributes\":{},\"id\":\"7489\",\"type\":\"AllLabels\"},{\"attributes\":{},\"id\":\"7491\",\"type\":\"Selection\"},{\"attributes\":{},\"id\":\"7485\",\"type\":\"BasicTickFormatter\"},{\"attributes\":{\"label\":{\"value\":\"Back Euler method approximation\"},\"renderers\":[{\"id\":\"7499\"}]},\"id\":\"7514\",\"type\":\"LegendItem\"},{\"attributes\":{\"coordinates\":null,\"data_source\":{\"id\":\"7495\"},\"glyph\":{\"id\":\"7496\"},\"group\":null,\"hover_glyph\":null,\"muted_glyph\":{\"id\":\"7498\"},\"nonselection_glyph\":{\"id\":\"7497\"},\"view\":{\"id\":\"7500\"}},\"id\":\"7499\",\"type\":\"GlyphRenderer\"},{\"attributes\":{},\"id\":\"7488\",\"type\":\"BasicTickFormatter\"},{\"attributes\":{},\"id\":\"7486\",\"type\":\"AllLabels\"},{\"attributes\":{\"source\":{\"id\":\"7495\"}},\"id\":\"7500\",\"type\":\"CDSView\"},{\"attributes\":{\"fill_color\":{\"value\":\"navy\"},\"hatch_color\":{\"value\":\"navy\"},\"line_color\":{\"value\":\"navy\"},\"size\":{\"value\":8},\"x\":{\"field\":\"x\"},\"y\":{\"field\":\"y\"}},\"id\":\"7569\",\"type\":\"Circle\"},{\"attributes\":{},\"id\":\"7511\",\"type\":\"UnionRenderers\"},{\"attributes\":{},\"id\":\"7512\",\"type\":\"Selection\"},{\"attributes\":{},\"id\":\"7490\",\"type\":\"UnionRenderers\"},{\"attributes\":{\"fill_alpha\":{\"value\":0.1},\"fill_color\":{\"value\":\"navy\"},\"hatch_alpha\":{\"value\":0.1},\"hatch_color\":{\"value\":\"navy\"},\"line_alpha\":{\"value\":0.1},\"line_color\":{\"value\":\"navy\"},\"size\":{\"value\":8},\"x\":{\"field\":\"x\"},\"y\":{\"field\":\"y\"}},\"id\":\"7497\",\"type\":\"Circle\"}],\"root_ids\":[\"7607\"]},\"title\":\"Bokeh Application\",\"version\":\"2.4.1\"}};\n",
       "  const render_items = [{\"docid\":\"cfdbaa2e-effd-43ee-8718-1c0ede10d270\",\"root_ids\":[\"7607\"],\"roots\":{\"7607\":\"9f5f3fb4-9682-4530-b7d4-9160f4adda47\"}}];\n",
       "  root.Bokeh.embed.embed_items_notebook(docs_json, render_items);\n",
       "\n",
       "  }\n",
       "  if (root.Bokeh !== undefined) {\n",
       "    embed_document(root);\n",
       "  } else {\n",
       "    let attempts = 0;\n",
       "    const timer = setInterval(function(root) {\n",
       "      if (root.Bokeh !== undefined) {\n",
       "        clearInterval(timer);\n",
       "        embed_document(root);\n",
       "      } else {\n",
       "        attempts++;\n",
       "        if (attempts > 100) {\n",
       "          clearInterval(timer);\n",
       "          console.log(\"Bokeh: ERROR: Unable to run BokehJS code because BokehJS library is missing\");\n",
       "        }\n",
       "      }\n",
       "    }, 10, root)\n",
       "  }\n",
       "})(window);"
      ],
      "application/vnd.bokehjs_exec.v0+json": ""
     },
     "metadata": {
      "application/vnd.bokehjs_exec.v0+json": {
       "id": "7607"
      }
     },
     "output_type": "display_data"
    }
   ],
   "source": [
    "t0 = 0.\n",
    "tf = 4.0\n",
    "h = 0.2\n",
    "x0 = 1.\n",
    "\n",
    "x_BE  = backEuler(f2, t0, tf, h, x0) \n",
    "x_TR  = TR(f2, t0, tf, h, x0) \n",
    "\n",
    "nt = np.size(x_BE) \n",
    "t = t0+1.*h*np.arange(nt)\n",
    "\n",
    "N = 100 # number of points for the exact solution\n",
    "texa = np.linspace(t0,tf,N)\n",
    "xexa1 = x2_exa(texa)\n",
    "\n",
    "fig1 = figure(x_range=(t0, tf), width=980, height=400, x_axis_label='t', y_axis_label='x(t)')\n",
    "fig1.line(texa,xexa1,legend_label = 'Exact solution')\n",
    "fig1.circle(t,x_BE, color = 'navy', legend_label = 'Back Euler method approximation', size = 8)\n",
    "fig1.circle(t,x_TR, fill_color = 'white', legend_label = 'Trapezoidal Rule method approximation', size = 8)\n",
    "\n",
    "xexa2 = x2_exa(t)\n",
    "fig2 = figure(x_range=(t0, tf), width=980, height=400, x_axis_label='t', y_axis_label='GE')\n",
    "fig2.circle(t,abs(xexa2-x_BE), color = 'navy', legend_label = 'Back Euler method approximation', size = 8)\n",
    "fig2.circle(t,abs(xexa2-x_TR), fill_color = 'white', legend_label = 'Trapezoidal Rule method approximation', size = 8)\n",
    "\n",
    "show(column(fig1,fig2)) "
   ]
  },
  {
   "cell_type": "markdown",
   "metadata": {},
   "source": [
    "## General implicit 2-step methods"
   ]
  },
  {
   "cell_type": "markdown",
   "metadata": {},
   "source": [
    "We recall that a general implicit 2-step method is of the form, for $n\\in\\mathbb{N}$:\n",
    "$$\n",
    "x_{n+2} + \\alpha_1 x_{n+1} + \\alpha_0 x_n = h\\left(\\beta_2f(t_{n+2},x_{n+2}) +\\beta_1 f(t_{n+1},x_{n+1})+\\beta_0 f(t_n,x_n)\\right)\n",
    "$$\n",
    "For this method to be consistent, it is required that the following equalities hold:\n",
    "$$\n",
    "1+\\alpha_1+\\alpha_0 = 0, \\quad 2+\\alpha_1 = \\beta_2+\\beta_1+\\beta_0\n",
    "$$\n",
    "\n",
    "**Q9. Implement a general method that takes as argument the IVP function $f$, the initial and final times $t_0$ and $t_f$, the step size $h$, the starting point $x_0$ and method coefficients $a_k = [\\alpha_0,\\alpha_1]$ and $b_k = [\\beta_0, \\beta_1, \\beta_2]$. The first step $x_1$ of the method should be obtained thanks to a chosen method $strt\\_mthd$.**"
   ]
  },
  {
   "cell_type": "code",
   "execution_count": null,
   "metadata": {},
   "outputs": [],
   "source": [
    "def LMMimp(f,t0, tf, h, x0, ak, bk, strt_mthd): \n",
    "    \n",
    "    nt = int(round((tf-t0)/h))+1 #number of column of the output array\n",
    "    x = np.zeros((nt,))\n",
    "    \n",
    "    #########################\n",
    "    #To be completed\n",
    "    #########################\n",
    "    \n",
    "    return x"
   ]
  },
  {
   "cell_type": "markdown",
   "metadata": {},
   "source": [
    "**Q10. Test this new function with previous implementations of Backward Euler and Trapezoidal rule (Adam-Moulton methods respectively for p=-1 and p=0).**"
   ]
  },
  {
   "cell_type": "code",
   "execution_count": null,
   "metadata": {},
   "outputs": [],
   "source": []
  },
  {
   "cell_type": "markdown",
   "metadata": {},
   "source": [
    "**Q11. Study the order of convergence of Backward Euler, Trapezoidal rule, third-order Adams-Moulton (p=1) and Simpson's rule. For Adams-Moulton and Simpson's rule use the Trapezoidal rule method for the first step $x_1$.\n",
    "Is the theoretical order of convergence reached for the Simpson's rule?**"
   ]
  },
  {
   "cell_type": "code",
   "execution_count": null,
   "metadata": {},
   "outputs": [],
   "source": []
  },
  {
   "cell_type": "markdown",
   "metadata": {},
   "source": [
    "**Q12. propose an explanation as to why the Simpson's rule is not of the expected order. Subsequently, implement a modification that makes the Simpson's rule convergent of order 4.**"
   ]
  },
  {
   "cell_type": "code",
   "execution_count": null,
   "metadata": {},
   "outputs": [],
   "source": []
  }
 ],
 "metadata": {
  "kernelspec": {
   "display_name": "Python 3 (ipykernel)",
   "language": "python",
   "name": "python3"
  },
  "language_info": {
   "codemirror_mode": {
    "name": "ipython",
    "version": 3
   },
   "file_extension": ".py",
   "mimetype": "text/x-python",
   "name": "python",
   "nbconvert_exporter": "python",
   "pygments_lexer": "ipython3",
   "version": "3.9.7"
  }
 },
 "nbformat": 4,
 "nbformat_minor": 4
}
