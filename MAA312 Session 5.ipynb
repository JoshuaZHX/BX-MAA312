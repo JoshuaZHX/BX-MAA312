{
 "cells": [
  {
   "cell_type": "markdown",
   "metadata": {},
   "source": [
    "# <h1 align=\"center\">TP5 Runge-Kutta methods</h1> "
   ]
  },
  {
   "cell_type": "code",
   "execution_count": 13,
   "metadata": {},
   "outputs": [
    {
     "data": {
      "application/javascript": [
       "\n",
       "(function(root) {\n",
       "  function now() {\n",
       "    return new Date();\n",
       "  }\n",
       "\n",
       "  const force = true;\n",
       "\n",
       "  if (typeof root._bokeh_onload_callbacks === \"undefined\" || force === true) {\n",
       "    root._bokeh_onload_callbacks = [];\n",
       "    root._bokeh_is_loading = undefined;\n",
       "  }\n",
       "\n",
       "  const JS_MIME_TYPE = 'application/javascript';\n",
       "  const HTML_MIME_TYPE = 'text/html';\n",
       "  const EXEC_MIME_TYPE = 'application/vnd.bokehjs_exec.v0+json';\n",
       "  const CLASS_NAME = 'output_bokeh rendered_html';\n",
       "\n",
       "  /**\n",
       "   * Render data to the DOM node\n",
       "   */\n",
       "  function render(props, node) {\n",
       "    const script = document.createElement(\"script\");\n",
       "    node.appendChild(script);\n",
       "  }\n",
       "\n",
       "  /**\n",
       "   * Handle when an output is cleared or removed\n",
       "   */\n",
       "  function handleClearOutput(event, handle) {\n",
       "    const cell = handle.cell;\n",
       "\n",
       "    const id = cell.output_area._bokeh_element_id;\n",
       "    const server_id = cell.output_area._bokeh_server_id;\n",
       "    // Clean up Bokeh references\n",
       "    if (id != null && id in Bokeh.index) {\n",
       "      Bokeh.index[id].model.document.clear();\n",
       "      delete Bokeh.index[id];\n",
       "    }\n",
       "\n",
       "    if (server_id !== undefined) {\n",
       "      // Clean up Bokeh references\n",
       "      const cmd_clean = \"from bokeh.io.state import curstate; print(curstate().uuid_to_server['\" + server_id + \"'].get_sessions()[0].document.roots[0]._id)\";\n",
       "      cell.notebook.kernel.execute(cmd_clean, {\n",
       "        iopub: {\n",
       "          output: function(msg) {\n",
       "            const id = msg.content.text.trim();\n",
       "            if (id in Bokeh.index) {\n",
       "              Bokeh.index[id].model.document.clear();\n",
       "              delete Bokeh.index[id];\n",
       "            }\n",
       "          }\n",
       "        }\n",
       "      });\n",
       "      // Destroy server and session\n",
       "      const cmd_destroy = \"import bokeh.io.notebook as ion; ion.destroy_server('\" + server_id + \"')\";\n",
       "      cell.notebook.kernel.execute(cmd_destroy);\n",
       "    }\n",
       "  }\n",
       "\n",
       "  /**\n",
       "   * Handle when a new output is added\n",
       "   */\n",
       "  function handleAddOutput(event, handle) {\n",
       "    const output_area = handle.output_area;\n",
       "    const output = handle.output;\n",
       "\n",
       "    // limit handleAddOutput to display_data with EXEC_MIME_TYPE content only\n",
       "    if ((output.output_type != \"display_data\") || (!Object.prototype.hasOwnProperty.call(output.data, EXEC_MIME_TYPE))) {\n",
       "      return\n",
       "    }\n",
       "\n",
       "    const toinsert = output_area.element.find(\".\" + CLASS_NAME.split(' ')[0]);\n",
       "\n",
       "    if (output.metadata[EXEC_MIME_TYPE][\"id\"] !== undefined) {\n",
       "      toinsert[toinsert.length - 1].firstChild.textContent = output.data[JS_MIME_TYPE];\n",
       "      // store reference to embed id on output_area\n",
       "      output_area._bokeh_element_id = output.metadata[EXEC_MIME_TYPE][\"id\"];\n",
       "    }\n",
       "    if (output.metadata[EXEC_MIME_TYPE][\"server_id\"] !== undefined) {\n",
       "      const bk_div = document.createElement(\"div\");\n",
       "      bk_div.innerHTML = output.data[HTML_MIME_TYPE];\n",
       "      const script_attrs = bk_div.children[0].attributes;\n",
       "      for (let i = 0; i < script_attrs.length; i++) {\n",
       "        toinsert[toinsert.length - 1].firstChild.setAttribute(script_attrs[i].name, script_attrs[i].value);\n",
       "        toinsert[toinsert.length - 1].firstChild.textContent = bk_div.children[0].textContent\n",
       "      }\n",
       "      // store reference to server id on output_area\n",
       "      output_area._bokeh_server_id = output.metadata[EXEC_MIME_TYPE][\"server_id\"];\n",
       "    }\n",
       "  }\n",
       "\n",
       "  function register_renderer(events, OutputArea) {\n",
       "\n",
       "    function append_mime(data, metadata, element) {\n",
       "      // create a DOM node to render to\n",
       "      const toinsert = this.create_output_subarea(\n",
       "        metadata,\n",
       "        CLASS_NAME,\n",
       "        EXEC_MIME_TYPE\n",
       "      );\n",
       "      this.keyboard_manager.register_events(toinsert);\n",
       "      // Render to node\n",
       "      const props = {data: data, metadata: metadata[EXEC_MIME_TYPE]};\n",
       "      render(props, toinsert[toinsert.length - 1]);\n",
       "      element.append(toinsert);\n",
       "      return toinsert\n",
       "    }\n",
       "\n",
       "    /* Handle when an output is cleared or removed */\n",
       "    events.on('clear_output.CodeCell', handleClearOutput);\n",
       "    events.on('delete.Cell', handleClearOutput);\n",
       "\n",
       "    /* Handle when a new output is added */\n",
       "    events.on('output_added.OutputArea', handleAddOutput);\n",
       "\n",
       "    /**\n",
       "     * Register the mime type and append_mime function with output_area\n",
       "     */\n",
       "    OutputArea.prototype.register_mime_type(EXEC_MIME_TYPE, append_mime, {\n",
       "      /* Is output safe? */\n",
       "      safe: true,\n",
       "      /* Index of renderer in `output_area.display_order` */\n",
       "      index: 0\n",
       "    });\n",
       "  }\n",
       "\n",
       "  // register the mime type if in Jupyter Notebook environment and previously unregistered\n",
       "  if (root.Jupyter !== undefined) {\n",
       "    const events = require('base/js/events');\n",
       "    const OutputArea = require('notebook/js/outputarea').OutputArea;\n",
       "\n",
       "    if (OutputArea.prototype.mime_types().indexOf(EXEC_MIME_TYPE) == -1) {\n",
       "      register_renderer(events, OutputArea);\n",
       "    }\n",
       "  }\n",
       "\n",
       "  \n",
       "  if (typeof (root._bokeh_timeout) === \"undefined\" || force === true) {\n",
       "    root._bokeh_timeout = Date.now() + 5000;\n",
       "    root._bokeh_failed_load = false;\n",
       "  }\n",
       "\n",
       "  const NB_LOAD_WARNING = {'data': {'text/html':\n",
       "     \"<div style='background-color: #fdd'>\\n\"+\n",
       "     \"<p>\\n\"+\n",
       "     \"BokehJS does not appear to have successfully loaded. If loading BokehJS from CDN, this \\n\"+\n",
       "     \"may be due to a slow or bad network connection. Possible fixes:\\n\"+\n",
       "     \"</p>\\n\"+\n",
       "     \"<ul>\\n\"+\n",
       "     \"<li>re-rerun `output_notebook()` to attempt to load from CDN again, or</li>\\n\"+\n",
       "     \"<li>use INLINE resources instead, as so:</li>\\n\"+\n",
       "     \"</ul>\\n\"+\n",
       "     \"<code>\\n\"+\n",
       "     \"from bokeh.resources import INLINE\\n\"+\n",
       "     \"output_notebook(resources=INLINE)\\n\"+\n",
       "     \"</code>\\n\"+\n",
       "     \"</div>\"}};\n",
       "\n",
       "  function display_loaded() {\n",
       "    const el = document.getElementById(null);\n",
       "    if (el != null) {\n",
       "      el.textContent = \"BokehJS is loading...\";\n",
       "    }\n",
       "    if (root.Bokeh !== undefined) {\n",
       "      if (el != null) {\n",
       "        el.textContent = \"BokehJS \" + root.Bokeh.version + \" successfully loaded.\";\n",
       "      }\n",
       "    } else if (Date.now() < root._bokeh_timeout) {\n",
       "      setTimeout(display_loaded, 100)\n",
       "    }\n",
       "  }\n",
       "\n",
       "\n",
       "  function run_callbacks() {\n",
       "    try {\n",
       "      root._bokeh_onload_callbacks.forEach(function(callback) {\n",
       "        if (callback != null)\n",
       "          callback();\n",
       "      });\n",
       "    } finally {\n",
       "      delete root._bokeh_onload_callbacks\n",
       "    }\n",
       "    console.debug(\"Bokeh: all callbacks have finished\");\n",
       "  }\n",
       "\n",
       "  function load_libs(css_urls, js_urls, callback) {\n",
       "    if (css_urls == null) css_urls = [];\n",
       "    if (js_urls == null) js_urls = [];\n",
       "\n",
       "    root._bokeh_onload_callbacks.push(callback);\n",
       "    if (root._bokeh_is_loading > 0) {\n",
       "      console.debug(\"Bokeh: BokehJS is being loaded, scheduling callback at\", now());\n",
       "      return null;\n",
       "    }\n",
       "    if (js_urls == null || js_urls.length === 0) {\n",
       "      run_callbacks();\n",
       "      return null;\n",
       "    }\n",
       "    console.debug(\"Bokeh: BokehJS not loaded, scheduling load and callback at\", now());\n",
       "    root._bokeh_is_loading = css_urls.length + js_urls.length;\n",
       "\n",
       "    function on_load() {\n",
       "      root._bokeh_is_loading--;\n",
       "      if (root._bokeh_is_loading === 0) {\n",
       "        console.debug(\"Bokeh: all BokehJS libraries/stylesheets loaded\");\n",
       "        run_callbacks()\n",
       "      }\n",
       "    }\n",
       "\n",
       "    function on_error(url) {\n",
       "      console.error(\"failed to load \" + url);\n",
       "    }\n",
       "\n",
       "    for (let i = 0; i < css_urls.length; i++) {\n",
       "      const url = css_urls[i];\n",
       "      const element = document.createElement(\"link\");\n",
       "      element.onload = on_load;\n",
       "      element.onerror = on_error.bind(null, url);\n",
       "      element.rel = \"stylesheet\";\n",
       "      element.type = \"text/css\";\n",
       "      element.href = url;\n",
       "      console.debug(\"Bokeh: injecting link tag for BokehJS stylesheet: \", url);\n",
       "      document.body.appendChild(element);\n",
       "    }\n",
       "\n",
       "    for (let i = 0; i < js_urls.length; i++) {\n",
       "      const url = js_urls[i];\n",
       "      const element = document.createElement('script');\n",
       "      element.onload = on_load;\n",
       "      element.onerror = on_error.bind(null, url);\n",
       "      element.async = false;\n",
       "      element.src = url;\n",
       "      console.debug(\"Bokeh: injecting script tag for BokehJS library: \", url);\n",
       "      document.head.appendChild(element);\n",
       "    }\n",
       "  };\n",
       "\n",
       "  function inject_raw_css(css) {\n",
       "    const element = document.createElement(\"style\");\n",
       "    element.appendChild(document.createTextNode(css));\n",
       "    document.body.appendChild(element);\n",
       "  }\n",
       "\n",
       "  \n",
       "  const js_urls = [\"https://cdn.bokeh.org/bokeh/release/bokeh-2.4.1.min.js\", \"https://cdn.bokeh.org/bokeh/release/bokeh-gl-2.4.1.min.js\", \"https://cdn.bokeh.org/bokeh/release/bokeh-widgets-2.4.1.min.js\", \"https://cdn.bokeh.org/bokeh/release/bokeh-tables-2.4.1.min.js\", \"https://cdn.bokeh.org/bokeh/release/bokeh-mathjax-2.4.1.min.js\"];\n",
       "  const css_urls = [];\n",
       "  \n",
       "\n",
       "  const inline_js = [\n",
       "    function(Bokeh) {\n",
       "      Bokeh.set_log_level(\"info\");\n",
       "    },\n",
       "    function(Bokeh) {\n",
       "    \n",
       "    \n",
       "    }\n",
       "  ];\n",
       "\n",
       "  function run_inline_js() {\n",
       "    \n",
       "    if (root.Bokeh !== undefined || force === true) {\n",
       "      \n",
       "    for (let i = 0; i < inline_js.length; i++) {\n",
       "      inline_js[i].call(root, root.Bokeh);\n",
       "    }\n",
       "    } else if (Date.now() < root._bokeh_timeout) {\n",
       "      setTimeout(run_inline_js, 100);\n",
       "    } else if (!root._bokeh_failed_load) {\n",
       "      console.log(\"Bokeh: BokehJS failed to load within specified timeout.\");\n",
       "      root._bokeh_failed_load = true;\n",
       "    } else if (force !== true) {\n",
       "      const cell = $(document.getElementById(null)).parents('.cell').data().cell;\n",
       "      cell.output_area.append_execute_result(NB_LOAD_WARNING)\n",
       "    }\n",
       "\n",
       "  }\n",
       "\n",
       "  if (root._bokeh_is_loading === 0) {\n",
       "    console.debug(\"Bokeh: BokehJS loaded, going straight to plotting\");\n",
       "    run_inline_js();\n",
       "  } else {\n",
       "    load_libs(css_urls, js_urls, function() {\n",
       "      console.debug(\"Bokeh: BokehJS plotting callback run at\", now());\n",
       "      run_inline_js();\n",
       "    });\n",
       "  }\n",
       "}(window));"
      ],
      "application/vnd.bokehjs_load.v0+json": "\n(function(root) {\n  function now() {\n    return new Date();\n  }\n\n  const force = true;\n\n  if (typeof root._bokeh_onload_callbacks === \"undefined\" || force === true) {\n    root._bokeh_onload_callbacks = [];\n    root._bokeh_is_loading = undefined;\n  }\n\n  \n\n  \n  if (typeof (root._bokeh_timeout) === \"undefined\" || force === true) {\n    root._bokeh_timeout = Date.now() + 5000;\n    root._bokeh_failed_load = false;\n  }\n\n  const NB_LOAD_WARNING = {'data': {'text/html':\n     \"<div style='background-color: #fdd'>\\n\"+\n     \"<p>\\n\"+\n     \"BokehJS does not appear to have successfully loaded. If loading BokehJS from CDN, this \\n\"+\n     \"may be due to a slow or bad network connection. Possible fixes:\\n\"+\n     \"</p>\\n\"+\n     \"<ul>\\n\"+\n     \"<li>re-rerun `output_notebook()` to attempt to load from CDN again, or</li>\\n\"+\n     \"<li>use INLINE resources instead, as so:</li>\\n\"+\n     \"</ul>\\n\"+\n     \"<code>\\n\"+\n     \"from bokeh.resources import INLINE\\n\"+\n     \"output_notebook(resources=INLINE)\\n\"+\n     \"</code>\\n\"+\n     \"</div>\"}};\n\n  function display_loaded() {\n    const el = document.getElementById(null);\n    if (el != null) {\n      el.textContent = \"BokehJS is loading...\";\n    }\n    if (root.Bokeh !== undefined) {\n      if (el != null) {\n        el.textContent = \"BokehJS \" + root.Bokeh.version + \" successfully loaded.\";\n      }\n    } else if (Date.now() < root._bokeh_timeout) {\n      setTimeout(display_loaded, 100)\n    }\n  }\n\n\n  function run_callbacks() {\n    try {\n      root._bokeh_onload_callbacks.forEach(function(callback) {\n        if (callback != null)\n          callback();\n      });\n    } finally {\n      delete root._bokeh_onload_callbacks\n    }\n    console.debug(\"Bokeh: all callbacks have finished\");\n  }\n\n  function load_libs(css_urls, js_urls, callback) {\n    if (css_urls == null) css_urls = [];\n    if (js_urls == null) js_urls = [];\n\n    root._bokeh_onload_callbacks.push(callback);\n    if (root._bokeh_is_loading > 0) {\n      console.debug(\"Bokeh: BokehJS is being loaded, scheduling callback at\", now());\n      return null;\n    }\n    if (js_urls == null || js_urls.length === 0) {\n      run_callbacks();\n      return null;\n    }\n    console.debug(\"Bokeh: BokehJS not loaded, scheduling load and callback at\", now());\n    root._bokeh_is_loading = css_urls.length + js_urls.length;\n\n    function on_load() {\n      root._bokeh_is_loading--;\n      if (root._bokeh_is_loading === 0) {\n        console.debug(\"Bokeh: all BokehJS libraries/stylesheets loaded\");\n        run_callbacks()\n      }\n    }\n\n    function on_error(url) {\n      console.error(\"failed to load \" + url);\n    }\n\n    for (let i = 0; i < css_urls.length; i++) {\n      const url = css_urls[i];\n      const element = document.createElement(\"link\");\n      element.onload = on_load;\n      element.onerror = on_error.bind(null, url);\n      element.rel = \"stylesheet\";\n      element.type = \"text/css\";\n      element.href = url;\n      console.debug(\"Bokeh: injecting link tag for BokehJS stylesheet: \", url);\n      document.body.appendChild(element);\n    }\n\n    for (let i = 0; i < js_urls.length; i++) {\n      const url = js_urls[i];\n      const element = document.createElement('script');\n      element.onload = on_load;\n      element.onerror = on_error.bind(null, url);\n      element.async = false;\n      element.src = url;\n      console.debug(\"Bokeh: injecting script tag for BokehJS library: \", url);\n      document.head.appendChild(element);\n    }\n  };\n\n  function inject_raw_css(css) {\n    const element = document.createElement(\"style\");\n    element.appendChild(document.createTextNode(css));\n    document.body.appendChild(element);\n  }\n\n  \n  const js_urls = [\"https://cdn.bokeh.org/bokeh/release/bokeh-2.4.1.min.js\", \"https://cdn.bokeh.org/bokeh/release/bokeh-gl-2.4.1.min.js\", \"https://cdn.bokeh.org/bokeh/release/bokeh-widgets-2.4.1.min.js\", \"https://cdn.bokeh.org/bokeh/release/bokeh-tables-2.4.1.min.js\", \"https://cdn.bokeh.org/bokeh/release/bokeh-mathjax-2.4.1.min.js\"];\n  const css_urls = [];\n  \n\n  const inline_js = [\n    function(Bokeh) {\n      Bokeh.set_log_level(\"info\");\n    },\n    function(Bokeh) {\n    \n    \n    }\n  ];\n\n  function run_inline_js() {\n    \n    if (root.Bokeh !== undefined || force === true) {\n      \n    for (let i = 0; i < inline_js.length; i++) {\n      inline_js[i].call(root, root.Bokeh);\n    }\n    } else if (Date.now() < root._bokeh_timeout) {\n      setTimeout(run_inline_js, 100);\n    } else if (!root._bokeh_failed_load) {\n      console.log(\"Bokeh: BokehJS failed to load within specified timeout.\");\n      root._bokeh_failed_load = true;\n    } else if (force !== true) {\n      const cell = $(document.getElementById(null)).parents('.cell').data().cell;\n      cell.output_area.append_execute_result(NB_LOAD_WARNING)\n    }\n\n  }\n\n  if (root._bokeh_is_loading === 0) {\n    console.debug(\"Bokeh: BokehJS loaded, going straight to plotting\");\n    run_inline_js();\n  } else {\n    load_libs(css_urls, js_urls, function() {\n      console.debug(\"Bokeh: BokehJS plotting callback run at\", now());\n      run_inline_js();\n    });\n  }\n}(window));"
     },
     "metadata": {},
     "output_type": "display_data"
    },
    {
     "name": "stdout",
     "output_type": "stream",
     "text": [
      "The tikzmagic extension is already loaded. To reload it, use:\n",
      "  %reload_ext tikzmagic\n"
     ]
    }
   ],
   "source": [
    "import numpy as np\n",
    "from bokeh.io import show, output_notebook, push_notebook\n",
    "from bokeh.plotting import figure\n",
    "from bokeh.layouts import row, column\n",
    "from bokeh.models import Legend\n",
    "import matplotlib.pyplot as plt\n",
    "from scipy.optimize import root\n",
    "from ipywidgets import interact, FloatSlider\n",
    "output_notebook(hide_banner=True)\n",
    "%load_ext tikzmagic"
   ]
  },
  {
   "cell_type": "markdown",
   "metadata": {},
   "source": [
    "# Context"
   ]
  },
  {
   "cell_type": "markdown",
   "metadata": {},
   "source": [
    "We are concerned with solving the following Initial Value Problem (IVP):\n",
    "\\begin{equation}\n",
    "\\left\\{\n",
    "\\begin{aligned}\n",
    "x^\\prime(t)&=f\\left(t,x(t)\\right), \\quad t\\geq t_0\\\\\n",
    "x(t_0)&= x_0\n",
    "\\end{aligned}\n",
    "\\right.\n",
    "\\end{equation}\n",
    "with $x : t \\mapsto x(t) \\in \\mathbb{R}^m$, $m \\in \\mathbb{N}^*$, $x_0\\in\\mathbb{R}^m$.\n",
    "\n",
    "It is assumed that the considered IVP admits a unique solution on some interval $[t_0,t_f]$ with $t_f>t_0$.\n",
    "\n",
    "To approximate the solution of this IVP, last time we considered Linear Multistep Methods (LMM). In this notebook we focus on implementing and testing some Runge-Kutta methods.\n",
    "\n",
    "**Part I** is devoted to the implementation of specific Runge-Kutta methods and testing their order of convergence. **Part II** is centered on the study of the regions of stability of the methods presented in part I. **Part III** is an application of these methods to a physical problem."
   ]
  },
  {
   "cell_type": "markdown",
   "metadata": {},
   "source": [
    "# Part I: Implementation and order of convergence"
   ]
  },
  {
   "cell_type": "markdown",
   "metadata": {},
   "source": [
    "Throughout this notebook, we will consider the IVP above with $m=1$ and \n",
    "$$\n",
    "\\begin{aligned}\n",
    "f(t,x) &= (1-3t/2)x,&& x(t_0) = 1.\n",
    "\\end{aligned}\n",
    "$$"
   ]
  },
  {
   "cell_type": "markdown",
   "metadata": {},
   "source": [
    "**Q1. Give the exact solution and implement it.**"
   ]
  },
  {
   "cell_type": "markdown",
   "metadata": {},
   "source": [
    "*Please write your answer here.*"
   ]
  },
  {
   "cell_type": "code",
   "execution_count": 14,
   "metadata": {},
   "outputs": [],
   "source": [
    "################\n",
    "#To be completed\n",
    "################\n",
    "\n",
    "def f(t, x):\n",
    "    return np.zeros(np.shape(x))\n",
    "\n",
    "def x_exa(t, t_0):\n",
    "    return np.zeros(np.shape(x))"
   ]
  },
  {
   "cell_type": "markdown",
   "metadata": {},
   "source": [
    "We recall an implementation of the Euler method (RK1):"
   ]
  },
  {
   "cell_type": "code",
   "execution_count": 15,
   "metadata": {},
   "outputs": [],
   "source": [
    "def Euler(f, t0, tf, h, x0):\n",
    "    \n",
    "    nt = int(round((tf-t0)/h))+1 #number of columns of the output array\n",
    "    t = t0 #initial time\n",
    "    x = np.zeros((nt,))\n",
    "    x[0] = x0 #initial value\n",
    "    it = 0\n",
    "\n",
    "    for it in range(nt-1):\n",
    "        x[it+1] = x[it] + h*f(t0+it*h,x[it]) \n",
    "\n",
    "    return x"
   ]
  },
  {
   "cell_type": "markdown",
   "metadata": {},
   "source": [
    "We want to implement the following methods:\n",
    "* Two-stage explicit Runge-Kutta (RK2) method defined by:\n",
    "$$\n",
    "\\begin{aligned}\n",
    "k_1 &= f(t_n,x_n)\\\\\n",
    "k_2 &= f\\left(t_n+\\frac{1}{2}h,x_n+\\frac{1}{2}hk_1\\right)\\\\\n",
    "x_{n+1} &= x_n + h k_2\n",
    "\\end{aligned}\n",
    "$$\n",
    "* Two-stage implicit Runge-Kutta method (ImpRK2) method defined by:\n",
    "$$\n",
    "\\begin{aligned}\n",
    "k_1 &= f\\left(t_n + \\left(\\frac{1}{2}-\\gamma\\right)h, x_n + \\frac{1}{4} h k_1 + \\left(\\frac{1}{4}-\\gamma\\right) h k_2\\right)\\\\\n",
    "k_2 &= f\\left(t_n + \\left(\\frac{1}{2}+\\gamma\\right)h, x_n + \\left(\\frac{1}{4}+\\gamma\\right)h k_1 + \\frac{1}{4} h k_2\\right)\\\\\n",
    "x_{n+1} &= x_n + \\frac{1}{2} h(k_1+k_2)\n",
    "\\end{aligned}\n",
    "$$\n",
    "with $\\gamma = \\frac{\\sqrt{3}}{6}$\n",
    "* Four-stage explicit Runge-Kutta method (RK4) defined by:\n",
    "$$\n",
    "\\begin{aligned}\n",
    "k_1 &= f(t_n,x_n)\\\\\n",
    "k_2 &= f\\left(t_n+\\frac{1}{2}h,x_n+\\frac{1}{2}hk_1\\right)\\\\\n",
    "k_3 &= f\\left(t_n+\\frac{1}{2}h,x_n+\\frac{1}{2}hk_2\\right)\\\\\n",
    "k_4 &= f\\left(t_n+h,x_n+hk_3\\right)\\\\\n",
    "x_{n+1} &= x_n + h \\left(\\frac{1}{6}k_2+\\frac{1}{3}k_3+\\frac{1}{3}k_4+\\frac{1}{6}k_1\\right)\n",
    "\\end{aligned}\n",
    "$$"
   ]
  },
  {
   "cell_type": "markdown",
   "metadata": {},
   "source": [
    "**Q2. Implement the three methods.**"
   ]
  },
  {
   "cell_type": "code",
   "execution_count": 16,
   "metadata": {},
   "outputs": [],
   "source": [
    "def RK2(f,t0,tf,h,x0):\n",
    "    \"\"\"Return the vector containing the approximate values xn at times tn=t0+n*h, using RK2\n",
    "    \n",
    "    Parameters\n",
    "    ----------\n",
    "    f  : left-hand side function corresponding to the studied IVP\n",
    "    t0 : initial time\n",
    "    tf : final time\n",
    "    h  : step size\n",
    "    x0 : starting value x(t0)\n",
    "    \n",
    "    Returns\n",
    "    -------\n",
    "    x : vector of the nt values xn, with nt = int(round((tf-t0)/h))+1\n",
    "    \"\"\"\n",
    "    nt = int(round((tf-t0)/h))+1 #number of columns of the output array\n",
    "    x = np.zeros((nt,))\n",
    "    \n",
    "    ####################################################################\n",
    "    # To be completed\n",
    "    ####################################################################\n",
    "    \n",
    "    return x"
   ]
  },
  {
   "cell_type": "code",
   "execution_count": 17,
   "metadata": {},
   "outputs": [],
   "source": [
    "def ImpRK2(f,t0,tf,h,x0):\n",
    "    \"\"\"Return the vector containing the approximate values xn at times tn=t0+n*h, using ImpRK2\n",
    "    \n",
    "    Parameters\n",
    "    ----------\n",
    "    f  : left-hand side function corresponding to the studied IVP\n",
    "    t0 : initial time\n",
    "    tf : final time\n",
    "    h  : step size\n",
    "    x0 : starting value x(t0)\n",
    "    \n",
    "    Returns\n",
    "    -------\n",
    "    x : vector of the nt values xn, with nt = int(round((tf-t0)/h))+1\n",
    "    \"\"\"\n",
    "    nt = int(round((tf-t0)/h))+1 #number of columns of the output array\n",
    "    x = np.zeros((nt,))\n",
    "    \n",
    "    ####################################################################\n",
    "    # To be completed\n",
    "    ####################################################################\n",
    "    \n",
    "    return x"
   ]
  },
  {
   "cell_type": "code",
   "execution_count": 18,
   "metadata": {},
   "outputs": [],
   "source": [
    "def RK4(f,t0,tf,h,x0):\n",
    "    \"\"\"Return the vector containing the approximate values xn at times tn=t0+n*h, using RK4\n",
    "    \n",
    "    Parameters\n",
    "    ----------\n",
    "    f  : left-hand side function corresponding to the studied IVP\n",
    "    t0 : initial time\n",
    "    tf : final time\n",
    "    h  : step size\n",
    "    x0 : starting value x(t0)\n",
    "    \n",
    "    Returns\n",
    "    -------\n",
    "    x : vector of the nt values xn, with nt = int(round((tf-t0)/h))+1\n",
    "    \"\"\"\n",
    "    nt = int(round((tf-t0)/h))+1 #number of columns of the output array\n",
    "    x = np.zeros((nt,))\n",
    "    \n",
    "    ####################################################################\n",
    "    # To be completed\n",
    "    ####################################################################\n",
    "    \n",
    "    return x"
   ]
  },
  {
   "cell_type": "markdown",
   "metadata": {},
   "source": [
    "**Q3. Validate your code by displaying the exact solution and the numerical ones. Take $t_0=0$, $t_1 = 4$, $h=0.2$.**"
   ]
  },
  {
   "cell_type": "code",
   "execution_count": 19,
   "metadata": {},
   "outputs": [],
   "source": [
    "#################\n",
    "#To be completed\n",
    "#################"
   ]
  },
  {
   "cell_type": "markdown",
   "metadata": {},
   "source": [
    "**Q4. Check the order of convergence of RK2, ImpRK2 and RK4 for the $\\ell^\\infty$-norm. Comments your results.**"
   ]
  },
  {
   "cell_type": "code",
   "execution_count": 20,
   "metadata": {},
   "outputs": [],
   "source": [
    "#################\n",
    "#To be completed\n",
    "#################"
   ]
  },
  {
   "cell_type": "markdown",
   "metadata": {},
   "source": [
    "# Part II: Region of absolute stability "
   ]
  },
  {
   "cell_type": "markdown",
   "metadata": {},
   "source": [
    "To study the absolute stability of the above methods, we consider as usual the test problem \n",
    "\\begin{equation}\n",
    "\\left\\{\n",
    "\\begin{aligned}\n",
    "x^\\prime(t)&=\\lambda x(t), \\quad t\\geq 0\\\\\n",
    "x(0)&= 1\n",
    "\\end{aligned}\n",
    "\\right.\n",
    "\\end{equation}\n",
    "with $\\lambda\\in\\mathbb{C}$. Applying the RK methods to this problem, we get relations of the form $x_{n+1}=R(h\\lambda)x_n$ where  $R(h\\lambda)$ is the so-called stability function. The region of absolute stability of a scheme is then defined as the set $\\{\\hat{h}\\in\\mathbb{C}\\,|\\,R(\\hat{h})<1\\}$.\n",
    "\n",
    "We recall the stability functions of the following methods:\n",
    "* Euler (Runge-Kutta 1):\n",
    "$$\n",
    "R_1\\left(\\hat{h}\\right) = 1+\\hat{h}\n",
    "$$\n",
    "* Runge-Kutta 4:\n",
    "$$\n",
    "R_4\\left(\\hat{h}\\right) = 1+\\hat{h}+\\frac{1}{2}\\hat{h}^2+\\frac{1}{6}\\hat{h}^3+\\frac{1}{24}\\hat{h}^4\n",
    "$$"
   ]
  },
  {
   "cell_type": "markdown",
   "metadata": {},
   "source": [
    "**Q5. Compute the stability functions of the RK2 and implicit RK2 methods**"
   ]
  },
  {
   "cell_type": "markdown",
   "metadata": {},
   "source": [
    "*Please write your answer here*"
   ]
  },
  {
   "cell_type": "markdown",
   "metadata": {},
   "source": [
    "**Q6. Display the regions of absolute stability of RK2, ImpRK2 and RK4**"
   ]
  },
  {
   "cell_type": "code",
   "execution_count": 21,
   "metadata": {},
   "outputs": [
    {
     "name": "stderr",
     "output_type": "stream",
     "text": [
      "C:\\Users\\PRINCI~1\\AppData\\Local\\Temp/ipykernel_12720/3386622044.py:44: UserWarning: No contour levels were found within the data range.\n",
      "  ax2.contour(x, y, output_rk2, colors='k')\n",
      "C:\\Users\\PRINCI~1\\AppData\\Local\\Temp/ipykernel_12720/3386622044.py:65: UserWarning: No contour levels were found within the data range.\n",
      "  ax3.contour(x, y, output_impRk2, colors='k')\n",
      "C:\\Users\\PRINCI~1\\AppData\\Local\\Temp/ipykernel_12720/3386622044.py:85: UserWarning: No contour levels were found within the data range.\n",
      "  ax4.contour(x, y, output_rk4, colors='k')\n"
     ]
    },
    {
     "data": {
      "image/png": "[encoded data removed]",
      "text/plain": [
       "<Figure size 1440x1440 with 4 Axes>"
      ]
     },
     "metadata": {
      "needs_background": "light"
     },
     "output_type": "display_data"
    }
   ],
   "source": [
    "#Adapted from a notebook by Laurent Series for the course MAP551, 3rd year of the ingineering cycle at Ecole polytechnique.\n",
    "\n",
    "x = np.linspace(-4, 2, 500)\n",
    "y = np.linspace(-3, 3, 500)\n",
    "\n",
    "z = x + 1j*y[:, np.newaxis]\n",
    "\n",
    "fig_rk, ((ax1, ax2), (ax3, ax4)) = plt.subplots(2, 2, figsize=(20, 20))\n",
    "\n",
    "# forward euler\n",
    "euler = z + 1\n",
    "output_euler = np.zeros_like(z, dtype = np.double)\n",
    "mask = np.abs(euler)<=1\n",
    "output_euler[mask] = np.abs(euler[mask])\n",
    "\n",
    "plt.subplot(2, 2, 1)\n",
    "plt.title('Runge Kutta 1 (forward Euler)', fontsize=16)\n",
    "plt.xlabel('$\\Re(\\hat{h})$',fontsize=16)\n",
    "plt.ylabel('$\\Im(\\hat{h})$',fontsize=16)\n",
    "ax1 = fig_rk.gca()\n",
    "ax1.axvline(x=0, color='k')\n",
    "ax1.axhline(y=0, color='k')\n",
    "ax1.contourf(x, y, output_euler, cmap='Blues')\n",
    "ax1.contour(x, y, output_euler, colors='k')\n",
    "\n",
    "\n",
    "# RK2\n",
    "\n",
    "########################################################\n",
    "rk2 = 0.*z #To be completed\n",
    "########################################################\n",
    "\n",
    "output_rk2 = np.zeros_like(z, dtype = np.double)\n",
    "mask = np.abs(rk2)<=1\n",
    "output_rk2[mask] = np.abs(rk2[mask])\n",
    "\n",
    "plt.subplot(2, 2, 2)\n",
    "plt.title('Runge Kutta 2', fontsize=16)\n",
    "plt.xlabel('$\\Re(\\hat{h})$',fontsize=16)\n",
    "plt.ylabel('$\\Im(\\hat{h})$',fontsize=16)\n",
    "ax2 = fig_rk.gca()\n",
    "ax2.axvline(x=0, color='k')\n",
    "ax2.axhline(y=0, color='k')\n",
    "ax2.contour(x, y, output_rk2, colors='k')\n",
    "ax2.contourf(x, y, output_rk2, cmap='Blues')\n",
    "\n",
    "# ImpRK2\n",
    "\n",
    "########################################################\n",
    "impRk2 = 0.*z #To be completed\n",
    "########################################################\n",
    "\n",
    "output_impRk2 = np.zeros_like(z, dtype = np.double)\n",
    "mask = np.abs(impRk2)<=1\n",
    "output_impRk2[mask] = np.abs(impRk2[mask])\n",
    "\n",
    "plt.subplot(2, 2, 3)\n",
    "plt.title('Implicit Runge-Kutta 2', fontsize=16)\n",
    "plt.xlabel('$\\Re(\\hat{h})$',fontsize=16)\n",
    "plt.ylabel('$\\Im(\\hat{h})$',fontsize=16)\n",
    "ax3 = fig_rk.gca()\n",
    "ax3.axvline(x=0, color='k')\n",
    "ax3.axhline(y=0, color='k')\n",
    "ax3.contourf(x, y, output_impRk2, cmap='Blues')\n",
    "ax3.contour(x, y, output_impRk2, colors='k')\n",
    "\n",
    "# RK4\n",
    "\n",
    "########################################################\n",
    "rk4 = 0.*z #To be completed\n",
    "########################################################\n",
    "\n",
    "output_rk4 = np.zeros_like(z, dtype = np.double)\n",
    "mask = np.abs(rk4)<=1\n",
    "output_rk4[mask] = np.abs(rk4[mask])\n",
    "\n",
    "plt.subplot(2, 2, 4)\n",
    "plt.title('Runge Kutta 4', fontsize=16)\n",
    "plt.xlabel('$\\Re(\\hat{h})$',fontsize=16)\n",
    "plt.ylabel('$\\Im(\\hat{h})$',fontsize=16)\n",
    "ax4 = fig_rk.gca()\n",
    "ax4.axvline(x=0, color='k')\n",
    "ax4.axhline(y=0, color='k')\n",
    "ax4.contourf(x, y, output_rk4, cmap='Blues')\n",
    "ax4.contour(x, y, output_rk4, colors='k')\n",
    "\n",
    "\n",
    "plt.show()"
   ]
  },
  {
   "cell_type": "markdown",
   "metadata": {},
   "source": [
    "**Q7. For $\\lambda \\in \\mathbb{R}$, is there a gain in terms of absolute stability when using RK2 instead of the Euler method? Is there an A-stable method among the studied methods?**"
   ]
  },
  {
   "cell_type": "markdown",
   "metadata": {},
   "source": [
    "*Please write your answer here*"
   ]
  },
  {
   "cell_type": "markdown",
   "metadata": {},
   "source": [
    "# Part III: Application to a model problem"
   ]
  },
  {
   "cell_type": "code",
   "execution_count": 22,
   "metadata": {},
   "outputs": [
    {
     "data": {
      "image/png": "[encoded data removed]"
     },
     "metadata": {},
     "output_type": "display_data"
    }
   ],
   "source": [
    "%%tikz -s 600,600 \n",
    "\\filldraw (0,0) circle (0.75pt) node[left] {\\tiny $O$};\n",
    "\\draw (0,0)--(1,-1.73);\n",
    "\\filldraw (1,-1.73) circle (4pt);\n",
    "\\draw[color=blue,dashed] (0,0)--(0,-1.9);\n",
    "\\draw[->,blue] (0,-1) arc (270:300:1)  ;\n",
    "\\draw (0.3,-1.1) node {\\tiny $\\theta$};\n",
    "\\draw (1.3,-1.73) node {\\tiny $m$};\n",
    "\\filldraw[white] (-3.2,0) circle (4pt);"
   ]
  },
  {
   "cell_type": "markdown",
   "metadata": {},
   "source": [
    "Consider a mass $m$ attached to a light rod of length $\\ell$. The other end of the rod is attached to a wall at a point $O$ so that the mass moves on a circle centered at $O$. The position of the mass at time $t$ is completely described by the angle $\\theta(t)$ between the rod and the vertical line. Writing the Newton's Law, we obtain the second-order differential equation\n",
    "$$\n",
    "m\\ell\\ddot{\\theta}=-\\cfrac{\\nu}{\\ell}\\dot{\\theta}-mg\\sin\\theta,\\quad t>0,\n",
    "$$\n",
    "where $\\cfrac{\\nu}{\\ell}\\dot{\\theta}$ is a friction term ($\\nu>0$) and $g$ is the magnitude of the gravitational field. We complement this ODE with the initial conditions\n",
    "$$\n",
    "\\theta(0)=\\theta_0,\\qquad \\dot{\\theta}(0)=0.\n",
    "$$"
   ]
  },
  {
   "cell_type": "markdown",
   "metadata": {},
   "source": [
    "**Q8. Rewrite the above problem as the first-order system**\n",
    "$$\n",
    "(1)\\quad\\begin{array}{|l}\n",
    "\\dot{U}(t)=f(U(t)),\\quad t>0,\\\\[2pt]\n",
    "U(0)=U_0\n",
    "\\end{array}\n",
    "$$\n",
    "**where $U(t)=\\left[\\begin{array}{c}\\theta(t) \\\\ \\dot{\\theta}(t)\\end{array}\\right]$. In particular, give the expression of $f:\\mathbb{R}^2\\to\\mathbb{R}^2$.**\n"
   ]
  },
  {
   "cell_type": "markdown",
   "metadata": {},
   "source": [
    "*Please write your answer here*"
   ]
  },
  {
   "cell_type": "markdown",
   "metadata": {},
   "source": [
    "**Q9. Implement the explicit Euler method (RK1) as well as the two-stage implicit Runge-Kutta method (ImpRK2) to solve Problem (1).**\n",
    "\n"
   ]
  },
  {
   "cell_type": "code",
   "execution_count": 23,
   "metadata": {},
   "outputs": [],
   "source": [
    "def euler_explicite(f, t0, tf, h, x0):\n",
    "    \n",
    "    nt = int(round((tf-t0)/h))+1 #number of column of the output array\n",
    "    nt+= int(tf-(t0+(nt-1)*h)>1e-9) #in case tf-t0 is not a multiple of h\n",
    "    t = t0\n",
    "\n",
    "    x0_array = np.array(x0)\n",
    "    neq = x0_array.size\n",
    "\n",
    "    x = np.zeros((neq, nt))\n",
    "    x[:,0] = x0_array\n",
    "    \n",
    "    ####################################################################\n",
    "    # To be completed\n",
    "    ####################################################################\n",
    "\n",
    "    return x"
   ]
  },
  {
   "cell_type": "code",
   "execution_count": 24,
   "metadata": {},
   "outputs": [],
   "source": [
    "def ImpRK2Sys(f,t0,tf,h,x0):\n",
    "    \"\"\"Return the vector containing the approximate values xn at times tn=t0+n*h, using RK2\n",
    "    \n",
    "    Parameters\n",
    "    ----------\n",
    "    f  : left-hand side function corresponding to the studied IVP\n",
    "    t0 : initial time\n",
    "    tf : final time\n",
    "    h  : step size\n",
    "    x0 : starting value x(t0)\n",
    "    \n",
    "    Returns\n",
    "    -------\n",
    "    x : vector of the nt values xn, with nt = int(round((tf-t0)/h))+1\n",
    "    \"\"\"\n",
    "    nt = int(round((tf-t0)/h))+1 #number of column of the output array\n",
    "    nt+= int(tf-(t0+(nt-1)*h)>1e-9) #in case tf-t0 is not a multiple of h\n",
    "    t = t0\n",
    "\n",
    "    x0_array = np.array(x0)\n",
    "    neq = x0_array.size\n",
    "\n",
    "    x = np.zeros((neq, nt))\n",
    "    x[:,0] = x0_array\n",
    "    \n",
    "    it = 0    \n",
    "\n",
    "    ####################################################################\n",
    "    # To be completed\n",
    "    ####################################################################\n",
    "    \n",
    "    return x"
   ]
  },
  {
   "cell_type": "markdown",
   "metadata": {},
   "source": [
    "**Q10. Frictionless case ($\\nu=0$).**\n",
    "\n",
    "**i) Display the solutions for different values of $\\theta_0$ and compare them with the one obtained when making the small angle approximation $\\sin(\\theta)\\approx \\theta$. Take $m=1$, $\\ell=1$, $g=9.8$, $t_0=0$, $t_f=4$. Comment your results.**"
   ]
  },
  {
   "cell_type": "markdown",
   "metadata": {},
   "source": [
    "*Please write your answer here*"
   ]
  },
  {
   "cell_type": "code",
   "execution_count": 25,
   "metadata": {},
   "outputs": [],
   "source": [
    "##################\n",
    "# To be completed\n",
    "##################"
   ]
  },
  {
   "cell_type": "markdown",
   "metadata": {},
   "source": [
    "**ii) Display the numerical solutions in the plane $\\theta,\\dot{\\theta}$.**"
   ]
  },
  {
   "cell_type": "code",
   "execution_count": null,
   "metadata": {},
   "outputs": [],
   "source": [
    "##################\n",
    "# To be completed\n",
    "##################"
   ]
  },
  {
   "cell_type": "markdown",
   "metadata": {},
   "source": [
    "**iii) Show that the energy \n",
    "$$\n",
    "E(t)=\\cfrac{1}{2}\\dot{\\theta}(t)^2-\\cfrac{g}{\\ell}\\cos(\\theta(t))\n",
    "$$\n",
    "is preserved for all $t>0$. Is it true for your numerical schemes?**"
   ]
  },
  {
   "cell_type": "markdown",
   "metadata": {},
   "source": [
    "*Please write your answer here*"
   ]
  },
  {
   "cell_type": "code",
   "execution_count": 10,
   "metadata": {},
   "outputs": [],
   "source": [
    "##################\n",
    "# To be completed\n",
    "##################"
   ]
  }
 ],
 "metadata": {
  "kernelspec": {
   "display_name": "Python 3 (ipykernel)",
   "language": "python",
   "name": "python3"
  },
  "language_info": {
   "codemirror_mode": {
    "name": "ipython",
    "version": 3
   },
   "file_extension": ".py",
   "mimetype": "text/x-python",
   "name": "python",
   "nbconvert_exporter": "python",
   "pygments_lexer": "ipython3",
   "version": "3.9.7"
  }
 },
 "nbformat": 4,
 "nbformat_minor": 4
}
